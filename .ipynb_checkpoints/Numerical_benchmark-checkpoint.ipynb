{
 "cells": [
  {
   "cell_type": "code",
   "execution_count": 1,
   "metadata": {},
   "outputs": [],
   "source": [
    "from hypersurface import *\n",
    "import sympy as sp\n",
    "from pprint import pprint\n",
    "import time"
   ]
  },
  {
   "cell_type": "code",
   "execution_count": 2,
   "metadata": {},
   "outputs": [],
   "source": [
    "z0, z1, z2, z3, z4= sp.symbols('z0, z1, z2, z3, z4')\n",
    "Z = [z0,z1,z2,z3,z4]\n",
    "f = z0**5 + z1**5 + z2**5 + z3**5 + z4**5\n",
    "HS = Hypersurface(Z, f, 1000)"
   ]
  },
  {
   "cell_type": "code",
   "execution_count": 3,
   "metadata": {},
   "outputs": [],
   "source": [
    "def generate_H(ns):\n",
    "    H_rand = np.random.rand(ns, ns)\n",
    "    H_rand_pd = np.dot(H_rand, H_rand.transpose())\n",
    "    return H_rand_pd"
   ]
  },
  {
   "cell_type": "code",
   "execution_count": 4,
   "metadata": {},
   "outputs": [],
   "source": [
    "h_list = []\n",
    "for k in range(1,10):\n",
    "    sections, ns = HS.get_sections(k)\n",
    "    h_matrix = generate_H(ns)\n",
    "    h_list.append(h_matrix)"
   ]
  },
  {
   "cell_type": "code",
   "execution_count": 7,
   "metadata": {},
   "outputs": [
    {
     "name": "stdout",
     "output_type": "stream",
     "text": [
      "(1.1392957870042708-3.7436838353838526e-19j)\n",
      "110.16826796531677\n",
      "(3.7826892017492857+1.4552171599518664e-17j)\n",
      "1158.0254883766174\n"
     ]
    }
   ],
   "source": [
    "for k in range(1,3):\n",
    "    start_time = time.time()\n",
    "    eta = lambda x: x.get_FS_volume_form(h_list[k-1], k)/x.get_omega_omegabar()\n",
    "    print(HS.integrate(lambda patch: np.absolute(eta(patch) - 1), holomorphic=True))\n",
    "    print(time.time() - start_time)"
   ]
  },
  {
   "cell_type": "code",
   "execution_count": 6,
   "metadata": {},
   "outputs": [
    {
     "name": "stdout",
     "output_type": "stream",
     "text": [
      "(1.139295787004273+0j)\n",
      "Time for defining functions: 0.3749663829803467\n",
      "Time for actual loops: 1.484133243560791\n",
      "(3.7826892017492777+0j)\n",
      "Time for defining functions: 0.5998396873474121\n",
      "Time for actual loops: 1.5191149711608887\n",
      "(11.791920732474187+0j)\n",
      "Time for defining functions: 1.2389452457427979\n",
      "Time for actual loops: 1.6476759910583496\n",
      "(25.79081423989346+0j)\n",
      "Time for defining functions: 2.8594422340393066\n",
      "Time for actual loops: 3.073561906814575\n",
      "(59.94512105709347+0j)\n",
      "Time for defining functions: 6.556265115737915\n",
      "Time for actual loops: 4.620847463607788\n",
      "(115.07783794234359+0j)\n",
      "Time for defining functions: 16.527491331100464\n",
      "Time for actual loops: 8.038523197174072\n",
      "(190.67321711330393+0j)\n",
      "Time for defining functions: 36.51251673698425\n",
      "Time for actual loops: 13.832842350006104\n",
      "(297.28052924355063+0j)\n",
      "Time for defining functions: 98.31931209564209\n",
      "Time for actual loops: 24.237874031066895\n",
      "(442.8015880166206+0j)\n",
      "Time for defining functions: 188.24025559425354\n",
      "Time for actual loops: 47.67338252067566\n"
     ]
    }
   ],
   "source": [
    "for k in range(1,10):\n",
    "    start_time = time.time()\n",
    "    HS.set_k(k)\n",
    "    mid_time = time.time()\n",
    "    print(HS.integrate(lambda patch, point, h=h_list[k-1]: \n",
    "                       np.absolute(patch.num_eta(h, point) - 1), \n",
    "                       holomorphic=True, numerical=True))\n",
    "    print(\"Time for defining functions:\", mid_time - start_time)\n",
    "    print('Time for actual loops:', time.time()-mid_time)"
   ]
  },
  {
   "cell_type": "markdown",
   "metadata": {},
   "source": [
    "After multiprocessing:"
   ]
  },
  {
   "cell_type": "code",
   "execution_count": 5,
   "metadata": {},
   "outputs": [
    {
     "name": "stdout",
     "output_type": "stream",
     "text": [
      "(1.0995058356617102+0j)\n",
      "Time for defining functions: 0.38873934745788574\n",
      "Time for actual loops: 1.4690959453582764\n",
      "(3.6195799141437104+0j)\n",
      "Time for defining functions: 0.6168272495269775\n",
      "Time for actual loops: 1.5451138019561768\n",
      "(12.2791256267121+0j)\n",
      "Time for defining functions: 1.2532877922058105\n",
      "Time for actual loops: 1.6357169151306152\n",
      "(25.63621143983129+0j)\n",
      "Time for defining functions: 2.847550868988037\n",
      "Time for actual loops: 3.22332763671875\n",
      "(63.03844938941988+0j)\n",
      "Time for defining functions: 6.70880389213562\n",
      "Time for actual loops: 4.685330390930176\n",
      "(116.27496276910404+0j)\n",
      "Time for defining functions: 17.174809217453003\n",
      "Time for actual loops: 10.132129907608032\n",
      "(190.80318844633425+0j)\n",
      "Time for defining functions: 38.0685510635376\n",
      "Time for actual loops: 14.855621337890625\n",
      "(296.9325375495375+0j)\n",
      "Time for defining functions: 101.86302947998047\n",
      "Time for actual loops: 27.330514669418335\n",
      "(434.6150594204047+0j)\n",
      "Time for defining functions: 194.514151096344\n",
      "Time for actual loops: 47.30499196052551\n"
     ]
    }
   ],
   "source": [
    "for k in range(1,10):\n",
    "    start_time = time.time()\n",
    "    HS.set_k(k)\n",
    "    mid_time = time.time()\n",
    "    print(HS.integrate(lambda patch, point, h=h_list[k-1]: \n",
    "                       np.absolute(patch.num_eta(h, point) - 1), \n",
    "                       holomorphic=True, numerical=True))\n",
    "    print(\"Time for defining functions:\", mid_time - start_time)\n",
    "    print('Time for actual loops:', time.time()-mid_time)"
   ]
  },
  {
   "cell_type": "code",
   "execution_count": 13,
   "metadata": {},
   "outputs": [
    {
     "name": "stdout",
     "output_type": "stream",
     "text": [
      "48.166126012802124\n"
     ]
    }
   ],
   "source": [
    "start_time = time.time()\n",
    "inte = 0\n",
    "for patch in HS.patches:\n",
    "    for subpatch in patch.patches:\n",
    "        for point in subpatch.points:\n",
    "            inte += np.absolute(subpatch.num_eta(h_list[8], point) - 1)\n",
    "print(time.time() - start_time)"
   ]
  },
  {
   "cell_type": "code",
   "execution_count": null,
   "metadata": {},
   "outputs": [],
   "source": []
  }
 ],
 "metadata": {
  "kernelspec": {
   "display_name": "Python 3",
   "language": "python",
   "name": "python3"
  },
  "language_info": {
   "codemirror_mode": {
    "name": "ipython",
    "version": 3
   },
   "file_extension": ".py",
   "mimetype": "text/x-python",
   "name": "python",
   "nbconvert_exporter": "python",
   "pygments_lexer": "ipython3",
   "version": "3.7.0"
  }
 },
 "nbformat": 4,
 "nbformat_minor": 4
}
