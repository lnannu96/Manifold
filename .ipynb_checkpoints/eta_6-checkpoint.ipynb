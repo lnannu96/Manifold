{
 "cells": [
  {
   "cell_type": "markdown",
   "metadata": {},
   "source": [
    "# Eta on Rational Curves"
   ]
  },
  {
   "cell_type": "code",
   "execution_count": 1,
   "metadata": {},
   "outputs": [],
   "source": [
    "from hypersurface import *\n",
    "import sympy as sp\n",
    "from pprint import pprint\n",
    "import time as t\n",
    "import math\n",
    "import matplotlib.pyplot as plt\n",
    "from mpl_toolkits.mplot3d import Axes3D"
   ]
  },
  {
   "cell_type": "code",
   "execution_count": 2,
   "metadata": {},
   "outputs": [],
   "source": [
    "z0, z1, z2, z3, z4= sp.symbols('z0, z1, z2, z3, z4')\n",
    "Z = [z0,z1,z2,z3,z4]\n",
    "q = z0**5 + z1**5 + z2**5 + z3**5 + z4**5\n",
    "Quintic = Hypersurface(Z, q, 100)"
   ]
  },
  {
   "cell_type": "code",
   "execution_count": 3,
   "metadata": {},
   "outputs": [],
   "source": [
    "k = 5\n",
    "sections_1, ns_1 = Quintic.get_sections(k)"
   ]
  },
  {
   "cell_type": "code",
   "execution_count": 4,
   "metadata": {},
   "outputs": [],
   "source": [
    "J = []\n",
    "for z in Z:\n",
    "    J.append([diff(s,z) for s in sections_1])\n",
    "J = np.array(J)"
   ]
  },
  {
   "cell_type": "code",
   "execution_count": 5,
   "metadata": {},
   "outputs": [
    {
     "data": {
      "text/plain": [
       "array([[5*z0**4, 4*z0**3*z1, 4*z0**3*z2, 4*z0**3*z3, 4*z0**3*z4,\n",
       "        3*z0**2*z1**2, 3*z0**2*z1*z2, 3*z0**2*z1*z3, 3*z0**2*z1*z4,\n",
       "        3*z0**2*z2**2, 3*z0**2*z2*z3, 3*z0**2*z2*z4, 3*z0**2*z3**2,\n",
       "        3*z0**2*z3*z4, 3*z0**2*z4**2, 2*z0*z1**3, 2*z0*z1**2*z2,\n",
       "        2*z0*z1**2*z3, 2*z0*z1**2*z4, 2*z0*z1*z2**2, 2*z0*z1*z2*z3,\n",
       "        2*z0*z1*z2*z4, 2*z0*z1*z3**2, 2*z0*z1*z3*z4, 2*z0*z1*z4**2,\n",
       "        2*z0*z2**3, 2*z0*z2**2*z3, 2*z0*z2**2*z4, 2*z0*z2*z3**2,\n",
       "        2*z0*z2*z3*z4, 2*z0*z2*z4**2, 2*z0*z3**3, 2*z0*z3**2*z4,\n",
       "        2*z0*z3*z4**2, 2*z0*z4**3, z1**4, z1**3*z2, z1**3*z3, z1**3*z4,\n",
       "        z1**2*z2**2, z1**2*z2*z3, z1**2*z2*z4, z1**2*z3**2, z1**2*z3*z4,\n",
       "        z1**2*z4**2, z1*z2**3, z1*z2**2*z3, z1*z2**2*z4, z1*z2*z3**2,\n",
       "        z1*z2*z3*z4, z1*z2*z4**2, z1*z3**3, z1*z3**2*z4, z1*z3*z4**2,\n",
       "        z1*z4**3, z2**4, z2**3*z3, z2**3*z4, z2**2*z3**2, z2**2*z3*z4,\n",
       "        z2**2*z4**2, z2*z3**3, z2*z3**2*z4, z2*z3*z4**2, z2*z4**3, z3**4,\n",
       "        z3**3*z4, z3**2*z4**2, z3*z4**3, z4**4, 0, 0, 0, 0, 0, 0, 0, 0,\n",
       "        0, 0, 0, 0, 0, 0, 0, 0, 0, 0, 0, 0, 0, 0, 0, 0, 0, 0, 0, 0, 0, 0,\n",
       "        0, 0, 0, 0, 0, 0, 0, 0, 0, 0, 0, 0, 0, 0, 0, 0, 0, 0, 0, 0, 0, 0,\n",
       "        0, 0, 0, 0],\n",
       "       [0, z0**4, 0, 0, 0, 2*z0**3*z1, z0**3*z2, z0**3*z3, z0**3*z4, 0,\n",
       "        0, 0, 0, 0, 0, 3*z0**2*z1**2, 2*z0**2*z1*z2, 2*z0**2*z1*z3,\n",
       "        2*z0**2*z1*z4, z0**2*z2**2, z0**2*z2*z3, z0**2*z2*z4,\n",
       "        z0**2*z3**2, z0**2*z3*z4, z0**2*z4**2, 0, 0, 0, 0, 0, 0, 0, 0, 0,\n",
       "        0, 4*z0*z1**3, 3*z0*z1**2*z2, 3*z0*z1**2*z3, 3*z0*z1**2*z4,\n",
       "        2*z0*z1*z2**2, 2*z0*z1*z2*z3, 2*z0*z1*z2*z4, 2*z0*z1*z3**2,\n",
       "        2*z0*z1*z3*z4, 2*z0*z1*z4**2, z0*z2**3, z0*z2**2*z3, z0*z2**2*z4,\n",
       "        z0*z2*z3**2, z0*z2*z3*z4, z0*z2*z4**2, z0*z3**3, z0*z3**2*z4,\n",
       "        z0*z3*z4**2, z0*z4**3, 0, 0, 0, 0, 0, 0, 0, 0, 0, 0, 0, 0, 0, 0,\n",
       "        0, 5*z1**4, 4*z1**3*z2, 4*z1**3*z3, 4*z1**3*z4, 3*z1**2*z2**2,\n",
       "        3*z1**2*z2*z3, 3*z1**2*z2*z4, 3*z1**2*z3**2, 3*z1**2*z3*z4,\n",
       "        3*z1**2*z4**2, 2*z1*z2**3, 2*z1*z2**2*z3, 2*z1*z2**2*z4,\n",
       "        2*z1*z2*z3**2, 2*z1*z2*z3*z4, 2*z1*z2*z4**2, 2*z1*z3**3,\n",
       "        2*z1*z3**2*z4, 2*z1*z3*z4**2, 2*z1*z4**3, z2**4, z2**3*z3,\n",
       "        z2**3*z4, z2**2*z3**2, z2**2*z3*z4, z2**2*z4**2, z2*z3**3,\n",
       "        z2*z3**2*z4, z2*z3*z4**2, z2*z4**3, z3**4, z3**3*z4, z3**2*z4**2,\n",
       "        z3*z4**3, z4**4, 0, 0, 0, 0, 0, 0, 0, 0, 0, 0, 0, 0, 0, 0, 0, 0,\n",
       "        0, 0, 0, 0, 0],\n",
       "       [0, 0, z0**4, 0, 0, 0, z0**3*z1, 0, 0, 2*z0**3*z2, z0**3*z3,\n",
       "        z0**3*z4, 0, 0, 0, 0, z0**2*z1**2, 0, 0, 2*z0**2*z1*z2,\n",
       "        z0**2*z1*z3, z0**2*z1*z4, 0, 0, 0, 3*z0**2*z2**2, 2*z0**2*z2*z3,\n",
       "        2*z0**2*z2*z4, z0**2*z3**2, z0**2*z3*z4, z0**2*z4**2, 0, 0, 0, 0,\n",
       "        0, z0*z1**3, 0, 0, 2*z0*z1**2*z2, z0*z1**2*z3, z0*z1**2*z4, 0, 0,\n",
       "        0, 3*z0*z1*z2**2, 2*z0*z1*z2*z3, 2*z0*z1*z2*z4, z0*z1*z3**2,\n",
       "        z0*z1*z3*z4, z0*z1*z4**2, 0, 0, 0, 0, 4*z0*z2**3, 3*z0*z2**2*z3,\n",
       "        3*z0*z2**2*z4, 2*z0*z2*z3**2, 2*z0*z2*z3*z4, 2*z0*z2*z4**2,\n",
       "        z0*z3**3, z0*z3**2*z4, z0*z3*z4**2, z0*z4**3, 0, 0, 0, 0, 0, 0,\n",
       "        z1**4, 0, 0, 2*z1**3*z2, z1**3*z3, z1**3*z4, 0, 0, 0,\n",
       "        3*z1**2*z2**2, 2*z1**2*z2*z3, 2*z1**2*z2*z4, z1**2*z3**2,\n",
       "        z1**2*z3*z4, z1**2*z4**2, 0, 0, 0, 0, 4*z1*z2**3, 3*z1*z2**2*z3,\n",
       "        3*z1*z2**2*z4, 2*z1*z2*z3**2, 2*z1*z2*z3*z4, 2*z1*z2*z4**2,\n",
       "        z1*z3**3, z1*z3**2*z4, z1*z3*z4**2, z1*z4**3, 0, 0, 0, 0, 0,\n",
       "        5*z2**4, 4*z2**3*z3, 4*z2**3*z4, 3*z2**2*z3**2, 3*z2**2*z3*z4,\n",
       "        3*z2**2*z4**2, 2*z2*z3**3, 2*z2*z3**2*z4, 2*z2*z3*z4**2,\n",
       "        2*z2*z4**3, z3**4, z3**3*z4, z3**2*z4**2, z3*z4**3, z4**4, 0, 0,\n",
       "        0, 0, 0, 0],\n",
       "       [0, 0, 0, z0**4, 0, 0, 0, z0**3*z1, 0, 0, z0**3*z2, 0, 2*z0**3*z3,\n",
       "        z0**3*z4, 0, 0, 0, z0**2*z1**2, 0, 0, z0**2*z1*z2, 0,\n",
       "        2*z0**2*z1*z3, z0**2*z1*z4, 0, 0, z0**2*z2**2, 0, 2*z0**2*z2*z3,\n",
       "        z0**2*z2*z4, 0, 3*z0**2*z3**2, 2*z0**2*z3*z4, z0**2*z4**2, 0, 0,\n",
       "        0, z0*z1**3, 0, 0, z0*z1**2*z2, 0, 2*z0*z1**2*z3, z0*z1**2*z4, 0,\n",
       "        0, z0*z1*z2**2, 0, 2*z0*z1*z2*z3, z0*z1*z2*z4, 0, 3*z0*z1*z3**2,\n",
       "        2*z0*z1*z3*z4, z0*z1*z4**2, 0, 0, z0*z2**3, 0, 2*z0*z2**2*z3,\n",
       "        z0*z2**2*z4, 0, 3*z0*z2*z3**2, 2*z0*z2*z3*z4, z0*z2*z4**2, 0,\n",
       "        4*z0*z3**3, 3*z0*z3**2*z4, 2*z0*z3*z4**2, z0*z4**3, 0, 0, 0,\n",
       "        z1**4, 0, 0, z1**3*z2, 0, 2*z1**3*z3, z1**3*z4, 0, 0,\n",
       "        z1**2*z2**2, 0, 2*z1**2*z2*z3, z1**2*z2*z4, 0, 3*z1**2*z3**2,\n",
       "        2*z1**2*z3*z4, z1**2*z4**2, 0, 0, z1*z2**3, 0, 2*z1*z2**2*z3,\n",
       "        z1*z2**2*z4, 0, 3*z1*z2*z3**2, 2*z1*z2*z3*z4, z1*z2*z4**2, 0,\n",
       "        4*z1*z3**3, 3*z1*z3**2*z4, 2*z1*z3*z4**2, z1*z4**3, 0, 0, z2**4,\n",
       "        0, 2*z2**3*z3, z2**3*z4, 0, 3*z2**2*z3**2, 2*z2**2*z3*z4,\n",
       "        z2**2*z4**2, 0, 4*z2*z3**3, 3*z2*z3**2*z4, 2*z2*z3*z4**2,\n",
       "        z2*z4**3, 0, 5*z3**4, 4*z3**3*z4, 3*z3**2*z4**2, 2*z3*z4**3,\n",
       "        z4**4, 0],\n",
       "       [0, 0, 0, 0, z0**4, 0, 0, 0, z0**3*z1, 0, 0, z0**3*z2, 0,\n",
       "        z0**3*z3, 2*z0**3*z4, 0, 0, 0, z0**2*z1**2, 0, 0, z0**2*z1*z2, 0,\n",
       "        z0**2*z1*z3, 2*z0**2*z1*z4, 0, 0, z0**2*z2**2, 0, z0**2*z2*z3,\n",
       "        2*z0**2*z2*z4, 0, z0**2*z3**2, 2*z0**2*z3*z4, 3*z0**2*z4**2, 0,\n",
       "        0, 0, z0*z1**3, 0, 0, z0*z1**2*z2, 0, z0*z1**2*z3, 2*z0*z1**2*z4,\n",
       "        0, 0, z0*z1*z2**2, 0, z0*z1*z2*z3, 2*z0*z1*z2*z4, 0, z0*z1*z3**2,\n",
       "        2*z0*z1*z3*z4, 3*z0*z1*z4**2, 0, 0, z0*z2**3, 0, z0*z2**2*z3,\n",
       "        2*z0*z2**2*z4, 0, z0*z2*z3**2, 2*z0*z2*z3*z4, 3*z0*z2*z4**2, 0,\n",
       "        z0*z3**3, 2*z0*z3**2*z4, 3*z0*z3*z4**2, 4*z0*z4**3, 0, 0, 0,\n",
       "        z1**4, 0, 0, z1**3*z2, 0, z1**3*z3, 2*z1**3*z4, 0, 0,\n",
       "        z1**2*z2**2, 0, z1**2*z2*z3, 2*z1**2*z2*z4, 0, z1**2*z3**2,\n",
       "        2*z1**2*z3*z4, 3*z1**2*z4**2, 0, 0, z1*z2**3, 0, z1*z2**2*z3,\n",
       "        2*z1*z2**2*z4, 0, z1*z2*z3**2, 2*z1*z2*z3*z4, 3*z1*z2*z4**2, 0,\n",
       "        z1*z3**3, 2*z1*z3**2*z4, 3*z1*z3*z4**2, 4*z1*z4**3, 0, 0, z2**4,\n",
       "        0, z2**3*z3, 2*z2**3*z4, 0, z2**2*z3**2, 2*z2**2*z3*z4,\n",
       "        3*z2**2*z4**2, 0, z2*z3**3, 2*z2*z3**2*z4, 3*z2*z3*z4**2,\n",
       "        4*z2*z4**3, 0, z3**4, 2*z3**3*z4, 3*z3**2*z4**2, 4*z3*z4**3,\n",
       "        5*z4**4]], dtype=object)"
      ]
     },
     "execution_count": 5,
     "metadata": {},
     "output_type": "execute_result"
    }
   ],
   "source": [
    "J"
   ]
  },
  {
   "cell_type": "code",
   "execution_count": 12,
   "metadata": {},
   "outputs": [],
   "source": [
    "restriction = Quintic.patches[0].patches[0].get_restriction()"
   ]
  },
  {
   "cell_type": "code",
   "execution_count": 13,
   "metadata": {},
   "outputs": [
    {
     "data": {
      "text/latex": [
       "$\\displaystyle \\left[\\begin{matrix}- \\frac{z_{2}^{4}}{z_{1}^{4}} & - \\frac{z_{3}^{4}}{z_{1}^{4}} & - \\frac{z_{4}^{4}}{z_{1}^{4}}\\\\1 & 0 & 0\\\\0 & 1 & 0\\\\0 & 0 & 1\\end{matrix}\\right]$"
      ],
      "text/plain": [
       "Matrix([\n",
       "[-z2**4/z1**4, -z3**4/z1**4, -z4**4/z1**4],\n",
       "[           1,            0,            0],\n",
       "[           0,            1,            0],\n",
       "[           0,            0,            1]])"
      ]
     },
     "execution_count": 13,
     "metadata": {},
     "output_type": "execute_result"
    }
   ],
   "source": [
    "restriction"
   ]
  },
  {
   "cell_type": "code",
   "execution_count": 14,
   "metadata": {},
   "outputs": [
    {
     "name": "stdout",
     "output_type": "stream",
     "text": [
      "Number of Patches: 5\n",
      "Points in patch 1 : 91\n",
      "Points in patch 2 : 81\n",
      "Points in patch 3 : 118\n",
      "Points in patch 4 : 103\n",
      "Points in patch 5 : 107\n"
     ]
    }
   ],
   "source": [
    "Quintic.list_patches()"
   ]
  },
  {
   "cell_type": "code",
   "execution_count": 16,
   "metadata": {},
   "outputs": [
    {
     "data": {
      "text/plain": [
       "126"
      ]
     },
     "execution_count": 16,
     "metadata": {},
     "output_type": "execute_result"
    }
   ],
   "source": [
    "ns_1"
   ]
  },
  {
   "cell_type": "code",
   "execution_count": 15,
   "metadata": {},
   "outputs": [],
   "source": [
    "H = np.identity(ns_1)"
   ]
  },
  {
   "cell_type": "code",
   "execution_count": 17,
   "metadata": {},
   "outputs": [],
   "source": [
    "theta, phi = np.linspace(0.0001,np.pi+0.0001, 40), np.linspace(0.0001, 2*np.pi+0.0001, 40)\n",
    "ts = []\n",
    "for j in phi:\n",
    "    for i in theta:\n",
    "        T = complex(math.sin(i)*math.sin(j), math.cos(i))/(sin(i)*cos(j))\n",
    "        if mp.fabs(T)>=1:\n",
    "            ts.append(1/T)\n",
    "        else:\n",
    "            ts.append(T) "
   ]
  },
  {
   "cell_type": "code",
   "execution_count": null,
   "metadata": {},
   "outputs": [],
   "source": []
  },
  {
   "cell_type": "code",
   "execution_count": null,
   "metadata": {},
   "outputs": [],
   "source": []
  },
  {
   "cell_type": "code",
   "execution_count": 11,
   "metadata": {},
   "outputs": [
    {
     "ename": "KeyboardInterrupt",
     "evalue": "",
     "output_type": "error",
     "traceback": [
      "\u001b[0;31m---------------------------------------------------------------------------\u001b[0m",
      "\u001b[0;31mKeyboardInterrupt\u001b[0m                         Traceback (most recent call last)",
      "\u001b[0;32m<ipython-input-11-f8f27fcf34fd>\u001b[0m in \u001b[0;36m<module>\u001b[0;34m\u001b[0m\n\u001b[1;32m     14\u001b[0m     \u001b[0mj_dag\u001b[0m \u001b[0;34m=\u001b[0m \u001b[0mnp\u001b[0m\u001b[0;34m.\u001b[0m\u001b[0marray\u001b[0m\u001b[0;34m(\u001b[0m\u001b[0mjs1\u001b[0m\u001b[0;34m(\u001b[0m\u001b[0;34m*\u001b[0m\u001b[0mzz_bar\u001b[0m\u001b[0;34m)\u001b[0m\u001b[0;34m)\u001b[0m\u001b[0;34m.\u001b[0m\u001b[0mT\u001b[0m\u001b[0;34m\u001b[0m\u001b[0;34m\u001b[0m\u001b[0m\n\u001b[1;32m     15\u001b[0m     \u001b[0malpha\u001b[0m \u001b[0;34m=\u001b[0m \u001b[0mnp\u001b[0m\u001b[0;34m.\u001b[0m\u001b[0mmatmul\u001b[0m\u001b[0;34m(\u001b[0m\u001b[0ms\u001b[0m\u001b[0;34m,\u001b[0m\u001b[0mnp\u001b[0m\u001b[0;34m.\u001b[0m\u001b[0mmatmul\u001b[0m\u001b[0;34m(\u001b[0m\u001b[0mH\u001b[0m\u001b[0;34m,\u001b[0m\u001b[0ms_dag\u001b[0m\u001b[0;34m)\u001b[0m\u001b[0;34m)\u001b[0m\u001b[0;34m\u001b[0m\u001b[0;34m\u001b[0m\u001b[0m\n\u001b[0;32m---> 16\u001b[0;31m     \u001b[0mA\u001b[0m \u001b[0;34m=\u001b[0m \u001b[0mnp\u001b[0m\u001b[0;34m.\u001b[0m\u001b[0mmatmul\u001b[0m\u001b[0;34m(\u001b[0m\u001b[0mj\u001b[0m\u001b[0;34m,\u001b[0m\u001b[0mnp\u001b[0m\u001b[0;34m.\u001b[0m\u001b[0mmatmul\u001b[0m\u001b[0;34m(\u001b[0m\u001b[0mH\u001b[0m\u001b[0;34m,\u001b[0m\u001b[0mj_dag\u001b[0m\u001b[0;34m)\u001b[0m\u001b[0;34m)\u001b[0m\u001b[0;34m\u001b[0m\u001b[0;34m\u001b[0m\u001b[0m\n\u001b[0m\u001b[1;32m     17\u001b[0m     \u001b[0mB\u001b[0m \u001b[0;34m=\u001b[0m \u001b[0mnp\u001b[0m\u001b[0;34m.\u001b[0m\u001b[0mmatmul\u001b[0m\u001b[0;34m(\u001b[0m\u001b[0mj\u001b[0m\u001b[0;34m,\u001b[0m\u001b[0mnp\u001b[0m\u001b[0;34m.\u001b[0m\u001b[0mmatmul\u001b[0m\u001b[0;34m(\u001b[0m\u001b[0mH\u001b[0m\u001b[0;34m,\u001b[0m\u001b[0mnp\u001b[0m\u001b[0;34m.\u001b[0m\u001b[0mmatmul\u001b[0m\u001b[0;34m(\u001b[0m\u001b[0ms_dag\u001b[0m\u001b[0;34m,\u001b[0m\u001b[0mnp\u001b[0m\u001b[0;34m.\u001b[0m\u001b[0mmatmul\u001b[0m\u001b[0;34m(\u001b[0m\u001b[0ms\u001b[0m\u001b[0;34m,\u001b[0m\u001b[0mnp\u001b[0m\u001b[0;34m.\u001b[0m\u001b[0mmatmul\u001b[0m\u001b[0;34m(\u001b[0m\u001b[0mH\u001b[0m\u001b[0;34m,\u001b[0m\u001b[0mj_dag\u001b[0m\u001b[0;34m)\u001b[0m\u001b[0;34m)\u001b[0m\u001b[0;34m)\u001b[0m\u001b[0;34m)\u001b[0m\u001b[0;34m)\u001b[0m\u001b[0;34m\u001b[0m\u001b[0;34m\u001b[0m\u001b[0m\n\u001b[1;32m     18\u001b[0m     \u001b[0mG\u001b[0m \u001b[0;34m=\u001b[0m \u001b[0mA\u001b[0m\u001b[0;34m/\u001b[0m\u001b[0malpha\u001b[0m \u001b[0;34m-\u001b[0m \u001b[0;34m(\u001b[0m\u001b[0mB\u001b[0m\u001b[0;34m/\u001b[0m\u001b[0malpha\u001b[0m\u001b[0;34m**\u001b[0m\u001b[0;36m2\u001b[0m\u001b[0;34m)\u001b[0m\u001b[0;34m\u001b[0m\u001b[0;34m\u001b[0m\u001b[0m\n",
      "\u001b[0;32m~/anaconda3/envs/ML/lib/python3.8/site-packages/mpmath/ctx_mp_python.py\u001b[0m in \u001b[0;36m__add__\u001b[0;34m(s, t)\u001b[0m\n\u001b[1;32m    464\u001b[0m         \u001b[0mcls\u001b[0m\u001b[0;34m,\u001b[0m \u001b[0mnew\u001b[0m\u001b[0;34m,\u001b[0m \u001b[0;34m(\u001b[0m\u001b[0mprec\u001b[0m\u001b[0;34m,\u001b[0m \u001b[0mrounding\u001b[0m\u001b[0;34m)\u001b[0m \u001b[0;34m=\u001b[0m \u001b[0ms\u001b[0m\u001b[0;34m.\u001b[0m\u001b[0m_ctxdata\u001b[0m\u001b[0;34m\u001b[0m\u001b[0;34m\u001b[0m\u001b[0m\n\u001b[1;32m    465\u001b[0m         \u001b[0;32mif\u001b[0m \u001b[0;32mnot\u001b[0m \u001b[0mhasattr\u001b[0m\u001b[0;34m(\u001b[0m\u001b[0mt\u001b[0m\u001b[0;34m,\u001b[0m \u001b[0;34m'_mpc_'\u001b[0m\u001b[0;34m)\u001b[0m\u001b[0;34m:\u001b[0m\u001b[0;34m\u001b[0m\u001b[0;34m\u001b[0m\u001b[0m\n\u001b[0;32m--> 466\u001b[0;31m             \u001b[0mt\u001b[0m \u001b[0;34m=\u001b[0m \u001b[0ms\u001b[0m\u001b[0;34m.\u001b[0m\u001b[0mmpc_convert_lhs\u001b[0m\u001b[0;34m(\u001b[0m\u001b[0mt\u001b[0m\u001b[0;34m)\u001b[0m\u001b[0;34m\u001b[0m\u001b[0;34m\u001b[0m\u001b[0m\n\u001b[0m\u001b[1;32m    467\u001b[0m             \u001b[0;32mif\u001b[0m \u001b[0mt\u001b[0m \u001b[0;32mis\u001b[0m \u001b[0mNotImplemented\u001b[0m\u001b[0;34m:\u001b[0m\u001b[0;34m\u001b[0m\u001b[0;34m\u001b[0m\u001b[0m\n\u001b[1;32m    468\u001b[0m                 \u001b[0;32mreturn\u001b[0m \u001b[0mt\u001b[0m\u001b[0;34m\u001b[0m\u001b[0;34m\u001b[0m\u001b[0m\n",
      "\u001b[0;32m~/anaconda3/envs/ML/lib/python3.8/site-packages/mpmath/ctx_mp_python.py\u001b[0m in \u001b[0;36mmpc_convert_lhs\u001b[0;34m(cls, x)\u001b[0m\n\u001b[1;32m    433\u001b[0m     \u001b[0;32mdef\u001b[0m \u001b[0mmpc_convert_lhs\u001b[0m\u001b[0;34m(\u001b[0m\u001b[0mcls\u001b[0m\u001b[0;34m,\u001b[0m \u001b[0mx\u001b[0m\u001b[0;34m)\u001b[0m\u001b[0;34m:\u001b[0m\u001b[0;34m\u001b[0m\u001b[0;34m\u001b[0m\u001b[0m\n\u001b[1;32m    434\u001b[0m         \u001b[0;32mtry\u001b[0m\u001b[0;34m:\u001b[0m\u001b[0;34m\u001b[0m\u001b[0;34m\u001b[0m\u001b[0m\n\u001b[0;32m--> 435\u001b[0;31m             \u001b[0my\u001b[0m \u001b[0;34m=\u001b[0m \u001b[0mcls\u001b[0m\u001b[0;34m.\u001b[0m\u001b[0mcontext\u001b[0m\u001b[0;34m.\u001b[0m\u001b[0mconvert\u001b[0m\u001b[0;34m(\u001b[0m\u001b[0mx\u001b[0m\u001b[0;34m)\u001b[0m\u001b[0;34m\u001b[0m\u001b[0;34m\u001b[0m\u001b[0m\n\u001b[0m\u001b[1;32m    436\u001b[0m             \u001b[0;32mreturn\u001b[0m \u001b[0my\u001b[0m\u001b[0;34m\u001b[0m\u001b[0;34m\u001b[0m\u001b[0m\n\u001b[1;32m    437\u001b[0m         \u001b[0;32mexcept\u001b[0m \u001b[0mTypeError\u001b[0m\u001b[0;34m:\u001b[0m\u001b[0;34m\u001b[0m\u001b[0;34m\u001b[0m\u001b[0m\n",
      "\u001b[0;32m~/anaconda3/envs/ML/lib/python3.8/site-packages/mpmath/ctx_mp_python.py\u001b[0m in \u001b[0;36mconvert\u001b[0;34m(ctx, x, strings)\u001b[0m\n\u001b[1;32m    643\u001b[0m         \u001b[0;32mif\u001b[0m \u001b[0mtype\u001b[0m\u001b[0;34m(\u001b[0m\u001b[0mx\u001b[0m\u001b[0;34m)\u001b[0m \u001b[0;32min\u001b[0m \u001b[0mctx\u001b[0m\u001b[0;34m.\u001b[0m\u001b[0mtypes\u001b[0m\u001b[0;34m:\u001b[0m \u001b[0;32mreturn\u001b[0m \u001b[0mx\u001b[0m\u001b[0;34m\u001b[0m\u001b[0;34m\u001b[0m\u001b[0m\n\u001b[1;32m    644\u001b[0m         \u001b[0;32mif\u001b[0m \u001b[0misinstance\u001b[0m\u001b[0;34m(\u001b[0m\u001b[0mx\u001b[0m\u001b[0;34m,\u001b[0m \u001b[0mint_types\u001b[0m\u001b[0;34m)\u001b[0m\u001b[0;34m:\u001b[0m \u001b[0;32mreturn\u001b[0m \u001b[0mctx\u001b[0m\u001b[0;34m.\u001b[0m\u001b[0mmake_mpf\u001b[0m\u001b[0;34m(\u001b[0m\u001b[0mfrom_int\u001b[0m\u001b[0;34m(\u001b[0m\u001b[0mx\u001b[0m\u001b[0;34m)\u001b[0m\u001b[0;34m)\u001b[0m\u001b[0;34m\u001b[0m\u001b[0;34m\u001b[0m\u001b[0m\n\u001b[0;32m--> 645\u001b[0;31m         \u001b[0;32mif\u001b[0m \u001b[0misinstance\u001b[0m\u001b[0;34m(\u001b[0m\u001b[0mx\u001b[0m\u001b[0;34m,\u001b[0m \u001b[0mfloat\u001b[0m\u001b[0;34m)\u001b[0m\u001b[0;34m:\u001b[0m \u001b[0;32mreturn\u001b[0m \u001b[0mctx\u001b[0m\u001b[0;34m.\u001b[0m\u001b[0mmake_mpf\u001b[0m\u001b[0;34m(\u001b[0m\u001b[0mfrom_float\u001b[0m\u001b[0;34m(\u001b[0m\u001b[0mx\u001b[0m\u001b[0;34m)\u001b[0m\u001b[0;34m)\u001b[0m\u001b[0;34m\u001b[0m\u001b[0;34m\u001b[0m\u001b[0m\n\u001b[0m\u001b[1;32m    646\u001b[0m         \u001b[0;32mif\u001b[0m \u001b[0misinstance\u001b[0m\u001b[0;34m(\u001b[0m\u001b[0mx\u001b[0m\u001b[0;34m,\u001b[0m \u001b[0mcomplex\u001b[0m\u001b[0;34m)\u001b[0m\u001b[0;34m:\u001b[0m\u001b[0;34m\u001b[0m\u001b[0;34m\u001b[0m\u001b[0m\n\u001b[1;32m    647\u001b[0m             \u001b[0;32mreturn\u001b[0m \u001b[0mctx\u001b[0m\u001b[0;34m.\u001b[0m\u001b[0mmake_mpc\u001b[0m\u001b[0;34m(\u001b[0m\u001b[0;34m(\u001b[0m\u001b[0mfrom_float\u001b[0m\u001b[0;34m(\u001b[0m\u001b[0mx\u001b[0m\u001b[0;34m.\u001b[0m\u001b[0mreal\u001b[0m\u001b[0;34m)\u001b[0m\u001b[0;34m,\u001b[0m \u001b[0mfrom_float\u001b[0m\u001b[0;34m(\u001b[0m\u001b[0mx\u001b[0m\u001b[0;34m.\u001b[0m\u001b[0mimag\u001b[0m\u001b[0;34m)\u001b[0m\u001b[0;34m)\u001b[0m\u001b[0;34m)\u001b[0m\u001b[0;34m\u001b[0m\u001b[0;34m\u001b[0m\u001b[0m\n",
      "\u001b[0;31mKeyboardInterrupt\u001b[0m: "
     ]
    }
   ],
   "source": [
    "FS_Vol_Form_Q = []\n",
    "start_time = t.time()\n",
    "sec1 = sp.lambdify(Z,sections_1)\n",
    "rest1 = sp.lambdify(Z,restriction)\n",
    "J1 = J[1:]\n",
    "#J1[0] = np.zeros(ns_1)\n",
    "js1 = sp.lambdify(Z,J1)\n",
    "for tt in ts:\n",
    "    zz = [1,-1,tt,0,-tt]\n",
    "    zz_bar = [conj(z) for z in zz]\n",
    "    s = np.array(sec1(*zz)).reshape(1,-1)\n",
    "    s_dag = np.array(sec1(*zz_bar)).reshape(-1,1)\n",
    "    j = np.array(js1(*zz))\n",
    "    j_dag = np.array(js1(*zz_bar)).T\n",
    "    alpha = np.matmul(s,np.matmul(H,s_dag))\n",
    "    A = np.matmul(j,np.matmul(H,j_dag))\n",
    "    B = np.matmul(j,np.matmul(H,np.matmul(s_dag,np.matmul(s,np.matmul(H,j_dag)))))\n",
    "    G = A/alpha - (B/alpha**2)\n",
    "    R = np.array(rest1(*zz))\n",
    "    R_dag = np.array(rest1(*zz_bar)).T\n",
    "    V = np.matmul(R_dag,np.matmul(G,R))\n",
    "    V = np.matrix(V,dtype=complex)\n",
    "    FS_Vol_Form_Q.append(np.linalg.det(V))\n",
    "print(\"Time: \",(t.time()-start_time))"
   ]
  },
  {
   "cell_type": "code",
   "execution_count": 20,
   "metadata": {},
   "outputs": [],
   "source": [
    "OO_Bar = Quintic.get_omega_omegabar()"
   ]
  },
  {
   "cell_type": "code",
   "execution_count": 21,
   "metadata": {},
   "outputs": [],
   "source": [
    "oob = sp.lambdify(Z,OO_Bar[0][0])"
   ]
  },
  {
   "cell_type": "code",
   "execution_count": 22,
   "metadata": {},
   "outputs": [],
   "source": [
    "oo_bar = [oob(*[1,-1,tt,0,-tt]) for tt in ts]"
   ]
  },
  {
   "cell_type": "code",
   "execution_count": 23,
   "metadata": {},
   "outputs": [],
   "source": [
    "eta_1 = np.divide(np.array(FS_Vol_Form_Q),np.array(oo_bar))"
   ]
  },
  {
   "cell_type": "code",
   "execution_count": 24,
   "metadata": {},
   "outputs": [
    {
     "name": "stderr",
     "output_type": "stream",
     "text": [
      "/Users/nannu/anaconda3/envs/ML/lib/python3.8/site-packages/numpy/core/_asarray.py:85: ComplexWarning: Casting complex values to real discards the imaginary part\n",
      "  return array(a, dtype, copy=False, order=order)\n"
     ]
    }
   ],
   "source": [
    "R = [eta_1[i*40:(i+1)*40] for i in range(40)]\n",
    "R = np.asarray(R,dtype=float)"
   ]
  },
  {
   "cell_type": "code",
   "execution_count": 25,
   "metadata": {},
   "outputs": [
    {
     "data": {
      "image/png": "[encoded data removed]",
      "text/plain": [
       "<Figure size 432x288 with 1 Axes>"
      ]
     },
     "metadata": {
      "needs_background": "light"
     },
     "output_type": "display_data"
    }
   ],
   "source": [
    "THETA, PHI = np.meshgrid(theta, phi)\n",
    "X = R * np.sin(THETA) * np.cos(PHI)\n",
    "Y = R * np.sin(THETA) * np.sin(PHI)\n",
    "Z = R * np.cos(THETA)\n",
    "fig = plt.figure()\n",
    "ax = fig.add_subplot(1,1,1, projection='3d')\n",
    "plot = ax.plot_surface(\n",
    "    X, Y, Z, rstride=1, cstride=1, cmap=plt.cm.YlGnBu_r,\n",
    "    linewidth=0, antialiased=False)\n",
    "\n",
    "plt.show()"
   ]
  },
  {
   "cell_type": "code",
   "execution_count": 19,
   "metadata": {},
   "outputs": [
    {
     "data": {
      "text/latex": [
       "$\\displaystyle \\frac{1}{25 z_{1}^{4} \\overline{z_{1}}^{4}}$"
      ],
      "text/plain": [
       "1/(25*z1**4*conjugate(z1)**4)"
      ]
     },
     "execution_count": 19,
     "metadata": {},
     "output_type": "execute_result"
    }
   ],
   "source": [
    "Quintic.patches[0].patches[0].omega_omegabar"
   ]
  }
 ],
 "metadata": {
  "kernelspec": {
   "display_name": "ML",
   "language": "python",
   "name": "ml"
  },
  "language_info": {
   "codemirror_mode": {
    "name": "ipython",
    "version": 3
   },
   "file_extension": ".py",
   "mimetype": "text/x-python",
   "name": "python",
   "nbconvert_exporter": "python",
   "pygments_lexer": "ipython3",
   "version": "3.8.2"
  }
 },
 "nbformat": 4,
 "nbformat_minor": 2
}
