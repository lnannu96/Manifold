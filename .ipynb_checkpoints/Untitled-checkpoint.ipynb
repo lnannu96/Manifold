{
 "cells": [
  {
   "cell_type": "code",
   "execution_count": 1,
   "metadata": {},
   "outputs": [],
   "source": [
    "from hypersurface import *\n",
    "import sympy as sp\n",
    "from pprint import pprint\n",
    "import time as t"
   ]
  },
  {
   "cell_type": "code",
   "execution_count": 2,
   "metadata": {},
   "outputs": [],
   "source": [
    "z0, z1, z2, z3 = sp.symbols('z0, z1, z2, z3')\n",
    "Z = [z0,z1,z2]\n",
    "f = z0**3 + z1**3 + z2**3\n",
    "HS = Hypersurface(Z, f, 1000)"
   ]
  },
  {
   "cell_type": "code",
   "execution_count": 3,
   "metadata": {},
   "outputs": [],
   "source": [
    "k = 5\n",
    "sections, ns = HS.get_sections(k)\n",
    "H = np.identity(ns, dtype=int)"
   ]
  },
  {
   "cell_type": "code",
   "execution_count": 4,
   "metadata": {},
   "outputs": [
    {
     "data": {
      "text/plain": [
       "array([z0**5, z0**4*z1, z0**4*z2, z0**3*z1**2, z0**3*z1*z2, z0**3*z2**2,\n",
       "       z0**2*z1**3, z0**2*z1**2*z2, z0**2*z1*z2**2, z0**2*z2**3, z0*z1**4,\n",
       "       z0*z1**3*z2, z0*z1**2*z2**2, z0*z1*z2**3, z0*z2**4, z1**5,\n",
       "       z1**4*z2, z1**3*z2**2, z1**2*z2**3, z1*z2**4, z2**5], dtype=object)"
      ]
     },
     "execution_count": 4,
     "metadata": {},
     "output_type": "execute_result"
    }
   ],
   "source": [
    "sections"
   ]
  },
  {
   "cell_type": "code",
   "execution_count": 5,
   "metadata": {},
   "outputs": [],
   "source": [
    "J = []\n",
    "for z in Z:\n",
    "    J.append([diff(s,z) for s in sections])\n",
    "J = np.array(J)"
   ]
  },
  {
   "cell_type": "code",
   "execution_count": 6,
   "metadata": {},
   "outputs": [
    {
     "name": "stdout",
     "output_type": "stream",
     "text": [
      "[[5*z0**4 4*z0**3*z1 4*z0**3*z2 3*z0**2*z1**2 3*z0**2*z1*z2 3*z0**2*z2**2\n",
      "  2*z0*z1**3 2*z0*z1**2*z2 2*z0*z1*z2**2 2*z0*z2**3 z1**4 z1**3*z2\n",
      "  z1**2*z2**2 z1*z2**3 z2**4 0 0 0 0 0 0]\n",
      " [0 z0**4 0 2*z0**3*z1 z0**3*z2 0 3*z0**2*z1**2 2*z0**2*z1*z2 z0**2*z2**2\n",
      "  0 4*z0*z1**3 3*z0*z1**2*z2 2*z0*z1*z2**2 z0*z2**3 0 5*z1**4 4*z1**3*z2\n",
      "  3*z1**2*z2**2 2*z1*z2**3 z2**4 0]\n",
      " [0 0 z0**4 0 z0**3*z1 2*z0**3*z2 0 z0**2*z1**2 2*z0**2*z1*z2\n",
      "  3*z0**2*z2**2 0 z0*z1**3 2*z0*z1**2*z2 3*z0*z1*z2**2 4*z0*z2**3 0 z1**4\n",
      "  2*z1**3*z2 3*z1**2*z2**2 4*z1*z2**3 5*z2**4]]\n"
     ]
    }
   ],
   "source": [
    "print(J)"
   ]
  },
  {
   "cell_type": "code",
   "execution_count": 7,
   "metadata": {},
   "outputs": [
    {
     "data": {
      "text/plain": [
       "(3, 21)"
      ]
     },
     "execution_count": 7,
     "metadata": {},
     "output_type": "execute_result"
    }
   ],
   "source": [
    "J.shape"
   ]
  },
  {
   "cell_type": "code",
   "execution_count": 8,
   "metadata": {},
   "outputs": [],
   "source": [
    "def generate_H(ns):\n",
    "    H_rand = np.random.rand(ns, ns)\n",
    "    H_rand_pd = np.dot(H_rand, H_rand.transpose())\n",
    "    return H_rand_pd"
   ]
  },
  {
   "cell_type": "code",
   "execution_count": 9,
   "metadata": {},
   "outputs": [
    {
     "name": "stdout",
     "output_type": "stream",
     "text": [
      "Number of Patches: 3\n",
      "Points in patch 1 : 990\n",
      "Points in patch 2 : 1023\n",
      "Points in patch 3 : 987\n"
     ]
    }
   ],
   "source": [
    "HS.list_patches()"
   ]
  },
  {
   "cell_type": "code",
   "execution_count": 12,
   "metadata": {},
   "outputs": [],
   "source": [
    "restriction = HS.patches[0].patches[0].get_restriction()"
   ]
  },
  {
   "cell_type": "code",
   "execution_count": 13,
   "metadata": {},
   "outputs": [
    {
     "data": {
      "text/latex": [
       "$\\displaystyle \\left[\\begin{matrix}- \\frac{z_{2}^{2}}{z_{1}^{2}}\\\\1\\end{matrix}\\right]$"
      ],
      "text/plain": [
       "Matrix([\n",
       "[-z2**2/z1**2],\n",
       "[           1]])"
      ]
     },
     "execution_count": 13,
     "metadata": {},
     "output_type": "execute_result"
    }
   ],
   "source": [
    "restriction"
   ]
  },
  {
   "cell_type": "code",
   "execution_count": null,
   "metadata": {},
   "outputs": [],
   "source": []
  },
  {
   "cell_type": "code",
   "execution_count": null,
   "metadata": {},
   "outputs": [],
   "source": []
  },
  {
   "cell_type": "code",
   "execution_count": 16,
   "metadata": {},
   "outputs": [],
   "source": [
    "FS_vol_form = []\n",
    "start_time = t.time()\n",
    "secs = sp.lambdify(Z,sections)\n",
    "for i in range(3):\n",
    "    restriction = HS.get_restriction(i)\n",
    "    rest = sp.lambdify(Z,restriction)\n",
    "    Ji = [jj for jj in J]\n",
    "    del Ji[i]\n",
    "    js = sp.lambdify(Z,Ji)\n",
    "    for ZZ in HS.patches[i].points:\n",
    "        ZZ_bar = [conj(z) for z in ZZ]\n",
    "        s = np.array(secs(*ZZ)).reshape(1,-1)\n",
    "        s_dag = np.array(secs(*ZZ_bar)).reshape(-1,1)\n",
    "        j = np.array(js(*ZZ))\n",
    "        j_dag = np.array(js(*ZZ_bar)).T\n",
    "        alpha = np.matmul(s,np.matmul(H,s_dag))\n",
    "        A = np.matmul(j,np.matmul(H,j_dag))\n",
    "        B = np.matmul(j,np.matmul(H,np.matmul(s_dag,np.matmul(s,np.matmul(H,j_dag)))))\n",
    "        G = A/alpha - (B/alpha**2)\n",
    "        R = np.array(rest(*ZZ))\n",
    "        R_dag = np.array(rest(*ZZ_bar)).T\n",
    "        V = np.matmul(R_dag,np.matmul(G,R))\n",
    "        V = np.matrix(V,dtype=complex)\n",
    "        FS_vol_form.append(np.linalg.det(V))\n",
    "totalled_time = (t.time()-start_time)"
   ]
  },
  {
   "cell_type": "code",
   "execution_count": 17,
   "metadata": {},
   "outputs": [
    {
     "data": {
      "text/plain": [
       "32.4933078289032"
      ]
     },
     "execution_count": 17,
     "metadata": {},
     "output_type": "execute_result"
    }
   ],
   "source": [
    "totalled_time"
   ]
  },
  {
   "cell_type": "code",
   "execution_count": 29,
   "metadata": {},
   "outputs": [],
   "source": [
    "oo_bar = []\n",
    "OOB = sp.lambdify(Z,HS.get_omega_omegabar())\n",
    "for i in range(3):\n",
    "    for zz in HS.patches[i].points:\n",
    "        oob = OOB(*zz)\n",
    "        oo_bar.append(oob[i][HS.patches[i].indices[HS.patches[i].points.index(zz)]])"
   ]
  },
  {
   "cell_type": "code",
   "execution_count": 32,
   "metadata": {},
   "outputs": [],
   "source": [
    "eta_I = np.divide(np.array(FS_vol_form),np.array(oo_bar))"
   ]
  },
  {
   "cell_type": "code",
   "execution_count": 38,
   "metadata": {},
   "outputs": [
    {
     "data": {
      "text/plain": [
       "(3.3734634814854205-3.084137706403409e-19j)"
      ]
     },
     "execution_count": 38,
     "metadata": {},
     "output_type": "execute_result"
    }
   ],
   "source": [
    "np.sum(np.log(eta_I))/len(eta_I)"
   ]
  },
  {
   "cell_type": "code",
   "execution_count": 33,
   "metadata": {},
   "outputs": [],
   "source": [
    "H1 = generate_H(ns)"
   ]
  },
  {
   "cell_type": "code",
   "execution_count": 34,
   "metadata": {},
   "outputs": [],
   "source": [
    "FS_vol_form1 = []\n",
    "start_time = t.time()\n",
    "secs = sp.lambdify(Z,sections)\n",
    "for i in range(3):\n",
    "    restriction = HS.get_restriction(i)\n",
    "    rest = sp.lambdify(Z,restriction)\n",
    "    Ji = [jj for jj in J]\n",
    "    Ji[i] = np.zeros(ns)\n",
    "    js = sp.lambdify(Z,Ji)\n",
    "    for ZZ in HS.patches[i].points:\n",
    "        ZZ_bar = [conj(z) for z in ZZ]\n",
    "        s = np.array(secs(*ZZ)).reshape(1,-1)\n",
    "        s_dag = np.array(secs(*ZZ_bar)).reshape(-1,1)\n",
    "        j = np.array(js(*ZZ))\n",
    "        j_dag = np.array(js(*ZZ_bar)).T\n",
    "        alpha = np.matmul(s,np.matmul(H1,s_dag))\n",
    "        A = np.matmul(j,np.matmul(H1,j_dag))\n",
    "        B = np.matmul(j,np.matmul(H1,np.matmul(s_dag,np.matmul(s,np.matmul(H1,j_dag)))))\n",
    "        G = A/alpha - (B/alpha**2)\n",
    "        R = np.array(rest(*ZZ))\n",
    "        R_dag = np.array(rest(*ZZ_bar)).T\n",
    "        V = np.matmul(R_dag,np.matmul(G,R))\n",
    "        V = np.matrix(V,dtype=complex)\n",
    "        FS_vol_form1.append(np.linalg.det(V))\n",
    "totalled_time1 = (t.time()-start_time)"
   ]
  },
  {
   "cell_type": "code",
   "execution_count": 35,
   "metadata": {},
   "outputs": [
    {
     "data": {
      "text/plain": [
       "65.97992706298828"
      ]
     },
     "execution_count": 35,
     "metadata": {},
     "output_type": "execute_result"
    }
   ],
   "source": [
    "totalled_time1"
   ]
  },
  {
   "cell_type": "code",
   "execution_count": 36,
   "metadata": {},
   "outputs": [],
   "source": [
    "eta_H1 = np.divide(np.array(FS_vol_form1),np.array(oo_bar))"
   ]
  },
  {
   "cell_type": "code",
   "execution_count": 39,
   "metadata": {},
   "outputs": [
    {
     "data": {
      "text/plain": [
       "(4.315157261522744-2.7184567757781544e-17j)"
      ]
     },
     "execution_count": 39,
     "metadata": {},
     "output_type": "execute_result"
    }
   ],
   "source": [
    "np.sum(np.log(eta_H1))/len(FS_vol_form)"
   ]
  },
  {
   "cell_type": "code",
   "execution_count": 69,
   "metadata": {},
   "outputs": [],
   "source": [
    "H2 = generate_H(ns)"
   ]
  },
  {
   "cell_type": "code",
   "execution_count": 70,
   "metadata": {},
   "outputs": [],
   "source": [
    "FS_vol_form2 = []\n",
    "start_time = t.time()\n",
    "secs = sp.lambdify(Z,sections)\n",
    "for i in range(3):\n",
    "    restriction = HS.get_restriction(i)\n",
    "    rest = sp.lambdify(Z,restriction)\n",
    "    Ji = [jj for jj in J]\n",
    "    Ji[i] = np.zeros(ns)\n",
    "    js = sp.lambdify(Z,Ji)\n",
    "    for ZZ in HS.patches[i].points:\n",
    "        ZZ_bar = [conj(z) for z in ZZ]\n",
    "        s = np.array(secs(*ZZ)).reshape(1,-1)\n",
    "        s_dag = np.array(secs(*ZZ_bar)).reshape(-1,1)\n",
    "        j = np.array(js(*ZZ))\n",
    "        j_dag = np.array(js(*ZZ_bar)).T\n",
    "        alpha = np.matmul(s,np.matmul(H2,s_dag))\n",
    "        A = np.matmul(j,np.matmul(H2,j_dag))\n",
    "        B = np.matmul(j,np.matmul(H2,np.matmul(s_dag,np.matmul(s,np.matmul(H2,j_dag)))))\n",
    "        G = A/alpha - (B/alpha**2)\n",
    "        R = np.array(rest(*ZZ))\n",
    "        R_dag = np.array(rest(*ZZ_bar)).T\n",
    "        V = np.matmul(R_dag,np.matmul(G,R))\n",
    "        V = np.matrix(V,dtype=complex)\n",
    "        FS_vol_form2.append(np.linalg.det(V))\n",
    "totalled_time2 = (t.time()-start_time)"
   ]
  },
  {
   "cell_type": "code",
   "execution_count": 71,
   "metadata": {},
   "outputs": [
    {
     "data": {
      "text/plain": [
       "87.02489805221558"
      ]
     },
     "execution_count": 71,
     "metadata": {},
     "output_type": "execute_result"
    }
   ],
   "source": [
    "totalled_time2"
   ]
  },
  {
   "cell_type": "code",
   "execution_count": 72,
   "metadata": {},
   "outputs": [],
   "source": [
    "eta2 = np.divide(np.array(FS_vol_form2),np.array(FS_vol_form))"
   ]
  },
  {
   "cell_type": "code",
   "execution_count": 73,
   "metadata": {},
   "outputs": [
    {
     "data": {
      "text/plain": [
       "(0.704663273255419-1.731874661139999e-17j)"
      ]
     },
     "execution_count": 73,
     "metadata": {},
     "output_type": "execute_result"
    }
   ],
   "source": [
    "np.sum(np.log(eta2))/len(FS_vol_form)"
   ]
  },
  {
   "cell_type": "code",
   "execution_count": 57,
   "metadata": {},
   "outputs": [],
   "source": [
    "H3 = generate_H(ns)"
   ]
  },
  {
   "cell_type": "code",
   "execution_count": 58,
   "metadata": {},
   "outputs": [],
   "source": [
    "FS_vol_form3 = []\n",
    "start_time = t.time()\n",
    "secs = sp.lambdify(Z,sections)\n",
    "for i in range(3):\n",
    "    restriction = HS.get_restriction(i)\n",
    "    rest = sp.lambdify(Z,restriction)\n",
    "    Ji = [jj for jj in J]\n",
    "    Ji[i] = np.zeros(ns)\n",
    "    js = sp.lambdify(Z,Ji)\n",
    "    for ZZ in HS.patches[i].points:\n",
    "        ZZ_bar = [conj(z) for z in ZZ]\n",
    "        s = np.array(secs(*ZZ)).reshape(1,-1)\n",
    "        s_dag = np.array(secs(*ZZ_bar)).reshape(-1,1)\n",
    "        j = np.array(js(*ZZ))\n",
    "        j_dag = np.array(js(*ZZ_bar)).T\n",
    "        alpha = np.matmul(s,np.matmul(H3,s_dag))\n",
    "        A = np.matmul(j,np.matmul(H3,j_dag))\n",
    "        B = np.matmul(j,np.matmul(H3,np.matmul(s_dag,np.matmul(s,np.matmul(H3,j_dag)))))\n",
    "        G = A/alpha - (B/alpha**2)\n",
    "        R = np.array(rest(*ZZ))\n",
    "        R_dag = np.array(rest(*ZZ_bar)).T\n",
    "        V = np.matmul(R_dag,np.matmul(G,R))\n",
    "        V = np.matrix(V,dtype=complex)\n",
    "        FS_vol_form3.append(np.linalg.det(V))\n",
    "totalled_time3 = (t.time()-start_time)"
   ]
  },
  {
   "cell_type": "code",
   "execution_count": 59,
   "metadata": {},
   "outputs": [
    {
     "data": {
      "text/plain": [
       "65.49350786209106"
      ]
     },
     "execution_count": 59,
     "metadata": {},
     "output_type": "execute_result"
    }
   ],
   "source": [
    "totalled_time3"
   ]
  },
  {
   "cell_type": "code",
   "execution_count": 60,
   "metadata": {},
   "outputs": [],
   "source": [
    "eta3 = np.divide(np.array(FS_vol_form3),np.array(FS_vol_form))"
   ]
  },
  {
   "cell_type": "code",
   "execution_count": 61,
   "metadata": {},
   "outputs": [
    {
     "data": {
      "text/plain": [
       "(1.0801949456851356+7.678176260181067e-18j)"
      ]
     },
     "execution_count": 61,
     "metadata": {},
     "output_type": "execute_result"
    }
   ],
   "source": [
    "np.sum(np.log(eta3))/len(FS_vol_form)"
   ]
  },
  {
   "cell_type": "markdown",
   "metadata": {},
   "source": [
    "# Evaluating Eta on Rational Curves"
   ]
  },
  {
   "cell_type": "code",
   "execution_count": 51,
   "metadata": {},
   "outputs": [],
   "source": [
    "restriction = Quintic.get_restriction(0)"
   ]
  },
  {
   "cell_type": "code",
   "execution_count": null,
   "metadata": {},
   "outputs": [],
   "source": []
  },
  {
   "cell_type": "code",
   "execution_count": null,
   "metadata": {},
   "outputs": [],
   "source": []
  },
  {
   "cell_type": "code",
   "execution_count": null,
   "metadata": {},
   "outputs": [],
   "source": []
  },
  {
   "cell_type": "code",
   "execution_count": 49,
   "metadata": {},
   "outputs": [
    {
     "name": "stdout",
     "output_type": "stream",
     "text": [
      "Number of Patches: 5\n",
      "Points in patch 1 : 98\n",
      "Points in patch 2 : 106\n",
      "Points in patch 3 : 105\n",
      "Points in patch 4 : 97\n",
      "Points in patch 5 : 94\n"
     ]
    }
   ],
   "source": [
    "Quintic.list_patches()"
   ]
  },
  {
   "cell_type": "code",
   "execution_count": 44,
   "metadata": {},
   "outputs": [],
   "source": [
    "H = np.identity(ns_1)"
   ]
  },
  {
   "cell_type": "code",
   "execution_count": 45,
   "metadata": {},
   "outputs": [],
   "source": [
    "theta, phi = np.linspace(0.0001,np.pi+0.0001, 40), np.linspace(0.0001, 2*np.pi+0.0001, 40)\n",
    "#R = []\n",
    "ts = []\n",
    "for j in phi:\n",
    "    #theta_list = []\n",
    "    for i in theta:\n",
    "        ts.append(complex(math.sin(i)*math.sin(j), math.cos(i))/(sin(i)*cos(j))) \n",
    "        #theta_list.append(float(func(1,-1,t,0,-t).real))\n",
    "    #R.append(theta_list)\n",
    "#R = np.asarray(R)"
   ]
  },
  {
   "cell_type": "code",
   "execution_count": 52,
   "metadata": {},
   "outputs": [
    {
     "data": {
      "text/plain": [
       "1600"
      ]
     },
     "execution_count": 52,
     "metadata": {},
     "output_type": "execute_result"
    }
   ],
   "source": [
    "len(ts)"
   ]
  },
  {
   "cell_type": "code",
   "execution_count": 59,
   "metadata": {},
   "outputs": [
    {
     "ename": "TypeError",
     "evalue": "'mpc' object is not iterable",
     "output_type": "error",
     "traceback": [
      "\u001b[0;31m---------------------------------------------------------------------------\u001b[0m",
      "\u001b[0;31mTypeError\u001b[0m                                 Traceback (most recent call last)",
      "\u001b[0;32m<ipython-input-59-95d6f66e4ebd>\u001b[0m in \u001b[0;36m<module>\u001b[0;34m\u001b[0m\n\u001b[1;32m      3\u001b[0m \u001b[0msec1\u001b[0m \u001b[0;34m=\u001b[0m \u001b[0msp\u001b[0m\u001b[0;34m.\u001b[0m\u001b[0mlambdify\u001b[0m\u001b[0;34m(\u001b[0m\u001b[0mZ\u001b[0m\u001b[0;34m,\u001b[0m\u001b[0msections_1\u001b[0m\u001b[0;34m)\u001b[0m\u001b[0;34m\u001b[0m\u001b[0;34m\u001b[0m\u001b[0m\n\u001b[1;32m      4\u001b[0m \u001b[0mrest1\u001b[0m \u001b[0;34m=\u001b[0m \u001b[0msp\u001b[0m\u001b[0;34m.\u001b[0m\u001b[0mlambdify\u001b[0m\u001b[0;34m(\u001b[0m\u001b[0mZ\u001b[0m\u001b[0;34m,\u001b[0m\u001b[0mrestriction\u001b[0m\u001b[0;34m)\u001b[0m\u001b[0;34m\u001b[0m\u001b[0;34m\u001b[0m\u001b[0m\n\u001b[0;32m----> 5\u001b[0;31m \u001b[0mJ1\u001b[0m \u001b[0;34m=\u001b[0m \u001b[0;34m[\u001b[0m\u001b[0mjj\u001b[0m \u001b[0;32mfor\u001b[0m \u001b[0mjj\u001b[0m \u001b[0;32min\u001b[0m \u001b[0mj\u001b[0m\u001b[0;34m]\u001b[0m\u001b[0;34m\u001b[0m\u001b[0;34m\u001b[0m\u001b[0m\n\u001b[0m\u001b[1;32m      6\u001b[0m \u001b[0mJ1\u001b[0m\u001b[0;34m[\u001b[0m\u001b[0;36m0\u001b[0m\u001b[0;34m]\u001b[0m \u001b[0;34m=\u001b[0m \u001b[0mnp\u001b[0m\u001b[0;34m.\u001b[0m\u001b[0mzeros\u001b[0m\u001b[0;34m(\u001b[0m\u001b[0mns_1\u001b[0m\u001b[0;34m)\u001b[0m\u001b[0;34m\u001b[0m\u001b[0;34m\u001b[0m\u001b[0m\n\u001b[1;32m      7\u001b[0m \u001b[0mjs1\u001b[0m \u001b[0;34m=\u001b[0m \u001b[0msp\u001b[0m\u001b[0;34m.\u001b[0m\u001b[0mlambdify\u001b[0m\u001b[0;34m(\u001b[0m\u001b[0mZ\u001b[0m\u001b[0;34m,\u001b[0m\u001b[0mJ1\u001b[0m\u001b[0;34m)\u001b[0m\u001b[0;34m\u001b[0m\u001b[0;34m\u001b[0m\u001b[0m\n",
      "\u001b[0;31mTypeError\u001b[0m: 'mpc' object is not iterable"
     ]
    }
   ],
   "source": [
    "FS_Vol_Form_Q = []\n",
    "start_time = t.time()\n",
    "sec1 = sp.lambdify(Z,sections_1)\n",
    "rest1 = sp.lambdify(Z,restriction)\n",
    "J1 = [jj for jj in j]\n",
    "J1[0] = np.zeros(ns_1)\n",
    "js1 = sp.lambdify(Z,J1)\n",
    "for tt in ts:\n",
    "    zz = [1,-1,tt,0,-tt]\n",
    "    zz_bar = [conj(z) for z in zz]\n",
    "    s = np.array(sec1(*zz)).reshape(1,-1)\n",
    "    s_dag = np.array(sec1(*zz_bar)).reshape(-1,1)\n",
    "    j = np.array(js1(*zz))\n",
    "    j_dag = np.array(js1(*zz_bar)).T\n",
    "    alpha = np.matmul(s,np.matmul(H,s_dag))\n",
    "    A = np.matmul(j,np.matmul(H,j_dag))\n",
    "    B = np.matmul(j,np.matmul(H,np.matmul(s_dag,np.matmul(s,np.matmul(H,j_dag)))))\n",
    "    G = A/alpha - (B/alpha**2)\n",
    "    R = np.array(rest1(*zz))\n",
    "    R_dag = np.array(rest1(*zz_bar)).T\n",
    "    V = np.matmul(R_dag,np.matmul(G,R))\n",
    "    V = np.matrix(V,dtype=complex)\n",
    "    FS_Vol_Form_Q.append(np.linalg.det(V))\n",
    "print(\"Time: \",(t.time()-start_time))"
   ]
  },
  {
   "cell_type": "code",
   "execution_count": null,
   "metadata": {},
   "outputs": [],
   "source": [
    "FS_vol_form3 = []\n",
    "start_time = t.time()\n",
    "secs = sp.lambdify(Z,sections)\n",
    "for i in range(3):\n",
    "    restriction = HS.get_restriction(i)\n",
    "    rest = sp.lambdify(Z,restriction)\n",
    "    Ji = [jj for jj in J]\n",
    "    Ji[i] = np.zeros(ns)\n",
    "    js = sp.lambdify(Z,Ji)\n",
    "    for ZZ in HS.patches[i].points:\n",
    "        ZZ_bar = [conj(z) for z in ZZ]\n",
    "        s = np.array(secs(*ZZ)).reshape(1,-1)\n",
    "        s_dag = np.array(secs(*ZZ_bar)).reshape(-1,1)\n",
    "        j = np.array(js(*ZZ))\n",
    "        j_dag = np.array(js(*ZZ_bar)).T\n",
    "        alpha = np.matmul(s,np.matmul(H3,s_dag))\n",
    "        A = np.matmul(j,np.matmul(H3,j_dag))\n",
    "        B = np.matmul(j,np.matmul(H3,np.matmul(s_dag,np.matmul(s,np.matmul(H3,j_dag)))))\n",
    "        G = A/alpha - (B/alpha**2)\n",
    "        R = np.array(rest(*ZZ))\n",
    "        R_dag = np.array(rest(*ZZ_bar)).T\n",
    "        V = np.matmul(R_dag,np.matmul(G,R))\n",
    "        V = np.matrix(V,dtype=complex)\n",
    "        FS_vol_form3.append(np.linalg.det(V))\n",
    "totalled_time3 = (t.time()-start_time)"
   ]
  },
  {
   "cell_type": "code",
   "execution_count": null,
   "metadata": {},
   "outputs": [],
   "source": []
  },
  {
   "cell_type": "code",
   "execution_count": null,
   "metadata": {},
   "outputs": [],
   "source": []
  },
  {
   "cell_type": "code",
   "execution_count": null,
   "metadata": {},
   "outputs": [],
   "source": []
  },
  {
   "cell_type": "code",
   "execution_count": null,
   "metadata": {},
   "outputs": [],
   "source": []
  },
  {
   "cell_type": "markdown",
   "metadata": {},
   "source": [
    "# Using Optimization Routines"
   ]
  },
  {
   "cell_type": "code",
   "execution_count": 43,
   "metadata": {},
   "outputs": [],
   "source": [
    "import scipy.optimize as opt"
   ]
  },
  {
   "cell_type": "code",
   "execution_count": 44,
   "metadata": {},
   "outputs": [],
   "source": [
    "def f2(x):\n",
    "    return (cos(x[0])+sin(x[1]))"
   ]
  },
  {
   "cell_type": "code",
   "execution_count": 45,
   "metadata": {},
   "outputs": [],
   "source": [
    "xmin2 = opt.minimize(f2,[1.0,1.0],method='L-BFGS-B')"
   ]
  },
  {
   "cell_type": "code",
   "execution_count": 46,
   "metadata": {},
   "outputs": [
    {
     "data": {
      "text/plain": [
       "array([ 3.14159283, -1.57079659])"
      ]
     },
     "execution_count": 46,
     "metadata": {},
     "output_type": "execute_result"
    }
   ],
   "source": [
    "xmin2.x"
   ]
  },
  {
   "cell_type": "code",
   "execution_count": 47,
   "metadata": {},
   "outputs": [],
   "source": [
    "def f3(x):\n",
    "    return (x[0]-1.0)**2 + (x[1]-1.0)**2 + (x[0])**2 + (x[1])**2"
   ]
  },
  {
   "cell_type": "code",
   "execution_count": 48,
   "metadata": {},
   "outputs": [],
   "source": [
    "xmin3 = opt.minimize(f3,[-11.0,-11.0],method='L-BFGS-B')"
   ]
  },
  {
   "cell_type": "code",
   "execution_count": 49,
   "metadata": {},
   "outputs": [
    {
     "data": {
      "text/plain": [
       "array([0.49999972, 0.49999972])"
      ]
     },
     "execution_count": 49,
     "metadata": {},
     "output_type": "execute_result"
    }
   ],
   "source": [
    "xmin3.x"
   ]
  },
  {
   "cell_type": "code",
   "execution_count": null,
   "metadata": {},
   "outputs": [],
   "source": []
  }
 ],
 "metadata": {
  "kernelspec": {
   "display_name": "ML",
   "language": "python",
   "name": "ml"
  },
  "language_info": {
   "codemirror_mode": {
    "name": "ipython",
    "version": 3
   },
   "file_extension": ".py",
   "mimetype": "text/x-python",
   "name": "python",
   "nbconvert_exporter": "python",
   "pygments_lexer": "ipython3",
   "version": "3.8.2"
  }
 },
 "nbformat": 4,
 "nbformat_minor": 2
}
