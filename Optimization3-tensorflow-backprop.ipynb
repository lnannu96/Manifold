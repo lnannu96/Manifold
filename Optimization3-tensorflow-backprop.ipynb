{
 "cells": [
  {
   "cell_type": "code",
   "execution_count": 20,
   "metadata": {},
   "outputs": [],
   "source": [
    "from hypersurface_tf import *\n",
    "from generate_h import *\n",
    "import sympy as sp\n",
    "from pprint import pprint\n",
    "from scipy.optimize import minimize\n",
    "from sympy.utilities.iterables import flatten\n",
    "import math\n",
    "import matplotlib.pyplot as plt\n",
    "from mpl_toolkits.mplot3d import Axes3D\n",
    "import tensorflow as tf"
   ]
  },
  {
   "cell_type": "code",
   "execution_count": 21,
   "metadata": {},
   "outputs": [],
   "source": [
    "z0, z1, z2, z3, z4= sp.symbols('z0, z1, z2, z3, z4')\n",
    "Z = [z0,z1,z2,z3,z4]\n",
    "f = z0**5 + z1**5 + z2**5 + z3**5 + z4**5 + 0.5*z0*z1*z2*z3*z4\n",
    "HS = Hypersurface(Z, f, 10000)"
   ]
  },
  {
   "cell_type": "code",
   "execution_count": 22,
   "metadata": {},
   "outputs": [],
   "source": [
    "k = 6\n",
    "HS.set_k(k)"
   ]
  },
  {
   "cell_type": "code",
   "execution_count": 23,
   "metadata": {},
   "outputs": [],
   "source": [
    "factor = HS.integrate(lambda patch: patch.num_eta_tf('FS'), holomorphic=True, tensor=True)"
   ]
  },
  {
   "cell_type": "code",
   "execution_count": 24,
   "metadata": {},
   "outputs": [],
   "source": [
    "factor = factor.numpy()"
   ]
  },
  {
   "cell_type": "markdown",
   "metadata": {},
   "source": [
    "Normalization factor of eta"
   ]
  },
  {
   "cell_type": "code",
   "execution_count": 25,
   "metadata": {},
   "outputs": [],
   "source": [
    "h_sym = get_sym_info(HS)"
   ]
  },
  {
   "cell_type": "code",
   "execution_count": 26,
   "metadata": {},
   "outputs": [],
   "source": [
    "def train(HS, g, learning_rate, factor):\n",
    "    with tf.GradientTape() as t:\n",
    "        h = tf.matmul(g, g, adjoint_b=True)\n",
    "        h = h/h[0][0]\n",
    "        integration = HS.integrate(lambda patch: tf.abs(patch.num_eta_tf(h)/factor - 1), tensor=True)\n",
    "    dg = t.gradient(integration, g)\n",
    "    g.assign_sub(learning_rate * dg)"
   ]
  },
  {
   "cell_type": "code",
   "execution_count": 27,
   "metadata": {},
   "outputs": [],
   "source": [
    "g0 = np.linalg.cholesky(param_to_matrix(initial_FS_param(HS, h_sym), h_sym))\n",
    "g0 = np.array(g0, dtype=np.complex64)\n",
    "with tf.device('/cpu:0'):\n",
    "    g = tf.Variable(g0)"
   ]
  },
  {
   "cell_type": "code",
   "execution_count": 30,
   "metadata": {},
   "outputs": [],
   "source": [
    "learning_rate = 1"
   ]
  },
  {
   "cell_type": "code",
   "execution_count": 32,
   "metadata": {},
   "outputs": [
    {
     "name": "stdout",
     "output_type": "stream",
     "text": [
      "tf.Tensor(0.26734912, shape=(), dtype=float32)\n",
      "tf.Tensor(0.26179087, shape=(), dtype=float32)\n",
      "tf.Tensor(0.25621593, shape=(), dtype=float32)\n",
      "tf.Tensor(0.25061625, shape=(), dtype=float32)\n",
      "tf.Tensor(0.2449829, shape=(), dtype=float32)\n",
      "tf.Tensor(0.23932876, shape=(), dtype=float32)\n",
      "tf.Tensor(0.23366109, shape=(), dtype=float32)\n",
      "tf.Tensor(0.22797656, shape=(), dtype=float32)\n",
      "tf.Tensor(0.22228624, shape=(), dtype=float32)\n",
      "tf.Tensor(0.21659584, shape=(), dtype=float32)\n",
      "tf.Tensor(0.21092415, shape=(), dtype=float32)\n",
      "tf.Tensor(0.2052735, shape=(), dtype=float32)\n",
      "tf.Tensor(0.19965355, shape=(), dtype=float32)\n",
      "tf.Tensor(0.1940877, shape=(), dtype=float32)\n",
      "tf.Tensor(0.18858223, shape=(), dtype=float32)\n"
     ]
    }
   ],
   "source": [
    "epochs = range(300)\n",
    "for epoch in epochs:\n",
    "    train(HS, g, learning_rate, factor)\n",
    "\n",
    "    if epoch % 20 == 0:\n",
    "        h = tf.matmul(g, g, adjoint_b=True)\n",
    "        h = h/h[0][0]\n",
    "        integration = HS.integrate(lambda patch: tf.abs(patch.num_eta_tf(h)/factor - 1), tensor=True)\n",
    "        print(integration)"
   ]
  },
  {
   "cell_type": "code",
   "execution_count": null,
   "metadata": {
    "scrolled": true
   },
   "outputs": [],
   "source": [
    "h_t = tf.matmul(g, g, adjoint_b=True)\n",
    "h_t = h_t/h_t[0][0]\n",
    "print(h_t[-1])"
   ]
  },
  {
   "cell_type": "code",
   "execution_count": null,
   "metadata": {},
   "outputs": [],
   "source": [
    "param_3 = [-0.15478935, -0.07456169]\n",
    "param_4 = [0.17843688, 0.69614476, 0.13144945, 0.75676199, 0.7845432 , 0.00997926]\n",
    "g0 = initial_param_from_lowerk(HS, h_sym, param_3)"
   ]
  },
  {
   "cell_type": "code",
   "execution_count": 15,
   "metadata": {},
   "outputs": [],
   "source": [
    "h_minimal = param_to_matrix([0.17843688, 0.69614476, 0.13144945, 0.75676199, 0.7845432 , 0.00997926], h_sym)"
   ]
  },
  {
   "cell_type": "code",
   "execution_count": 23,
   "metadata": {
    "scrolled": true
   },
   "outputs": [
    {
     "data": {
      "text/plain": [
       "array([0.        +0.j        , 0.        +0.j        ,\n",
       "       0.        +0.j        , 0.        +0.j        ,\n",
       "       0.        +0.j        , 0.        +0.j        ,\n",
       "       0.        +0.j        , 0.        +0.j        ,\n",
       "       0.        +0.j        , 0.        +0.j        ,\n",
       "       0.        +0.j        , 0.        +0.j        ,\n",
       "       0.        +0.j        , 0.        +0.j        ,\n",
       "       0.        +0.j        , 0.        +0.j        ,\n",
       "       0.        +0.j        , 0.        +0.j        ,\n",
       "       0.        +0.j        , 0.        +0.j        ,\n",
       "       0.26413405-0.00263595j, 0.        +0.j        ,\n",
       "       0.        +0.j        , 0.        +0.j        ,\n",
       "       0.        +0.j        , 0.        +0.j        ,\n",
       "       0.        +0.j        , 0.        +0.j        ,\n",
       "       0.        +0.j        , 0.        +0.j        ,\n",
       "       0.        +0.j        , 0.        +0.j        ,\n",
       "       0.        +0.j        , 0.        +0.j        ,\n",
       "       0.        +0.j        , 0.        +0.j        ,\n",
       "       0.        +0.j        , 0.        +0.j        ,\n",
       "       0.        +0.j        , 0.        +0.j        ,\n",
       "       0.        +0.j        , 0.        +0.j        ,\n",
       "       0.        +0.j        , 0.        +0.j        ,\n",
       "       0.        +0.j        , 0.        +0.j        ,\n",
       "       0.        +0.j        , 0.        +0.j        ,\n",
       "       0.        +0.j        , 0.        +0.j        ,\n",
       "       0.        +0.j        , 0.        +0.j        ,\n",
       "       0.        +0.j        , 0.        +0.j        ,\n",
       "       0.        +0.j        , 0.        +0.j        ,\n",
       "       0.        +0.j        , 0.        +0.j        ,\n",
       "       0.        +0.j        , 0.        +0.j        ,\n",
       "       0.        +0.j        , 0.        +0.j        ,\n",
       "       0.        +0.j        , 0.        +0.j        ,\n",
       "       0.        +0.j        , 0.        +0.j        ,\n",
       "       0.        +0.j        , 0.        +0.j        ,\n",
       "       0.        +0.j        , 1.        +0.j        ])"
      ]
     },
     "execution_count": 23,
     "metadata": {},
     "output_type": "execute_result"
    }
   ],
   "source": [
    "h_minimal[-1]"
   ]
  },
  {
   "cell_type": "code",
   "execution_count": null,
   "metadata": {},
   "outputs": [],
   "source": [
    "sigma = HS.integrate(lambda patch: tf.abs(patch.num_eta_tf(h_minimal)/factor - 1), tensor=True)\n",
    "delta_sigma = math.sqrt(HS.integrate(lambda patch: (tf.abs(patch.num_eta_tf(h_minimal)/factor - 1) - sigma)**2, \n",
    "                                     tensor=True) / HS.n_points)"
   ]
  },
  {
   "cell_type": "code",
   "execution_count": null,
   "metadata": {},
   "outputs": [],
   "source": [
    "print(sigma)\n",
    "print(delta_sigma)"
   ]
  },
  {
   "cell_type": "code",
   "execution_count": null,
   "metadata": {},
   "outputs": [],
   "source": []
  }
 ],
 "metadata": {
  "kernelspec": {
   "display_name": "Python 3",
   "language": "python",
   "name": "python3"
  },
  "language_info": {
   "codemirror_mode": {
    "name": "ipython",
    "version": 3
   },
   "file_extension": ".py",
   "mimetype": "text/x-python",
   "name": "python",
   "nbconvert_exporter": "python",
   "pygments_lexer": "ipython3",
   "version": "3.7.3"
  }
 },
 "nbformat": 4,
 "nbformat_minor": 2
}
