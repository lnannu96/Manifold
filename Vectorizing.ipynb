{
 "cells": [
  {
   "cell_type": "code",
   "execution_count": 1,
   "metadata": {},
   "outputs": [],
   "source": [
    "from hypersurface import *\n",
    "import sympy as sp\n",
    "from pprint import pprint\n",
    "import time"
   ]
  },
  {
   "cell_type": "code",
   "execution_count": 29,
   "metadata": {},
   "outputs": [],
   "source": [
    "z0, z1, z2, z3, z4= sp.symbols('z0, z1, z2, z3, z4')\n",
    "Z = [z0,z1,z2,z3,z4]\n",
    "f = z0**5 + z1**5 + z2**5 + z3**5 + z4**5\n",
    "HS = Hypersurface(Z, f, 1000)"
   ]
  },
  {
   "cell_type": "code",
   "execution_count": 30,
   "metadata": {},
   "outputs": [],
   "source": [
    "k = 5\n",
    "HS.set_k(k)"
   ]
  },
  {
   "cell_type": "code",
   "execution_count": 31,
   "metadata": {},
   "outputs": [],
   "source": [
    "# for defining S\n",
    "Ss = []\n",
    "Js = []\n",
    "Rs = []\n",
    "OO_bars = []\n",
    "for patch in HS.patches:\n",
    "    for subpatch in patch.patches:\n",
    "        for point in subpatch.points:\n",
    "            Ss.append(np.array(subpatch.sections(point)))\n",
    "            Js.append(subpatch.sections_jacobian(point))\n",
    "            Rs.append(subpatch.restriction(point))\n",
    "            OO_bars.append(subpatch.omega_omegabar(point))"
   ]
  },
  {
   "cell_type": "code",
   "execution_count": 32,
   "metadata": {},
   "outputs": [],
   "source": [
    "S_arr = np.array([[s] for s in Ss])"
   ]
  },
  {
   "cell_type": "code",
   "execution_count": 33,
   "metadata": {},
   "outputs": [],
   "source": [
    "Jd_arr = np.conj(np.array(Js))"
   ]
  },
  {
   "cell_type": "code",
   "execution_count": 34,
   "metadata": {},
   "outputs": [],
   "source": [
    "J_arr = np.transpose(np.array(Js),axes = (0,2,1))"
   ]
  },
  {
   "cell_type": "code",
   "execution_count": 35,
   "metadata": {},
   "outputs": [],
   "source": [
    "Sd_arr = np.transpose(np.conj(S_arr),axes=(0,2,1))"
   ]
  },
  {
   "cell_type": "code",
   "execution_count": 36,
   "metadata": {},
   "outputs": [],
   "source": [
    "R_arr = np.array(Rs)"
   ]
  },
  {
   "cell_type": "code",
   "execution_count": 37,
   "metadata": {},
   "outputs": [],
   "source": [
    "def H_vec(h_mat,nn):\n",
    "    H_arr = []\n",
    "    for _ in range(nn):\n",
    "        H_arr.append(h_mat)\n",
    "    return np.array(H_arr)"
   ]
  },
  {
   "cell_type": "code",
   "execution_count": 38,
   "metadata": {},
   "outputs": [],
   "source": [
    "H_id = np.identity(HS.n_sections)"
   ]
  },
  {
   "cell_type": "code",
   "execution_count": 39,
   "metadata": {},
   "outputs": [],
   "source": [
    "def Vec_VolForm(h_matrix):\n",
    "    H_jd = np.matmul(h_matrix,Jd_arr)\n",
    "    A = np.matmul(J_arr,H_jd)\n",
    "    b = np.matmul(S_arr,H_jd)\n",
    "    B = np.matmul(np.transpose(np.conj(b),axes=(0,2,1)),b)\n",
    "    alpha = np.matmul(np.matmul(S_arr,H_id_arr),Sd_arr)\n",
    "    G = A/alpha - B/alpha**2\n",
    "    V_arr = np.matmul(np.transpose(R_arr,axes=(0,2,1)),np.matmul(G,np.conj(R_arr)))\n",
    "    VolForm_arr = np.linalg.det(V_arr)\n",
    "    return VolForm_arr"
   ]
  },
  {
   "cell_type": "code",
   "execution_count": 41,
   "metadata": {},
   "outputs": [
    {
     "name": "stdout",
     "output_type": "stream",
     "text": [
      "2.076436996459961\n"
     ]
    }
   ],
   "source": [
    "start = time.time()\n",
    "Vec_VolForm(H_id)\n",
    "print(time.time()-start)"
   ]
  },
  {
   "cell_type": "code",
   "execution_count": null,
   "metadata": {},
   "outputs": [],
   "source": []
  }
 ],
 "metadata": {
  "kernelspec": {
   "display_name": "ML",
   "language": "python",
   "name": "ml"
  },
  "language_info": {
   "codemirror_mode": {
    "name": "ipython",
    "version": 3
   },
   "file_extension": ".py",
   "mimetype": "text/x-python",
   "name": "python",
   "nbconvert_exporter": "python",
   "pygments_lexer": "ipython3",
   "version": "3.8.2"
  }
 },
 "nbformat": 4,
 "nbformat_minor": 2
}
