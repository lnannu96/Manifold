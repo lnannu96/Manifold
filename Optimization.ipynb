{
 "cells": [
  {
   "cell_type": "code",
   "execution_count": 1,
   "metadata": {},
   "outputs": [],
   "source": [
    "from hypersurface import *\n",
    "import sympy as sp\n",
    "from pprint import pprint\n",
    "from scipy.optimize import minimize\n",
    "from sympy.utilities.iterables import flatten\n",
    "import math"
   ]
  },
  {
   "cell_type": "code",
   "execution_count": 2,
   "metadata": {},
   "outputs": [],
   "source": [
    "z0, z1, z2, z3, z4= sp.symbols('z0, z1, z2, z3, z4')\n",
    "Z = [z0,z1,z2,z3,z4]\n",
    "f = z0**5 + z1**5 + z2**5 + z3**5 + z4**5\n",
    "HS = Hypersurface(Z, f, 100)"
   ]
  },
  {
   "cell_type": "code",
   "execution_count": 3,
   "metadata": {},
   "outputs": [],
   "source": [
    "HS.set_k(1)\n",
    "ns = HS.n_sections"
   ]
  },
  {
   "cell_type": "code",
   "execution_count": 4,
   "metadata": {},
   "outputs": [],
   "source": [
    "# holomorphic=True by default\n",
    "factor = (HS.integrate(lambda patch, point: patch.omega_omegabar(point), numerical=True) / \\\n",
    "          HS.integrate(lambda patch, point: patch.num_FS_volume_form('identity', point), numerical=True)).real"
   ]
  },
  {
   "cell_type": "markdown",
   "metadata": {},
   "source": [
    "The factor can be a build-in attribute and calculated patchwise. Design a function HS.calculate_factor() and call it before num_eta()"
   ]
  },
  {
   "cell_type": "code",
   "execution_count": 5,
   "metadata": {},
   "outputs": [],
   "source": [
    "def flat_to_matrix(g_flat):\n",
    "    g_real = g_flat[:len(g_flat)//2].reshape(ns, ns)\n",
    "    g_imag = g_flat[len(g_flat)//2:].reshape(ns, ns)\n",
    "    g_matrix = g_real + 1j * g_imag\n",
    "    return g_matrix"
   ]
  },
  {
   "cell_type": "code",
   "execution_count": 6,
   "metadata": {},
   "outputs": [],
   "source": [
    "def integration(g_flat):    \n",
    "    g = flat_to_matrix(g_flat)\n",
    "    h = g*np.conj(g.transpose())\n",
    "    integration = HS.integrate(lambda patch, point, h_matrix=h: \n",
    "                                np.absolute(patch.num_eta(h_matrix, point)*factor - 1).real, \n",
    "                                holomorphic=True, numerical=True)\n",
    "    return integration"
   ]
  },
  {
   "cell_type": "markdown",
   "metadata": {},
   "source": [
    "The first matrix is the real part and second is the imaginary part."
   ]
  },
  {
   "cell_type": "code",
   "execution_count": 33,
   "metadata": {},
   "outputs": [],
   "source": [
    "#g0 = np.concatenate((np.ones(ns**2), np.ones(ns**2)),axis=None)*math.sqrt(1/2)\n",
    "g0 = np.concatenate((np.identity(ns), np.identity(ns)), axis=None)*math.sqrt(1/2)\n",
    "noise_real = 2 * np.random.rand(ns,ns) - 1\n",
    "noise_imag = 2 * np.random.rand(ns,ns) - 1\n",
    "noise = np.concatenate((noise_real, noise_imag), axis=None)*0.1\n",
    "g0 = g0 + noise"
   ]
  },
  {
   "cell_type": "code",
   "execution_count": null,
   "metadata": {},
   "outputs": [],
   "source": [
    "res = minimize(integration, g0, method='L-BFGS-B')"
   ]
  },
  {
   "cell_type": "code",
   "execution_count": null,
   "metadata": {},
   "outputs": [],
   "source": [
    "g_minimal = res.x"
   ]
  },
  {
   "cell_type": "code",
   "execution_count": null,
   "metadata": {},
   "outputs": [],
   "source": [
    "g = flat_to_matrix(g_minimal)\n",
    "h_minimal = g*np.conj(g.transpose())"
   ]
  },
  {
   "cell_type": "code",
   "execution_count": 23,
   "metadata": {},
   "outputs": [
    {
     "data": {
      "text/plain": [
       "(0.4726107430536371+1.6481306624358407e-19j)"
      ]
     },
     "execution_count": 23,
     "metadata": {},
     "output_type": "execute_result"
    }
   ],
   "source": [
    "HS.integrate(lambda patch, point, h_matrix='identity': \n",
    "                np.absolute(patch.num_eta(h_matrix, point)*factor - 1), \n",
    "                holomorphic=True, numerical=True)"
   ]
  },
  {
   "cell_type": "code",
   "execution_count": null,
   "metadata": {},
   "outputs": [],
   "source": [
    "HS.integrate(lambda patch, point, h_matrix=h_minimal: \n",
    "                np.absolute(patch.num_eta(h_matrix, point)*factor - 1), \n",
    "                holomorphic=True, numerical=True)"
   ]
  }
 ],
 "metadata": {
  "kernelspec": {
   "display_name": "Python 3",
   "language": "python",
   "name": "python3"
  },
  "language_info": {
   "codemirror_mode": {
    "name": "ipython",
    "version": 3
   },
   "file_extension": ".py",
   "mimetype": "text/x-python",
   "name": "python",
   "nbconvert_exporter": "python",
   "pygments_lexer": "ipython3",
   "version": "3.7.3"
  }
 },
 "nbformat": 4,
 "nbformat_minor": 2
}
