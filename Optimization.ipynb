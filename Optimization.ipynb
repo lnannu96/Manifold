{
 "cells": [
  {
   "cell_type": "code",
   "execution_count": 1,
   "metadata": {},
   "outputs": [],
   "source": [
    "from hypersurface import *\n",
    "import sympy as sp\n",
    "from pprint import pprint\n",
    "from scipy.optimize import minimize\n",
    "from sympy.utilities.iterables import flatten"
   ]
  },
  {
   "cell_type": "code",
   "execution_count": null,
   "metadata": {},
   "outputs": [],
   "source": []
  },
  {
   "cell_type": "code",
   "execution_count": 2,
   "metadata": {},
   "outputs": [],
   "source": [
    "z0, z1, z2, z3 = sp.symbols('z0, z1, z2, z3')\n",
    "Z = [z0,z1,z2,z3]\n",
    "f = z0**4 + z1**4 + z2**4 + z3**4\n",
    "HS = Hypersurface(Z, f, 40)"
   ]
  },
  {
   "cell_type": "code",
   "execution_count": 3,
   "metadata": {},
   "outputs": [],
   "source": [
    "z0, z1, z2= sp.symbols('z0, z1, z2')\n",
    "Z = [z0,z1,z2]\n",
    "f = z0**3 + z1**3 + z2**3\n",
    "HS = Hypersurface(Z, f, 100)"
   ]
  },
  {
   "cell_type": "code",
   "execution_count": 4,
   "metadata": {},
   "outputs": [],
   "source": [
    "k = 1\n",
    "sections, ns = HS.get_sections(k)"
   ]
  },
  {
   "cell_type": "code",
   "execution_count": 5,
   "metadata": {},
   "outputs": [],
   "source": [
    "g11, g12, g13, g21, g22, g23, g31, g32, g33 = sp.symbols('g11, g12, g13, g21, g22, g23, g31, g32, g33')"
   ]
  },
  {
   "cell_type": "code",
   "execution_count": 6,
   "metadata": {},
   "outputs": [],
   "source": [
    "g = sp.Matrix([[g11, 0, 0],[g21, g22, 0],[g31, g32, g33]])"
   ]
  },
  {
   "cell_type": "code",
   "execution_count": 7,
   "metadata": {},
   "outputs": [],
   "source": [
    "h = g*g.transpose()"
   ]
  },
  {
   "cell_type": "code",
   "execution_count": 8,
   "metadata": {},
   "outputs": [],
   "source": [
    "factor = HS.integrate(lambda x: x.omega_omegabar, holomorphic=True) / HS.integrate(lambda x: x.get_FS_volume_form('identity', k),holomorphic=True)"
   ]
  },
  {
   "cell_type": "code",
   "execution_count": 9,
   "metadata": {},
   "outputs": [],
   "source": [
    "eta = lambda x: x.get_FS_volume_form(h, k)/x.omega_omegabar"
   ]
  },
  {
   "cell_type": "code",
   "execution_count": 10,
   "metadata": {},
   "outputs": [],
   "source": [
    "integration = HS.integrate(lambda x: np.absolute(eta(x)*factor.real - 1), holomorphic=True)"
   ]
  },
  {
   "cell_type": "code",
   "execution_count": 23,
   "metadata": {},
   "outputs": [],
   "source": [
    "g_flattened = list(filter(lambda num: num != 0, flatten(g)))"
   ]
  },
  {
   "cell_type": "code",
   "execution_count": 34,
   "metadata": {},
   "outputs": [],
   "source": [
    "func = sp.lambdify([g_flattened], integration, \"numpy\")"
   ]
  },
  {
   "cell_type": "code",
   "execution_count": 35,
   "metadata": {},
   "outputs": [],
   "source": [
    "g0 = [1, 0, 1, 0, 0, 1]"
   ]
  },
  {
   "cell_type": "code",
   "execution_count": 36,
   "metadata": {},
   "outputs": [
    {
     "data": {
      "text/plain": [
       "(0.21120351629267595-1.1709860345241234e-18j)"
      ]
     },
     "execution_count": 36,
     "metadata": {},
     "output_type": "execute_result"
    }
   ],
   "source": [
    "func(g0)"
   ]
  },
  {
   "cell_type": "code",
   "execution_count": 37,
   "metadata": {},
   "outputs": [],
   "source": [
    "func_real = lambda x: func(x).real"
   ]
  },
  {
   "cell_type": "code",
   "execution_count": 28,
   "metadata": {},
   "outputs": [
    {
     "ename": "TypeError",
     "evalue": "_lambdifygenerated() missing 5 required positional arguments: 'g21', 'g22', 'g31', 'g32', and 'g33'",
     "output_type": "error",
     "traceback": [
      "\u001b[0;31m---------------------------------------------------------------------------\u001b[0m",
      "\u001b[0;31mTypeError\u001b[0m                                 Traceback (most recent call last)",
      "\u001b[0;32m<ipython-input-28-5c0a378c55ab>\u001b[0m in \u001b[0;36m<module>\u001b[0;34m\u001b[0m\n\u001b[0;32m----> 1\u001b[0;31m \u001b[0mfunc_real\u001b[0m\u001b[0;34m(\u001b[0m\u001b[0;34m[\u001b[0m\u001b[0;36m1\u001b[0m\u001b[0;34m,\u001b[0m\u001b[0;36m1\u001b[0m\u001b[0;34m,\u001b[0m\u001b[0;36m1\u001b[0m\u001b[0;34m,\u001b[0m\u001b[0;36m1\u001b[0m\u001b[0;34m,\u001b[0m\u001b[0;36m1\u001b[0m\u001b[0;34m,\u001b[0m\u001b[0;36m1\u001b[0m\u001b[0;34m,\u001b[0m\u001b[0;36m1\u001b[0m\u001b[0;34m,\u001b[0m\u001b[0;36m1\u001b[0m\u001b[0;34m,\u001b[0m\u001b[0;36m2\u001b[0m\u001b[0;34m]\u001b[0m\u001b[0;34m)\u001b[0m\u001b[0;34m\u001b[0m\u001b[0;34m\u001b[0m\u001b[0m\n\u001b[0m",
      "\u001b[0;32m<ipython-input-27-a35dc741a5df>\u001b[0m in \u001b[0;36m<lambda>\u001b[0;34m(x)\u001b[0m\n\u001b[0;32m----> 1\u001b[0;31m \u001b[0mfunc_real\u001b[0m \u001b[0;34m=\u001b[0m \u001b[0;32mlambda\u001b[0m \u001b[0mx\u001b[0m\u001b[0;34m:\u001b[0m \u001b[0mfunc\u001b[0m\u001b[0;34m(\u001b[0m\u001b[0mx\u001b[0m\u001b[0;34m)\u001b[0m\u001b[0;34m.\u001b[0m\u001b[0mreal\u001b[0m\u001b[0;34m\u001b[0m\u001b[0;34m\u001b[0m\u001b[0m\n\u001b[0m",
      "\u001b[0;31mTypeError\u001b[0m: _lambdifygenerated() missing 5 required positional arguments: 'g21', 'g22', 'g31', 'g32', and 'g33'"
     ]
    }
   ],
   "source": [
    "func_real([1,1,1,1,1,1,1,1,2])"
   ]
  },
  {
   "cell_type": "code",
   "execution_count": 38,
   "metadata": {},
   "outputs": [],
   "source": [
    "res = minimize(func_real, g0, method='L-BFGS-B')"
   ]
  },
  {
   "cell_type": "code",
   "execution_count": 39,
   "metadata": {},
   "outputs": [
    {
     "data": {
      "text/plain": [
       "array([1.00528108, 0.02588633, 0.99764498, 0.04304721, 0.03397749,\n",
       "       0.99830312])"
      ]
     },
     "execution_count": 39,
     "metadata": {},
     "output_type": "execute_result"
    }
   ],
   "source": [
    "res.x"
   ]
  },
  {
   "cell_type": "code",
   "execution_count": 40,
   "metadata": {},
   "outputs": [
    {
     "data": {
      "text/plain": [
       "0.20708744385315384"
      ]
     },
     "execution_count": 40,
     "metadata": {},
     "output_type": "execute_result"
    }
   ],
   "source": [
    "func_real([1.00528108, 0.02588633, 0.99764498, 0.04304721, 0.03397749,\n",
    "       0.99830312])"
   ]
  },
  {
   "cell_type": "code",
   "execution_count": null,
   "metadata": {},
   "outputs": [],
   "source": []
  },
  {
   "cell_type": "code",
   "execution_count": 38,
   "metadata": {},
   "outputs": [
    {
     "data": {
      "text/plain": [
       "array([ 1.27373899, -0.61285816, -0.0927348 , -0.11652404, -0.61323981,\n",
       "        1.31371598,  0.61688864,  1.11138581,  0.65820241])"
      ]
     },
     "execution_count": 38,
     "metadata": {},
     "output_type": "execute_result"
    }
   ],
   "source": [
    "g1 = [1,0,0,0,0,1,1,1,1]\n",
    "res = minimize(func_real, g1, method='L-BFGS-B')\n",
    "res.x"
   ]
  },
  {
   "cell_type": "code",
   "execution_count": 39,
   "metadata": {},
   "outputs": [
    {
     "data": {
      "text/plain": [
       "0.22297915221072726"
      ]
     },
     "execution_count": 39,
     "metadata": {},
     "output_type": "execute_result"
    }
   ],
   "source": [
    "func_real([ 1.27373899, -0.61285816, -0.0927348 , -0.11652404, -0.61323981,\n",
    "        1.31371598,  0.61688864,  1.11138581,  0.65820241])"
   ]
  },
  {
   "cell_type": "code",
   "execution_count": 40,
   "metadata": {},
   "outputs": [
    {
     "ename": "ValueError",
     "evalue": "[1.27373899, -0.61285816, -0.0927348] is not an integer",
     "output_type": "error",
     "traceback": [
      "\u001b[0;31m---------------------------------------------------------------------------\u001b[0m",
      "\u001b[0;31mTypeError\u001b[0m                                 Traceback (most recent call last)",
      "\u001b[0;32m/usr/local/lib/python3.7/site-packages/sympy/core/compatibility.py\u001b[0m in \u001b[0;36mas_int\u001b[0;34m(n, strict)\u001b[0m\n\u001b[1;32m    409\u001b[0m         \u001b[0;32mif\u001b[0m \u001b[0mstrict\u001b[0m \u001b[0;32mand\u001b[0m \u001b[0;32mnot\u001b[0m \u001b[0misinstance\u001b[0m\u001b[0;34m(\u001b[0m\u001b[0mn\u001b[0m\u001b[0;34m,\u001b[0m \u001b[0mSYMPY_INTS\u001b[0m \u001b[0;34m+\u001b[0m \u001b[0;34m(\u001b[0m\u001b[0mInteger\u001b[0m\u001b[0;34m,\u001b[0m\u001b[0;34m)\u001b[0m\u001b[0;34m)\u001b[0m\u001b[0;34m:\u001b[0m\u001b[0;34m\u001b[0m\u001b[0;34m\u001b[0m\u001b[0m\n\u001b[0;32m--> 410\u001b[0;31m             \u001b[0;32mraise\u001b[0m \u001b[0mTypeError\u001b[0m\u001b[0;34m\u001b[0m\u001b[0;34m\u001b[0m\u001b[0m\n\u001b[0m\u001b[1;32m    411\u001b[0m         \u001b[0mresult\u001b[0m \u001b[0;34m=\u001b[0m \u001b[0mint\u001b[0m\u001b[0;34m(\u001b[0m\u001b[0mn\u001b[0m\u001b[0;34m)\u001b[0m\u001b[0;34m\u001b[0m\u001b[0;34m\u001b[0m\u001b[0m\n",
      "\u001b[0;31mTypeError\u001b[0m: ",
      "\nDuring handling of the above exception, another exception occurred:\n",
      "\u001b[0;31mValueError\u001b[0m                                Traceback (most recent call last)",
      "\u001b[0;32m<ipython-input-40-cb374574ed6c>\u001b[0m in \u001b[0;36m<module>\u001b[0;34m\u001b[0m\n\u001b[1;32m      1\u001b[0m g = sp.Matrix([1.27373899, -0.61285816, -0.0927348],[-0.11652404, -0.61323981,\n\u001b[0;32m----> 2\u001b[0;31m         1.31371598],[0.61688864,  1.11138581,  0.65820241])\n\u001b[0m",
      "\u001b[0;32m/usr/local/lib/python3.7/site-packages/sympy/matrices/dense.py\u001b[0m in \u001b[0;36m__new__\u001b[0;34m(cls, *args, **kwargs)\u001b[0m\n\u001b[1;32m    431\u001b[0m \u001b[0;32mclass\u001b[0m \u001b[0mMutableDenseMatrix\u001b[0m\u001b[0;34m(\u001b[0m\u001b[0mDenseMatrix\u001b[0m\u001b[0;34m,\u001b[0m \u001b[0mMatrixBase\u001b[0m\u001b[0;34m)\u001b[0m\u001b[0;34m:\u001b[0m\u001b[0;34m\u001b[0m\u001b[0;34m\u001b[0m\u001b[0m\n\u001b[1;32m    432\u001b[0m     \u001b[0;32mdef\u001b[0m \u001b[0m__new__\u001b[0m\u001b[0;34m(\u001b[0m\u001b[0mcls\u001b[0m\u001b[0;34m,\u001b[0m \u001b[0;34m*\u001b[0m\u001b[0margs\u001b[0m\u001b[0;34m,\u001b[0m \u001b[0;34m**\u001b[0m\u001b[0mkwargs\u001b[0m\u001b[0;34m)\u001b[0m\u001b[0;34m:\u001b[0m\u001b[0;34m\u001b[0m\u001b[0;34m\u001b[0m\u001b[0m\n\u001b[0;32m--> 433\u001b[0;31m         \u001b[0;32mreturn\u001b[0m \u001b[0mcls\u001b[0m\u001b[0;34m.\u001b[0m\u001b[0m_new\u001b[0m\u001b[0;34m(\u001b[0m\u001b[0;34m*\u001b[0m\u001b[0margs\u001b[0m\u001b[0;34m,\u001b[0m \u001b[0;34m**\u001b[0m\u001b[0mkwargs\u001b[0m\u001b[0;34m)\u001b[0m\u001b[0;34m\u001b[0m\u001b[0;34m\u001b[0m\u001b[0m\n\u001b[0m\u001b[1;32m    434\u001b[0m \u001b[0;34m\u001b[0m\u001b[0m\n\u001b[1;32m    435\u001b[0m     \u001b[0;34m@\u001b[0m\u001b[0mclassmethod\u001b[0m\u001b[0;34m\u001b[0m\u001b[0;34m\u001b[0m\u001b[0m\n",
      "\u001b[0;32m/usr/local/lib/python3.7/site-packages/sympy/matrices/dense.py\u001b[0m in \u001b[0;36m_new\u001b[0;34m(cls, *args, **kwargs)\u001b[0m\n\u001b[1;32m    443\u001b[0m             \u001b[0mrows\u001b[0m\u001b[0;34m,\u001b[0m \u001b[0mcols\u001b[0m\u001b[0;34m,\u001b[0m \u001b[0mflat_list\u001b[0m \u001b[0;34m=\u001b[0m \u001b[0margs\u001b[0m\u001b[0;34m\u001b[0m\u001b[0;34m\u001b[0m\u001b[0m\n\u001b[1;32m    444\u001b[0m         \u001b[0;32melse\u001b[0m\u001b[0;34m:\u001b[0m\u001b[0;34m\u001b[0m\u001b[0;34m\u001b[0m\u001b[0m\n\u001b[0;32m--> 445\u001b[0;31m             \u001b[0mrows\u001b[0m\u001b[0;34m,\u001b[0m \u001b[0mcols\u001b[0m\u001b[0;34m,\u001b[0m \u001b[0mflat_list\u001b[0m \u001b[0;34m=\u001b[0m \u001b[0mcls\u001b[0m\u001b[0;34m.\u001b[0m\u001b[0m_handle_creation_inputs\u001b[0m\u001b[0;34m(\u001b[0m\u001b[0;34m*\u001b[0m\u001b[0margs\u001b[0m\u001b[0;34m,\u001b[0m \u001b[0;34m**\u001b[0m\u001b[0mkwargs\u001b[0m\u001b[0;34m)\u001b[0m\u001b[0;34m\u001b[0m\u001b[0;34m\u001b[0m\u001b[0m\n\u001b[0m\u001b[1;32m    446\u001b[0m             \u001b[0mflat_list\u001b[0m \u001b[0;34m=\u001b[0m \u001b[0mlist\u001b[0m\u001b[0;34m(\u001b[0m\u001b[0mflat_list\u001b[0m\u001b[0;34m)\u001b[0m \u001b[0;31m# create a shallow copy\u001b[0m\u001b[0;34m\u001b[0m\u001b[0;34m\u001b[0m\u001b[0m\n\u001b[1;32m    447\u001b[0m         \u001b[0mself\u001b[0m \u001b[0;34m=\u001b[0m \u001b[0mobject\u001b[0m\u001b[0;34m.\u001b[0m\u001b[0m__new__\u001b[0m\u001b[0;34m(\u001b[0m\u001b[0mcls\u001b[0m\u001b[0;34m)\u001b[0m\u001b[0;34m\u001b[0m\u001b[0;34m\u001b[0m\u001b[0m\n",
      "\u001b[0;32m/usr/local/lib/python3.7/site-packages/sympy/matrices/matrices.py\u001b[0m in \u001b[0;36m_handle_creation_inputs\u001b[0;34m(cls, *args, **kwargs)\u001b[0m\n\u001b[1;32m   2323\u001b[0m \u001b[0;34m\u001b[0m\u001b[0m\n\u001b[1;32m   2324\u001b[0m         \u001b[0;32melif\u001b[0m \u001b[0mlen\u001b[0m\u001b[0;34m(\u001b[0m\u001b[0margs\u001b[0m\u001b[0;34m)\u001b[0m \u001b[0;34m==\u001b[0m \u001b[0;36m3\u001b[0m\u001b[0;34m:\u001b[0m\u001b[0;34m\u001b[0m\u001b[0;34m\u001b[0m\u001b[0m\n\u001b[0;32m-> 2325\u001b[0;31m             \u001b[0mrows\u001b[0m \u001b[0;34m=\u001b[0m \u001b[0mas_int\u001b[0m\u001b[0;34m(\u001b[0m\u001b[0margs\u001b[0m\u001b[0;34m[\u001b[0m\u001b[0;36m0\u001b[0m\u001b[0;34m]\u001b[0m\u001b[0;34m)\u001b[0m\u001b[0;34m\u001b[0m\u001b[0;34m\u001b[0m\u001b[0m\n\u001b[0m\u001b[1;32m   2326\u001b[0m             \u001b[0mcols\u001b[0m \u001b[0;34m=\u001b[0m \u001b[0mas_int\u001b[0m\u001b[0;34m(\u001b[0m\u001b[0margs\u001b[0m\u001b[0;34m[\u001b[0m\u001b[0;36m1\u001b[0m\u001b[0;34m]\u001b[0m\u001b[0;34m)\u001b[0m\u001b[0;34m\u001b[0m\u001b[0;34m\u001b[0m\u001b[0m\n\u001b[1;32m   2327\u001b[0m \u001b[0;34m\u001b[0m\u001b[0m\n",
      "\u001b[0;32m/usr/local/lib/python3.7/site-packages/sympy/core/compatibility.py\u001b[0m in \u001b[0;36mas_int\u001b[0;34m(n, strict)\u001b[0m\n\u001b[1;32m    414\u001b[0m         \u001b[0;32mreturn\u001b[0m \u001b[0mresult\u001b[0m\u001b[0;34m\u001b[0m\u001b[0;34m\u001b[0m\u001b[0m\n\u001b[1;32m    415\u001b[0m     \u001b[0;32mexcept\u001b[0m \u001b[0mTypeError\u001b[0m\u001b[0;34m:\u001b[0m\u001b[0;34m\u001b[0m\u001b[0;34m\u001b[0m\u001b[0m\n\u001b[0;32m--> 416\u001b[0;31m         \u001b[0;32mraise\u001b[0m \u001b[0mValueError\u001b[0m\u001b[0;34m(\u001b[0m\u001b[0;34m'%s is not an integer'\u001b[0m \u001b[0;34m%\u001b[0m \u001b[0;34m(\u001b[0m\u001b[0mn\u001b[0m\u001b[0;34m,\u001b[0m\u001b[0;34m)\u001b[0m\u001b[0;34m)\u001b[0m\u001b[0;34m\u001b[0m\u001b[0;34m\u001b[0m\u001b[0m\n\u001b[0m\u001b[1;32m    417\u001b[0m \u001b[0;34m\u001b[0m\u001b[0m\n\u001b[1;32m    418\u001b[0m \u001b[0;34m\u001b[0m\u001b[0m\n",
      "\u001b[0;31mValueError\u001b[0m: [1.27373899, -0.61285816, -0.0927348] is not an integer"
     ]
    }
   ],
   "source": [
    "g = sp.Matrix([1.27373899, -0.61285816, -0.0927348],[-0.11652404, -0.61323981,\n",
    "        1.31371598],[0.61688864,  1.11138581,  0.65820241])"
   ]
  },
  {
   "cell_type": "code",
   "execution_count": 41,
   "metadata": {},
   "outputs": [],
   "source": [
    "m = sp.MatrixSymbol('t', 2, 2)\n",
    "m = sp.Matrix(m)\n",
    "#t = np.array(t)"
   ]
  },
  {
   "cell_type": "code",
   "execution_count": 34,
   "metadata": {},
   "outputs": [
    {
     "data": {
      "text/plain": [
       "array([[t[0, 0], t[0, 1]],\n",
       "       [t[1, 0], t[1, 1]]], dtype=object)"
      ]
     },
     "execution_count": 34,
     "metadata": {},
     "output_type": "execute_result"
    }
   ],
   "source": [
    "t"
   ]
  },
  {
   "cell_type": "code",
   "execution_count": 44,
   "metadata": {},
   "outputs": [],
   "source": [
    "f = sp.lambdify(z0, z0*m)"
   ]
  },
  {
   "cell_type": "code",
   "execution_count": 52,
   "metadata": {},
   "outputs": [
    {
     "data": {
      "text/plain": [
       "[1, 0, 0, 1]"
      ]
     },
     "execution_count": 52,
     "metadata": {},
     "output_type": "execute_result"
    }
   ],
   "source": [
    "f(sp.Matrix([[1,0],[0,1]]))"
   ]
  },
  {
   "cell_type": "code",
   "execution_count": 45,
   "metadata": {},
   "outputs": [
    {
     "ename": "TypeError",
     "evalue": "'Symbol' object is not subscriptable",
     "output_type": "error",
     "traceback": [
      "\u001b[0;31m---------------------------------------------------------------------------\u001b[0m",
      "\u001b[0;31mTypeError\u001b[0m                                 Traceback (most recent call last)",
      "\u001b[0;32m<ipython-input-45-281ab0a37d7d>\u001b[0m in \u001b[0;36m<module>\u001b[0;34m\u001b[0m\n\u001b[0;32m----> 1\u001b[0;31m \u001b[0mf\u001b[0m\u001b[0;34m(\u001b[0m\u001b[0;36m1\u001b[0m\u001b[0;34m)\u001b[0m\u001b[0;34m\u001b[0m\u001b[0;34m\u001b[0m\u001b[0m\n\u001b[0m",
      "\u001b[0;32m<lambdifygenerated-18>\u001b[0m in \u001b[0;36m_lambdifygenerated\u001b[0;34m(z0)\u001b[0m\n\u001b[1;32m      1\u001b[0m \u001b[0;32mdef\u001b[0m \u001b[0m_lambdifygenerated\u001b[0m\u001b[0;34m(\u001b[0m\u001b[0mz0\u001b[0m\u001b[0;34m)\u001b[0m\u001b[0;34m:\u001b[0m\u001b[0;34m\u001b[0m\u001b[0;34m\u001b[0m\u001b[0m\n\u001b[0;32m----> 2\u001b[0;31m     \u001b[0;32mreturn\u001b[0m \u001b[0;34m(\u001b[0m\u001b[0marray\u001b[0m\u001b[0;34m(\u001b[0m\u001b[0;34m[\u001b[0m\u001b[0;34m[\u001b[0m\u001b[0mz0\u001b[0m\u001b[0;34m*\u001b[0m\u001b[0mt\u001b[0m\u001b[0;34m[\u001b[0m\u001b[0;36m0\u001b[0m\u001b[0;34m,\u001b[0m \u001b[0;36m0\u001b[0m\u001b[0;34m]\u001b[0m\u001b[0;34m,\u001b[0m \u001b[0mz0\u001b[0m\u001b[0;34m*\u001b[0m\u001b[0mt\u001b[0m\u001b[0;34m[\u001b[0m\u001b[0;36m0\u001b[0m\u001b[0;34m,\u001b[0m \u001b[0;36m1\u001b[0m\u001b[0;34m]\u001b[0m\u001b[0;34m]\u001b[0m\u001b[0;34m,\u001b[0m \u001b[0;34m[\u001b[0m\u001b[0mz0\u001b[0m\u001b[0;34m*\u001b[0m\u001b[0mt\u001b[0m\u001b[0;34m[\u001b[0m\u001b[0;36m1\u001b[0m\u001b[0;34m,\u001b[0m \u001b[0;36m0\u001b[0m\u001b[0;34m]\u001b[0m\u001b[0;34m,\u001b[0m \u001b[0mz0\u001b[0m\u001b[0;34m*\u001b[0m\u001b[0mt\u001b[0m\u001b[0;34m[\u001b[0m\u001b[0;36m1\u001b[0m\u001b[0;34m,\u001b[0m \u001b[0;36m1\u001b[0m\u001b[0;34m]\u001b[0m\u001b[0;34m]\u001b[0m\u001b[0;34m]\u001b[0m\u001b[0;34m)\u001b[0m\u001b[0;34m)\u001b[0m\u001b[0;34m\u001b[0m\u001b[0;34m\u001b[0m\u001b[0m\n\u001b[0m",
      "\u001b[0;31mTypeError\u001b[0m: 'Symbol' object is not subscriptable"
     ]
    }
   ],
   "source": [
    "f(1)"
   ]
  },
  {
   "cell_type": "code",
   "execution_count": 12,
   "metadata": {},
   "outputs": [],
   "source": [
    "t11, t12, t21, t22 = sp.symbols('t11, t12, t21, t22')"
   ]
  },
  {
   "cell_type": "code",
   "execution_count": 13,
   "metadata": {},
   "outputs": [],
   "source": [
    "t = sp.Matrix([[t11, t12],[t21, t22]])"
   ]
  },
  {
   "cell_type": "code",
   "execution_count": 25,
   "metadata": {},
   "outputs": [],
   "source": [
    "f = sp.lambdify(z0, z0*z1*z0+ z0*z2)"
   ]
  },
  {
   "cell_type": "code",
   "execution_count": 28,
   "metadata": {},
   "outputs": [
    {
     "data": {
      "text/latex": [
       "$\\displaystyle z_{1} \\left(2.7794534144 + 4.51472952 i\\right) + z_{1} \\left(-3.262 + 4.820322 i\\right) + z_{2} \\left(2.01012 + 1.123 i\\right) + z_{2} \\left(1.131 + 2.131 i\\right)$"
      ],
      "text/plain": [
       "z1*(2.7794534144 + 4.51472952*I) + z1*(-3.262 + 4.820322*I) + z2*(2.01012 + 1.123*I) + z2*(1.131 + 2.131*I)"
      ]
     },
     "execution_count": 28,
     "metadata": {},
     "output_type": "execute_result"
    }
   ],
   "source": [
    "f(2.01012+1.123j) + f(1.131+2.131j)"
   ]
  },
  {
   "cell_type": "code",
   "execution_count": 44,
   "metadata": {},
   "outputs": [],
   "source": [
    "z0, z1, z2, z3= sp.symbols('z0, z1, z2, z3')\n",
    "Z = [z0,z1,z2,z3]"
   ]
  },
  {
   "cell_type": "code",
   "execution_count": 45,
   "metadata": {},
   "outputs": [],
   "source": [
    "t = sp.symbols('t')\n",
    "GenSec = sp.prod(1/(1-(t*zz)) for zz in Z)"
   ]
  },
  {
   "cell_type": "code",
   "execution_count": 46,
   "metadata": {},
   "outputs": [
    {
     "name": "stdout",
     "output_type": "stream",
     "text": [
      "1/((-t*z0 + 1)*(-t*z1 + 1)*(-t*z2 + 1)*(-t*z3 + 1))\n"
     ]
    }
   ],
   "source": [
    "print(GenSec)"
   ]
  },
  {
   "cell_type": "code",
   "execution_count": 61,
   "metadata": {},
   "outputs": [],
   "source": [
    "Z = [z0,z1,z2,z3]\n",
    "f = z0**4 + z1**4 + z2**4 + z3**4\n",
    "HS = Hypersurface(Z, f, 20)"
   ]
  },
  {
   "cell_type": "code",
   "execution_count": 63,
   "metadata": {},
   "outputs": [
    {
     "data": {
      "text/plain": [
       "(array([z0**10, z0**9*z1, z0**9*z2, z0**9*z3, z0**8*z1**2, z0**8*z1*z2,\n",
       "        z0**8*z1*z3, z0**8*z2**2, z0**8*z2*z3, z0**8*z3**2, z0**7*z1**3,\n",
       "        z0**7*z1**2*z2, z0**7*z1**2*z3, z0**7*z1*z2**2, z0**7*z1*z2*z3,\n",
       "        z0**7*z1*z3**2, z0**7*z2**3, z0**7*z2**2*z3, z0**7*z2*z3**2,\n",
       "        z0**7*z3**3, z0**6*z1**4, z0**6*z1**3*z2, z0**6*z1**3*z3,\n",
       "        z0**6*z1**2*z2**2, z0**6*z1**2*z2*z3, z0**6*z1**2*z3**2,\n",
       "        z0**6*z1*z2**3, z0**6*z1*z2**2*z3, z0**6*z1*z2*z3**2,\n",
       "        z0**6*z1*z3**3, z0**6*z2**4, z0**6*z2**3*z3, z0**6*z2**2*z3**2,\n",
       "        z0**6*z2*z3**3, z0**6*z3**4, z0**5*z1**5, z0**5*z1**4*z2,\n",
       "        z0**5*z1**4*z3, z0**5*z1**3*z2**2, z0**5*z1**3*z2*z3,\n",
       "        z0**5*z1**3*z3**2, z0**5*z1**2*z2**3, z0**5*z1**2*z2**2*z3,\n",
       "        z0**5*z1**2*z2*z3**2, z0**5*z1**2*z3**3, z0**5*z1*z2**4,\n",
       "        z0**5*z1*z2**3*z3, z0**5*z1*z2**2*z3**2, z0**5*z1*z2*z3**3,\n",
       "        z0**5*z1*z3**4, z0**5*z2**5, z0**5*z2**4*z3, z0**5*z2**3*z3**2,\n",
       "        z0**5*z2**2*z3**3, z0**5*z2*z3**4, z0**5*z3**5, z0**4*z1**6,\n",
       "        z0**4*z1**5*z2, z0**4*z1**5*z3, z0**4*z1**4*z2**2,\n",
       "        z0**4*z1**4*z2*z3, z0**4*z1**4*z3**2, z0**4*z1**3*z2**3,\n",
       "        z0**4*z1**3*z2**2*z3, z0**4*z1**3*z2*z3**2, z0**4*z1**3*z3**3,\n",
       "        z0**4*z1**2*z2**4, z0**4*z1**2*z2**3*z3, z0**4*z1**2*z2**2*z3**2,\n",
       "        z0**4*z1**2*z2*z3**3, z0**4*z1**2*z3**4, z0**4*z1*z2**5,\n",
       "        z0**4*z1*z2**4*z3, z0**4*z1*z2**3*z3**2, z0**4*z1*z2**2*z3**3,\n",
       "        z0**4*z1*z2*z3**4, z0**4*z1*z3**5, z0**4*z2**6, z0**4*z2**5*z3,\n",
       "        z0**4*z2**4*z3**2, z0**4*z2**3*z3**3, z0**4*z2**2*z3**4,\n",
       "        z0**4*z2*z3**5, z0**4*z3**6, z0**3*z1**7, z0**3*z1**6*z2,\n",
       "        z0**3*z1**6*z3, z0**3*z1**5*z2**2, z0**3*z1**5*z2*z3,\n",
       "        z0**3*z1**5*z3**2, z0**3*z1**4*z2**3, z0**3*z1**4*z2**2*z3,\n",
       "        z0**3*z1**4*z2*z3**2, z0**3*z1**4*z3**3, z0**3*z1**3*z2**4,\n",
       "        z0**3*z1**3*z2**3*z3, z0**3*z1**3*z2**2*z3**2,\n",
       "        z0**3*z1**3*z2*z3**3, z0**3*z1**3*z3**4, z0**3*z1**2*z2**5,\n",
       "        z0**3*z1**2*z2**4*z3, z0**3*z1**2*z2**3*z3**2,\n",
       "        z0**3*z1**2*z2**2*z3**3, z0**3*z1**2*z2*z3**4, z0**3*z1**2*z3**5,\n",
       "        z0**3*z1*z2**6, z0**3*z1*z2**5*z3, z0**3*z1*z2**4*z3**2,\n",
       "        z0**3*z1*z2**3*z3**3, z0**3*z1*z2**2*z3**4, z0**3*z1*z2*z3**5,\n",
       "        z0**3*z1*z3**6, z0**3*z2**7, z0**3*z2**6*z3, z0**3*z2**5*z3**2,\n",
       "        z0**3*z2**4*z3**3, z0**3*z2**3*z3**4, z0**3*z2**2*z3**5,\n",
       "        z0**3*z2*z3**6, z0**3*z3**7, z0**2*z1**8, z0**2*z1**7*z2,\n",
       "        z0**2*z1**7*z3, z0**2*z1**6*z2**2, z0**2*z1**6*z2*z3,\n",
       "        z0**2*z1**6*z3**2, z0**2*z1**5*z2**3, z0**2*z1**5*z2**2*z3,\n",
       "        z0**2*z1**5*z2*z3**2, z0**2*z1**5*z3**3, z0**2*z1**4*z2**4,\n",
       "        z0**2*z1**4*z2**3*z3, z0**2*z1**4*z2**2*z3**2,\n",
       "        z0**2*z1**4*z2*z3**3, z0**2*z1**4*z3**4, z0**2*z1**3*z2**5,\n",
       "        z0**2*z1**3*z2**4*z3, z0**2*z1**3*z2**3*z3**2,\n",
       "        z0**2*z1**3*z2**2*z3**3, z0**2*z1**3*z2*z3**4, z0**2*z1**3*z3**5,\n",
       "        z0**2*z1**2*z2**6, z0**2*z1**2*z2**5*z3, z0**2*z1**2*z2**4*z3**2,\n",
       "        z0**2*z1**2*z2**3*z3**3, z0**2*z1**2*z2**2*z3**4,\n",
       "        z0**2*z1**2*z2*z3**5, z0**2*z1**2*z3**6, z0**2*z1*z2**7,\n",
       "        z0**2*z1*z2**6*z3, z0**2*z1*z2**5*z3**2, z0**2*z1*z2**4*z3**3,\n",
       "        z0**2*z1*z2**3*z3**4, z0**2*z1*z2**2*z3**5, z0**2*z1*z2*z3**6,\n",
       "        z0**2*z1*z3**7, z0**2*z2**8, z0**2*z2**7*z3, z0**2*z2**6*z3**2,\n",
       "        z0**2*z2**5*z3**3, z0**2*z2**4*z3**4, z0**2*z2**3*z3**5,\n",
       "        z0**2*z2**2*z3**6, z0**2*z2*z3**7, z0**2*z3**8, z0*z1**9,\n",
       "        z0*z1**8*z2, z0*z1**8*z3, z0*z1**7*z2**2, z0*z1**7*z2*z3,\n",
       "        z0*z1**7*z3**2, z0*z1**6*z2**3, z0*z1**6*z2**2*z3,\n",
       "        z0*z1**6*z2*z3**2, z0*z1**6*z3**3, z0*z1**5*z2**4,\n",
       "        z0*z1**5*z2**3*z3, z0*z1**5*z2**2*z3**2, z0*z1**5*z2*z3**3,\n",
       "        z0*z1**5*z3**4, z0*z1**4*z2**5, z0*z1**4*z2**4*z3,\n",
       "        z0*z1**4*z2**3*z3**2, z0*z1**4*z2**2*z3**3, z0*z1**4*z2*z3**4,\n",
       "        z0*z1**4*z3**5, z0*z1**3*z2**6, z0*z1**3*z2**5*z3,\n",
       "        z0*z1**3*z2**4*z3**2, z0*z1**3*z2**3*z3**3, z0*z1**3*z2**2*z3**4,\n",
       "        z0*z1**3*z2*z3**5, z0*z1**3*z3**6, z0*z1**2*z2**7,\n",
       "        z0*z1**2*z2**6*z3, z0*z1**2*z2**5*z3**2, z0*z1**2*z2**4*z3**3,\n",
       "        z0*z1**2*z2**3*z3**4, z0*z1**2*z2**2*z3**5, z0*z1**2*z2*z3**6,\n",
       "        z0*z1**2*z3**7, z0*z1*z2**8, z0*z1*z2**7*z3, z0*z1*z2**6*z3**2,\n",
       "        z0*z1*z2**5*z3**3, z0*z1*z2**4*z3**4, z0*z1*z2**3*z3**5,\n",
       "        z0*z1*z2**2*z3**6, z0*z1*z2*z3**7, z0*z1*z3**8, z0*z2**9,\n",
       "        z0*z2**8*z3, z0*z2**7*z3**2, z0*z2**6*z3**3, z0*z2**5*z3**4,\n",
       "        z0*z2**4*z3**5, z0*z2**3*z3**6, z0*z2**2*z3**7, z0*z2*z3**8,\n",
       "        z0*z3**9, z1**10, z1**9*z2, z1**9*z3, z1**8*z2**2, z1**8*z2*z3,\n",
       "        z1**8*z3**2, z1**7*z2**3, z1**7*z2**2*z3, z1**7*z2*z3**2,\n",
       "        z1**7*z3**3, z1**6*z2**4, z1**6*z2**3*z3, z1**6*z2**2*z3**2,\n",
       "        z1**6*z2*z3**3, z1**6*z3**4, z1**5*z2**5, z1**5*z2**4*z3,\n",
       "        z1**5*z2**3*z3**2, z1**5*z2**2*z3**3, z1**5*z2*z3**4, z1**5*z3**5,\n",
       "        z1**4*z2**6, z1**4*z2**5*z3, z1**4*z2**4*z3**2, z1**4*z2**3*z3**3,\n",
       "        z1**4*z2**2*z3**4, z1**4*z2*z3**5, z1**4*z3**6, z1**3*z2**7,\n",
       "        z1**3*z2**6*z3, z1**3*z2**5*z3**2, z1**3*z2**4*z3**3,\n",
       "        z1**3*z2**3*z3**4, z1**3*z2**2*z3**5, z1**3*z2*z3**6, z1**3*z3**7,\n",
       "        z1**2*z2**8, z1**2*z2**7*z3, z1**2*z2**6*z3**2, z1**2*z2**5*z3**3,\n",
       "        z1**2*z2**4*z3**4, z1**2*z2**3*z3**5, z1**2*z2**2*z3**6,\n",
       "        z1**2*z2*z3**7, z1**2*z3**8, z1*z2**9, z1*z2**8*z3, z1*z2**7*z3**2,\n",
       "        z1*z2**6*z3**3, z1*z2**5*z3**4, z1*z2**4*z3**5, z1*z2**3*z3**6,\n",
       "        z1*z2**2*z3**7, z1*z2*z3**8, z1*z3**9, z2**10, z2**9*z3,\n",
       "        z2**8*z3**2, z2**7*z3**3, z2**6*z3**4, z2**5*z3**5, z2**4*z3**6,\n",
       "        z2**3*z3**7, z2**2*z3**8, z2*z3**9, z3**10], dtype=object), 286)"
      ]
     },
     "execution_count": 63,
     "metadata": {},
     "output_type": "execute_result"
    }
   ],
   "source": [
    "HS.get_sections(10)"
   ]
  },
  {
   "cell_type": "code",
   "execution_count": null,
   "metadata": {},
   "outputs": [],
   "source": []
  },
  {
   "cell_type": "code",
   "execution_count": null,
   "metadata": {},
   "outputs": [],
   "source": []
  }
 ],
 "metadata": {
  "kernelspec": {
   "display_name": "Python 3",
   "language": "python",
   "name": "python3"
  },
  "language_info": {
   "codemirror_mode": {
    "name": "ipython",
    "version": 3
   },
   "file_extension": ".py",
   "mimetype": "text/x-python",
   "name": "python",
   "nbconvert_exporter": "python",
   "pygments_lexer": "ipython3",
   "version": "3.7.7"
  }
 },
 "nbformat": 4,
 "nbformat_minor": 2
}
