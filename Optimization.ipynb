{
 "cells": [
  {
   "cell_type": "code",
   "execution_count": 1,
   "metadata": {},
   "outputs": [],
   "source": [
    "from hypersurface import *\n",
    "import sympy as sp\n",
    "from pprint import pprint\n",
    "from scipy.optimize import minimize\n",
    "from sympy.utilities.iterables import flatten\n",
    "import math"
   ]
  },
  {
   "cell_type": "code",
   "execution_count": 2,
   "metadata": {},
   "outputs": [],
   "source": [
    "z0, z1, z2, z3, z4= sp.symbols('z0, z1, z2, z3, z4')\n",
    "Z = [z0,z1,z2,z3,z4]\n",
    "f = z0**5 + z1**5 + z2**5 + z3**5 + z4**5\n",
    "HS = Hypersurface(Z, f, 1000)"
   ]
  },
  {
   "cell_type": "code",
   "execution_count": 3,
   "metadata": {},
   "outputs": [],
   "source": [
    "HS.set_k(1)\n",
    "ns = HS.n_sections"
   ]
  },
  {
   "cell_type": "code",
   "execution_count": 4,
   "metadata": {},
   "outputs": [],
   "source": [
    "# holomorphic=True by default\n",
    "factor = (HS.integrate(lambda patch, point: patch.omega_omegabar(point), numerical=True) / \\\n",
    "          HS.integrate(lambda patch, point: patch.num_FS_volume_form('identity', point), numerical=True)).real"
   ]
  },
  {
   "cell_type": "markdown",
   "metadata": {},
   "source": [
    "The factor can be a build-in attribute and calculated patchwise. Design a function HS.calculate_factor() and call it before num_eta()"
   ]
  },
  {
   "cell_type": "code",
   "execution_count": 5,
   "metadata": {},
   "outputs": [],
   "source": [
    "def flat_to_matrix(g_flat):\n",
    "    g_real = g_flat[:len(g_flat)//2].reshape(ns, ns)\n",
    "    g_imag = g_flat[len(g_flat)//2:].reshape(ns, ns)\n",
    "    g_matrix = g_real + 1j * g_imag\n",
    "    return g_matrix"
   ]
  },
  {
   "cell_type": "code",
   "execution_count": 6,
   "metadata": {},
   "outputs": [],
   "source": [
    "def integration(g_flat):    \n",
    "    g = flat_to_matrix(g_flat)\n",
    "    h = g*np.conj(g.transpose())\n",
    "    integration = HS.integrate(lambda patch, point, h_matrix=h: \n",
    "                                np.absolute(patch.num_eta(h_matrix, point)*factor - 1).real, \n",
    "                                holomorphic=True, numerical=True)\n",
    "    return integration"
   ]
  },
  {
   "cell_type": "markdown",
   "metadata": {},
   "source": [
    "The first matrix is the real part and second is the imaginary part."
   ]
  },
  {
   "cell_type": "code",
   "execution_count": 47,
   "metadata": {},
   "outputs": [
    {
     "name": "stdout",
     "output_type": "stream",
     "text": [
      "array([[ 0.54893113+0.69624627j,  0.        +0.j        ,\n",
      "         0.        +0.j        ,  0.        +0.j        ,\n",
      "         0.        +0.j        ],\n",
      "       [-0.03685523-0.16643681j,  0.60329633+0.61240102j,\n",
      "         0.        +0.j        ,  0.        +0.j        ,\n",
      "         0.        +0.j        ],\n",
      "       [-0.02809236-0.00604751j, -0.10880818-0.04515878j,\n",
      "         0.58724089+0.59924057j,  0.        +0.j        ,\n",
      "         0.        +0.j        ],\n",
      "       [-0.02169798-0.10577065j, -0.09381794-0.16279239j,\n",
      "        -0.05255769-0.12593752j,  0.59494558+0.64994527j,\n",
      "         0.        +0.j        ],\n",
      "       [-0.0367801 -0.15881992j, -0.12220197-0.04313179j,\n",
      "        -0.15869268-0.06818117j, -0.14387829-0.03627877j,\n",
      "         0.54902259+0.66683871j]])\n"
     ]
    }
   ],
   "source": [
    "#g0 = np.concatenate((np.ones(ns**2), np.ones(ns**2)),axis=None)*math.sqrt(1/2)\n",
    "g0 = np.concatenate((np.identity(ns), np.identity(ns)), axis=None)*math.sqrt(1/2)\n",
    "noise_real = np.tril((2 * np.random.rand(ns,ns) - 1) - 1)\n",
    "noise_imag = np.tril((2 * np.random.rand(ns,ns) - 1) - 1)\n",
    "noise = np.concatenate((noise_real, noise_imag), axis=None)*0.1\n",
    "g0 = g0 + noise"
   ]
  },
  {
   "cell_type": "code",
   "execution_count": 34,
   "metadata": {},
   "outputs": [],
   "source": [
    "res = minimize(integration, g0, method='L-BFGS-B')"
   ]
  },
  {
   "cell_type": "code",
   "execution_count": 35,
   "metadata": {},
   "outputs": [],
   "source": [
    "g_minimal = res.x"
   ]
  },
  {
   "cell_type": "code",
   "execution_count": 36,
   "metadata": {},
   "outputs": [],
   "source": [
    "g = flat_to_matrix(g_minimal)\n",
    "h_minimal = g*np.conj(g.transpose())"
   ]
  },
  {
   "cell_type": "code",
   "execution_count": 23,
   "metadata": {},
   "outputs": [
    {
     "data": {
      "text/plain": [
       "(0.4726107430536371+1.6481306624358407e-19j)"
      ]
     },
     "execution_count": 23,
     "metadata": {},
     "output_type": "execute_result"
    }
   ],
   "source": [
    "HS.integrate(lambda patch, point, h_matrix='identity': \n",
    "                np.absolute(patch.num_eta(h_matrix, point)*factor - 1), \n",
    "                holomorphic=True, numerical=True)"
   ]
  },
  {
   "cell_type": "code",
   "execution_count": 37,
   "metadata": {},
   "outputs": [
    {
     "data": {
      "text/plain": [
       "(0.44627994656202785+6.11104552754623e-20j)"
      ]
     },
     "execution_count": 37,
     "metadata": {},
     "output_type": "execute_result"
    }
   ],
   "source": [
    "HS.integrate(lambda patch, point, h_matrix=h_minimal: \n",
    "                np.absolute(patch.num_eta(h_matrix, point)*factor - 1), \n",
    "                holomorphic=True, numerical=True)"
   ]
  },
  {
   "cell_type": "code",
   "execution_count": 39,
   "metadata": {},
   "outputs": [
    {
     "name": "stdout",
     "output_type": "stream",
     "text": [
      "array([[ 0.93629413+0.j        , -0.00593158-0.00357687j,\n",
      "        -0.01996295+0.02215865j, -0.02342705+0.02850052j,\n",
      "        -0.09516071+0.0408923j ],\n",
      "       [-0.00593158+0.00357687j,  0.90208932+0.j        ,\n",
      "         0.04769967+0.0649709j ,  0.07642622+0.03263009j,\n",
      "         0.04159054+0.02337678j],\n",
      "       [-0.01996295-0.02215865j,  0.04769967-0.0649709j ,\n",
      "         0.94741492+0.j        , -0.0239642 +0.01144173j,\n",
      "         0.01833808-0.02746173j],\n",
      "       [-0.02342705-0.02850052j,  0.07642622-0.03263009j,\n",
      "        -0.0239642 -0.01144173j,  1.00479369+0.j        ,\n",
      "         0.02995708-0.01302054j],\n",
      "       [-0.09516071-0.0408923j ,  0.04159054-0.02337678j,\n",
      "         0.01833808+0.02746173j,  0.02995708+0.01302054j,\n",
      "         0.95921871+0.j        ]])\n"
     ]
    }
   ],
   "source": [
    "print(h_minimal)"
   ]
  },
  {
   "cell_type": "code",
   "execution_count": 41,
   "metadata": {},
   "outputs": [],
   "source": [
    "import matplotlib.pyplot as plt\n",
    "from mpl_toolkits.mplot3d import Axes3D"
   ]
  },
  {
   "cell_type": "code",
   "execution_count": 43,
   "metadata": {},
   "outputs": [
    {
     "data": {
      "image/png": "[encoded data removed]",
      "text/plain": [
       "<Figure size 432x288 with 1 Axes>"
      ]
     },
     "metadata": {
      "needs_background": "light"
     },
     "output_type": "display_data"
    }
   ],
   "source": [
    "patch = HS.patches[0].patches[0]\n",
    "theta, phi = np.linspace(0.0001,np.pi+0.0001, 40), np.linspace(0.0001, 2*np.pi+0.0001, 40)\n",
    "R = []\n",
    "for j in phi:\n",
    "    theta_list = []\n",
    "    for i in theta:\n",
    "        t = complex(math.sin(i)*math.sin(j), math.cos(i))/(sin(i)*cos(j)) \n",
    "        if np.absolute(t) <= 1:\n",
    "            eta = patch.num_eta(h_minimal, [1, -1, t, 0, -t])\n",
    "        else:\n",
    "            eta = patch.num_eta(h_minimal,[1, -1, 1/t, 0, -1/t])\n",
    "        theta_list.append(eta)\n",
    "    R.append(theta_list)\n",
    "R = np.asarray(R)\n",
    "THETA, PHI = np.meshgrid(theta, phi)\n",
    "X = R * np.sin(THETA) * np.cos(PHI)\n",
    "Y = R * np.sin(THETA) * np.sin(PHI)\n",
    "Z = R * np.cos(THETA)\n",
    "fig = plt.figure()\n",
    "ax = fig.add_subplot(1,1,1, projection='3d')\n",
    "plot = ax.plot_surface(\n",
    "    X, Y, Z, rstride=1, cstride=1, cmap=plt.cm.YlGnBu_r,\n",
    "    linewidth=0, antialiased=False)"
   ]
  },
  {
   "cell_type": "code",
   "execution_count": null,
   "metadata": {},
   "outputs": [],
   "source": []
  }
 ],
 "metadata": {
  "kernelspec": {
   "display_name": "Python 3",
   "language": "python",
   "name": "python3"
  },
  "language_info": {
   "codemirror_mode": {
    "name": "ipython",
    "version": 3
   },
   "file_extension": ".py",
   "mimetype": "text/x-python",
   "name": "python",
   "nbconvert_exporter": "python",
   "pygments_lexer": "ipython3",
   "version": "3.7.3"
  }
 },
 "nbformat": 4,
 "nbformat_minor": 2
}
