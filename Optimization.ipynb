{
 "cells": [
  {
   "cell_type": "code",
   "execution_count": 1,
   "metadata": {},
   "outputs": [],
   "source": [
    "from hypersurface import *\n",
    "import sympy as sp\n",
    "from pprint import pprint\n",
    "from scipy.optimize import minimize\n",
    "from sympy.utilities.iterables import flatten\n",
    "import math\n",
    "import matplotlib.pyplot as plt\n",
    "from mpl_toolkits.mplot3d import Axes3D"
   ]
  },
  {
   "cell_type": "code",
   "execution_count": 2,
   "metadata": {},
   "outputs": [],
   "source": [
    "z0, z1, z2, z3, z4= sp.symbols('z0, z1, z2, z3, z4')\n",
    "Z = [z0,z1,z2,z3,z4]\n",
    "f = z0**5 + z1**5 + z2**5 + z3**5 + z4**5 + 0.5*z0*z1*z2*z3*z4\n",
    "HS = Hypersurface(Z, f, 1000)"
   ]
  },
  {
   "cell_type": "code",
   "execution_count": 3,
   "metadata": {},
   "outputs": [],
   "source": [
    "k = 2\n",
    "HS.set_k(k)"
   ]
  },
  {
   "cell_type": "markdown",
   "metadata": {},
   "source": [
    "Normalization factor of eta"
   ]
  },
  {
   "cell_type": "code",
   "execution_count": 4,
   "metadata": {},
   "outputs": [],
   "source": [
    "# holomorphic=True by default\n",
    "factor = (HS.integrate(lambda patch, point: patch.omega_omegabar(point), numerical=True) / \\\n",
    "          HS.integrate(lambda patch, point: patch.num_FS_volume_form('identity', point), numerical=True))"
   ]
  },
  {
   "cell_type": "code",
   "execution_count": 5,
   "metadata": {},
   "outputs": [],
   "source": [
    "def get_h_diag(HS, k):\n",
    "    # Get the power of the coordiantes\n",
    "    sec, ns = HS.get_sections(k)\n",
    "    h_diag = []\n",
    "    for expr in sec:\n",
    "        power = []\n",
    "        for i in range(len(Z)):\n",
    "            power.append(expr.diff(Z[i])*Z[i]/expr)\n",
    "        h_diag.append(power)\n",
    "\n",
    "    # Permutate and compare the coordinates\n",
    "    param = 1\n",
    "    for i in range(len(h_diag)):\n",
    "        if not isinstance(h_diag[i], list):\n",
    "            continue\n",
    "        power = sorted(h_diag[i])\n",
    "        for j in range(i, len(h_diag)):\n",
    "            if not isinstance(h_diag[j], list):\n",
    "                continue\n",
    "            if sorted(h_diag[j]) == power:\n",
    "                h_diag[j] = param\n",
    "        param += 1\n",
    "\n",
    "    return h_diag"
   ]
  },
  {
   "cell_type": "code",
   "execution_count": 6,
   "metadata": {},
   "outputs": [],
   "source": [
    "h_sym = get_h_diag(HS, k)"
   ]
  },
  {
   "cell_type": "markdown",
   "metadata": {},
   "source": [
    "Reconstruct h matrix from the parameters"
   ]
  },
  {
   "cell_type": "code",
   "execution_count": 7,
   "metadata": {},
   "outputs": [],
   "source": [
    "def param_to_matrix(param):\n",
    "    h_diag = h_sym.copy()\n",
    "    for i in range(len(param)):\n",
    "        for j in range(len(h_diag)):\n",
    "            if h_sym[j] == i+2:\n",
    "                h_diag[j] = param[i]\n",
    "    h = np.diag(h_diag)  \n",
    "    return h"
   ]
  },
  {
   "cell_type": "code",
   "execution_count": 8,
   "metadata": {},
   "outputs": [],
   "source": [
    "def integration(param): \n",
    "    h = param_to_matrix(param)\n",
    "    #h = np.matmul(g, np.conj(g.transpose()))\n",
    "    integration = HS.patches[0].integrate(lambda patch, point, h_matrix=h: \n",
    "                                np.absolute(patch.num_eta(h_matrix, point)*factor - 1).real, \n",
    "                                holomorphic=False, numerical=True)\n",
    "    integration = integration.real\n",
    "    print(integration)\n",
    "    print(param)\n",
    "    try:\n",
    "        np.linalg.cholesky(h)\n",
    "    except:\n",
    "        print(\"Not positive definite\")\n",
    "    return integration"
   ]
  },
  {
   "cell_type": "markdown",
   "metadata": {},
   "source": [
    "Set an initial condition"
   ]
  },
  {
   "cell_type": "code",
   "execution_count": 9,
   "metadata": {},
   "outputs": [],
   "source": [
    "g0 = 3*np.ones(max(h_sym) - 1)"
   ]
  },
  {
   "cell_type": "code",
   "execution_count": 10,
   "metadata": {
    "scrolled": true
   },
   "outputs": [
    {
     "name": "stdout",
     "output_type": "stream",
     "text": [
      "0.9096518472504083\n",
      "[3.]\n",
      "0.9096518486238941\n",
      "[3.00000001]\n",
      "0.7349896168761934\n",
      "[2.]\n",
      "0.7349896190897798\n",
      "[2.00000001]\n",
      "1.896557865119289\n",
      "[-2.]\n",
      "Not positive definite\n",
      "1.8965576726379914\n",
      "[-1.99999999]\n",
      "Not positive definite\n",
      "0.36970621653317115\n",
      "[0.25887843]\n",
      "0.3697062073442662\n",
      "[0.25887844]\n",
      "0.6530910875687687\n",
      "[1.6619929]\n",
      "0.6530910902347267\n",
      "[1.66199291]\n",
      "0.279596687299149\n",
      "[0.62421056]\n",
      "0.27959669121057795\n",
      "[0.62421057]\n",
      "0.25131801833776\n",
      "[0.50890692]\n",
      "0.25131801885762173\n",
      "[0.50890693]\n",
      "123538517.83248468\n",
      "[-1.00818216]\n",
      "Not positive definite\n",
      "123540832.14466809\n",
      "[-1.00818215]\n",
      "Not positive definite\n",
      "0.2513180183377512\n",
      "[0.50890692]\n",
      "0.2513180188576129\n",
      "[0.50890693]\n",
      "0.2513180183377425\n",
      "[0.50890692]\n",
      "0.2513180188576041\n",
      "[0.50890693]\n",
      "1.819923943103013\n",
      "[-0.24963762]\n",
      "Not positive definite\n",
      "1.8199238547922731\n",
      "[-0.24963761]\n",
      "Not positive definite\n",
      "0.2917417277315072\n",
      "[0.36304567]\n",
      "0.2917417219397657\n",
      "[0.36304568]\n",
      "0.2509943018490581\n",
      "[0.49817322]\n",
      "0.25099430198030137\n",
      "[0.49817323]\n",
      "0.2509828056664023\n",
      "[0.49454826]\n",
      "0.2509828055989312\n",
      "[0.49454827]\n",
      "0.2509778302450917\n",
      "[0.49577907]\n",
      "0.25097783026978654\n",
      "[0.49577908]\n",
      "0.2509772981065618\n",
      "[0.49544929]\n",
      "0.2509772980842917\n",
      "[0.4954493]\n",
      "0.25097739825253346\n",
      "[0.49560567]\n",
      "0.2509773982776633\n",
      "[0.49560568]\n",
      "0.2509771826694677\n",
      "[0.49550097]\n",
      "0.2509771826470677\n",
      "[0.49550098]\n",
      "0.2509771747972814\n",
      "[0.49551714]\n",
      "0.2509771748226333\n",
      "[0.49551715]\n",
      "0.2509771747972814\n",
      "[0.49551714]\n",
      "0.2509771748226333\n",
      "[0.49551715]\n"
     ]
    }
   ],
   "source": [
    "#res = minimize(integration, g0, method='L-BFGS-B', options={'iprint':1, 'ftol': 1e-04, 'eps': 1e-02, 'maxiter':20})\n",
    "res = minimize(integration, g0, method='L-BFGS-B', options={'ftol': 1e-06, 'maxiter':200})"
   ]
  },
  {
   "cell_type": "code",
   "execution_count": 11,
   "metadata": {},
   "outputs": [],
   "source": [
    "h_minimal = param_to_matrix(res.x)"
   ]
  },
  {
   "cell_type": "code",
   "execution_count": 12,
   "metadata": {
    "scrolled": true
   },
   "outputs": [
    {
     "name": "stdout",
     "output_type": "stream",
     "text": [
      "[[1.         0.         0.         0.         0.         0.\n",
      "  0.         0.         0.         0.         0.         0.\n",
      "  0.         0.         0.        ]\n",
      " [0.         0.49551714 0.         0.         0.         0.\n",
      "  0.         0.         0.         0.         0.         0.\n",
      "  0.         0.         0.        ]\n",
      " [0.         0.         0.49551714 0.         0.         0.\n",
      "  0.         0.         0.         0.         0.         0.\n",
      "  0.         0.         0.        ]\n",
      " [0.         0.         0.         0.49551714 0.         0.\n",
      "  0.         0.         0.         0.         0.         0.\n",
      "  0.         0.         0.        ]\n",
      " [0.         0.         0.         0.         0.49551714 0.\n",
      "  0.         0.         0.         0.         0.         0.\n",
      "  0.         0.         0.        ]\n",
      " [0.         0.         0.         0.         0.         1.\n",
      "  0.         0.         0.         0.         0.         0.\n",
      "  0.         0.         0.        ]\n",
      " [0.         0.         0.         0.         0.         0.\n",
      "  0.49551714 0.         0.         0.         0.         0.\n",
      "  0.         0.         0.        ]\n",
      " [0.         0.         0.         0.         0.         0.\n",
      "  0.         0.49551714 0.         0.         0.         0.\n",
      "  0.         0.         0.        ]\n",
      " [0.         0.         0.         0.         0.         0.\n",
      "  0.         0.         0.49551714 0.         0.         0.\n",
      "  0.         0.         0.        ]\n",
      " [0.         0.         0.         0.         0.         0.\n",
      "  0.         0.         0.         1.         0.         0.\n",
      "  0.         0.         0.        ]\n",
      " [0.         0.         0.         0.         0.         0.\n",
      "  0.         0.         0.         0.         0.49551714 0.\n",
      "  0.         0.         0.        ]\n",
      " [0.         0.         0.         0.         0.         0.\n",
      "  0.         0.         0.         0.         0.         0.49551714\n",
      "  0.         0.         0.        ]\n",
      " [0.         0.         0.         0.         0.         0.\n",
      "  0.         0.         0.         0.         0.         0.\n",
      "  1.         0.         0.        ]\n",
      " [0.         0.         0.         0.         0.         0.\n",
      "  0.         0.         0.         0.         0.         0.\n",
      "  0.         0.49551714 0.        ]\n",
      " [0.         0.         0.         0.         0.         0.\n",
      "  0.         0.         0.         0.         0.         0.\n",
      "  0.         0.         1.        ]]\n"
     ]
    }
   ],
   "source": [
    "print(h_minimal)"
   ]
  },
  {
   "cell_type": "code",
   "execution_count": 13,
   "metadata": {},
   "outputs": [
    {
     "data": {
      "image/png": "[encoded data removed]",
      "text/plain": [
       "<Figure size 432x288 with 1 Axes>"
      ]
     },
     "metadata": {
      "needs_background": "light"
     },
     "output_type": "display_data"
    }
   ],
   "source": [
    "#param = [0.5, 0.5, 0.5, 0.5]\n",
    "#h_minimal = param_to_matrix(param)\n",
    "patch = HS.patches[0].patches[0]\n",
    "theta, phi = np.linspace(0.001,np.pi+0.001, 40), np.linspace(0.001, 2*np.pi+0.001, 40)\n",
    "R = []\n",
    "for j in phi:\n",
    "    theta_list = []\n",
    "    for i in theta:\n",
    "        t = complex(math.sin(i)*math.sin(j), math.cos(i))/(sin(i)*cos(j)) \n",
    "        if np.absolute(t) <= 1:\n",
    "            eta = patch.num_eta(h_minimal, [1, -1, complex(t), 0, -complex(t)])*factor\n",
    "        else:\n",
    "            eta = patch.num_eta(h_minimal, [1, -1, complex(1/t), 0, -complex(1/t)])*factor\n",
    "        theta_list.append(float(eta))\n",
    "    R.append(theta_list)\n",
    "R = np.asarray(R)\n",
    "THETA, PHI = np.meshgrid(theta, phi)\n",
    "X = R * np.sin(THETA) * np.cos(PHI)\n",
    "Y = R * np.sin(THETA) * np.sin(PHI)\n",
    "ZZ = R * np.cos(THETA)\n",
    "fig = plt.figure()\n",
    "ax = fig.add_subplot(1,1,1, projection='3d')\n",
    "plot = ax.plot_surface(\n",
    "    X, Y, ZZ, rstride=1, cstride=1, cmap=plt.cm.YlGnBu_r,\n",
    "    linewidth=0, antialiased=False)"
   ]
  },
  {
   "cell_type": "markdown",
   "metadata": {},
   "source": [
    "Standard deviation of eta:"
   ]
  },
  {
   "cell_type": "code",
   "execution_count": 18,
   "metadata": {},
   "outputs": [
    {
     "name": "stdout",
     "output_type": "stream",
     "text": [
      "0.3530462716612851\n"
     ]
    }
   ],
   "source": [
    "sum_eta = 0\n",
    "for patch in HS.patches:\n",
    "    for subpatch in patch.patches:\n",
    "        for point in subpatch.points:\n",
    "            #print(subpatch.num_eta(h_minimal, point)*factor - 1)\n",
    "            sum_eta += (subpatch.num_eta(h_minimal, point)*factor - 1)**2\n",
    "print(math.sqrt(sum_eta/(HS.n_points - 1)))"
   ]
  },
  {
   "cell_type": "code",
   "execution_count": null,
   "metadata": {},
   "outputs": [],
   "source": []
  }
 ],
 "metadata": {
  "kernelspec": {
   "display_name": "Python 3",
   "language": "python",
   "name": "python3"
  },
  "language_info": {
   "codemirror_mode": {
    "name": "ipython",
    "version": 3
   },
   "file_extension": ".py",
   "mimetype": "text/x-python",
   "name": "python",
   "nbconvert_exporter": "python",
   "pygments_lexer": "ipython3",
   "version": "3.7.7"
  }
 },
 "nbformat": 4,
 "nbformat_minor": 2
}
