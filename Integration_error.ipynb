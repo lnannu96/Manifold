{
 "cells": [
  {
   "cell_type": "code",
   "execution_count": 25,
   "metadata": {},
   "outputs": [],
   "source": [
    "from hypersurface import *\n",
    "import sympy as sp\n",
    "from pprint import pprint\n",
    "#import multiprocessing\n",
    "from multiprocessing import Process, Manager\n",
    "import math\n",
    "import matplotlib.pyplot as plt\n",
    "from scipy.optimize import curve_fit"
   ]
  },
  {
   "cell_type": "code",
   "execution_count": 2,
   "metadata": {},
   "outputs": [
    {
     "name": "stdout",
     "output_type": "stream",
     "text": [
      "[[0.68753683 0.19811952 0.19035478 0.00680075]\n",
      " [0.19811952 0.30177955 0.07690458 0.3089342 ]\n",
      " [0.19035478 0.07690458 0.93047206 0.17678066]\n",
      " [0.00680075 0.3089342  0.17678066 0.89606   ]]\n"
     ]
    }
   ],
   "source": [
    "ns = 4\n",
    "k = 1\n",
    "H = np.identity(ns, dtype=int)\n",
    "H_rand_pd = np.zeros((ns,ns))\n",
    "while not np.all(np.linalg.eigvals(H_rand_pd) > 0):\n",
    "    H_rand = np.random.rand(ns, ns)\n",
    "    H_rand_pd = H_rand*H_rand.transpose()\n",
    "print(H_rand_pd)"
   ]
  },
  {
   "cell_type": "code",
   "execution_count": 3,
   "metadata": {
    "scrolled": true
   },
   "outputs": [],
   "source": [
    "z0, z1, z2, z3 = sp.symbols('z0, z1, z2, z3')\n",
    "Z = [z0,z1,z2,z3]\n",
    "f = z0**4 + z1**4 + z2**4 + z3**4\n",
    "N = 100\n",
    "integral_list = []\n",
    "stdv_list = []"
   ]
  },
  {
   "cell_type": "code",
   "execution_count": 4,
   "metadata": {},
   "outputs": [],
   "source": [
    "def integration(N, integral_list, seed=None):\n",
    "    # Use a different seed\n",
    "    np.random.seed(seed)\n",
    "    HS = Hypersurface(Z, f, N)\n",
    "    summation = 0\n",
    "    for patch in HS.patches:\n",
    "        for subpatch in patch.patches:\n",
    "            sub_integral = subpatch.integrate(subpatch.get_FS_volume_form(H_rand_pd, k)/subpatch.get_FS_volume_form(H, k))\n",
    "            summation += sub_integral\n",
    "    integral = summation/HS.n_points\n",
    "    #print(integral)\n",
    "    integral_list.append(integral.real)"
   ]
  },
  {
   "cell_type": "code",
   "execution_count": 5,
   "metadata": {
    "scrolled": false
   },
   "outputs": [],
   "source": [
    "#pool = multiprocessing.Pool()\n",
    "#res  = pool.map(integration, range(4))"
   ]
  },
  {
   "cell_type": "code",
   "execution_count": 5,
   "metadata": {},
   "outputs": [],
   "source": [
    "def stdv(list):\n",
    "    sum = 0\n",
    "    for item in list:\n",
    "        sum += (item - 1)**2\n",
    "    stdv = math.sqrt(sum / len(list))\n",
    "    return stdv"
   ]
  },
  {
   "cell_type": "code",
   "execution_count": 6,
   "metadata": {
    "scrolled": true
   },
   "outputs": [
    {
     "name": "stdout",
     "output_type": "stream",
     "text": [
      "0.07687704636222145\n",
      "0.051919407533924364\n",
      "0.050437571827529365\n",
      "0.03117396465364479\n",
      "0.03331276368662513\n",
      "0.03488963542149888\n",
      "0.027170269838774574\n",
      "0.020637798058431373\n",
      "0.02719492341512214\n",
      "0.024485326182554567\n"
     ]
    }
   ],
   "source": [
    "for N in range(100, 1100, 100):\n",
    "    with Manager() as manager:\n",
    "        integral_list = manager.list()  # <-- can be shared between processes.\n",
    "        processes = []\n",
    "        for i in range(50):\n",
    "            p = Process(target=integration, args=(N, integral_list, N+i))  # Passing the list\n",
    "            p.start()\n",
    "            processes.append(p)\n",
    "        for p in processes:\n",
    "            p.join()\n",
    "        #print(integral_list)\n",
    "        integral_list = list(integral_list)\n",
    "\n",
    "    int_stdv = stdv(integral_list)\n",
    "    print(int_stdv)\n",
    "    stdv_list.append(int_stdv)"
   ]
  },
  {
   "cell_type": "code",
   "execution_count": 9,
   "metadata": {},
   "outputs": [],
   "source": [
    "def func_power(x, a, b):\n",
    "    return a * x**b"
   ]
  },
  {
   "cell_type": "code",
   "execution_count": 27,
   "metadata": {},
   "outputs": [
    {
     "data": {
      "text/plain": [
       "<matplotlib.legend.Legend at 0x7f7c452368d0>"
      ]
     },
     "execution_count": 27,
     "metadata": {},
     "output_type": "execute_result"
    },
    {
     "data": {
      "image/png": "[encoded data removed]",
      "text/plain": [
       "<Figure size 432x288 with 1 Axes>"
      ]
     },
     "metadata": {
      "needs_background": "light"
     },
     "output_type": "display_data"
    }
   ],
   "source": [
    "xdata = np.linspace(100, 1000, 10)\n",
    "ydata = np.array(stdv_list)\n",
    "plt.plot(xdata, ydata, \"o\", label='data')\n",
    "popt, pcov = curve_fit(func_power, xdata, ydata)\n",
    "plt.plot(xdata, func_power(xdata, *popt), 'r-', label='fit: a=%5.3f, b=%5.3f' % tuple(popt))\n",
    "plt.legend()"
   ]
  },
  {
   "cell_type": "code",
   "execution_count": null,
   "metadata": {},
   "outputs": [],
   "source": []
  }
 ],
 "metadata": {
  "kernelspec": {
   "display_name": "Python 3",
   "language": "python",
   "name": "python3"
  },
  "language_info": {
   "codemirror_mode": {
    "name": "ipython",
    "version": 3
   },
   "file_extension": ".py",
   "mimetype": "text/x-python",
   "name": "python",
   "nbconvert_exporter": "python",
   "pygments_lexer": "ipython3",
   "version": "3.7.0"
  }
 },
 "nbformat": 4,
 "nbformat_minor": 2
}
