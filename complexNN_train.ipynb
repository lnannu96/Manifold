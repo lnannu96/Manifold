{
 "cells": [
  {
   "cell_type": "code",
   "execution_count": 1,
   "metadata": {},
   "outputs": [],
   "source": [
    "from hypersurface_tf import *\n",
    "from generate_h import *\n",
    "from complexNN import *\n",
    "import tensorflow as tf"
   ]
  },
  {
   "cell_type": "markdown",
   "metadata": {},
   "source": [
    "### Prepare the dataset:"
   ]
  },
  {
   "cell_type": "code",
   "execution_count": 2,
   "metadata": {},
   "outputs": [],
   "source": [
    "z0, z1, z2, z3, z4 = sp.symbols('z0, z1, z2, z3, z4')\n",
    "Z = [z0,z1,z2,z3,z4]\n",
    "f = z0**5 + z1**5 + z2**5 + z3**5 + z4**5 + 0.5*z0*z1*z2*z3*z4\n",
    "HS = Hypersurface(Z, f, 1000)"
   ]
  },
  {
   "cell_type": "code",
   "execution_count": 3,
   "metadata": {},
   "outputs": [],
   "source": [
    "HS.set_k(2)"
   ]
  },
  {
   "cell_type": "code",
   "execution_count": 4,
   "metadata": {},
   "outputs": [],
   "source": [
    "patch = HS.patches[0].patches[0]"
   ]
  },
  {
   "cell_type": "code",
   "execution_count": 5,
   "metadata": {},
   "outputs": [],
   "source": [
    "dataset = generate_dataset(patch)"
   ]
  },
  {
   "cell_type": "code",
   "execution_count": 6,
   "metadata": {},
   "outputs": [],
   "source": [
    "dataset = dataset.batch(200)"
   ]
  },
  {
   "cell_type": "markdown",
   "metadata": {},
   "source": [
    "### Build the model:"
   ]
  },
  {
   "cell_type": "code",
   "execution_count": 84,
   "metadata": {},
   "outputs": [],
   "source": [
    "class KahlerPotential(tf.keras.Model):\n",
    "\n",
    "    def __init__(self):\n",
    "        super(KahlerMetric, self).__init__()\n",
    "        self.layer_1 = ComplexDense(5, 30, activation=tf.square)\n",
    "        self.layer_2 = ComplexDense(30, 10, activation=tf.square)\n",
    "        self.g = ComplexDense(10, 10)\n",
    "        \n",
    "    def call(self, inputs):\n",
    "       # with tf.GradientTape(watch_accessed_variables=False, persistent=True) as t:\n",
    "       #     t.watch(inputs)\n",
    "\n",
    "        x = self.layer_1(inputs)\n",
    "        x = self.layer_2(x)\n",
    "        x = self.g(x)\n",
    "        x = tf.linalg.diag_part(tf.matmul(x, x, adjoint_b=True))\n",
    "        x = tf.math.log(x)\n",
    "        #kahler_metric = complex_hessians(tf.math.real(x), inputs)\n",
    "        return x"
   ]
  },
  {
   "cell_type": "code",
   "execution_count": 70,
   "metadata": {},
   "outputs": [],
   "source": [
    "model = KahlerPotential()"
   ]
  },
  {
   "cell_type": "code",
   "execution_count": 106,
   "metadata": {},
   "outputs": [],
   "source": [
    "@tf.function\n",
    "def volume_form(x, restriction):\n",
    "    kahler_metric = tf.reduce_sum(complex_hessians(tf.math.real(model(x)), x), axis=3)[0]\n",
    "    volume_form = tf.linalg.det(tf.matmul(restriction, tf.matmul(kahler_metric, restriction, adjoint_b=True)))\n",
    "    return volume_form"
   ]
  },
  {
   "cell_type": "code",
   "execution_count": 107,
   "metadata": {},
   "outputs": [
    {
     "name": "stdout",
     "output_type": "stream",
     "text": [
      "2.3155465126037598\n"
     ]
    }
   ],
   "source": [
    "start_time = time.time()\n",
    "for step, (x_batch_train, y_batch_train, restriction) in enumerate(dataset):\n",
    "    a = volume_form(x_batch_train, restriction)\n",
    "    \n",
    "print(time.time() - start_time)\n",
    "        #kahler_metric = model(x_batch_train)\n",
    "        #print(kahler_metric)\n",
    "        #volume_form = tf.matmul(patch.r_tf, tf.matmul(kahler_metric, patch.r_tf, adjoint_b=True))"
   ]
  },
  {
   "cell_type": "code",
   "execution_count": 108,
   "metadata": {},
   "outputs": [
    {
     "data": {
      "text/plain": [
       "<tf.Tensor: shape=(78,), dtype=complex64, numpy=\n",
       "array([1.92081884e-01-1.94594364e-07j, 6.12835944e-01+2.14437065e-07j,\n",
       "       4.31225671e-05-1.70882947e-10j, 8.04232713e-03-5.00550756e-09j,\n",
       "       2.56405654e-03-1.33626155e-09j, 6.91423076e-04-2.28844287e-11j,\n",
       "       9.30337701e-04+1.30397970e-09j, 5.05215935e-02-9.45321830e-08j,\n",
       "       1.67884640e-02-8.55644355e-09j, 5.47784615e+00-1.80061409e-06j,\n",
       "       2.66619891e-01-1.79391151e-07j, 7.55212456e-03-4.82645968e-09j,\n",
       "       3.32566500e-02+4.36973089e-08j, 8.62117186e-02-8.02302793e-08j,\n",
       "       1.12556489e-04-4.88629580e-12j, 7.02707672e+00-5.99435225e-07j,\n",
       "       1.83564560e+02-8.54613006e-07j, 4.00650874e-02+1.05031646e-07j,\n",
       "       4.38628107e-01+1.55132597e-07j, 7.17808083e-02-8.68636718e-08j,\n",
       "       3.43019213e-03+5.39807476e-10j, 7.72475905e-04+5.95114402e-10j,\n",
       "       8.08639005e-02-9.18419740e-09j, 1.62968084e-01-2.69058038e-08j,\n",
       "       5.64808615e-05+2.69290867e-10j, 6.30953728e-05+2.31170534e-11j,\n",
       "       1.98989227e-01-1.55118741e-07j, 1.22098660e-04+3.50624030e-10j,\n",
       "       3.37594092e-01-5.70225666e-07j, 2.97005534e-01-6.14309599e-08j,\n",
       "       1.90359592e-01+8.74668959e-09j, 2.11895919e+00-4.40475844e-07j,\n",
       "       1.02611806e-03+2.24353203e-09j, 6.95237207e+00+4.51764834e-07j,\n",
       "       9.02536776e-05-5.94354080e-11j, 1.26456420e-04+1.06891135e-10j,\n",
       "       2.49998877e-03-1.59027611e-10j, 1.67283067e-03-1.74019654e-09j,\n",
       "       5.91486335e-01-5.88434204e-07j, 5.95246907e-04+1.89522578e-10j,\n",
       "       4.04612534e-03-5.76115156e-09j, 1.48948107e-03-2.07695927e-09j,\n",
       "       8.37791935e-02-2.10176268e-07j, 4.29328871e+00+9.23975620e-07j,\n",
       "       6.05673134e-01-1.05108512e-07j, 6.64456010e-01-2.05098800e-07j,\n",
       "       1.63742959e-01+1.31277218e-07j, 2.92891776e-03-4.77129403e-09j,\n",
       "       3.20424396e-03+4.84991047e-10j, 2.91597277e-01-3.19204190e-07j,\n",
       "       4.55829213e-05-3.95820841e-11j, 1.61523162e-03-3.90713817e-09j,\n",
       "       1.67998907e-04+6.82710624e-11j, 3.95264797e-04-9.42170897e-10j,\n",
       "       2.84361887e+00+5.50506059e-08j, 9.70454048e-03+3.01483816e-09j,\n",
       "       3.01853614e-03-1.05430542e-09j, 4.06158203e-03-1.09333664e-09j,\n",
       "       1.61765085e-03-3.29584748e-10j, 5.49701089e-03+3.83064291e-09j,\n",
       "       1.87973428e+00+9.89824798e-07j, 1.48873806e-01+1.01674011e-07j,\n",
       "       4.11929898e-02+1.77227761e-08j, 2.00423431e+00+3.09081628e-07j,\n",
       "       3.69402933e+00+1.88703405e-06j, 6.45600128e+00+1.21465359e-06j,\n",
       "       1.60303302e-02+1.58692846e-08j, 9.04399753e-02+6.25907646e-08j,\n",
       "       2.49587268e-01-4.08709369e-08j, 1.74533539e+01-2.43765771e-06j,\n",
       "       6.54253185e-01+4.13500842e-08j, 4.74025644e-02-1.15941994e-08j,\n",
       "       6.23407587e-03+3.21065619e-09j, 1.14972675e-02+2.82754486e-09j,\n",
       "       2.68532149e-03-5.52492940e-09j, 2.53015873e-03-8.10005663e-09j,\n",
       "       7.88270569e+00-1.86165846e-06j, 1.33181305e-03+8.86106966e-10j],\n",
       "      dtype=complex64)>"
      ]
     },
     "execution_count": 108,
     "metadata": {},
     "output_type": "execute_result"
    }
   ],
   "source": [
    "a"
   ]
  },
  {
   "cell_type": "markdown",
   "metadata": {},
   "source": [
    "### A test for complex_hessians()"
   ]
  },
  {
   "cell_type": "code",
   "execution_count": 97,
   "metadata": {},
   "outputs": [],
   "source": [
    "x = tf.constant([0.1j, 0.2j],dtype=tf.complex64)"
   ]
  },
  {
   "cell_type": "code",
   "execution_count": 98,
   "metadata": {},
   "outputs": [],
   "source": [
    "@tf.function\n",
    "def c_hessians(x):\n",
    "    return complex_hessians(tf.square(tf.math.real(tf.tensordot(x,tf.math.conj(x),axes=1))), x)"
   ]
  },
  {
   "cell_type": "code",
   "execution_count": 99,
   "metadata": {},
   "outputs": [
    {
     "data": {
      "text/plain": [
       "[<tf.Tensor: shape=(2, 2), dtype=complex64, numpy=\n",
       " array([[0.12000001+0.j, 0.04      +0.j],\n",
       "        [0.04      +0.j, 0.18      +0.j]], dtype=complex64)>]"
      ]
     },
     "execution_count": 99,
     "metadata": {},
     "output_type": "execute_result"
    }
   ],
   "source": [
    "c_hessians(x)"
   ]
  }
 ],
 "metadata": {
  "kernelspec": {
   "display_name": "Python 3",
   "language": "python",
   "name": "python3"
  },
  "language_info": {
   "codemirror_mode": {
    "name": "ipython",
    "version": 3
   },
   "file_extension": ".py",
   "mimetype": "text/x-python",
   "name": "python",
   "nbconvert_exporter": "python",
   "pygments_lexer": "ipython3",
   "version": "3.7.3"
  }
 },
 "nbformat": 4,
 "nbformat_minor": 2
}
