{
 "cells": [
  {
   "cell_type": "code",
   "execution_count": 1,
   "metadata": {},
   "outputs": [],
   "source": [
    "from hypersurface import *\n",
    "import sympy as sp\n",
    "from pprint import pprint\n",
    "import time"
   ]
  },
  {
   "cell_type": "code",
   "execution_count": 9,
   "metadata": {},
   "outputs": [],
   "source": [
    "z0, z1, z2, z3, z4= sp.symbols('z0, z1, z2, z3, z4')\n",
    "Z = [z0,z1,z2,z3,z4]\n",
    "f = z0**5 + z1**5 + z2**5 + z3**5 + z4**5\n",
    "HS = Hypersurface(Z, f, 10000)"
   ]
  },
  {
   "cell_type": "code",
   "execution_count": 15,
   "metadata": {},
   "outputs": [],
   "source": [
    "def generate_H(ns):\n",
    "    H_rand = np.random.rand(ns, ns)\n",
    "    H_rand_pd = np.dot(H_rand, H_rand.transpose())\n",
    "    return H_rand_pd"
   ]
  },
  {
   "cell_type": "code",
   "execution_count": 16,
   "metadata": {},
   "outputs": [],
   "source": [
    "h_list = []\n",
    "for k in range(1,10):\n",
    "    sections, ns = HS.get_sections(k)\n",
    "    h_matrix = generate_H(ns)\n",
    "    h_list.append(h_matrix)"
   ]
  },
  {
   "cell_type": "code",
   "execution_count": 22,
   "metadata": {},
   "outputs": [
    {
     "name": "stdout",
     "output_type": "stream",
     "text": [
      "(1.4360413272514885-1.3134856968646169e-18j)\n",
      "501.9013228416443\n",
      "(3.466246865254854+9.115179084546265e-19j)\n",
      "5773.237396478653\n"
     ]
    },
    {
     "name": "stderr",
     "output_type": "stream",
     "text": [
      "\n",
      "KeyboardInterrupt\n",
      "\n"
     ]
    }
   ],
   "source": [
    "for k in range(1,5):\n",
    "    start_time = time.time()\n",
    "    eta = lambda x: x.get_FS_volume_form(h_list[k-1], k)/x.get_omega_omegabar()\n",
    "    print(HS.integrate(lambda patch: np.absolute(eta(patch) - 1), holomorphic=True))\n",
    "    print(time.time() - start_time)"
   ]
  },
  {
   "cell_type": "code",
   "execution_count": 24,
   "metadata": {},
   "outputs": [
    {
     "name": "stdout",
     "output_type": "stream",
     "text": [
      "(1.4360413272514436-1.9668462621765823e-18j)\n",
      "114.4603021144867\n",
      "(3.466246865254856+3.634408774065546e-19j)\n",
      "115.9717948436737\n",
      "(11.132815553416396+2.192765560449863e-18j)\n",
      "116.28776216506958\n",
      "(25.969463911805867-8.024142014995027e-21j)\n",
      "166.54529237747192\n",
      "(60.27226711108489-3.6190770170002174e-18j)\n",
      "189.90893030166626\n",
      "(115.34489944464892-1.449740762821339e-17j)\n",
      "224.97410917282104\n",
      "(192.98947656736433-1.3042418459672212e-16j)\n",
      "304.20726585388184\n",
      "(298.63298259143505-2.3416900747168635e-16j)\n",
      "482.41485714912415\n",
      "(450.8071412917519-4.723330489140373e-16j)\n",
      "776.4846999645233\n"
     ]
    }
   ],
   "source": [
    "for k in range(1,10):\n",
    "    start_time = time.time()\n",
    "    HS.set_k(k)\n",
    "    print(HS.integrate(lambda patch, point, h=h_list[k-1]: \n",
    "                       np.absolute(patch.num_eta(h, point) - 1), \n",
    "                       holomorphic=True, numerical=True))\n",
    "    print(time.time()-start_time)"
   ]
  },
  {
   "cell_type": "code",
   "execution_count": null,
   "metadata": {},
   "outputs": [],
   "source": []
  }
 ],
 "metadata": {
  "kernelspec": {
   "display_name": "Python 3",
   "language": "python",
   "name": "python3"
  },
  "language_info": {
   "codemirror_mode": {
    "name": "ipython",
    "version": 3
   },
   "file_extension": ".py",
   "mimetype": "text/x-python",
   "name": "python",
   "nbconvert_exporter": "python",
   "pygments_lexer": "ipython3",
   "version": "3.7.3"
  }
 },
 "nbformat": 4,
 "nbformat_minor": 4
}
