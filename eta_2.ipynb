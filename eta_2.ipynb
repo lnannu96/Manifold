{
 "cells": [
  {
   "cell_type": "markdown",
   "metadata": {},
   "source": [
    "# Eta on Rational Curves"
   ]
  },
  {
   "cell_type": "code",
   "execution_count": 1,
   "metadata": {},
   "outputs": [],
   "source": [
    "from hypersurface import *\n",
    "import sympy as sp\n",
    "from pprint import pprint\n",
    "import time as t\n",
    "import math\n",
    "import matplotlib.pyplot as plt\n",
    "from mpl_toolkits.mplot3d import Axes3D"
   ]
  },
  {
   "cell_type": "code",
   "execution_count": 2,
   "metadata": {},
   "outputs": [],
   "source": [
    "z0, z1, z2, z3, z4= sp.symbols('z0, z1, z2, z3, z4')\n",
    "Z = [z0,z1,z2,z3,z4]\n",
    "q = z0**5 + z1**5 + z2**5 + z3**5 + z4**5\n",
    "Quintic = Hypersurface(Z, q, 100)"
   ]
  },
  {
   "cell_type": "code",
   "execution_count": 3,
   "metadata": {},
   "outputs": [],
   "source": [
    "k = 2\n",
    "sections_1, ns_1 = Quintic.get_sections(k)"
   ]
  },
  {
   "cell_type": "code",
   "execution_count": 4,
   "metadata": {},
   "outputs": [],
   "source": [
    "J = []\n",
    "for z in Z:\n",
    "    J.append([diff(s,z) for s in sections_1])\n",
    "J = np.array(J)"
   ]
  },
  {
   "cell_type": "code",
   "execution_count": 5,
   "metadata": {},
   "outputs": [
    {
     "data": {
      "text/plain": [
       "array([[2*z0, z1, z2, z3, z4, 0, 0, 0, 0, 0, 0, 0, 0, 0, 0],\n",
       "       [0, z0, 0, 0, 0, 2*z1, z2, z3, z4, 0, 0, 0, 0, 0, 0],\n",
       "       [0, 0, z0, 0, 0, 0, z1, 0, 0, 2*z2, z3, z4, 0, 0, 0],\n",
       "       [0, 0, 0, z0, 0, 0, 0, z1, 0, 0, z2, 0, 2*z3, z4, 0],\n",
       "       [0, 0, 0, 0, z0, 0, 0, 0, z1, 0, 0, z2, 0, z3, 2*z4]], dtype=object)"
      ]
     },
     "execution_count": 5,
     "metadata": {},
     "output_type": "execute_result"
    }
   ],
   "source": [
    "J"
   ]
  },
  {
   "cell_type": "code",
   "execution_count": 6,
   "metadata": {},
   "outputs": [],
   "source": [
    "restriction = Quintic.patches[0].patches[0].get_restriction()"
   ]
  },
  {
   "cell_type": "code",
   "execution_count": 7,
   "metadata": {},
   "outputs": [
    {
     "data": {
      "text/latex": [
       "$\\displaystyle \\left[\\begin{matrix}- \\frac{z_{2}^{4}}{z_{1}^{4}} & - \\frac{z_{3}^{4}}{z_{1}^{4}} & - \\frac{z_{4}^{4}}{z_{1}^{4}}\\\\1 & 0 & 0\\\\0 & 1 & 0\\\\0 & 0 & 1\\end{matrix}\\right]$"
      ],
      "text/plain": [
       "Matrix([\n",
       "[-z2**4/z1**4, -z3**4/z1**4, -z4**4/z1**4],\n",
       "[           1,            0,            0],\n",
       "[           0,            1,            0],\n",
       "[           0,            0,            1]])"
      ]
     },
     "execution_count": 7,
     "metadata": {},
     "output_type": "execute_result"
    }
   ],
   "source": [
    "restriction"
   ]
  },
  {
   "cell_type": "code",
   "execution_count": 8,
   "metadata": {},
   "outputs": [
    {
     "name": "stdout",
     "output_type": "stream",
     "text": [
      "Number of Patches: 5\n",
      "Points in patch 1 : 78\n",
      "Points in patch 2 : 78\n",
      "Points in patch 3 : 119\n",
      "Points in patch 4 : 105\n",
      "Points in patch 5 : 120\n"
     ]
    }
   ],
   "source": [
    "Quintic.list_patches()"
   ]
  },
  {
   "cell_type": "code",
   "execution_count": 9,
   "metadata": {},
   "outputs": [],
   "source": [
    "H = np.identity(ns_1)"
   ]
  },
  {
   "cell_type": "code",
   "execution_count": 11,
   "metadata": {},
   "outputs": [],
   "source": [
    "theta, phi = np.linspace(0.0001,np.pi+0.0001, 40), np.linspace(0.0001, 2*np.pi+0.0001, 40)\n",
    "ts = []\n",
    "for j in phi:\n",
    "    for i in theta:\n",
    "        T = complex(math.sin(i)*math.sin(j), math.cos(i))/(sin(i)*cos(j))\n",
    "        if mp.fabs(T)>=1:\n",
    "            ts.append(1/T)\n",
    "        else:\n",
    "            ts.append(T)"
   ]
  },
  {
   "cell_type": "code",
   "execution_count": null,
   "metadata": {},
   "outputs": [],
   "source": []
  },
  {
   "cell_type": "code",
   "execution_count": null,
   "metadata": {},
   "outputs": [],
   "source": []
  },
  {
   "cell_type": "code",
   "execution_count": 12,
   "metadata": {},
   "outputs": [
    {
     "name": "stdout",
     "output_type": "stream",
     "text": [
      "Time:  19.929322004318237\n"
     ]
    }
   ],
   "source": [
    "FS_Vol_Form_Q = []\n",
    "start_time = t.time()\n",
    "sec1 = sp.lambdify(Z,sections_1)\n",
    "rest1 = sp.lambdify(Z,restriction)\n",
    "J1 = J[1:]\n",
    "#J1[0] = np.zeros(ns_1)\n",
    "js1 = sp.lambdify(Z,J1)\n",
    "for tt in ts:\n",
    "    zz = [1,-1,tt,0,-tt]\n",
    "    zz_bar = [conj(z) for z in zz]\n",
    "    s = np.array(sec1(*zz)).reshape(1,-1)\n",
    "    s_dag = np.array(sec1(*zz_bar)).reshape(-1,1)\n",
    "    j = np.array(js1(*zz))\n",
    "    j_dag = np.array(js1(*zz_bar)).T\n",
    "    alpha = np.matmul(s,np.matmul(H,s_dag))\n",
    "    A = np.matmul(j,np.matmul(H,j_dag))\n",
    "    B = np.matmul(j,np.matmul(H,np.matmul(s_dag,np.matmul(s,np.matmul(H,j_dag)))))\n",
    "    G = A/alpha - (B/alpha**2)\n",
    "    R = np.array(rest1(*zz))\n",
    "    R_dag = np.array(rest1(*zz_bar)).T\n",
    "    V = np.matmul(R_dag,np.matmul(G,R))\n",
    "    V = np.matrix(V,dtype=complex)\n",
    "    FS_Vol_Form_Q.append(np.linalg.det(V))\n",
    "print(\"Time: \",(t.time()-start_time))"
   ]
  },
  {
   "cell_type": "code",
   "execution_count": 13,
   "metadata": {},
   "outputs": [],
   "source": [
    "OO_Bar = Quintic.get_omega_omegabar()"
   ]
  },
  {
   "cell_type": "code",
   "execution_count": 14,
   "metadata": {},
   "outputs": [],
   "source": [
    "oob = sp.lambdify(Z,OO_Bar[0][0])"
   ]
  },
  {
   "cell_type": "code",
   "execution_count": 15,
   "metadata": {},
   "outputs": [],
   "source": [
    "oo_bar = [oob(*[1,-1,tt,0,-tt]) for tt in ts]"
   ]
  },
  {
   "cell_type": "code",
   "execution_count": 16,
   "metadata": {},
   "outputs": [],
   "source": [
    "eta_1 = np.divide(np.array(FS_Vol_Form_Q),np.array(oo_bar))"
   ]
  },
  {
   "cell_type": "code",
   "execution_count": 17,
   "metadata": {},
   "outputs": [
    {
     "name": "stderr",
     "output_type": "stream",
     "text": [
      "/Users/nannu/anaconda3/envs/ML/lib/python3.8/site-packages/numpy/core/_asarray.py:85: ComplexWarning: Casting complex values to real discards the imaginary part\n",
      "  return array(a, dtype, copy=False, order=order)\n"
     ]
    }
   ],
   "source": [
    "R = [eta_1[i*40:(i+1)*40] for i in range(40)]\n",
    "R = np.asarray(R,dtype=float)"
   ]
  },
  {
   "cell_type": "code",
   "execution_count": 18,
   "metadata": {},
   "outputs": [
    {
     "data": {
      "image/png": "[encoded data removed]",
      "text/plain": [
       "<Figure size 432x288 with 1 Axes>"
      ]
     },
     "metadata": {
      "needs_background": "light"
     },
     "output_type": "display_data"
    }
   ],
   "source": [
    "THETA, PHI = np.meshgrid(theta, phi)\n",
    "X = R * np.sin(THETA) * np.cos(PHI)\n",
    "Y = R * np.sin(THETA) * np.sin(PHI)\n",
    "Z = R * np.cos(THETA)\n",
    "fig = plt.figure()\n",
    "ax = fig.add_subplot(1,1,1, projection='3d')\n",
    "plot = ax.plot_surface(\n",
    "    X, Y, Z, rstride=1, cstride=1, cmap=plt.cm.YlGnBu_r,\n",
    "    linewidth=0, antialiased=False)\n",
    "\n",
    "plt.show()"
   ]
  },
  {
   "cell_type": "code",
   "execution_count": 18,
   "metadata": {},
   "outputs": [
    {
     "data": {
      "text/latex": [
       "$\\displaystyle \\frac{1}{25 z_{1}^{4} \\overline{z_{1}}^{4}}$"
      ],
      "text/plain": [
       "1/(25*z1**4*conjugate(z1)**4)"
      ]
     },
     "execution_count": 18,
     "metadata": {},
     "output_type": "execute_result"
    }
   ],
   "source": [
    "Quintic.patches[0].patches[0].omega_omegabar"
   ]
  },
  {
   "cell_type": "code",
   "execution_count": 37,
   "metadata": {},
   "outputs": [
    {
     "data": {
      "text/plain": [
       "array([[ 9.65453547e-20,  3.04460111e+00,  2.81519124e+00, ...,\n",
       "         2.81592329e+00,  3.04504605e+00, -2.21102924e-20],\n",
       "       [ 0.00000000e+00,  3.04672663e+00,  2.82287097e+00, ...,\n",
       "         2.82358567e+00,  3.04703279e+00, -3.76610137e-16],\n",
       "       [ 0.00000000e+00,  3.05270936e+00,  2.84518964e+00, ...,\n",
       "         2.84585341e+00,  3.05303499e+00, -3.00000509e-16],\n",
       "       ...,\n",
       "       [-5.55020729e-17,  3.05263131e+00,  2.84515345e+00, ...,\n",
       "         2.84581735e+00,  3.05288052e+00,  0.00000000e+00],\n",
       "       [ 0.00000000e+00,  3.04671385e+00,  2.82285208e+00, ...,\n",
       "         2.82356682e+00,  3.04705964e+00, -4.20054009e-16],\n",
       "       [-4.71663837e-20,  3.04460111e+00,  2.81519124e+00, ...,\n",
       "         2.81592329e+00,  3.04504605e+00, -1.35840388e-19]])"
      ]
     },
     "execution_count": 37,
     "metadata": {},
     "output_type": "execute_result"
    }
   ],
   "source": [
    "R"
   ]
  },
  {
   "cell_type": "code",
   "execution_count": 48,
   "metadata": {},
   "outputs": [],
   "source": [
    "zz = [1,-1,complex(0.4,0.3),0,-complex(0.4,0.3)]"
   ]
  },
  {
   "cell_type": "code",
   "execution_count": 49,
   "metadata": {},
   "outputs": [
    {
     "data": {
      "text/plain": [
       "mpc(real='0.00010000000033333334', imag='10000.000016666665')"
      ]
     },
     "execution_count": 49,
     "metadata": {},
     "output_type": "execute_result"
    }
   ],
   "source": [
    "ts[0]"
   ]
  },
  {
   "cell_type": "code",
   "execution_count": 50,
   "metadata": {},
   "outputs": [],
   "source": [
    "zz_bar = [conj(z) for z in zz]\n",
    "s = np.array(sec1(*zz)).reshape(1,-1)\n",
    "s_dag = np.array(sec1(*zz_bar)).reshape(-1,1)\n",
    "j = np.array(js1(*zz))\n",
    "j_dag = np.array(js1(*zz_bar)).T\n",
    "alpha = np.matmul(s,np.matmul(H,s_dag))\n",
    "A = np.matmul(j,np.matmul(H,j_dag))\n",
    "B = np.matmul(j,np.matmul(H,np.matmul(s_dag,np.matmul(s,np.matmul(H,j_dag)))))\n",
    "G = (A/alpha) - (B/(alpha**2))\n",
    "R = np.array(rest1(*zz))\n",
    "R_dag = np.array(rest1(*zz_bar)).T\n",
    "V = np.matmul(R_dag,np.matmul(G,R))\n",
    "V = np.matrix(V,dtype=complex)"
   ]
  },
  {
   "cell_type": "code",
   "execution_count": 51,
   "metadata": {},
   "outputs": [
    {
     "data": {
      "text/plain": [
       "matrix([[0.3644575-8.67361738e-19j, 0.       +0.00000000e+00j,\n",
       "         0.0409375-9.36000000e-03j],\n",
       "        [0.       +0.00000000e+00j, 0.4      +0.00000000e+00j,\n",
       "         0.       +0.00000000e+00j],\n",
       "        [0.0409375+9.36000000e-03j, 0.       +0.00000000e+00j,\n",
       "         0.3574175+0.00000000e+00j]])"
      ]
     },
     "execution_count": 51,
     "metadata": {},
     "output_type": "execute_result"
    }
   ],
   "source": [
    "V"
   ]
  },
  {
   "cell_type": "code",
   "execution_count": 56,
   "metadata": {},
   "outputs": [
    {
     "data": {
      "text/plain": [
       "(0.05140000000000002-8.714910795546774e-20j)"
      ]
     },
     "execution_count": 56,
     "metadata": {},
     "output_type": "execute_result"
    }
   ],
   "source": [
    "np.linalg.det(V)"
   ]
  },
  {
   "cell_type": "code",
   "execution_count": 52,
   "metadata": {},
   "outputs": [
    {
     "data": {
      "text/plain": [
       "array([[mpc(real='2.5', imag='0.0')]], dtype=object)"
      ]
     },
     "execution_count": 52,
     "metadata": {},
     "output_type": "execute_result"
    }
   ],
   "source": [
    "alpha"
   ]
  },
  {
   "cell_type": "code",
   "execution_count": 53,
   "metadata": {},
   "outputs": [
    {
     "data": {
      "text/plain": [
       "array([[0.0527-0.0336j, 0.    +0.j    , 0.0527-0.0336j],\n",
       "       [1.    +0.j    , 0.    +0.j    , 0.    +0.j    ],\n",
       "       [0.    +0.j    , 1.    +0.j    , 0.    +0.j    ],\n",
       "       [0.    +0.j    , 0.    +0.j    , 1.    +0.j    ]])"
      ]
     },
     "execution_count": 53,
     "metadata": {},
     "output_type": "execute_result"
    }
   ],
   "source": [
    "R"
   ]
  },
  {
   "cell_type": "code",
   "execution_count": 54,
   "metadata": {},
   "outputs": [
    {
     "data": {
      "text/plain": [
       "(0.05140000000000002-8.714910795546774e-20j)"
      ]
     },
     "execution_count": 54,
     "metadata": {},
     "output_type": "execute_result"
    }
   ],
   "source": [
    "np.linalg.det(V)"
   ]
  },
  {
   "cell_type": "code",
   "execution_count": null,
   "metadata": {},
   "outputs": [],
   "source": []
  }
 ],
 "metadata": {
  "kernelspec": {
   "display_name": "ML",
   "language": "python",
   "name": "ml"
  },
  "language_info": {
   "codemirror_mode": {
    "name": "ipython",
    "version": 3
   },
   "file_extension": ".py",
   "mimetype": "text/x-python",
   "name": "python",
   "nbconvert_exporter": "python",
   "pygments_lexer": "ipython3",
   "version": "3.8.2"
  }
 },
 "nbformat": 4,
 "nbformat_minor": 2
}
