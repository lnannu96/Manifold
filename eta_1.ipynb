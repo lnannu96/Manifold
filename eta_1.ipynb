{
 "cells": [
  {
   "cell_type": "markdown",
   "metadata": {},
   "source": [
    "# Eta on Rational Curves"
   ]
  },
  {
   "cell_type": "code",
   "execution_count": 1,
   "metadata": {},
   "outputs": [],
   "source": [
    "from hypersurface import *\n",
    "import sympy as sp\n",
    "from pprint import pprint\n",
    "import time as t\n",
    "import math\n",
    "import matplotlib.pyplot as plt\n",
    "from mpl_toolkits.mplot3d import Axes3D"
   ]
  },
  {
   "cell_type": "code",
   "execution_count": 2,
   "metadata": {},
   "outputs": [],
   "source": [
    "z0, z1, z2, z3, z4= sp.symbols('z0, z1, z2, z3, z4')\n",
    "Z = [z0,z1,z2,z3,z4]\n",
    "q = z0**5 + z1**5 + z2**5 + z3**5 + z4**5\n",
    "Quintic = Hypersurface(Z, q, 100)"
   ]
  },
  {
   "cell_type": "code",
   "execution_count": 3,
   "metadata": {},
   "outputs": [],
   "source": [
    "k = 1\n",
    "sections_1, ns_1 = Quintic.get_sections(k)"
   ]
  },
  {
   "cell_type": "code",
   "execution_count": 4,
   "metadata": {},
   "outputs": [],
   "source": [
    "J = []\n",
    "for z in Z:\n",
    "    J.append([diff(s,z) for s in sections_1])\n",
    "J = np.array(J)"
   ]
  },
  {
   "cell_type": "code",
   "execution_count": 5,
   "metadata": {},
   "outputs": [
    {
     "data": {
      "text/plain": [
       "array([[1, 0, 0, 0, 0],\n",
       "       [0, 1, 0, 0, 0],\n",
       "       [0, 0, 1, 0, 0],\n",
       "       [0, 0, 0, 1, 0],\n",
       "       [0, 0, 0, 0, 1]], dtype=object)"
      ]
     },
     "execution_count": 5,
     "metadata": {},
     "output_type": "execute_result"
    }
   ],
   "source": [
    "J"
   ]
  },
  {
   "cell_type": "code",
   "execution_count": 6,
   "metadata": {},
   "outputs": [],
   "source": [
    "restriction = Quintic.patches[0].patches[0].get_restriction()"
   ]
  },
  {
   "cell_type": "code",
   "execution_count": 7,
   "metadata": {},
   "outputs": [
    {
     "data": {
      "text/latex": [
       "$\\displaystyle \\left[\\begin{matrix}- \\frac{z_{2}^{4}}{z_{1}^{4}} & - \\frac{z_{3}^{4}}{z_{1}^{4}} & - \\frac{z_{4}^{4}}{z_{1}^{4}}\\\\1 & 0 & 0\\\\0 & 1 & 0\\\\0 & 0 & 1\\end{matrix}\\right]$"
      ],
      "text/plain": [
       "Matrix([\n",
       "[-z2**4/z1**4, -z3**4/z1**4, -z4**4/z1**4],\n",
       "[           1,            0,            0],\n",
       "[           0,            1,            0],\n",
       "[           0,            0,            1]])"
      ]
     },
     "execution_count": 7,
     "metadata": {},
     "output_type": "execute_result"
    }
   ],
   "source": [
    "restriction"
   ]
  },
  {
   "cell_type": "code",
   "execution_count": 8,
   "metadata": {},
   "outputs": [
    {
     "name": "stdout",
     "output_type": "stream",
     "text": [
      "Number of Patches: 5\n",
      "Points in patch 1 : 111\n",
      "Points in patch 2 : 82\n",
      "Points in patch 3 : 100\n",
      "Points in patch 4 : 101\n",
      "Points in patch 5 : 106\n"
     ]
    }
   ],
   "source": [
    "Quintic.list_patches()"
   ]
  },
  {
   "cell_type": "code",
   "execution_count": 9,
   "metadata": {},
   "outputs": [],
   "source": [
    "H = np.identity(ns_1)"
   ]
  },
  {
   "cell_type": "code",
   "execution_count": 10,
   "metadata": {},
   "outputs": [],
   "source": [
    "theta, phi = np.linspace(0.0001,np.pi+0.0001, 40), np.linspace(0.0001, 2*np.pi+0.0001, 40)\n",
    "ts = []\n",
    "for j in phi:\n",
    "    for i in theta:\n",
    "        T = complex(math.sin(i)*math.sin(j), math.cos(i))/(sin(i)*cos(j))\n",
    "        if mp.fabs(T)>=1:\n",
    "            ts.append(1/T)\n",
    "        else:\n",
    "            ts.append(T) "
   ]
  },
  {
   "cell_type": "code",
   "execution_count": null,
   "metadata": {},
   "outputs": [],
   "source": []
  },
  {
   "cell_type": "code",
   "execution_count": null,
   "metadata": {},
   "outputs": [],
   "source": []
  },
  {
   "cell_type": "code",
   "execution_count": 11,
   "metadata": {},
   "outputs": [
    {
     "name": "stdout",
     "output_type": "stream",
     "text": [
      "Time:  3.0720748901367188\n"
     ]
    }
   ],
   "source": [
    "FS_Vol_Form_Q = []\n",
    "start_time = t.time()\n",
    "sec1 = sp.lambdify(Z,sections_1)\n",
    "rest1 = sp.lambdify(Z,restriction)\n",
    "J1 = J[1:]\n",
    "#J1[0] = np.zeros(ns_1)\n",
    "js1 = sp.lambdify(Z,J1)\n",
    "for tt in ts:\n",
    "    zz = [1,-1,tt,0,-tt]\n",
    "    zz_bar = [conj(z) for z in zz]\n",
    "    s = np.array(sec1(*zz)).reshape(1,-1)\n",
    "    s_dag = np.array(sec1(*zz_bar)).reshape(-1,1)\n",
    "    j = np.array(js1(*zz))\n",
    "    j_dag = np.array(js1(*zz_bar)).T\n",
    "    alpha = np.matmul(s,np.matmul(H,s_dag))\n",
    "    A = np.matmul(j,np.matmul(H,j_dag))\n",
    "    B = np.matmul(j,np.matmul(H,np.matmul(s_dag,np.matmul(s,np.matmul(H,j_dag)))))\n",
    "    G = A/alpha - (B/alpha**2)\n",
    "    R = np.array(rest1(*zz))\n",
    "    R_dag = np.array(rest1(*zz_bar)).T\n",
    "    V = np.matmul(R_dag,np.matmul(G,R))\n",
    "    V = np.matrix(V,dtype=complex)\n",
    "    FS_Vol_Form_Q.append(np.linalg.det(V))\n",
    "print(\"Time: \",(t.time()-start_time))"
   ]
  },
  {
   "cell_type": "code",
   "execution_count": 12,
   "metadata": {},
   "outputs": [],
   "source": [
    "OO_Bar = Quintic.get_omega_omegabar()"
   ]
  },
  {
   "cell_type": "code",
   "execution_count": 13,
   "metadata": {},
   "outputs": [],
   "source": [
    "oob = sp.lambdify(Z,OO_Bar[0][0])"
   ]
  },
  {
   "cell_type": "code",
   "execution_count": 14,
   "metadata": {},
   "outputs": [],
   "source": [
    "oo_bar = [oob(*[1,-1,tt,0,-tt]) for tt in ts]"
   ]
  },
  {
   "cell_type": "code",
   "execution_count": 15,
   "metadata": {},
   "outputs": [],
   "source": [
    "eta_1 = np.divide(np.array(FS_Vol_Form_Q),np.array(oo_bar))"
   ]
  },
  {
   "cell_type": "code",
   "execution_count": 16,
   "metadata": {},
   "outputs": [
    {
     "name": "stderr",
     "output_type": "stream",
     "text": [
      "/Users/nannu/anaconda3/envs/ML/lib/python3.8/site-packages/numpy/core/_asarray.py:85: ComplexWarning: Casting complex values to real discards the imaginary part\n",
      "  return array(a, dtype, copy=False, order=order)\n"
     ]
    }
   ],
   "source": [
    "R = [eta_1[i*40:(i+1)*40] for i in range(40)]\n",
    "R = np.asarray(R,dtype=float)"
   ]
  },
  {
   "cell_type": "code",
   "execution_count": 17,
   "metadata": {},
   "outputs": [
    {
     "data": {
      "image/png": "[encoded data removed]",
      "text/plain": [
       "<Figure size 432x288 with 1 Axes>"
      ]
     },
     "metadata": {
      "needs_background": "light"
     },
     "output_type": "display_data"
    }
   ],
   "source": [
    "THETA, PHI = np.meshgrid(theta, phi)\n",
    "X = R * np.sin(THETA) * np.cos(PHI)\n",
    "Y = R * np.sin(THETA) * np.sin(PHI)\n",
    "Z = R * np.cos(THETA)\n",
    "fig = plt.figure()\n",
    "ax = fig.add_subplot(1,1,1, projection='3d')\n",
    "plot = ax.plot_surface(\n",
    "    X, Y, Z, rstride=1, cstride=1, cmap=plt.cm.YlGnBu_r,\n",
    "    linewidth=0, antialiased=False)\n",
    "\n",
    "plt.show()"
   ]
  },
  {
   "cell_type": "code",
   "execution_count": 19,
   "metadata": {},
   "outputs": [
    {
     "data": {
      "text/latex": [
       "$\\displaystyle \\frac{1}{25 z_{1}^{4} \\overline{z_{1}}^{4}}$"
      ],
      "text/plain": [
       "1/(25*z1**4*conjugate(z1)**4)"
      ]
     },
     "execution_count": 19,
     "metadata": {},
     "output_type": "execute_result"
    }
   ],
   "source": [
    "Quintic.patches[0].patches[0].omega_omegabar"
   ]
  }
 ],
 "metadata": {
  "kernelspec": {
   "display_name": "ML",
   "language": "python",
   "name": "ml"
  },
  "language_info": {
   "codemirror_mode": {
    "name": "ipython",
    "version": 3
   },
   "file_extension": ".py",
   "mimetype": "text/x-python",
   "name": "python",
   "nbconvert_exporter": "python",
   "pygments_lexer": "ipython3",
   "version": "3.8.2"
  }
 },
 "nbformat": 4,
 "nbformat_minor": 2
}
