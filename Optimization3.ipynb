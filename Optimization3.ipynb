{
 "cells": [
  {
   "cell_type": "code",
   "execution_count": 1,
   "metadata": {},
   "outputs": [],
   "source": [
    "from hypersurface import *\n",
    "import sympy as sp\n",
    "from pprint import pprint\n",
    "from scipy.optimize import minimize\n",
    "from sympy.utilities.iterables import flatten\n",
    "import math\n",
    "import matplotlib.pyplot as plt\n",
    "import itertools\n",
    "from mpl_toolkits.mplot3d import Axes3D"
   ]
  },
  {
   "cell_type": "code",
   "execution_count": 2,
   "metadata": {},
   "outputs": [],
   "source": [
    "z0, z1, z2, z3, z4= sp.symbols('z0, z1, z2, z3, z4')\n",
    "Z = [z0,z1,z2,z3,z4]\n",
    "f = z0**5 + z1**5 + z2**5 + z3**5 + z4**5 + 0.5*z0*z1*z2*z3*z4\n",
    "HS = Hypersurface(Z, f, 1000)"
   ]
  },
  {
   "cell_type": "code",
   "execution_count": 3,
   "metadata": {},
   "outputs": [],
   "source": [
    "k = 3\n",
    "HS.set_k(k)"
   ]
  },
  {
   "cell_type": "markdown",
   "metadata": {},
   "source": [
    "Normalization factor of eta"
   ]
  },
  {
   "cell_type": "code",
   "execution_count": 4,
   "metadata": {},
   "outputs": [],
   "source": [
    "# holomorphic=True by default\n",
    "factor = (HS.integrate(lambda patch, point: patch.omega_omegabar(point), numerical=True) / \\\n",
    "          HS.integrate(lambda patch, point: patch.num_FS_volume_form('identity', point), numerical=True))"
   ]
  },
  {
   "cell_type": "code",
   "execution_count": 5,
   "metadata": {},
   "outputs": [
    {
     "data": {
      "text/plain": [
       "0.08413021717250548"
      ]
     },
     "execution_count": 5,
     "metadata": {},
     "output_type": "execute_result"
    }
   ],
   "source": [
    "HS.integrate(lambda patch, point: patch.omega_omegabar(point), numerical=True)/HS.integrate(lambda patch, point: patch.num_FS_volume_form('identity', point), numerical=True, holomorphic=False)"
   ]
  },
  {
   "cell_type": "code",
   "execution_count": 6,
   "metadata": {
    "scrolled": true
   },
   "outputs": [
    {
     "data": {
      "text/plain": [
       "0.0825943444225018"
      ]
     },
     "execution_count": 6,
     "metadata": {},
     "output_type": "execute_result"
    }
   ],
   "source": [
    "factor"
   ]
  },
  {
   "cell_type": "code",
   "execution_count": 7,
   "metadata": {
    "scrolled": true
   },
   "outputs": [],
   "source": [
    "def get_h_matrix(HS, k):\n",
    "    # Get the power of the coordinates\n",
    "    sec, ns = HS.get_sections(k)\n",
    "    h_diag = []\n",
    "    for expr in sec:\n",
    "        power = []\n",
    "        for i in range(len(Z)):\n",
    "            power.append(expr.diff(Z[i])*Z[i]/expr)\n",
    "        h_diag.append(power)\n",
    "\n",
    "    h_matrix = []\n",
    "    h_params = np.zeros((ns, ns))\n",
    "    # make a pair for each matrix element\n",
    "    for i in range(len(h_diag)):\n",
    "        h_matrix_row = []\n",
    "        pz = h_diag[i]\n",
    "        for j in range(len(h_diag)):\n",
    "            pzbar = h_diag[j]\n",
    "            if k >= len(Z):\n",
    "                for l in range(len(Z)-1):\n",
    "                    if (pz[l]-pzbar[l]-pz[l+1]+pzbar[l+1]) % 5 != 0:\n",
    "                        h_matrix_row.append([])\n",
    "                        break\n",
    "                else:\n",
    "                    h_matrix_row.append([pz,pzbar])\n",
    "                    h_params[i][j] = -1\n",
    "                    #if (pz!=pzbar):\n",
    "                    #print( \"non-diagonal\", pz, pzbar )\n",
    "            else:\n",
    "                if i == j:\n",
    "                    h_matrix_row.append([pz,pzbar])\n",
    "                    h_params[i][j] = -1\n",
    "                else:\n",
    "                    h_matrix_row.append([])\n",
    "                    \n",
    "        h_matrix.append(h_matrix_row)                  \n",
    "    #print( h_matrix[2][2] )\n",
    "    \n",
    "    h_type = []\n",
    "    param = 1\n",
    "    for i in range(ns):\n",
    "        for j in range(ns):\n",
    "            if h_params[i][j] > -1:\n",
    "                continue\n",
    "            for m in range(i, ns):\n",
    "                for n in range(ns):\n",
    "                    if h_params[m][n] > -1:\n",
    "                        continue\n",
    "                    if sorted(h_matrix[m][n][0]) == sorted(h_matrix[i][j][0]):\n",
    "                        for perm in itertools.permutations(range(5)):\n",
    "                            if h_matrix[i][j] == [[h_matrix[m][n][0][p] for p in perm],[h_matrix[m][n][1][p] for p in perm]]:\n",
    "                                h_params[m][n] = param\n",
    "                                h_params[n][m] = param\n",
    "                                break\n",
    "            param += 1\n",
    "            if i == 1 and j == 1:\n",
    "                continue\n",
    "            else:\n",
    "                h_type.append(i!=j)\n",
    "            \n",
    "    return (h_params,h_type)"
   ]
  },
  {
   "cell_type": "code",
   "execution_count": 8,
   "metadata": {},
   "outputs": [
    {
     "name": "stdout",
     "output_type": "stream",
     "text": [
      "[False, False]\n"
     ]
    }
   ],
   "source": [
    "(h_sym,h_complex) = get_h_matrix(HS, k)\n",
    "print(h_complex)"
   ]
  },
  {
   "cell_type": "markdown",
   "metadata": {},
   "source": [
    "Reconstruct h matrix from the parameters"
   ]
  },
  {
   "cell_type": "code",
   "execution_count": 9,
   "metadata": {},
   "outputs": [],
   "source": [
    "def number_of_real_parameters(h_complex):\n",
    "    return sum([2 if x else 1 for x in h_complex])"
   ]
  },
  {
   "cell_type": "code",
   "execution_count": 10,
   "metadata": {},
   "outputs": [],
   "source": [
    "def param_to_matrix(param):\n",
    "    h_matrix = np.array(h_sym,dtype='complex')\n",
    "    i_cpx = len(h_complex)\n",
    "    for i in range(len(h_complex)):\n",
    "         if not h_complex[i]:\n",
    "            x = exp(param[i])\n",
    "            for m in range(len(h_sym)):\n",
    "                if h_sym[m][m] == i+2:\n",
    "                    h_matrix[m][m] = x\n",
    "    for i in range(len(h_complex)):\n",
    "        if h_complex[i]:\n",
    "            x = complex(param[i],param[i_cpx])\n",
    "            for m in range(len(h_sym)):\n",
    "                for n in range(m,len(h_sym)):\n",
    "                    if h_sym[m][n] == i+2:\n",
    "                        # these should all be related by symmetry - check?\n",
    "                        xn = x * sqrt(h_matrix[m][m]*h_matrix[n][n])\n",
    "                        h_matrix[m][n] = xn\n",
    "                        h_matrix[n][m] = np.conj(xn)\n",
    "            i_cpx += 1\n",
    "    return h_matrix"
   ]
  },
  {
   "cell_type": "code",
   "execution_count": 11,
   "metadata": {},
   "outputs": [],
   "source": [
    "def integration(param): \n",
    "    h = param_to_matrix(param)\n",
    "    #h = np.matmul(g, np.conj(g.transpose()))\n",
    "    \n",
    "    integration = HS.integrate(lambda patch, point, h_matrix=h: \n",
    "                                np.absolute(patch.num_eta(h_matrix, point)*factor - 1).real, \n",
    "                                holomorphic=False, numerical=True)\n",
    "    integration = integration.real\n",
    "    print(HS.integrate(lambda patch, point: patch.num_FS_volume_form(h, point)/patch.num_FS_volume_form('identity', point), numerical=True))\n",
    "    print(integration)\n",
    "    print(param)\n",
    "    try:\n",
    "        np.linalg.cholesky(h)\n",
    "    except:\n",
    "        print(\"Not positive definite\")\n",
    "    return integration"
   ]
  },
  {
   "cell_type": "markdown",
   "metadata": {},
   "source": [
    "Set an initial condition"
   ]
  },
  {
   "cell_type": "code",
   "execution_count": 12,
   "metadata": {},
   "outputs": [],
   "source": [
    "g0 = np.zeros(number_of_real_parameters(h_complex))"
   ]
  },
  {
   "cell_type": "code",
   "execution_count": 13,
   "metadata": {},
   "outputs": [
    {
     "data": {
      "text/plain": [
       "array([0., 0.])"
      ]
     },
     "execution_count": 13,
     "metadata": {},
     "output_type": "execute_result"
    }
   ],
   "source": [
    "g0"
   ]
  },
  {
   "cell_type": "code",
   "execution_count": 14,
   "metadata": {},
   "outputs": [
    {
     "data": {
      "text/plain": [
       "array([[1.+0.j, 0.+0.j, 0.+0.j, ..., 0.+0.j, 0.+0.j, 0.+0.j],\n",
       "       [0.+0.j, 1.+0.j, 0.+0.j, ..., 0.+0.j, 0.+0.j, 0.+0.j],\n",
       "       [0.+0.j, 0.+0.j, 1.+0.j, ..., 0.+0.j, 0.+0.j, 0.+0.j],\n",
       "       ...,\n",
       "       [0.+0.j, 0.+0.j, 0.+0.j, ..., 1.+0.j, 0.+0.j, 0.+0.j],\n",
       "       [0.+0.j, 0.+0.j, 0.+0.j, ..., 0.+0.j, 1.+0.j, 0.+0.j],\n",
       "       [0.+0.j, 0.+0.j, 0.+0.j, ..., 0.+0.j, 0.+0.j, 1.+0.j]])"
      ]
     },
     "execution_count": 14,
     "metadata": {},
     "output_type": "execute_result"
    }
   ],
   "source": [
    "param_to_matrix(g0)"
   ]
  },
  {
   "cell_type": "code",
   "execution_count": 15,
   "metadata": {
    "scrolled": false
   },
   "outputs": [
    {
     "name": "stdout",
     "output_type": "stream",
     "text": [
      "1.0\n",
      "0.241872955396084\n",
      "[0. 0.]\n",
      "0.9999999997890621\n",
      "0.2418729558535961\n",
      "[1.e-08 0.e+00]\n",
      "0.9999999999883133\n",
      "0.2418729566338709\n",
      "[0.e+00 1.e-08]\n",
      "1.007286831228086\n",
      "0.2976809792853867\n",
      "[-0.34669623 -0.93797747]\n",
      "1.0072868310209628\n",
      "0.2976809782744348\n",
      "[-0.34669622 -0.93797747]\n",
      "1.0072868312388343\n",
      "0.29768097818712613\n",
      "[-0.34669623 -0.93797746]\n",
      "1.0021263259975948\n",
      "0.22472130180211444\n",
      "[-0.09084264 -0.24577236]\n",
      "1.002126325783004\n",
      "0.2247213018815281\n",
      "[-0.09084263 -0.24577236]\n",
      "1.00212632599354\n",
      "0.22472130170778612\n",
      "[-0.09084264 -0.24577235]\n",
      "1.0024335194819405\n",
      "0.22446831046396262\n",
      "[-0.1054834  -0.22962902]\n",
      "1.002433519267324\n",
      "0.22446831056027472\n",
      "[-0.10548339 -0.22962902]\n",
      "1.0024335194773093\n",
      "0.22446831040737233\n",
      "[-0.1054834  -0.22962901]\n",
      "1.0071104265928266\n",
      "0.22478617705692341\n",
      "[-0.33083206 -0.067149  ]\n",
      "1.0071104263810462\n",
      "0.22478617717574018\n",
      "[-0.33083205 -0.067149  ]\n",
      "1.0071104265792514\n",
      "0.22478617758850516\n",
      "[-0.33083206 -0.06714899]\n",
      "1.0047498474078727\n",
      "0.22357046793521473\n",
      "[-0.21584211 -0.15005861]\n",
      "1.0047498471937728\n",
      "0.2235704680436231\n",
      "[-0.2158421  -0.15005861]\n",
      "1.004749847399535\n",
      "0.2235704680636493\n",
      "[-0.21584211 -0.1500586 ]\n",
      "1.0059717555486216\n",
      "0.2232484803092254\n",
      "[-0.27353823 -0.13685972]\n",
      "1.0059717553351484\n",
      "0.2232484803583061\n",
      "[-0.27353822 -0.13685972]\n",
      "1.005971755539156\n",
      "0.22324848040362527\n",
      "[-0.27353823 -0.13685971]\n",
      "1.006389765927646\n",
      "0.2231684379994989\n",
      "[-0.29254041 -0.15032945]\n",
      "1.006389765714286\n",
      "0.22316843799471764\n",
      "[-0.2925404  -0.15032945]\n",
      "1.0063897659186067\n",
      "0.22316843795974797\n",
      "[-0.29254041 -0.15032944]\n",
      "1.0065989815348055\n",
      "0.22315432317382466\n",
      "[-0.30273297 -0.14156856]\n",
      "1.0065989813216758\n",
      "0.2231543231722204\n",
      "[-0.30273296 -0.14156856]\n",
      "1.0065989815252665\n",
      "0.22315432317516795\n",
      "[-0.30273297 -0.14156855]\n",
      "1.0065464097843275\n",
      "0.22315392887492685\n",
      "[-0.30022743 -0.14244655]\n",
      "1.006546409571152\n",
      "0.22315392887626176\n",
      "[-0.30022742 -0.14244655]\n",
      "1.0065464097748542\n",
      "0.22315392887753852\n",
      "[-0.30022743 -0.14244654]\n"
     ]
    }
   ],
   "source": [
    "#res = minimize(integration, g0, method='L-BFGS-B', options={'iprint':1, 'ftol': 1e-04, 'eps': 1e-02, 'maxiter':20})\n",
    "res = minimize(integration, g0, method='L-BFGS-B', options={'ftol': 1e-06, 'maxiter':200})"
   ]
  },
  {
   "cell_type": "code",
   "execution_count": 16,
   "metadata": {},
   "outputs": [
    {
     "name": "stdout",
     "output_type": "stream",
     "text": [
      "[-0.30022743 -0.14244655]\n"
     ]
    }
   ],
   "source": [
    "print(res.x)"
   ]
  },
  {
   "cell_type": "code",
   "execution_count": 17,
   "metadata": {},
   "outputs": [],
   "source": [
    "h_minimal = param_to_matrix(res.x)"
   ]
  },
  {
   "cell_type": "code",
   "execution_count": 18,
   "metadata": {},
   "outputs": [
    {
     "data": {
      "image/png": "[encoded data removed]",
      "text/plain": [
       "<Figure size 432x288 with 1 Axes>"
      ]
     },
     "metadata": {
      "needs_background": "light"
     },
     "output_type": "display_data"
    }
   ],
   "source": [
    "#param = [-0.2]\n",
    "#h_minimal = param_to_matrix(param)\n",
    "#h_minimal = 'identity'\n",
    "patch = HS.patches[0].patches[0]\n",
    "theta, phi = np.linspace(0.001,np.pi+0.001, 100), np.linspace(0.001, 2*np.pi+0.001, 100)\n",
    "R = []\n",
    "for j in phi:\n",
    "    theta_list = []\n",
    "    for i in theta:\n",
    "        t = complex(math.sin(i)*math.sin(j), math.cos(i))/(sin(i)*cos(j)) \n",
    "        if np.absolute(t) <= 1:\n",
    "            eta = patch.num_eta(h_minimal, [1, -1, complex(t), 0, -complex(t)])*factor\n",
    "            #print('test',np.absolute(t**4))\n",
    "            #print(patch.restriction([1, -1, complex(t), 0, -complex(t)]))\n",
    "            #print(\"t<=1\", t)\n",
    "        else:\n",
    "            #eta = 0\n",
    "            eta = patch.num_eta(h_minimal, [1, -1, complex(1/t), 0, -complex(1/t)])*factor\n",
    "  \n",
    "            #print('test',np.absolute(t**4), 1/t**4)\n",
    "        theta_list.append(float(eta))\n",
    "    R.append(theta_list)\n",
    "R = np.asarray(R)\n",
    "THETA, PHI = np.meshgrid(theta, phi)\n",
    "X = R * np.sin(THETA) * np.cos(PHI)\n",
    "Y = R * np.sin(THETA) * np.sin(PHI)\n",
    "ZZ = R * np.cos(THETA)\n",
    "fig = plt.figure()\n",
    "ax = fig.add_subplot(1,1,1, projection='3d')\n",
    "#ax.set_xlim3d(-0.8, 0.8)\n",
    "plot = ax.plot_surface(\n",
    "    X, Y, ZZ, rstride=1, cstride=1, cmap=plt.cm.YlGnBu_r,\n",
    "    linewidth=0, antialiased=False)\n"
   ]
  },
  {
   "cell_type": "markdown",
   "metadata": {},
   "source": [
    "Standard deviation of eta:"
   ]
  },
  {
   "cell_type": "code",
   "execution_count": 19,
   "metadata": {},
   "outputs": [
    {
     "name": "stdout",
     "output_type": "stream",
     "text": [
      "0.22823507346851502\n"
     ]
    }
   ],
   "source": [
    "sum_eta_sq = 0\n",
    "mean_abs_eta = 0\n",
    "for patch in HS.patches:\n",
    "    for subpatch in patch.patches:\n",
    "        for point in subpatch.points:\n",
    "            #print(subpatch.num_eta(h_minimal, point)*factor - 1)\n",
    "            eta = sum_eta = 0\n",
    "mean_abs_eta = 0\n",
    "for patch in HS.patches:\n",
    "    for subpatch in patch.patches:\n",
    "        for point in subpatch.points:\n",
    "            #print(subpatch.num_eta(h_minimal, point)*factor - 1)\n",
    "            eta = subpatch.num_eta(h_minimal, point)\n",
    "            sum_eta_sq += (eta*factor - 1)**2\n",
    "            mean_abs_eta += abs(eta*factor - 1)\n",
    "print(math.sqrt((sum_eta_sq-mean_abs_eta**2/HS.n_points)/(HS.n_points - 1)))"
   ]
  },
  {
   "cell_type": "code",
   "execution_count": 26,
   "metadata": {},
   "outputs": [],
   "source": [
    "sigma = HS.integrate(lambda patch, point, h_matrix=h_minimal: \n",
    "                         np.absolute(patch.num_eta(h_matrix, point)*factor - 1).real, \n",
    "                         holomorphic=True, numerical=True)"
   ]
  },
  {
   "cell_type": "code",
   "execution_count": 21,
   "metadata": {},
   "outputs": [],
   "source": [
    "delta_sigma = math.sqrt(HS.integrate(lambda patch, point, h_matrix=h_minimal: \n",
    "                         (np.absolute(patch.num_eta(h_matrix, point)*factor - 1).real - sigma)**2, \n",
    "                         holomorphic=True, numerical=True)/HS.n_points)"
   ]
  },
  {
   "cell_type": "code",
   "execution_count": 22,
   "metadata": {},
   "outputs": [
    {
     "name": "stdout",
     "output_type": "stream",
     "text": [
      "0.0029324214766979916\n"
     ]
    }
   ],
   "source": [
    "print(delta_sigma)"
   ]
  },
  {
   "cell_type": "code",
   "execution_count": 27,
   "metadata": {},
   "outputs": [
    {
     "name": "stdout",
     "output_type": "stream",
     "text": [
      "0.22361954625721045\n"
     ]
    }
   ],
   "source": [
    "print(sigma)"
   ]
  },
  {
   "cell_type": "code",
   "execution_count": null,
   "metadata": {},
   "outputs": [],
   "source": []
  }
 ],
 "metadata": {
  "kernelspec": {
   "display_name": "Python 3",
   "language": "python",
   "name": "python3"
  },
  "language_info": {
   "codemirror_mode": {
    "name": "ipython",
    "version": 3
   },
   "file_extension": ".py",
   "mimetype": "text/x-python",
   "name": "python",
   "nbconvert_exporter": "python",
   "pygments_lexer": "ipython3",
   "version": "3.7.7"
  }
 },
 "nbformat": 4,
 "nbformat_minor": 2
}
