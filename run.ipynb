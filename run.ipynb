{
 "cells": [
  {
   "cell_type": "code",
   "execution_count": 1,
   "metadata": {},
   "outputs": [],
   "source": [
    "from hypersurface import *\n",
    "import sympy as sp\n",
    "from pprint import pprint"
   ]
  },
  {
   "cell_type": "code",
   "execution_count": 2,
   "metadata": {},
   "outputs": [],
   "source": [
    "d = 4\n",
    "z0, z1, z2, z3 = sp.symbols('z0, z1, z2, z3')\n",
    "Z = [z0,z1,z2,z3]\n",
    "f = z0**4 + z1**4 + z2**4 + z3**4\n",
    "HS = Hypersurface(Z, f, d, 20)"
   ]
  },
  {
   "cell_type": "code",
   "execution_count": 3,
   "metadata": {},
   "outputs": [
    {
     "name": "stdout",
     "output_type": "stream",
     "text": [
      "Number of Patches: 4\n",
      "Points in patch 1 : 8\n",
      "Points in patch 2 : 25\n",
      "Points in patch 3 : 19\n",
      "Points in patch 4 : 28\n"
     ]
    }
   ],
   "source": [
    "HS.list_patches()"
   ]
  },
  {
   "cell_type": "code",
   "execution_count": 4,
   "metadata": {},
   "outputs": [
    {
     "name": "stdout",
     "output_type": "stream",
     "text": [
      "Number of Patches: 3\n",
      "Points in patch 1 : 4\n",
      "Points in patch 2 : 3\n",
      "Points in patch 3 : 1\n",
      "Number of Patches: 3\n",
      "Points in patch 1 : 6\n",
      "Points in patch 2 : 11\n",
      "Points in patch 3 : 8\n",
      "Number of Patches: 3\n",
      "Points in patch 1 : 7\n",
      "Points in patch 2 : 6\n",
      "Points in patch 3 : 6\n",
      "Number of Patches: 3\n",
      "Points in patch 1 : 10\n",
      "Points in patch 2 : 12\n",
      "Points in patch 3 : 6\n"
     ]
    }
   ],
   "source": [
    "HS.patches[0].list_patches()\n",
    "HS.patches[1].list_patches()\n",
    "HS.patches[2].list_patches()\n",
    "HS.patches[3].list_patches()"
   ]
  },
  {
   "cell_type": "code",
   "execution_count": 4,
   "metadata": {},
   "outputs": [
    {
     "name": "stdout",
     "output_type": "stream",
     "text": [
      "[[[1/(4*z1**3), 1/(4*z2**3), 1/(4*z3**3)],\n",
      "  [1/(4*z1**3), 1/(4*z2**3), 1/(4*z3**3)],\n",
      "  [1/(4*z1**3), 1/(4*z2**3), 1/(4*z3**3)]],\n",
      " [[1/(4*z0**3), 1/(4*z2**3), 1/(4*z3**3)],\n",
      "  [1/(4*z0**3), 1/(4*z2**3), 1/(4*z3**3)],\n",
      "  [1/(4*z0**3), 1/(4*z2**3), 1/(4*z3**3)]],\n",
      " [[1/(4*z0**3), 1/(4*z1**3), 1/(4*z3**3)],\n",
      "  [1/(4*z0**3), 1/(4*z1**3), 1/(4*z3**3)],\n",
      "  [1/(4*z0**3), 1/(4*z1**3), 1/(4*z3**3)]],\n",
      " [[1/(4*z0**3), 1/(4*z1**3), 1/(4*z2**3)],\n",
      "  [1/(4*z0**3), 1/(4*z1**3), 1/(4*z2**3)],\n",
      "  [1/(4*z0**3), 1/(4*z1**3), 1/(4*z2**3)]]]\n"
     ]
    }
   ],
   "source": [
    "pprint(HS.holo_volume_form)"
   ]
  },
  {
   "cell_type": "code",
   "execution_count": 10,
   "metadata": {},
   "outputs": [
    {
     "name": "stdout",
     "output_type": "stream",
     "text": [
      "[1/(4*z1**3), 1/(4*z2**3), 1/(4*z3**3)]\n"
     ]
    }
   ],
   "source": [
    "pprint(HS.patches[0].patches[1].holo_volume_form)"
   ]
  },
  {
   "cell_type": "code",
   "execution_count": 6,
   "metadata": {},
   "outputs": [
    {
     "data": {
      "text/latex": [
       "$\\displaystyle 0.52371319133955 - 0.0678492615191222 i$"
      ],
      "text/plain": [
       "0.52371319133955 - 0.0678492615191222*I"
      ]
     },
     "execution_count": 6,
     "metadata": {},
     "output_type": "execute_result"
    }
   ],
   "source": [
    "HS.integrate()"
   ]
  },
  {
   "cell_type": "code",
   "execution_count": 14,
   "metadata": {},
   "outputs": [
    {
     "name": "stdout",
     "output_type": "stream",
     "text": [
      "[[1,\n",
      "  -0.194865303957873 + 0.0944059039988618*I,\n",
      "  0.709844580018724 - 0.702301247313316*I,\n",
      "  -0.354406042969675 - 0.171383482332295*I],\n",
      " [1,\n",
      "  -0.62612307841388 + 0.544497727102361*I,\n",
      "  0.569935010966305 - 0.633161667757157*I,\n",
      "  -0.256647996007303 + 0.350502911892288*I],\n",
      " [1,\n",
      "  0.308761034118796 + 0.0613154440928442*I,\n",
      "  0.563694099554169 - 0.715715188577571*I,\n",
      "  -0.4866923462728 - 0.689766412022944*I],\n",
      " [1,\n",
      "  0.250784745359482 + 0.60751273393177*I,\n",
      "  0.724372287502193 + 0.65374080009579*I,\n",
      "  -0.40831770122077 + 0.412321550999064*I],\n",
      " [1,\n",
      "  0.52046953172831 - 0.284190661414445*I,\n",
      "  -0.676309928086906 + 0.716831089462119*I,\n",
      "  -0.248735608469097 - 0.219178758807107*I]]\n"
     ]
    }
   ],
   "source": [
    "pprint(HS.patches[0].patches[1].points)"
   ]
  },
  {
   "cell_type": "code",
   "execution_count": 15,
   "metadata": {
    "scrolled": true
   },
   "outputs": [
    {
     "name": "stdout",
     "output_type": "stream",
     "text": [
      "[[-0.00875729552067465 + 0.0396523622653935*I,\n",
      "  -2.77067047036164 - 2.8609250976012*I,\n",
      "  -0.0531421218540036 - 0.238180970502432*I],\n",
      " [1.24574252909675 + 1.9157881436787*I,\n",
      "  -2.00128159704468 - 1.45268574152056*I,\n",
      "  0.310737772421555 + 0.104803581709318*I],\n",
      " [0.103811171919318 + 0.069222817402771*I,\n",
      "  -2.74855812424461 - 1.2625355704423*I,\n",
      "  2.31755822593255 - 0.647913087399382*I],\n",
      " [-1.04760028509207 - 0.438363586425494*I,\n",
      "  -2.19460432398129 + 2.9987576857232*I,\n",
      "  0.560708137646499 + 0.544529939470593*I],\n",
      " [0.0595324237403506 - 0.831998022155369*I,\n",
      "  2.93287295638591 + 2.46113501927209*I,\n",
      "  0.0818326043740603 - 0.120608705869401*I]]\n"
     ]
    }
   ],
   "source": [
    "pprint(HS.patches[0].patches[1].eval_all(\"grad\"))"
   ]
  },
  {
   "cell_type": "markdown",
   "metadata": {},
   "source": [
    "(z0*z1).subs(z1, sp.conjugate(z0))"
   ]
  },
  {
   "cell_type": "code",
   "execution_count": 3,
   "metadata": {},
   "outputs": [],
   "source": [
    "patch = HS.patches[0].patches[0]"
   ]
  },
  {
   "cell_type": "code",
   "execution_count": 7,
   "metadata": {},
   "outputs": [
    {
     "data": {
      "text/latex": [
       "$\\displaystyle \\frac{1}{16 z_{1}^{3} \\overline{z_{1}}^{3}}$"
      ],
      "text/plain": [
       "1/(16*z1**3*conjugate(z1)**3)"
      ]
     },
     "execution_count": 7,
     "metadata": {},
     "output_type": "execute_result"
    }
   ],
   "source": [
    "patch.omega_omegabar[0]"
   ]
  },
  {
   "cell_type": "code",
   "execution_count": 4,
   "metadata": {},
   "outputs": [],
   "source": [
    "H = np.identity(patch.n_sections,dtype = int)"
   ]
  },
  {
   "cell_type": "code",
   "execution_count": 24,
   "metadata": {},
   "outputs": [
    {
     "data": {
      "text/plain": [
       "[[2.08657683346231 - 3.01418210175028e-18*I],\n",
       " [2.20302251865295 - 6.70714625829265e-19*I],\n",
       " [1.9726883761631 - 4.82539172607579e-19*I],\n",
       " [1.84279635028219 + 1.37367493522995e-19*I]]"
      ]
     },
     "execution_count": 24,
     "metadata": {},
     "output_type": "execute_result"
    }
   ],
   "source": [
    "patch.eval_all(patch.kahler_potential(H))"
   ]
  },
  {
   "cell_type": "code",
   "execution_count": 11,
   "metadata": {},
   "outputs": [
    {
     "data": {
      "text/latex": [
       "$\\displaystyle 2 z_{0} \\overline{z_{0}}$"
      ],
      "text/plain": [
       "2*z0*conjugate(z0)"
      ]
     },
     "execution_count": 11,
     "metadata": {},
     "output_type": "execute_result"
    }
   ],
   "source": [
    "diff_conjugate(sp.conjugate(z0**2)*z0, z0)"
   ]
  },
  {
   "cell_type": "code",
   "execution_count": 19,
   "metadata": {},
   "outputs": [
    {
     "data": {
      "text/latex": [
       "$\\displaystyle 2 \\left(1 - i\\right) \\left(1 + i\\right)$"
      ],
      "text/plain": [
       "2*(1 - I)*(1 + I)"
      ]
     },
     "execution_count": 19,
     "metadata": {},
     "output_type": "execute_result"
    }
   ],
   "source": [
    "from sympy import I\n",
    "diff_conjugate(sp.conjugate(z0**2)*z0, z0).subs(z0, 1+I)"
   ]
  },
  {
   "cell_type": "code",
   "execution_count": 20,
   "metadata": {},
   "outputs": [
    {
     "data": {
      "text/latex": [
       "$\\displaystyle 4$"
      ],
      "text/plain": [
       "4"
      ]
     },
     "execution_count": 20,
     "metadata": {},
     "output_type": "execute_result"
    }
   ],
   "source": [
    "sp.simplify(diff_conjugate(sp.conjugate(z0**2)*z0, z0).subs(z0, 1+I))"
   ]
  },
  {
   "cell_type": "code",
   "execution_count": 22,
   "metadata": {},
   "outputs": [],
   "source": [
    "kahler_metric = patch.kahler_metric(H)"
   ]
  },
  {
   "cell_type": "code",
   "execution_count": 23,
   "metadata": {
    "scrolled": true
   },
   "outputs": [
    {
     "data": {
      "text/latex": [
       "$\\displaystyle \\frac{z_{1} \\left(\\left(3 z_{1}^{2} \\overline{z_{1}}^{2} + 4 z_{1} z_{2} \\overline{z_{1}} \\overline{z_{2}} + 2 z_{1} z_{3} \\overline{z_{1}} \\overline{z_{3}} + 2 z_{1} \\overline{z_{1}} + 3 z_{2}^{2} \\overline{z_{2}}^{2} + 2 z_{2} z_{3} \\overline{z_{2}} \\overline{z_{3}} + 2 z_{2} \\overline{z_{2}} + z_{3}^{2} \\overline{z_{3}}^{2} + z_{3} \\overline{z_{3}} + 1\\right) \\left(z_{1}^{4} \\overline{z_{1}}^{4} + z_{1}^{3} z_{2} \\overline{z_{1}}^{3} \\overline{z_{2}} + z_{1}^{3} z_{3} \\overline{z_{1}}^{3} \\overline{z_{3}} + z_{1}^{3} \\overline{z_{1}}^{3} + z_{1}^{2} z_{2}^{2} \\overline{z_{1}}^{2} \\overline{z_{2}}^{2} + z_{1}^{2} z_{2} z_{3} \\overline{z_{1}}^{2} \\overline{z_{2}} \\overline{z_{3}} + z_{1}^{2} z_{2} \\overline{z_{1}}^{2} \\overline{z_{2}} + z_{1}^{2} z_{3}^{2} \\overline{z_{1}}^{2} \\overline{z_{3}}^{2} + z_{1}^{2} z_{3} \\overline{z_{1}}^{2} \\overline{z_{3}} + z_{1}^{2} \\overline{z_{1}}^{2} + z_{1} z_{2}^{3} \\overline{z_{1}} \\overline{z_{2}}^{3} + z_{1} z_{2}^{2} z_{3} \\overline{z_{1}} \\overline{z_{2}}^{2} \\overline{z_{3}} + z_{1} z_{2}^{2} \\overline{z_{1}} \\overline{z_{2}}^{2} + z_{1} z_{2} z_{3}^{2} \\overline{z_{1}} \\overline{z_{2}} \\overline{z_{3}}^{2} + z_{1} z_{2} z_{3} \\overline{z_{1}} \\overline{z_{2}} \\overline{z_{3}} + z_{1} z_{2} \\overline{z_{1}} \\overline{z_{2}} + z_{1} z_{3}^{3} \\overline{z_{1}} \\overline{z_{3}}^{3} + z_{1} z_{3}^{2} \\overline{z_{1}} \\overline{z_{3}}^{2} + z_{1} z_{3} \\overline{z_{1}} \\overline{z_{3}} + z_{1} \\overline{z_{1}} + z_{2}^{4} \\overline{z_{2}}^{4} + z_{2}^{3} z_{3} \\overline{z_{2}}^{3} \\overline{z_{3}} + z_{2}^{3} \\overline{z_{2}}^{3} + z_{2}^{2} z_{3}^{2} \\overline{z_{2}}^{2} \\overline{z_{3}}^{2} + z_{2}^{2} z_{3} \\overline{z_{2}}^{2} \\overline{z_{3}} + z_{2}^{2} \\overline{z_{2}}^{2} + z_{2} z_{3}^{3} \\overline{z_{2}} \\overline{z_{3}}^{3} + z_{2} z_{3}^{2} \\overline{z_{2}} \\overline{z_{3}}^{2} + z_{2} z_{3} \\overline{z_{2}} \\overline{z_{3}} + z_{2} \\overline{z_{2}} + z_{3}^{4} \\overline{z_{3}}^{4} + z_{3}^{3} \\overline{z_{3}}^{3} + z_{3}^{2} \\overline{z_{3}}^{2} + z_{3} \\overline{z_{3}} + 1\\right) - \\left(z_{1}^{3} \\overline{z_{1}}^{3} + 2 z_{1}^{2} z_{2} \\overline{z_{1}}^{2} \\overline{z_{2}} + z_{1}^{2} z_{3} \\overline{z_{1}}^{2} \\overline{z_{3}} + z_{1}^{2} \\overline{z_{1}}^{2} + 3 z_{1} z_{2}^{2} \\overline{z_{1}} \\overline{z_{2}}^{2} + 2 z_{1} z_{2} z_{3} \\overline{z_{1}} \\overline{z_{2}} \\overline{z_{3}} + 2 z_{1} z_{2} \\overline{z_{1}} \\overline{z_{2}} + z_{1} z_{3}^{2} \\overline{z_{1}} \\overline{z_{3}}^{2} + z_{1} z_{3} \\overline{z_{1}} \\overline{z_{3}} + z_{1} \\overline{z_{1}} + 4 z_{2}^{3} \\overline{z_{2}}^{3} + 3 z_{2}^{2} z_{3} \\overline{z_{2}}^{2} \\overline{z_{3}} + 3 z_{2}^{2} \\overline{z_{2}}^{2} + 2 z_{2} z_{3}^{2} \\overline{z_{2}} \\overline{z_{3}}^{2} + 2 z_{2} z_{3} \\overline{z_{2}} \\overline{z_{3}} + 2 z_{2} \\overline{z_{2}} + z_{3}^{3} \\overline{z_{3}}^{3} + z_{3}^{2} \\overline{z_{3}}^{2} + z_{3} \\overline{z_{3}} + 1\\right) \\left(4 z_{1}^{3} \\overline{z_{1}}^{3} + 3 z_{1}^{2} z_{2} \\overline{z_{1}}^{2} \\overline{z_{2}} + 3 z_{1}^{2} z_{3} \\overline{z_{1}}^{2} \\overline{z_{3}} + 3 z_{1}^{2} \\overline{z_{1}}^{2} + 2 z_{1} z_{2}^{2} \\overline{z_{1}} \\overline{z_{2}}^{2} + 2 z_{1} z_{2} z_{3} \\overline{z_{1}} \\overline{z_{2}} \\overline{z_{3}} + 2 z_{1} z_{2} \\overline{z_{1}} \\overline{z_{2}} + 2 z_{1} z_{3}^{2} \\overline{z_{1}} \\overline{z_{3}}^{2} + 2 z_{1} z_{3} \\overline{z_{1}} \\overline{z_{3}} + 2 z_{1} \\overline{z_{1}} + z_{2}^{3} \\overline{z_{2}}^{3} + z_{2}^{2} z_{3} \\overline{z_{2}}^{2} \\overline{z_{3}} + z_{2}^{2} \\overline{z_{2}}^{2} + z_{2} z_{3}^{2} \\overline{z_{2}} \\overline{z_{3}}^{2} + z_{2} z_{3} \\overline{z_{2}} \\overline{z_{3}} + z_{2} \\overline{z_{2}} + z_{3}^{3} \\overline{z_{3}}^{3} + z_{3}^{2} \\overline{z_{3}}^{2} + z_{3} \\overline{z_{3}} + 1\\right)\\right) \\overline{z_{2}}}{\\left(z_{1}^{4} \\overline{z_{1}}^{4} + z_{1}^{3} z_{2} \\overline{z_{1}}^{3} \\overline{z_{2}} + z_{1}^{3} z_{3} \\overline{z_{1}}^{3} \\overline{z_{3}} + z_{1}^{3} \\overline{z_{1}}^{3} + z_{1}^{2} z_{2}^{2} \\overline{z_{1}}^{2} \\overline{z_{2}}^{2} + z_{1}^{2} z_{2} z_{3} \\overline{z_{1}}^{2} \\overline{z_{2}} \\overline{z_{3}} + z_{1}^{2} z_{2} \\overline{z_{1}}^{2} \\overline{z_{2}} + z_{1}^{2} z_{3}^{2} \\overline{z_{1}}^{2} \\overline{z_{3}}^{2} + z_{1}^{2} z_{3} \\overline{z_{1}}^{2} \\overline{z_{3}} + z_{1}^{2} \\overline{z_{1}}^{2} + z_{1} z_{2}^{3} \\overline{z_{1}} \\overline{z_{2}}^{3} + z_{1} z_{2}^{2} z_{3} \\overline{z_{1}} \\overline{z_{2}}^{2} \\overline{z_{3}} + z_{1} z_{2}^{2} \\overline{z_{1}} \\overline{z_{2}}^{2} + z_{1} z_{2} z_{3}^{2} \\overline{z_{1}} \\overline{z_{2}} \\overline{z_{3}}^{2} + z_{1} z_{2} z_{3} \\overline{z_{1}} \\overline{z_{2}} \\overline{z_{3}} + z_{1} z_{2} \\overline{z_{1}} \\overline{z_{2}} + z_{1} z_{3}^{3} \\overline{z_{1}} \\overline{z_{3}}^{3} + z_{1} z_{3}^{2} \\overline{z_{1}} \\overline{z_{3}}^{2} + z_{1} z_{3} \\overline{z_{1}} \\overline{z_{3}} + z_{1} \\overline{z_{1}} + z_{2}^{4} \\overline{z_{2}}^{4} + z_{2}^{3} z_{3} \\overline{z_{2}}^{3} \\overline{z_{3}} + z_{2}^{3} \\overline{z_{2}}^{3} + z_{2}^{2} z_{3}^{2} \\overline{z_{2}}^{2} \\overline{z_{3}}^{2} + z_{2}^{2} z_{3} \\overline{z_{2}}^{2} \\overline{z_{3}} + z_{2}^{2} \\overline{z_{2}}^{2} + z_{2} z_{3}^{3} \\overline{z_{2}} \\overline{z_{3}}^{3} + z_{2} z_{3}^{2} \\overline{z_{2}} \\overline{z_{3}}^{2} + z_{2} z_{3} \\overline{z_{2}} \\overline{z_{3}} + z_{2} \\overline{z_{2}} + z_{3}^{4} \\overline{z_{3}}^{4} + z_{3}^{3} \\overline{z_{3}}^{3} + z_{3}^{2} \\overline{z_{3}}^{2} + z_{3} \\overline{z_{3}} + 1\\right)^{2}}$"
      ],
      "text/plain": [
       "z1*((3*z1**2*conjugate(z1)**2 + 4*z1*z2*conjugate(z1)*conjugate(z2) + 2*z1*z3*conjugate(z1)*conjugate(z3) + 2*z1*conjugate(z1) + 3*z2**2*conjugate(z2)**2 + 2*z2*z3*conjugate(z2)*conjugate(z3) + 2*z2*conjugate(z2) + z3**2*conjugate(z3)**2 + z3*conjugate(z3) + 1)*(z1**4*conjugate(z1)**4 + z1**3*z2*conjugate(z1)**3*conjugate(z2) + z1**3*z3*conjugate(z1)**3*conjugate(z3) + z1**3*conjugate(z1)**3 + z1**2*z2**2*conjugate(z1)**2*conjugate(z2)**2 + z1**2*z2*z3*conjugate(z1)**2*conjugate(z2)*conjugate(z3) + z1**2*z2*conjugate(z1)**2*conjugate(z2) + z1**2*z3**2*conjugate(z1)**2*conjugate(z3)**2 + z1**2*z3*conjugate(z1)**2*conjugate(z3) + z1**2*conjugate(z1)**2 + z1*z2**3*conjugate(z1)*conjugate(z2)**3 + z1*z2**2*z3*conjugate(z1)*conjugate(z2)**2*conjugate(z3) + z1*z2**2*conjugate(z1)*conjugate(z2)**2 + z1*z2*z3**2*conjugate(z1)*conjugate(z2)*conjugate(z3)**2 + z1*z2*z3*conjugate(z1)*conjugate(z2)*conjugate(z3) + z1*z2*conjugate(z1)*conjugate(z2) + z1*z3**3*conjugate(z1)*conjugate(z3)**3 + z1*z3**2*conjugate(z1)*conjugate(z3)**2 + z1*z3*conjugate(z1)*conjugate(z3) + z1*conjugate(z1) + z2**4*conjugate(z2)**4 + z2**3*z3*conjugate(z2)**3*conjugate(z3) + z2**3*conjugate(z2)**3 + z2**2*z3**2*conjugate(z2)**2*conjugate(z3)**2 + z2**2*z3*conjugate(z2)**2*conjugate(z3) + z2**2*conjugate(z2)**2 + z2*z3**3*conjugate(z2)*conjugate(z3)**3 + z2*z3**2*conjugate(z2)*conjugate(z3)**2 + z2*z3*conjugate(z2)*conjugate(z3) + z2*conjugate(z2) + z3**4*conjugate(z3)**4 + z3**3*conjugate(z3)**3 + z3**2*conjugate(z3)**2 + z3*conjugate(z3) + 1) - (z1**3*conjugate(z1)**3 + 2*z1**2*z2*conjugate(z1)**2*conjugate(z2) + z1**2*z3*conjugate(z1)**2*conjugate(z3) + z1**2*conjugate(z1)**2 + 3*z1*z2**2*conjugate(z1)*conjugate(z2)**2 + 2*z1*z2*z3*conjugate(z1)*conjugate(z2)*conjugate(z3) + 2*z1*z2*conjugate(z1)*conjugate(z2) + z1*z3**2*conjugate(z1)*conjugate(z3)**2 + z1*z3*conjugate(z1)*conjugate(z3) + z1*conjugate(z1) + 4*z2**3*conjugate(z2)**3 + 3*z2**2*z3*conjugate(z2)**2*conjugate(z3) + 3*z2**2*conjugate(z2)**2 + 2*z2*z3**2*conjugate(z2)*conjugate(z3)**2 + 2*z2*z3*conjugate(z2)*conjugate(z3) + 2*z2*conjugate(z2) + z3**3*conjugate(z3)**3 + z3**2*conjugate(z3)**2 + z3*conjugate(z3) + 1)*(4*z1**3*conjugate(z1)**3 + 3*z1**2*z2*conjugate(z1)**2*conjugate(z2) + 3*z1**2*z3*conjugate(z1)**2*conjugate(z3) + 3*z1**2*conjugate(z1)**2 + 2*z1*z2**2*conjugate(z1)*conjugate(z2)**2 + 2*z1*z2*z3*conjugate(z1)*conjugate(z2)*conjugate(z3) + 2*z1*z2*conjugate(z1)*conjugate(z2) + 2*z1*z3**2*conjugate(z1)*conjugate(z3)**2 + 2*z1*z3*conjugate(z1)*conjugate(z3) + 2*z1*conjugate(z1) + z2**3*conjugate(z2)**3 + z2**2*z3*conjugate(z2)**2*conjugate(z3) + z2**2*conjugate(z2)**2 + z2*z3**2*conjugate(z2)*conjugate(z3)**2 + z2*z3*conjugate(z2)*conjugate(z3) + z2*conjugate(z2) + z3**3*conjugate(z3)**3 + z3**2*conjugate(z3)**2 + z3*conjugate(z3) + 1))*conjugate(z2)/(z1**4*conjugate(z1)**4 + z1**3*z2*conjugate(z1)**3*conjugate(z2) + z1**3*z3*conjugate(z1)**3*conjugate(z3) + z1**3*conjugate(z1)**3 + z1**2*z2**2*conjugate(z1)**2*conjugate(z2)**2 + z1**2*z2*z3*conjugate(z1)**2*conjugate(z2)*conjugate(z3) + z1**2*z2*conjugate(z1)**2*conjugate(z2) + z1**2*z3**2*conjugate(z1)**2*conjugate(z3)**2 + z1**2*z3*conjugate(z1)**2*conjugate(z3) + z1**2*conjugate(z1)**2 + z1*z2**3*conjugate(z1)*conjugate(z2)**3 + z1*z2**2*z3*conjugate(z1)*conjugate(z2)**2*conjugate(z3) + z1*z2**2*conjugate(z1)*conjugate(z2)**2 + z1*z2*z3**2*conjugate(z1)*conjugate(z2)*conjugate(z3)**2 + z1*z2*z3*conjugate(z1)*conjugate(z2)*conjugate(z3) + z1*z2*conjugate(z1)*conjugate(z2) + z1*z3**3*conjugate(z1)*conjugate(z3)**3 + z1*z3**2*conjugate(z1)*conjugate(z3)**2 + z1*z3*conjugate(z1)*conjugate(z3) + z1*conjugate(z1) + z2**4*conjugate(z2)**4 + z2**3*z3*conjugate(z2)**3*conjugate(z3) + z2**3*conjugate(z2)**3 + z2**2*z3**2*conjugate(z2)**2*conjugate(z3)**2 + z2**2*z3*conjugate(z2)**2*conjugate(z3) + z2**2*conjugate(z2)**2 + z2*z3**3*conjugate(z2)*conjugate(z3)**3 + z2*z3**2*conjugate(z2)*conjugate(z3)**2 + z2*z3*conjugate(z2)*conjugate(z3) + z2*conjugate(z2) + z3**4*conjugate(z3)**4 + z3**3*conjugate(z3)**3 + z3**2*conjugate(z3)**2 + z3*conjugate(z3) + 1)**2"
      ]
     },
     "execution_count": 23,
     "metadata": {},
     "output_type": "execute_result"
    }
   ],
   "source": [
    "sp.simplify(kahler_metric[1,0])"
   ]
  },
  {
   "cell_type": "code",
   "execution_count": 16,
   "metadata": {},
   "outputs": [
    {
     "data": {
      "text/latex": [
       "$\\displaystyle \\frac{d}{d z_{0}} \\overline{z_{0}}$"
      ],
      "text/plain": [
       "Derivative(conjugate(z0), z0)"
      ]
     },
     "execution_count": 16,
     "metadata": {},
     "output_type": "execute_result"
    }
   ],
   "source": [
    "sp.diff(z0.conjugate(),z0)"
   ]
  },
  {
   "cell_type": "code",
   "execution_count": 9,
   "metadata": {},
   "outputs": [
    {
     "data": {
      "text/latex": [
       "$\\displaystyle 0$"
      ],
      "text/plain": [
       "0"
      ]
     },
     "execution_count": 9,
     "metadata": {},
     "output_type": "execute_result"
    }
   ],
   "source": [
    "diff(z0.conjugate(),z0)"
   ]
  },
  {
   "cell_type": "code",
   "execution_count": 19,
   "metadata": {},
   "outputs": [
    {
     "data": {
      "text/plain": [
       "[1.76545621188312 + 1.01256201626336e-17*I,\n",
       " -0.250229443663092 - 0.0181126389488606*I,\n",
       " -0.0227562473307802 + 0.42356508583968*I,\n",
       " -0.250229443663091 + 0.0181126389488606*I,\n",
       " 1.28078460258853 + 7.63955784475731e-18*I,\n",
       " 0.00306463665785434 + 0.164886501705404*I,\n",
       " -0.0227562473307802 - 0.42356508583968*I,\n",
       " 0.00306463665785434 - 0.164886501705404*I,\n",
       " 1.57400270292397 + 9.80541398608896e-18*I]"
      ]
     },
     "execution_count": 19,
     "metadata": {},
     "output_type": "execute_result"
    }
   ],
   "source": [
    "patch.eval(kahler_metric, patch.points[0])"
   ]
  },
  {
   "cell_type": "code",
   "execution_count": 10,
   "metadata": {},
   "outputs": [],
   "source": [
    "kahler_metric_global = HS.kahler_metric(H)"
   ]
  },
  {
   "cell_type": "code",
   "execution_count": null,
   "metadata": {},
   "outputs": [],
   "source": [
    "patch.eval_all(kahler_metric)"
   ]
  },
  {
   "cell_type": "code",
   "execution_count": null,
   "metadata": {},
   "outputs": [],
   "source": [
    "sp.simplify(kahler_metric.det())"
   ]
  },
  {
   "cell_type": "code",
   "execution_count": 5,
   "metadata": {},
   "outputs": [
    {
     "data": {
      "text/plain": [
       "(array([z0**4, z0**3*z1, z0**3*z2, z0**3*z3, z0**2*z1**2, z0**2*z1*z2,\n",
       "        z0**2*z1*z3, z0**2*z2**2, z0**2*z2*z3, z0**2*z3**2, z0*z1**3,\n",
       "        z0*z1**2*z2, z0*z1**2*z3, z0*z1*z2**2, z0*z1*z2*z3, z0*z1*z3**2,\n",
       "        z0*z2**3, z0*z2**2*z3, z0*z2*z3**2, z0*z3**3, z1**4, z1**3*z2,\n",
       "        z1**3*z3, z1**2*z2**2, z1**2*z2*z3, z1**2*z3**2, z1*z2**3,\n",
       "        z1*z2**2*z3, z1*z2*z3**2, z1*z3**3, z2**4, z2**3*z3, z2**2*z3**2,\n",
       "        z2*z3**3, z3**4], dtype=object), 35)"
      ]
     },
     "execution_count": 5,
     "metadata": {},
     "output_type": "execute_result"
    }
   ],
   "source": [
    "patch.get_sections()"
   ]
  },
  {
   "cell_type": "code",
   "execution_count": 5,
   "metadata": {},
   "outputs": [
    {
     "data": {
      "text/latex": [
       "$\\displaystyle \\log{\\left(z_{1}^{4} \\overline{z_{1}}^{4} + z_{1}^{3} z_{2} \\overline{z_{1}}^{3} \\overline{z_{2}} + z_{1}^{3} z_{3} \\overline{z_{1}}^{3} \\overline{z_{3}} + z_{1}^{3} \\overline{z_{1}}^{3} + z_{1}^{2} z_{2}^{2} \\overline{z_{1}}^{2} \\overline{z_{2}}^{2} + z_{1}^{2} z_{2} z_{3} \\overline{z_{1}}^{2} \\overline{z_{2}} \\overline{z_{3}} + z_{1}^{2} z_{2} \\overline{z_{1}}^{2} \\overline{z_{2}} + z_{1}^{2} z_{3}^{2} \\overline{z_{1}}^{2} \\overline{z_{3}}^{2} + z_{1}^{2} z_{3} \\overline{z_{1}}^{2} \\overline{z_{3}} + z_{1}^{2} \\overline{z_{1}}^{2} + z_{1} z_{2}^{3} \\overline{z_{1}} \\overline{z_{2}}^{3} + z_{1} z_{2}^{2} z_{3} \\overline{z_{1}} \\overline{z_{2}}^{2} \\overline{z_{3}} + z_{1} z_{2}^{2} \\overline{z_{1}} \\overline{z_{2}}^{2} + z_{1} z_{2} z_{3}^{2} \\overline{z_{1}} \\overline{z_{2}} \\overline{z_{3}}^{2} + z_{1} z_{2} z_{3} \\overline{z_{1}} \\overline{z_{2}} \\overline{z_{3}} + z_{1} z_{2} \\overline{z_{1}} \\overline{z_{2}} + z_{1} z_{3}^{3} \\overline{z_{1}} \\overline{z_{3}}^{3} + z_{1} z_{3}^{2} \\overline{z_{1}} \\overline{z_{3}}^{2} + z_{1} z_{3} \\overline{z_{1}} \\overline{z_{3}} + z_{1} \\overline{z_{1}} + z_{2}^{4} \\overline{z_{2}}^{4} + z_{2}^{3} z_{3} \\overline{z_{2}}^{3} \\overline{z_{3}} + z_{2}^{3} \\overline{z_{2}}^{3} + z_{2}^{2} z_{3}^{2} \\overline{z_{2}}^{2} \\overline{z_{3}}^{2} + z_{2}^{2} z_{3} \\overline{z_{2}}^{2} \\overline{z_{3}} + z_{2}^{2} \\overline{z_{2}}^{2} + z_{2} z_{3}^{3} \\overline{z_{2}} \\overline{z_{3}}^{3} + z_{2} z_{3}^{2} \\overline{z_{2}} \\overline{z_{3}}^{2} + z_{2} z_{3} \\overline{z_{2}} \\overline{z_{3}} + z_{2} \\overline{z_{2}} + z_{3}^{4} \\overline{z_{3}}^{4} + z_{3}^{3} \\overline{z_{3}}^{3} + z_{3}^{2} \\overline{z_{3}}^{2} + z_{3} \\overline{z_{3}} + 1 \\right)}$"
      ],
      "text/plain": [
       "log(z1**4*conjugate(z1)**4 + z1**3*z2*conjugate(z1)**3*conjugate(z2) + z1**3*z3*conjugate(z1)**3*conjugate(z3) + z1**3*conjugate(z1)**3 + z1**2*z2**2*conjugate(z1)**2*conjugate(z2)**2 + z1**2*z2*z3*conjugate(z1)**2*conjugate(z2)*conjugate(z3) + z1**2*z2*conjugate(z1)**2*conjugate(z2) + z1**2*z3**2*conjugate(z1)**2*conjugate(z3)**2 + z1**2*z3*conjugate(z1)**2*conjugate(z3) + z1**2*conjugate(z1)**2 + z1*z2**3*conjugate(z1)*conjugate(z2)**3 + z1*z2**2*z3*conjugate(z1)*conjugate(z2)**2*conjugate(z3) + z1*z2**2*conjugate(z1)*conjugate(z2)**2 + z1*z2*z3**2*conjugate(z1)*conjugate(z2)*conjugate(z3)**2 + z1*z2*z3*conjugate(z1)*conjugate(z2)*conjugate(z3) + z1*z2*conjugate(z1)*conjugate(z2) + z1*z3**3*conjugate(z1)*conjugate(z3)**3 + z1*z3**2*conjugate(z1)*conjugate(z3)**2 + z1*z3*conjugate(z1)*conjugate(z3) + z1*conjugate(z1) + z2**4*conjugate(z2)**4 + z2**3*z3*conjugate(z2)**3*conjugate(z3) + z2**3*conjugate(z2)**3 + z2**2*z3**2*conjugate(z2)**2*conjugate(z3)**2 + z2**2*z3*conjugate(z2)**2*conjugate(z3) + z2**2*conjugate(z2)**2 + z2*z3**3*conjugate(z2)*conjugate(z3)**3 + z2*z3**2*conjugate(z2)*conjugate(z3)**2 + z2*z3*conjugate(z2)*conjugate(z3) + z2*conjugate(z2) + z3**4*conjugate(z3)**4 + z3**3*conjugate(z3)**3 + z3**2*conjugate(z3)**2 + z3*conjugate(z3) + 1)"
      ]
     },
     "execution_count": 5,
     "metadata": {},
     "output_type": "execute_result"
    }
   ],
   "source": [
    "patch.kahler_potential(H)"
   ]
  },
  {
   "cell_type": "code",
   "execution_count": 6,
   "metadata": {},
   "outputs": [
    {
     "data": {
      "text/latex": [
       "$\\displaystyle \\log{\\left(z_{0}^{4} \\overline{z_{0}}^{4} + z_{0}^{3} z_{1} \\overline{z_{0}}^{3} \\overline{z_{1}} + z_{0}^{3} z_{2} \\overline{z_{0}}^{3} \\overline{z_{2}} + z_{0}^{3} z_{3} \\overline{z_{0}}^{3} \\overline{z_{3}} + z_{0}^{2} z_{1}^{2} \\overline{z_{0}}^{2} \\overline{z_{1}}^{2} + z_{0}^{2} z_{1} z_{2} \\overline{z_{0}}^{2} \\overline{z_{1}} \\overline{z_{2}} + z_{0}^{2} z_{1} z_{3} \\overline{z_{0}}^{2} \\overline{z_{1}} \\overline{z_{3}} + z_{0}^{2} z_{2}^{2} \\overline{z_{0}}^{2} \\overline{z_{2}}^{2} + z_{0}^{2} z_{2} z_{3} \\overline{z_{0}}^{2} \\overline{z_{2}} \\overline{z_{3}} + z_{0}^{2} z_{3}^{2} \\overline{z_{0}}^{2} \\overline{z_{3}}^{2} + z_{0} z_{1}^{3} \\overline{z_{0}} \\overline{z_{1}}^{3} + z_{0} z_{1}^{2} z_{2} \\overline{z_{0}} \\overline{z_{1}}^{2} \\overline{z_{2}} + z_{0} z_{1}^{2} z_{3} \\overline{z_{0}} \\overline{z_{1}}^{2} \\overline{z_{3}} + z_{0} z_{1} z_{2}^{2} \\overline{z_{0}} \\overline{z_{1}} \\overline{z_{2}}^{2} + z_{0} z_{1} z_{2} z_{3} \\overline{z_{0}} \\overline{z_{1}} \\overline{z_{2}} \\overline{z_{3}} + z_{0} z_{1} z_{3}^{2} \\overline{z_{0}} \\overline{z_{1}} \\overline{z_{3}}^{2} + z_{0} z_{2}^{3} \\overline{z_{0}} \\overline{z_{2}}^{3} + z_{0} z_{2}^{2} z_{3} \\overline{z_{0}} \\overline{z_{2}}^{2} \\overline{z_{3}} + z_{0} z_{2} z_{3}^{2} \\overline{z_{0}} \\overline{z_{2}} \\overline{z_{3}}^{2} + z_{0} z_{3}^{3} \\overline{z_{0}} \\overline{z_{3}}^{3} + z_{1}^{4} \\overline{z_{1}}^{4} + z_{1}^{3} z_{2} \\overline{z_{1}}^{3} \\overline{z_{2}} + z_{1}^{3} z_{3} \\overline{z_{1}}^{3} \\overline{z_{3}} + z_{1}^{2} z_{2}^{2} \\overline{z_{1}}^{2} \\overline{z_{2}}^{2} + z_{1}^{2} z_{2} z_{3} \\overline{z_{1}}^{2} \\overline{z_{2}} \\overline{z_{3}} + z_{1}^{2} z_{3}^{2} \\overline{z_{1}}^{2} \\overline{z_{3}}^{2} + z_{1} z_{2}^{3} \\overline{z_{1}} \\overline{z_{2}}^{3} + z_{1} z_{2}^{2} z_{3} \\overline{z_{1}} \\overline{z_{2}}^{2} \\overline{z_{3}} + z_{1} z_{2} z_{3}^{2} \\overline{z_{1}} \\overline{z_{2}} \\overline{z_{3}}^{2} + z_{1} z_{3}^{3} \\overline{z_{1}} \\overline{z_{3}}^{3} + z_{2}^{4} \\overline{z_{2}}^{4} + z_{2}^{3} z_{3} \\overline{z_{2}}^{3} \\overline{z_{3}} + z_{2}^{2} z_{3}^{2} \\overline{z_{2}}^{2} \\overline{z_{3}}^{2} + z_{2} z_{3}^{3} \\overline{z_{2}} \\overline{z_{3}}^{3} + z_{3}^{4} \\overline{z_{3}}^{4} \\right)}$"
      ],
      "text/plain": [
       "log(z0**4*conjugate(z0)**4 + z0**3*z1*conjugate(z0)**3*conjugate(z1) + z0**3*z2*conjugate(z0)**3*conjugate(z2) + z0**3*z3*conjugate(z0)**3*conjugate(z3) + z0**2*z1**2*conjugate(z0)**2*conjugate(z1)**2 + z0**2*z1*z2*conjugate(z0)**2*conjugate(z1)*conjugate(z2) + z0**2*z1*z3*conjugate(z0)**2*conjugate(z1)*conjugate(z3) + z0**2*z2**2*conjugate(z0)**2*conjugate(z2)**2 + z0**2*z2*z3*conjugate(z0)**2*conjugate(z2)*conjugate(z3) + z0**2*z3**2*conjugate(z0)**2*conjugate(z3)**2 + z0*z1**3*conjugate(z0)*conjugate(z1)**3 + z0*z1**2*z2*conjugate(z0)*conjugate(z1)**2*conjugate(z2) + z0*z1**2*z3*conjugate(z0)*conjugate(z1)**2*conjugate(z3) + z0*z1*z2**2*conjugate(z0)*conjugate(z1)*conjugate(z2)**2 + z0*z1*z2*z3*conjugate(z0)*conjugate(z1)*conjugate(z2)*conjugate(z3) + z0*z1*z3**2*conjugate(z0)*conjugate(z1)*conjugate(z3)**2 + z0*z2**3*conjugate(z0)*conjugate(z2)**3 + z0*z2**2*z3*conjugate(z0)*conjugate(z2)**2*conjugate(z3) + z0*z2*z3**2*conjugate(z0)*conjugate(z2)*conjugate(z3)**2 + z0*z3**3*conjugate(z0)*conjugate(z3)**3 + z1**4*conjugate(z1)**4 + z1**3*z2*conjugate(z1)**3*conjugate(z2) + z1**3*z3*conjugate(z1)**3*conjugate(z3) + z1**2*z2**2*conjugate(z1)**2*conjugate(z2)**2 + z1**2*z2*z3*conjugate(z1)**2*conjugate(z2)*conjugate(z3) + z1**2*z3**2*conjugate(z1)**2*conjugate(z3)**2 + z1*z2**3*conjugate(z1)*conjugate(z2)**3 + z1*z2**2*z3*conjugate(z1)*conjugate(z2)**2*conjugate(z3) + z1*z2*z3**2*conjugate(z1)*conjugate(z2)*conjugate(z3)**2 + z1*z3**3*conjugate(z1)*conjugate(z3)**3 + z2**4*conjugate(z2)**4 + z2**3*z3*conjugate(z2)**3*conjugate(z3) + z2**2*z3**2*conjugate(z2)**2*conjugate(z3)**2 + z2*z3**3*conjugate(z2)*conjugate(z3)**3 + z3**4*conjugate(z3)**4)"
      ]
     },
     "execution_count": 6,
     "metadata": {},
     "output_type": "execute_result"
    }
   ],
   "source": [
    "HS.kahler_potential(H)"
   ]
  },
  {
   "cell_type": "code",
   "execution_count": 6,
   "metadata": {
    "scrolled": true
   },
   "outputs": [
    {
     "data": {
      "text/latex": [
       "$\\displaystyle \\left[\\begin{matrix}1 & 0\\\\- \\frac{z_{1}^{3}}{z_{2}^{3}} & - \\frac{z_{3}^{3}}{z_{2}^{3}}\\\\0 & 1\\end{matrix}\\right]$"
      ],
      "text/plain": [
       "Matrix([\n",
       "[           1,            0],\n",
       "[-z1**3/z2**3, -z3**3/z2**3],\n",
       "[           0,            1]])"
      ]
     },
     "execution_count": 6,
     "metadata": {},
     "output_type": "execute_result"
    }
   ],
   "source": [
    "HS.patches[0].patches[1].get_restriction()"
   ]
  },
  {
   "cell_type": "markdown",
   "metadata": {},
   "source": [
    "A symbolic expression is possible but too messy to show. So only numerical results are done here for demonstration"
   ]
  },
  {
   "cell_type": "code",
   "execution_count": 6,
   "metadata": {
    "scrolled": false
   },
   "outputs": [
    {
     "data": {
      "text/plain": [
       "[3.29190980174586 + 2.20104897489132e-16*I]"
      ]
     },
     "execution_count": 6,
     "metadata": {},
     "output_type": "execute_result"
    }
   ],
   "source": [
    "patch.eval(patch.get_FS_volume_form(H), patch.points[0])"
   ]
  },
  {
   "cell_type": "code",
   "execution_count": null,
   "metadata": {},
   "outputs": [],
   "source": []
  },
  {
   "cell_type": "code",
   "execution_count": null,
   "metadata": {},
   "outputs": [],
   "source": []
  }
 ],
 "metadata": {
  "kernelspec": {
   "display_name": "Python 3",
   "language": "python",
   "name": "python3"
  },
  "language_info": {
   "codemirror_mode": {
    "name": "ipython",
    "version": 3
   },
   "file_extension": ".py",
   "mimetype": "text/x-python",
   "name": "python",
   "nbconvert_exporter": "python",
   "pygments_lexer": "ipython3",
   "version": "3.7.4"
  }
 },
 "nbformat": 4,
 "nbformat_minor": 2
}
