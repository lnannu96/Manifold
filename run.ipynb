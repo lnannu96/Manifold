{
 "cells": [
  {
   "cell_type": "code",
   "execution_count": 1,
   "metadata": {},
   "outputs": [],
   "source": [
    "from hypersurface import *\n",
    "import sympy as sp\n",
    "from pprint import pprint"
   ]
  },
  {
   "cell_type": "code",
   "execution_count": 2,
   "metadata": {},
   "outputs": [],
   "source": [
    "d = 4\n",
    "z0, z1, z2, z3 = sp.symbols('z0, z1, z2, z3')\n",
    "Z = [z0,z1,z2,z3]\n",
    "f = z0**4 + z1**4 + z2**4 + z3**4\n",
    "HS = Hypersurface(Z, f, d, 1)"
   ]
  },
  {
   "cell_type": "code",
   "execution_count": 3,
   "metadata": {},
   "outputs": [
    {
     "ename": "ValueError",
     "evalue": "matmul: Input operand 1 has a mismatch in its core dimension 0, with gufunc signature (n?,k),(k,m?)->(n?,m?) (size 3 is different from 10)",
     "output_type": "error",
     "traceback": [
      "\u001b[0;31m---------------------------------------------------------------------------\u001b[0m",
      "\u001b[0;31mValueError\u001b[0m                                Traceback (most recent call last)",
      "\u001b[0;32m<ipython-input-3-7662bc8fe210>\u001b[0m in \u001b[0;36m<module>\u001b[0;34m\u001b[0m\n\u001b[1;32m      3\u001b[0m \u001b[0mZ\u001b[0m \u001b[0;34m=\u001b[0m \u001b[0;34m[\u001b[0m\u001b[0mz0\u001b[0m\u001b[0;34m,\u001b[0m\u001b[0mz1\u001b[0m\u001b[0;34m,\u001b[0m\u001b[0mz2\u001b[0m\u001b[0;34m]\u001b[0m\u001b[0;34m\u001b[0m\u001b[0;34m\u001b[0m\u001b[0m\n\u001b[1;32m      4\u001b[0m \u001b[0mf\u001b[0m \u001b[0;34m=\u001b[0m \u001b[0mz0\u001b[0m\u001b[0;34m**\u001b[0m\u001b[0;36m3\u001b[0m \u001b[0;34m+\u001b[0m \u001b[0mz1\u001b[0m\u001b[0;34m**\u001b[0m\u001b[0;36m3\u001b[0m \u001b[0;34m+\u001b[0m \u001b[0mz2\u001b[0m\u001b[0;34m**\u001b[0m\u001b[0;36m3\u001b[0m\u001b[0;34m\u001b[0m\u001b[0;34m\u001b[0m\u001b[0m\n\u001b[0;32m----> 5\u001b[0;31m \u001b[0mHS\u001b[0m \u001b[0;34m=\u001b[0m \u001b[0mHypersurface\u001b[0m\u001b[0;34m(\u001b[0m\u001b[0mZ\u001b[0m\u001b[0;34m,\u001b[0m \u001b[0mf\u001b[0m\u001b[0;34m,\u001b[0m \u001b[0md\u001b[0m\u001b[0;34m,\u001b[0m \u001b[0;36m1\u001b[0m\u001b[0;34m)\u001b[0m\u001b[0;34m\u001b[0m\u001b[0;34m\u001b[0m\u001b[0m\n\u001b[0m",
      "\u001b[0;32m~/Documents/Research/CY metric/Manifolds/hypersurface.py\u001b[0m in \u001b[0;36m__init__\u001b[0;34m(self, coordinates, function, dimensions, n_pairs, points, norm_coordinate, max_grad_coordinate)\u001b[0m\n\u001b[1;32m     24\u001b[0m         \u001b[0;32mif\u001b[0m \u001b[0mpoints\u001b[0m \u001b[0;32mis\u001b[0m \u001b[0;32mNone\u001b[0m\u001b[0;34m:\u001b[0m\u001b[0;34m\u001b[0m\u001b[0;34m\u001b[0m\u001b[0m\n\u001b[1;32m     25\u001b[0m             \u001b[0mself\u001b[0m\u001b[0;34m.\u001b[0m\u001b[0mpoints\u001b[0m \u001b[0;34m=\u001b[0m \u001b[0mself\u001b[0m\u001b[0;34m.\u001b[0m\u001b[0m__solve_points\u001b[0m\u001b[0;34m(\u001b[0m\u001b[0mn_pairs\u001b[0m\u001b[0;34m)\u001b[0m\u001b[0;34m\u001b[0m\u001b[0;34m\u001b[0m\u001b[0m\n\u001b[0;32m---> 26\u001b[0;31m             \u001b[0mself\u001b[0m\u001b[0;34m.\u001b[0m\u001b[0m__autopatch\u001b[0m\u001b[0;34m(\u001b[0m\u001b[0;34m)\u001b[0m\u001b[0;34m\u001b[0m\u001b[0;34m\u001b[0m\u001b[0m\n\u001b[0m\u001b[1;32m     27\u001b[0m         \u001b[0;32melse\u001b[0m\u001b[0;34m:\u001b[0m\u001b[0;34m\u001b[0m\u001b[0;34m\u001b[0m\u001b[0m\n\u001b[1;32m     28\u001b[0m             \u001b[0mself\u001b[0m\u001b[0;34m.\u001b[0m\u001b[0mpoints\u001b[0m \u001b[0;34m=\u001b[0m \u001b[0mpoints\u001b[0m\u001b[0;34m\u001b[0m\u001b[0;34m\u001b[0m\u001b[0m\n",
      "\u001b[0;32m~/Documents/Research/CY metric/Manifolds/hypersurface.py\u001b[0m in \u001b[0;36m__autopatch\u001b[0;34m(self)\u001b[0m\n\u001b[1;32m    166\u001b[0m                     \u001b[0;32mcontinue\u001b[0m\u001b[0;34m\u001b[0m\u001b[0;34m\u001b[0m\u001b[0m\n\u001b[1;32m    167\u001b[0m         \u001b[0;32mfor\u001b[0m \u001b[0mi\u001b[0m \u001b[0;32min\u001b[0m \u001b[0mrange\u001b[0m\u001b[0;34m(\u001b[0m\u001b[0mself\u001b[0m\u001b[0;34m.\u001b[0m\u001b[0mdimensions\u001b[0m\u001b[0;34m)\u001b[0m\u001b[0;34m:\u001b[0m\u001b[0;34m\u001b[0m\u001b[0;34m\u001b[0m\u001b[0m\n\u001b[0;32m--> 168\u001b[0;31m             \u001b[0mself\u001b[0m\u001b[0;34m.\u001b[0m\u001b[0mset_patch\u001b[0m\u001b[0;34m(\u001b[0m\u001b[0mpoints_on_patch\u001b[0m\u001b[0;34m[\u001b[0m\u001b[0mi\u001b[0m\u001b[0;34m]\u001b[0m\u001b[0;34m,\u001b[0m \u001b[0mi\u001b[0m\u001b[0;34m)\u001b[0m\u001b[0;34m\u001b[0m\u001b[0;34m\u001b[0m\u001b[0m\n\u001b[0m\u001b[1;32m    169\u001b[0m         \u001b[0;31m# Subpatches on each patch\u001b[0m\u001b[0;34m\u001b[0m\u001b[0;34m\u001b[0m\u001b[0;34m\u001b[0m\u001b[0m\n\u001b[1;32m    170\u001b[0m         \u001b[0;32mfor\u001b[0m \u001b[0mpatch\u001b[0m \u001b[0;32min\u001b[0m \u001b[0mself\u001b[0m\u001b[0;34m.\u001b[0m\u001b[0mpatches\u001b[0m\u001b[0;34m:\u001b[0m\u001b[0;34m\u001b[0m\u001b[0;34m\u001b[0m\u001b[0m\n",
      "\u001b[0;32m~/Documents/Research/CY metric/Manifolds/hypersurface.py\u001b[0m in \u001b[0;36mset_patch\u001b[0;34m(self, points_on_patch, norm_coord, max_grad_coord)\u001b[0m\n\u001b[1;32m     48\u001b[0m         new_patch = Hypersurface(self.coordinates, self.function, self.dimensions,\n\u001b[1;32m     49\u001b[0m                                  \u001b[0mpoints\u001b[0m\u001b[0;34m=\u001b[0m\u001b[0mpoints_on_patch\u001b[0m\u001b[0;34m,\u001b[0m \u001b[0mnorm_coordinate\u001b[0m\u001b[0;34m=\u001b[0m\u001b[0mnorm_coord\u001b[0m\u001b[0;34m,\u001b[0m\u001b[0;34m\u001b[0m\u001b[0;34m\u001b[0m\u001b[0m\n\u001b[0;32m---> 50\u001b[0;31m                                  max_grad_coordinate=max_grad_coord)\n\u001b[0m\u001b[1;32m     51\u001b[0m         \u001b[0mself\u001b[0m\u001b[0;34m.\u001b[0m\u001b[0mpatches\u001b[0m\u001b[0;34m.\u001b[0m\u001b[0mappend\u001b[0m\u001b[0;34m(\u001b[0m\u001b[0mnew_patch\u001b[0m\u001b[0;34m)\u001b[0m\u001b[0;34m\u001b[0m\u001b[0;34m\u001b[0m\u001b[0m\n\u001b[1;32m     52\u001b[0m \u001b[0;34m\u001b[0m\u001b[0m\n",
      "\u001b[0;32m~/Documents/Research/CY metric/Manifolds/hypersurface.py\u001b[0m in \u001b[0;36m__init__\u001b[0;34m(self, coordinates, function, dimensions, n_pairs, points, norm_coordinate, max_grad_coordinate)\u001b[0m\n\u001b[1;32m     29\u001b[0m         \u001b[0mself\u001b[0m\u001b[0;34m.\u001b[0m\u001b[0mn_points\u001b[0m \u001b[0;34m=\u001b[0m \u001b[0mlen\u001b[0m\u001b[0;34m(\u001b[0m\u001b[0mself\u001b[0m\u001b[0;34m.\u001b[0m\u001b[0mpoints\u001b[0m\u001b[0;34m)\u001b[0m\u001b[0;34m\u001b[0m\u001b[0;34m\u001b[0m\u001b[0m\n\u001b[1;32m     30\u001b[0m         \u001b[0mself\u001b[0m\u001b[0;34m.\u001b[0m\u001b[0mn_patches\u001b[0m \u001b[0;34m=\u001b[0m \u001b[0mlen\u001b[0m\u001b[0;34m(\u001b[0m\u001b[0mself\u001b[0m\u001b[0;34m.\u001b[0m\u001b[0mpatches\u001b[0m\u001b[0;34m)\u001b[0m\u001b[0;34m\u001b[0m\u001b[0;34m\u001b[0m\u001b[0m\n\u001b[0;32m---> 31\u001b[0;31m         \u001b[0mself\u001b[0m\u001b[0;34m.\u001b[0m\u001b[0minitialize_basic_properties\u001b[0m\u001b[0;34m(\u001b[0m\u001b[0;34m)\u001b[0m\u001b[0;34m\u001b[0m\u001b[0;34m\u001b[0m\u001b[0m\n\u001b[0m\u001b[1;32m     32\u001b[0m \u001b[0;34m\u001b[0m\u001b[0m\n\u001b[1;32m     33\u001b[0m     \u001b[0;32mdef\u001b[0m \u001b[0minitialize_basic_properties\u001b[0m\u001b[0;34m(\u001b[0m\u001b[0mself\u001b[0m\u001b[0;34m)\u001b[0m\u001b[0;34m:\u001b[0m\u001b[0;34m\u001b[0m\u001b[0;34m\u001b[0m\u001b[0m\n",
      "\u001b[0;32m~/Documents/Research/CY metric/Manifolds/hypersurface.py\u001b[0m in \u001b[0;36minitialize_basic_properties\u001b[0;34m(self)\u001b[0m\n\u001b[1;32m     39\u001b[0m         \u001b[0mself\u001b[0m\u001b[0;34m.\u001b[0m\u001b[0momega_omegabar\u001b[0m \u001b[0;34m=\u001b[0m \u001b[0mself\u001b[0m\u001b[0;34m.\u001b[0m\u001b[0mget_omega_omegabar\u001b[0m\u001b[0;34m(\u001b[0m\u001b[0;34m)\u001b[0m\u001b[0;34m\u001b[0m\u001b[0;34m\u001b[0m\u001b[0m\n\u001b[1;32m     40\u001b[0m         \u001b[0mself\u001b[0m\u001b[0;34m.\u001b[0m\u001b[0msections\u001b[0m\u001b[0;34m,\u001b[0m \u001b[0mself\u001b[0m\u001b[0;34m.\u001b[0m\u001b[0mn_sections\u001b[0m \u001b[0;34m=\u001b[0m \u001b[0mself\u001b[0m\u001b[0;34m.\u001b[0m\u001b[0mget_sections\u001b[0m\u001b[0;34m(\u001b[0m\u001b[0mself\u001b[0m\u001b[0;34m.\u001b[0m\u001b[0mdimensions\u001b[0m\u001b[0;34m)\u001b[0m\u001b[0;34m\u001b[0m\u001b[0;34m\u001b[0m\u001b[0m\n\u001b[0;32m---> 41\u001b[0;31m         \u001b[0mself\u001b[0m\u001b[0;34m.\u001b[0m\u001b[0mFS_Metric\u001b[0m \u001b[0;34m=\u001b[0m \u001b[0mself\u001b[0m\u001b[0;34m.\u001b[0m\u001b[0mget_FS\u001b[0m\u001b[0;34m(\u001b[0m\u001b[0;34m)\u001b[0m\u001b[0;34m\u001b[0m\u001b[0;34m\u001b[0m\u001b[0m\n\u001b[0m\u001b[1;32m     42\u001b[0m         \u001b[0;31m#self.transition_function = self.__get_transition_function()\u001b[0m\u001b[0;34m\u001b[0m\u001b[0;34m\u001b[0m\u001b[0;34m\u001b[0m\u001b[0m\n\u001b[1;32m     43\u001b[0m \u001b[0;34m\u001b[0m\u001b[0m\n",
      "\u001b[0;32m~/Documents/Research/CY metric/Manifolds/hypersurface.py\u001b[0m in \u001b[0;36mget_FS\u001b[0;34m(self)\u001b[0m\n\u001b[1;32m    183\u001b[0m \u001b[0;34m\u001b[0m\u001b[0m\n\u001b[1;32m    184\u001b[0m     \u001b[0;32mdef\u001b[0m \u001b[0mget_FS\u001b[0m\u001b[0;34m(\u001b[0m\u001b[0mself\u001b[0m\u001b[0;34m)\u001b[0m\u001b[0;34m:\u001b[0m\u001b[0;34m\u001b[0m\u001b[0;34m\u001b[0m\u001b[0m\n\u001b[0;32m--> 185\u001b[0;31m         \u001b[0mFS_metric\u001b[0m \u001b[0;34m=\u001b[0m \u001b[0mself\u001b[0m\u001b[0;34m.\u001b[0m\u001b[0mkahler_metric\u001b[0m\u001b[0;34m(\u001b[0m\u001b[0mnp\u001b[0m\u001b[0;34m.\u001b[0m\u001b[0midentity\u001b[0m\u001b[0;34m(\u001b[0m\u001b[0mself\u001b[0m\u001b[0;34m.\u001b[0m\u001b[0mn_sections\u001b[0m\u001b[0;34m,\u001b[0m \u001b[0mdtype\u001b[0m \u001b[0;34m=\u001b[0m \u001b[0mint\u001b[0m\u001b[0;34m)\u001b[0m\u001b[0;34m)\u001b[0m\u001b[0;34m\u001b[0m\u001b[0;34m\u001b[0m\u001b[0m\n\u001b[0m\u001b[1;32m    186\u001b[0m         \u001b[0;32mreturn\u001b[0m \u001b[0mFS_metric\u001b[0m\u001b[0;34m\u001b[0m\u001b[0;34m\u001b[0m\u001b[0m\n\u001b[1;32m    187\u001b[0m \u001b[0;34m\u001b[0m\u001b[0m\n",
      "\u001b[0;32m~/Documents/Research/CY metric/Manifolds/hypersurface.py\u001b[0m in \u001b[0;36mkahler_metric\u001b[0;34m(self, h_matrix)\u001b[0m\n\u001b[1;32m    246\u001b[0m \u001b[0;34m\u001b[0m\u001b[0m\n\u001b[1;32m    247\u001b[0m     \u001b[0;32mdef\u001b[0m \u001b[0mkahler_metric\u001b[0m\u001b[0;34m(\u001b[0m\u001b[0mself\u001b[0m\u001b[0;34m,\u001b[0m \u001b[0mh_matrix\u001b[0m\u001b[0;34m=\u001b[0m\u001b[0;32mNone\u001b[0m\u001b[0;34m)\u001b[0m\u001b[0;34m:\u001b[0m\u001b[0;34m\u001b[0m\u001b[0;34m\u001b[0m\u001b[0m\n\u001b[0;32m--> 248\u001b[0;31m         \u001b[0mpot\u001b[0m \u001b[0;34m=\u001b[0m \u001b[0mself\u001b[0m\u001b[0;34m.\u001b[0m\u001b[0mkahler_potential\u001b[0m\u001b[0;34m(\u001b[0m\u001b[0mh_matrix\u001b[0m\u001b[0;34m)\u001b[0m\u001b[0;34m\u001b[0m\u001b[0;34m\u001b[0m\u001b[0m\n\u001b[0m\u001b[1;32m    249\u001b[0m         \u001b[0mmetric\u001b[0m \u001b[0;34m=\u001b[0m \u001b[0;34m[\u001b[0m\u001b[0;34m]\u001b[0m\u001b[0;34m\u001b[0m\u001b[0;34m\u001b[0m\u001b[0m\n\u001b[1;32m    250\u001b[0m         \u001b[0;31m#i holomorphc, j anti-hol\u001b[0m\u001b[0;34m\u001b[0m\u001b[0;34m\u001b[0m\u001b[0;34m\u001b[0m\u001b[0m\n",
      "\u001b[0;32m~/Documents/Research/CY metric/Manifolds/hypersurface.py\u001b[0m in \u001b[0;36mkahler_potential\u001b[0;34m(self, h_matrix, k)\u001b[0m\n\u001b[1;32m    239\u001b[0m             \u001b[0mh_matrix\u001b[0m \u001b[0;34m=\u001b[0m \u001b[0msp\u001b[0m\u001b[0;34m.\u001b[0m\u001b[0mMatrixSymbol\u001b[0m\u001b[0;34m(\u001b[0m\u001b[0;34m'H'\u001b[0m\u001b[0;34m,\u001b[0m \u001b[0mn_sec\u001b[0m\u001b[0;34m,\u001b[0m \u001b[0mn_sec\u001b[0m\u001b[0;34m)\u001b[0m\u001b[0;34m\u001b[0m\u001b[0;34m\u001b[0m\u001b[0m\n\u001b[1;32m    240\u001b[0m         zbar_H_z = np.matmul(sp.conjugate(sections),\n\u001b[0;32m--> 241\u001b[0;31m                              np.matmul(h_matrix, sections))\n\u001b[0m\u001b[1;32m    242\u001b[0m         \u001b[0;32mif\u001b[0m \u001b[0mself\u001b[0m\u001b[0;34m.\u001b[0m\u001b[0mnorm_coordinate\u001b[0m \u001b[0;32mis\u001b[0m \u001b[0;32mnot\u001b[0m \u001b[0;32mNone\u001b[0m\u001b[0;34m:\u001b[0m\u001b[0;34m\u001b[0m\u001b[0;34m\u001b[0m\u001b[0m\n\u001b[1;32m    243\u001b[0m             \u001b[0mzbar_H_z\u001b[0m \u001b[0;34m=\u001b[0m \u001b[0mzbar_H_z\u001b[0m\u001b[0;34m.\u001b[0m\u001b[0msubs\u001b[0m\u001b[0;34m(\u001b[0m\u001b[0mself\u001b[0m\u001b[0;34m.\u001b[0m\u001b[0mcoordinates\u001b[0m\u001b[0;34m[\u001b[0m\u001b[0mself\u001b[0m\u001b[0;34m.\u001b[0m\u001b[0mnorm_coordinate\u001b[0m\u001b[0;34m]\u001b[0m\u001b[0;34m,\u001b[0m \u001b[0;36m1\u001b[0m\u001b[0;34m)\u001b[0m\u001b[0;34m\u001b[0m\u001b[0;34m\u001b[0m\u001b[0m\n",
      "\u001b[0;31mValueError\u001b[0m: matmul: Input operand 1 has a mismatch in its core dimension 0, with gufunc signature (n?,k),(k,m?)->(n?,m?) (size 3 is different from 10)"
     ]
    }
   ],
   "source": [
    "d = 3\n",
    "z0, z1, z2 = sp.symbols('z0, z1, z2')\n",
    "Z = [z0,z1,z2]\n",
    "f = z0**3 + z1**3 + z2**3\n",
    "HS = Hypersurface(Z, f, d, 1)"
   ]
  },
  {
   "cell_type": "code",
   "execution_count": 5,
   "metadata": {},
   "outputs": [
    {
     "name": "stdout",
     "output_type": "stream",
     "text": [
      "Number of Patches: 3\n",
      "Points in patch 1 : 30\n",
      "Points in patch 2 : 27\n",
      "Points in patch 3 : 23\n"
     ]
    }
   ],
   "source": [
    "HS.list_patches()"
   ]
  },
  {
   "cell_type": "code",
   "execution_count": 6,
   "metadata": {},
   "outputs": [
    {
     "name": "stdout",
     "output_type": "stream",
     "text": [
      "Number of Patches: 2\n",
      "Points in patch 1 : 15\n",
      "Points in patch 2 : 15\n",
      "Number of Patches: 2\n",
      "Points in patch 1 : 15\n",
      "Points in patch 2 : 12\n",
      "Number of Patches: 2\n",
      "Points in patch 1 : 10\n",
      "Points in patch 2 : 13\n"
     ]
    },
    {
     "ename": "IndexError",
     "evalue": "list index out of range",
     "output_type": "error",
     "traceback": [
      "\u001b[0;31m---------------------------------------------------------------------------\u001b[0m",
      "\u001b[0;31mIndexError\u001b[0m                                Traceback (most recent call last)",
      "\u001b[0;32m<ipython-input-6-333413391773>\u001b[0m in \u001b[0;36m<module>\u001b[0;34m\u001b[0m\n\u001b[1;32m      2\u001b[0m \u001b[0mHS\u001b[0m\u001b[0;34m.\u001b[0m\u001b[0mpatches\u001b[0m\u001b[0;34m[\u001b[0m\u001b[0;36m1\u001b[0m\u001b[0;34m]\u001b[0m\u001b[0;34m.\u001b[0m\u001b[0mlist_patches\u001b[0m\u001b[0;34m(\u001b[0m\u001b[0;34m)\u001b[0m\u001b[0;34m\u001b[0m\u001b[0;34m\u001b[0m\u001b[0m\n\u001b[1;32m      3\u001b[0m \u001b[0mHS\u001b[0m\u001b[0;34m.\u001b[0m\u001b[0mpatches\u001b[0m\u001b[0;34m[\u001b[0m\u001b[0;36m2\u001b[0m\u001b[0;34m]\u001b[0m\u001b[0;34m.\u001b[0m\u001b[0mlist_patches\u001b[0m\u001b[0;34m(\u001b[0m\u001b[0;34m)\u001b[0m\u001b[0;34m\u001b[0m\u001b[0;34m\u001b[0m\u001b[0m\n\u001b[0;32m----> 4\u001b[0;31m \u001b[0mHS\u001b[0m\u001b[0;34m.\u001b[0m\u001b[0mpatches\u001b[0m\u001b[0;34m[\u001b[0m\u001b[0;36m3\u001b[0m\u001b[0;34m]\u001b[0m\u001b[0;34m.\u001b[0m\u001b[0mlist_patches\u001b[0m\u001b[0;34m(\u001b[0m\u001b[0;34m)\u001b[0m\u001b[0;34m\u001b[0m\u001b[0;34m\u001b[0m\u001b[0m\n\u001b[0m",
      "\u001b[0;31mIndexError\u001b[0m: list index out of range"
     ]
    }
   ],
   "source": [
    "HS.patches[0].list_patches()\n",
    "HS.patches[1].list_patches()\n",
    "HS.patches[2].list_patches()\n",
    "HS.patches[3].list_patches()"
   ]
  },
  {
   "cell_type": "code",
   "execution_count": 4,
   "metadata": {},
   "outputs": [
    {
     "name": "stdout",
     "output_type": "stream",
     "text": [
      "[[[1/(4*z1**3), 1/(4*z2**3), 1/(4*z3**3)],\n",
      "  [1/(4*z1**3), 1/(4*z2**3), 1/(4*z3**3)],\n",
      "  [1/(4*z1**3), 1/(4*z2**3), 1/(4*z3**3)]],\n",
      " [[1/(4*z0**3), 1/(4*z2**3), 1/(4*z3**3)],\n",
      "  [1/(4*z0**3), 1/(4*z2**3), 1/(4*z3**3)],\n",
      "  [1/(4*z0**3), 1/(4*z2**3), 1/(4*z3**3)]],\n",
      " [[1/(4*z0**3), 1/(4*z1**3), 1/(4*z3**3)],\n",
      "  [1/(4*z0**3), 1/(4*z1**3), 1/(4*z3**3)],\n",
      "  [1/(4*z0**3), 1/(4*z1**3), 1/(4*z3**3)]],\n",
      " [[1/(4*z0**3), 1/(4*z1**3), 1/(4*z2**3)],\n",
      "  [1/(4*z0**3), 1/(4*z1**3), 1/(4*z2**3)],\n",
      "  [1/(4*z0**3), 1/(4*z1**3), 1/(4*z2**3)]]]\n"
     ]
    }
   ],
   "source": [
    "pprint(HS.holo_volume_form)"
   ]
  },
  {
   "cell_type": "code",
   "execution_count": 10,
   "metadata": {},
   "outputs": [
    {
     "name": "stdout",
     "output_type": "stream",
     "text": [
      "[1/(4*z1**3), 1/(4*z2**3), 1/(4*z3**3)]\n"
     ]
    }
   ],
   "source": [
    "pprint(HS.patches[0].patches[1].holo_volume_form)"
   ]
  },
  {
   "cell_type": "code",
   "execution_count": 6,
   "metadata": {},
   "outputs": [
    {
     "data": {
      "text/latex": [
       "$\\displaystyle 0.52371319133955 - 0.0678492615191222 i$"
      ],
      "text/plain": [
       "0.52371319133955 - 0.0678492615191222*I"
      ]
     },
     "execution_count": 6,
     "metadata": {},
     "output_type": "execute_result"
    }
   ],
   "source": [
    "HS.integrate()"
   ]
  },
  {
   "cell_type": "code",
   "execution_count": 14,
   "metadata": {},
   "outputs": [
    {
     "name": "stdout",
     "output_type": "stream",
     "text": [
      "[[1,\n",
      "  -0.194865303957873 + 0.0944059039988618*I,\n",
      "  0.709844580018724 - 0.702301247313316*I,\n",
      "  -0.354406042969675 - 0.171383482332295*I],\n",
      " [1,\n",
      "  -0.62612307841388 + 0.544497727102361*I,\n",
      "  0.569935010966305 - 0.633161667757157*I,\n",
      "  -0.256647996007303 + 0.350502911892288*I],\n",
      " [1,\n",
      "  0.308761034118796 + 0.0613154440928442*I,\n",
      "  0.563694099554169 - 0.715715188577571*I,\n",
      "  -0.4866923462728 - 0.689766412022944*I],\n",
      " [1,\n",
      "  0.250784745359482 + 0.60751273393177*I,\n",
      "  0.724372287502193 + 0.65374080009579*I,\n",
      "  -0.40831770122077 + 0.412321550999064*I],\n",
      " [1,\n",
      "  0.52046953172831 - 0.284190661414445*I,\n",
      "  -0.676309928086906 + 0.716831089462119*I,\n",
      "  -0.248735608469097 - 0.219178758807107*I]]\n"
     ]
    }
   ],
   "source": [
    "pprint(HS.patches[0].patches[1].points)"
   ]
  },
  {
   "cell_type": "code",
   "execution_count": 15,
   "metadata": {
    "scrolled": true
   },
   "outputs": [
    {
     "name": "stdout",
     "output_type": "stream",
     "text": [
      "[[-0.00875729552067465 + 0.0396523622653935*I,\n",
      "  -2.77067047036164 - 2.8609250976012*I,\n",
      "  -0.0531421218540036 - 0.238180970502432*I],\n",
      " [1.24574252909675 + 1.9157881436787*I,\n",
      "  -2.00128159704468 - 1.45268574152056*I,\n",
      "  0.310737772421555 + 0.104803581709318*I],\n",
      " [0.103811171919318 + 0.069222817402771*I,\n",
      "  -2.74855812424461 - 1.2625355704423*I,\n",
      "  2.31755822593255 - 0.647913087399382*I],\n",
      " [-1.04760028509207 - 0.438363586425494*I,\n",
      "  -2.19460432398129 + 2.9987576857232*I,\n",
      "  0.560708137646499 + 0.544529939470593*I],\n",
      " [0.0595324237403506 - 0.831998022155369*I,\n",
      "  2.93287295638591 + 2.46113501927209*I,\n",
      "  0.0818326043740603 - 0.120608705869401*I]]\n"
     ]
    }
   ],
   "source": [
    "pprint(HS.patches[0].patches[1].eval_all(\"grad\"))"
   ]
  },
  {
   "cell_type": "markdown",
   "metadata": {},
   "source": [
    "(z0*z1).subs(z1, sp.conjugate(z0))"
   ]
  },
  {
   "cell_type": "code",
   "execution_count": 3,
   "metadata": {},
   "outputs": [],
   "source": [
    "patch = HS.patches[0].patches[0]"
   ]
  },
  {
   "cell_type": "code",
   "execution_count": 7,
   "metadata": {},
   "outputs": [
    {
     "data": {
      "text/latex": [
       "$\\displaystyle \\frac{1}{16 z_{1}^{3} \\overline{z_{1}}^{3}}$"
      ],
      "text/plain": [
       "1/(16*z1**3*conjugate(z1)**3)"
      ]
     },
     "execution_count": 7,
     "metadata": {},
     "output_type": "execute_result"
    }
   ],
   "source": [
    "patch.omega_omegabar[0]"
   ]
  },
  {
   "cell_type": "code",
   "execution_count": 8,
   "metadata": {},
   "outputs": [],
   "source": [
    "sections, ns = patch.get_sections(1)\n",
    "H = np.identity(ns, dtype=int)"
   ]
  },
  {
   "cell_type": "code",
   "execution_count": 24,
   "metadata": {},
   "outputs": [
    {
     "data": {
      "text/plain": [
       "[[2.08657683346231 - 3.01418210175028e-18*I],\n",
       " [2.20302251865295 - 6.70714625829265e-19*I],\n",
       " [1.9726883761631 - 4.82539172607579e-19*I],\n",
       " [1.84279635028219 + 1.37367493522995e-19*I]]"
      ]
     },
     "execution_count": 24,
     "metadata": {},
     "output_type": "execute_result"
    }
   ],
   "source": [
    "patch.eval_all(patch.kahler_potential(H))"
   ]
  },
  {
   "cell_type": "code",
   "execution_count": 11,
   "metadata": {},
   "outputs": [
    {
     "data": {
      "text/latex": [
       "$\\displaystyle 2 z_{0} \\overline{z_{0}}$"
      ],
      "text/plain": [
       "2*z0*conjugate(z0)"
      ]
     },
     "execution_count": 11,
     "metadata": {},
     "output_type": "execute_result"
    }
   ],
   "source": [
    "diff_conjugate(sp.conjugate(z0**2)*z0, z0)"
   ]
  },
  {
   "cell_type": "code",
   "execution_count": 19,
   "metadata": {},
   "outputs": [
    {
     "data": {
      "text/latex": [
       "$\\displaystyle 2 \\left(1 - i\\right) \\left(1 + i\\right)$"
      ],
      "text/plain": [
       "2*(1 - I)*(1 + I)"
      ]
     },
     "execution_count": 19,
     "metadata": {},
     "output_type": "execute_result"
    }
   ],
   "source": [
    "from sympy import I\n",
    "diff_conjugate(sp.conjugate(z0**2)*z0, z0).subs(z0, 1+I)"
   ]
  },
  {
   "cell_type": "code",
   "execution_count": 20,
   "metadata": {},
   "outputs": [
    {
     "data": {
      "text/latex": [
       "$\\displaystyle 4$"
      ],
      "text/plain": [
       "4"
      ]
     },
     "execution_count": 20,
     "metadata": {},
     "output_type": "execute_result"
    }
   ],
   "source": [
    "sp.simplify(diff_conjugate(sp.conjugate(z0**2)*z0, z0).subs(z0, 1+I))"
   ]
  },
  {
   "cell_type": "code",
   "execution_count": 22,
   "metadata": {},
   "outputs": [],
   "source": [
    "kahler_metric = patch.kahler_metric(H)"
   ]
  },
  {
   "cell_type": "code",
   "execution_count": 23,
   "metadata": {
    "scrolled": true
   },
   "outputs": [
    {
     "data": {
      "text/latex": [
       "$\\displaystyle \\frac{z_{1} \\left(\\left(3 z_{1}^{2} \\overline{z_{1}}^{2} + 4 z_{1} z_{2} \\overline{z_{1}} \\overline{z_{2}} + 2 z_{1} z_{3} \\overline{z_{1}} \\overline{z_{3}} + 2 z_{1} \\overline{z_{1}} + 3 z_{2}^{2} \\overline{z_{2}}^{2} + 2 z_{2} z_{3} \\overline{z_{2}} \\overline{z_{3}} + 2 z_{2} \\overline{z_{2}} + z_{3}^{2} \\overline{z_{3}}^{2} + z_{3} \\overline{z_{3}} + 1\\right) \\left(z_{1}^{4} \\overline{z_{1}}^{4} + z_{1}^{3} z_{2} \\overline{z_{1}}^{3} \\overline{z_{2}} + z_{1}^{3} z_{3} \\overline{z_{1}}^{3} \\overline{z_{3}} + z_{1}^{3} \\overline{z_{1}}^{3} + z_{1}^{2} z_{2}^{2} \\overline{z_{1}}^{2} \\overline{z_{2}}^{2} + z_{1}^{2} z_{2} z_{3} \\overline{z_{1}}^{2} \\overline{z_{2}} \\overline{z_{3}} + z_{1}^{2} z_{2} \\overline{z_{1}}^{2} \\overline{z_{2}} + z_{1}^{2} z_{3}^{2} \\overline{z_{1}}^{2} \\overline{z_{3}}^{2} + z_{1}^{2} z_{3} \\overline{z_{1}}^{2} \\overline{z_{3}} + z_{1}^{2} \\overline{z_{1}}^{2} + z_{1} z_{2}^{3} \\overline{z_{1}} \\overline{z_{2}}^{3} + z_{1} z_{2}^{2} z_{3} \\overline{z_{1}} \\overline{z_{2}}^{2} \\overline{z_{3}} + z_{1} z_{2}^{2} \\overline{z_{1}} \\overline{z_{2}}^{2} + z_{1} z_{2} z_{3}^{2} \\overline{z_{1}} \\overline{z_{2}} \\overline{z_{3}}^{2} + z_{1} z_{2} z_{3} \\overline{z_{1}} \\overline{z_{2}} \\overline{z_{3}} + z_{1} z_{2} \\overline{z_{1}} \\overline{z_{2}} + z_{1} z_{3}^{3} \\overline{z_{1}} \\overline{z_{3}}^{3} + z_{1} z_{3}^{2} \\overline{z_{1}} \\overline{z_{3}}^{2} + z_{1} z_{3} \\overline{z_{1}} \\overline{z_{3}} + z_{1} \\overline{z_{1}} + z_{2}^{4} \\overline{z_{2}}^{4} + z_{2}^{3} z_{3} \\overline{z_{2}}^{3} \\overline{z_{3}} + z_{2}^{3} \\overline{z_{2}}^{3} + z_{2}^{2} z_{3}^{2} \\overline{z_{2}}^{2} \\overline{z_{3}}^{2} + z_{2}^{2} z_{3} \\overline{z_{2}}^{2} \\overline{z_{3}} + z_{2}^{2} \\overline{z_{2}}^{2} + z_{2} z_{3}^{3} \\overline{z_{2}} \\overline{z_{3}}^{3} + z_{2} z_{3}^{2} \\overline{z_{2}} \\overline{z_{3}}^{2} + z_{2} z_{3} \\overline{z_{2}} \\overline{z_{3}} + z_{2} \\overline{z_{2}} + z_{3}^{4} \\overline{z_{3}}^{4} + z_{3}^{3} \\overline{z_{3}}^{3} + z_{3}^{2} \\overline{z_{3}}^{2} + z_{3} \\overline{z_{3}} + 1\\right) - \\left(z_{1}^{3} \\overline{z_{1}}^{3} + 2 z_{1}^{2} z_{2} \\overline{z_{1}}^{2} \\overline{z_{2}} + z_{1}^{2} z_{3} \\overline{z_{1}}^{2} \\overline{z_{3}} + z_{1}^{2} \\overline{z_{1}}^{2} + 3 z_{1} z_{2}^{2} \\overline{z_{1}} \\overline{z_{2}}^{2} + 2 z_{1} z_{2} z_{3} \\overline{z_{1}} \\overline{z_{2}} \\overline{z_{3}} + 2 z_{1} z_{2} \\overline{z_{1}} \\overline{z_{2}} + z_{1} z_{3}^{2} \\overline{z_{1}} \\overline{z_{3}}^{2} + z_{1} z_{3} \\overline{z_{1}} \\overline{z_{3}} + z_{1} \\overline{z_{1}} + 4 z_{2}^{3} \\overline{z_{2}}^{3} + 3 z_{2}^{2} z_{3} \\overline{z_{2}}^{2} \\overline{z_{3}} + 3 z_{2}^{2} \\overline{z_{2}}^{2} + 2 z_{2} z_{3}^{2} \\overline{z_{2}} \\overline{z_{3}}^{2} + 2 z_{2} z_{3} \\overline{z_{2}} \\overline{z_{3}} + 2 z_{2} \\overline{z_{2}} + z_{3}^{3} \\overline{z_{3}}^{3} + z_{3}^{2} \\overline{z_{3}}^{2} + z_{3} \\overline{z_{3}} + 1\\right) \\left(4 z_{1}^{3} \\overline{z_{1}}^{3} + 3 z_{1}^{2} z_{2} \\overline{z_{1}}^{2} \\overline{z_{2}} + 3 z_{1}^{2} z_{3} \\overline{z_{1}}^{2} \\overline{z_{3}} + 3 z_{1}^{2} \\overline{z_{1}}^{2} + 2 z_{1} z_{2}^{2} \\overline{z_{1}} \\overline{z_{2}}^{2} + 2 z_{1} z_{2} z_{3} \\overline{z_{1}} \\overline{z_{2}} \\overline{z_{3}} + 2 z_{1} z_{2} \\overline{z_{1}} \\overline{z_{2}} + 2 z_{1} z_{3}^{2} \\overline{z_{1}} \\overline{z_{3}}^{2} + 2 z_{1} z_{3} \\overline{z_{1}} \\overline{z_{3}} + 2 z_{1} \\overline{z_{1}} + z_{2}^{3} \\overline{z_{2}}^{3} + z_{2}^{2} z_{3} \\overline{z_{2}}^{2} \\overline{z_{3}} + z_{2}^{2} \\overline{z_{2}}^{2} + z_{2} z_{3}^{2} \\overline{z_{2}} \\overline{z_{3}}^{2} + z_{2} z_{3} \\overline{z_{2}} \\overline{z_{3}} + z_{2} \\overline{z_{2}} + z_{3}^{3} \\overline{z_{3}}^{3} + z_{3}^{2} \\overline{z_{3}}^{2} + z_{3} \\overline{z_{3}} + 1\\right)\\right) \\overline{z_{2}}}{\\left(z_{1}^{4} \\overline{z_{1}}^{4} + z_{1}^{3} z_{2} \\overline{z_{1}}^{3} \\overline{z_{2}} + z_{1}^{3} z_{3} \\overline{z_{1}}^{3} \\overline{z_{3}} + z_{1}^{3} \\overline{z_{1}}^{3} + z_{1}^{2} z_{2}^{2} \\overline{z_{1}}^{2} \\overline{z_{2}}^{2} + z_{1}^{2} z_{2} z_{3} \\overline{z_{1}}^{2} \\overline{z_{2}} \\overline{z_{3}} + z_{1}^{2} z_{2} \\overline{z_{1}}^{2} \\overline{z_{2}} + z_{1}^{2} z_{3}^{2} \\overline{z_{1}}^{2} \\overline{z_{3}}^{2} + z_{1}^{2} z_{3} \\overline{z_{1}}^{2} \\overline{z_{3}} + z_{1}^{2} \\overline{z_{1}}^{2} + z_{1} z_{2}^{3} \\overline{z_{1}} \\overline{z_{2}}^{3} + z_{1} z_{2}^{2} z_{3} \\overline{z_{1}} \\overline{z_{2}}^{2} \\overline{z_{3}} + z_{1} z_{2}^{2} \\overline{z_{1}} \\overline{z_{2}}^{2} + z_{1} z_{2} z_{3}^{2} \\overline{z_{1}} \\overline{z_{2}} \\overline{z_{3}}^{2} + z_{1} z_{2} z_{3} \\overline{z_{1}} \\overline{z_{2}} \\overline{z_{3}} + z_{1} z_{2} \\overline{z_{1}} \\overline{z_{2}} + z_{1} z_{3}^{3} \\overline{z_{1}} \\overline{z_{3}}^{3} + z_{1} z_{3}^{2} \\overline{z_{1}} \\overline{z_{3}}^{2} + z_{1} z_{3} \\overline{z_{1}} \\overline{z_{3}} + z_{1} \\overline{z_{1}} + z_{2}^{4} \\overline{z_{2}}^{4} + z_{2}^{3} z_{3} \\overline{z_{2}}^{3} \\overline{z_{3}} + z_{2}^{3} \\overline{z_{2}}^{3} + z_{2}^{2} z_{3}^{2} \\overline{z_{2}}^{2} \\overline{z_{3}}^{2} + z_{2}^{2} z_{3} \\overline{z_{2}}^{2} \\overline{z_{3}} + z_{2}^{2} \\overline{z_{2}}^{2} + z_{2} z_{3}^{3} \\overline{z_{2}} \\overline{z_{3}}^{3} + z_{2} z_{3}^{2} \\overline{z_{2}} \\overline{z_{3}}^{2} + z_{2} z_{3} \\overline{z_{2}} \\overline{z_{3}} + z_{2} \\overline{z_{2}} + z_{3}^{4} \\overline{z_{3}}^{4} + z_{3}^{3} \\overline{z_{3}}^{3} + z_{3}^{2} \\overline{z_{3}}^{2} + z_{3} \\overline{z_{3}} + 1\\right)^{2}}$"
      ],
      "text/plain": [
       "z1*((3*z1**2*conjugate(z1)**2 + 4*z1*z2*conjugate(z1)*conjugate(z2) + 2*z1*z3*conjugate(z1)*conjugate(z3) + 2*z1*conjugate(z1) + 3*z2**2*conjugate(z2)**2 + 2*z2*z3*conjugate(z2)*conjugate(z3) + 2*z2*conjugate(z2) + z3**2*conjugate(z3)**2 + z3*conjugate(z3) + 1)*(z1**4*conjugate(z1)**4 + z1**3*z2*conjugate(z1)**3*conjugate(z2) + z1**3*z3*conjugate(z1)**3*conjugate(z3) + z1**3*conjugate(z1)**3 + z1**2*z2**2*conjugate(z1)**2*conjugate(z2)**2 + z1**2*z2*z3*conjugate(z1)**2*conjugate(z2)*conjugate(z3) + z1**2*z2*conjugate(z1)**2*conjugate(z2) + z1**2*z3**2*conjugate(z1)**2*conjugate(z3)**2 + z1**2*z3*conjugate(z1)**2*conjugate(z3) + z1**2*conjugate(z1)**2 + z1*z2**3*conjugate(z1)*conjugate(z2)**3 + z1*z2**2*z3*conjugate(z1)*conjugate(z2)**2*conjugate(z3) + z1*z2**2*conjugate(z1)*conjugate(z2)**2 + z1*z2*z3**2*conjugate(z1)*conjugate(z2)*conjugate(z3)**2 + z1*z2*z3*conjugate(z1)*conjugate(z2)*conjugate(z3) + z1*z2*conjugate(z1)*conjugate(z2) + z1*z3**3*conjugate(z1)*conjugate(z3)**3 + z1*z3**2*conjugate(z1)*conjugate(z3)**2 + z1*z3*conjugate(z1)*conjugate(z3) + z1*conjugate(z1) + z2**4*conjugate(z2)**4 + z2**3*z3*conjugate(z2)**3*conjugate(z3) + z2**3*conjugate(z2)**3 + z2**2*z3**2*conjugate(z2)**2*conjugate(z3)**2 + z2**2*z3*conjugate(z2)**2*conjugate(z3) + z2**2*conjugate(z2)**2 + z2*z3**3*conjugate(z2)*conjugate(z3)**3 + z2*z3**2*conjugate(z2)*conjugate(z3)**2 + z2*z3*conjugate(z2)*conjugate(z3) + z2*conjugate(z2) + z3**4*conjugate(z3)**4 + z3**3*conjugate(z3)**3 + z3**2*conjugate(z3)**2 + z3*conjugate(z3) + 1) - (z1**3*conjugate(z1)**3 + 2*z1**2*z2*conjugate(z1)**2*conjugate(z2) + z1**2*z3*conjugate(z1)**2*conjugate(z3) + z1**2*conjugate(z1)**2 + 3*z1*z2**2*conjugate(z1)*conjugate(z2)**2 + 2*z1*z2*z3*conjugate(z1)*conjugate(z2)*conjugate(z3) + 2*z1*z2*conjugate(z1)*conjugate(z2) + z1*z3**2*conjugate(z1)*conjugate(z3)**2 + z1*z3*conjugate(z1)*conjugate(z3) + z1*conjugate(z1) + 4*z2**3*conjugate(z2)**3 + 3*z2**2*z3*conjugate(z2)**2*conjugate(z3) + 3*z2**2*conjugate(z2)**2 + 2*z2*z3**2*conjugate(z2)*conjugate(z3)**2 + 2*z2*z3*conjugate(z2)*conjugate(z3) + 2*z2*conjugate(z2) + z3**3*conjugate(z3)**3 + z3**2*conjugate(z3)**2 + z3*conjugate(z3) + 1)*(4*z1**3*conjugate(z1)**3 + 3*z1**2*z2*conjugate(z1)**2*conjugate(z2) + 3*z1**2*z3*conjugate(z1)**2*conjugate(z3) + 3*z1**2*conjugate(z1)**2 + 2*z1*z2**2*conjugate(z1)*conjugate(z2)**2 + 2*z1*z2*z3*conjugate(z1)*conjugate(z2)*conjugate(z3) + 2*z1*z2*conjugate(z1)*conjugate(z2) + 2*z1*z3**2*conjugate(z1)*conjugate(z3)**2 + 2*z1*z3*conjugate(z1)*conjugate(z3) + 2*z1*conjugate(z1) + z2**3*conjugate(z2)**3 + z2**2*z3*conjugate(z2)**2*conjugate(z3) + z2**2*conjugate(z2)**2 + z2*z3**2*conjugate(z2)*conjugate(z3)**2 + z2*z3*conjugate(z2)*conjugate(z3) + z2*conjugate(z2) + z3**3*conjugate(z3)**3 + z3**2*conjugate(z3)**2 + z3*conjugate(z3) + 1))*conjugate(z2)/(z1**4*conjugate(z1)**4 + z1**3*z2*conjugate(z1)**3*conjugate(z2) + z1**3*z3*conjugate(z1)**3*conjugate(z3) + z1**3*conjugate(z1)**3 + z1**2*z2**2*conjugate(z1)**2*conjugate(z2)**2 + z1**2*z2*z3*conjugate(z1)**2*conjugate(z2)*conjugate(z3) + z1**2*z2*conjugate(z1)**2*conjugate(z2) + z1**2*z3**2*conjugate(z1)**2*conjugate(z3)**2 + z1**2*z3*conjugate(z1)**2*conjugate(z3) + z1**2*conjugate(z1)**2 + z1*z2**3*conjugate(z1)*conjugate(z2)**3 + z1*z2**2*z3*conjugate(z1)*conjugate(z2)**2*conjugate(z3) + z1*z2**2*conjugate(z1)*conjugate(z2)**2 + z1*z2*z3**2*conjugate(z1)*conjugate(z2)*conjugate(z3)**2 + z1*z2*z3*conjugate(z1)*conjugate(z2)*conjugate(z3) + z1*z2*conjugate(z1)*conjugate(z2) + z1*z3**3*conjugate(z1)*conjugate(z3)**3 + z1*z3**2*conjugate(z1)*conjugate(z3)**2 + z1*z3*conjugate(z1)*conjugate(z3) + z1*conjugate(z1) + z2**4*conjugate(z2)**4 + z2**3*z3*conjugate(z2)**3*conjugate(z3) + z2**3*conjugate(z2)**3 + z2**2*z3**2*conjugate(z2)**2*conjugate(z3)**2 + z2**2*z3*conjugate(z2)**2*conjugate(z3) + z2**2*conjugate(z2)**2 + z2*z3**3*conjugate(z2)*conjugate(z3)**3 + z2*z3**2*conjugate(z2)*conjugate(z3)**2 + z2*z3*conjugate(z2)*conjugate(z3) + z2*conjugate(z2) + z3**4*conjugate(z3)**4 + z3**3*conjugate(z3)**3 + z3**2*conjugate(z3)**2 + z3*conjugate(z3) + 1)**2"
      ]
     },
     "execution_count": 23,
     "metadata": {},
     "output_type": "execute_result"
    }
   ],
   "source": [
    "sp.simplify(kahler_metric[1,0])"
   ]
  },
  {
   "cell_type": "code",
   "execution_count": 16,
   "metadata": {},
   "outputs": [
    {
     "data": {
      "text/latex": [
       "$\\displaystyle \\frac{d}{d z_{0}} \\overline{z_{0}}$"
      ],
      "text/plain": [
       "Derivative(conjugate(z0), z0)"
      ]
     },
     "execution_count": 16,
     "metadata": {},
     "output_type": "execute_result"
    }
   ],
   "source": [
    "sp.diff(z0.conjugate(),z0)"
   ]
  },
  {
   "cell_type": "code",
   "execution_count": 9,
   "metadata": {},
   "outputs": [
    {
     "data": {
      "text/latex": [
       "$\\displaystyle 0$"
      ],
      "text/plain": [
       "0"
      ]
     },
     "execution_count": 9,
     "metadata": {},
     "output_type": "execute_result"
    }
   ],
   "source": [
    "diff(z0.conjugate(),z0)"
   ]
  },
  {
   "cell_type": "code",
   "execution_count": 19,
   "metadata": {},
   "outputs": [
    {
     "data": {
      "text/plain": [
       "[1.76545621188312 + 1.01256201626336e-17*I,\n",
       " -0.250229443663092 - 0.0181126389488606*I,\n",
       " -0.0227562473307802 + 0.42356508583968*I,\n",
       " -0.250229443663091 + 0.0181126389488606*I,\n",
       " 1.28078460258853 + 7.63955784475731e-18*I,\n",
       " 0.00306463665785434 + 0.164886501705404*I,\n",
       " -0.0227562473307802 - 0.42356508583968*I,\n",
       " 0.00306463665785434 - 0.164886501705404*I,\n",
       " 1.57400270292397 + 9.80541398608896e-18*I]"
      ]
     },
     "execution_count": 19,
     "metadata": {},
     "output_type": "execute_result"
    }
   ],
   "source": [
    "patch.eval(kahler_metric, patch.points[0])"
   ]
  },
  {
   "cell_type": "code",
   "execution_count": 10,
   "metadata": {},
   "outputs": [],
   "source": [
    "kahler_metric_global = HS.kahler_metric(H)"
   ]
  },
  {
   "cell_type": "code",
   "execution_count": null,
   "metadata": {},
   "outputs": [],
   "source": [
    "patch.eval_all(kahler_metric)"
   ]
  },
  {
   "cell_type": "code",
   "execution_count": null,
   "metadata": {},
   "outputs": [],
   "source": [
    "sp.simplify(kahler_metric.det())"
   ]
  },
  {
   "cell_type": "code",
   "execution_count": 5,
   "metadata": {},
   "outputs": [
    {
     "data": {
      "text/plain": [
       "(array([z0**4, z0**3*z1, z0**3*z2, z0**3*z3, z0**2*z1**2, z0**2*z1*z2,\n",
       "        z0**2*z1*z3, z0**2*z2**2, z0**2*z2*z3, z0**2*z3**2, z0*z1**3,\n",
       "        z0*z1**2*z2, z0*z1**2*z3, z0*z1*z2**2, z0*z1*z2*z3, z0*z1*z3**2,\n",
       "        z0*z2**3, z0*z2**2*z3, z0*z2*z3**2, z0*z3**3, z1**4, z1**3*z2,\n",
       "        z1**3*z3, z1**2*z2**2, z1**2*z2*z3, z1**2*z3**2, z1*z2**3,\n",
       "        z1*z2**2*z3, z1*z2*z3**2, z1*z3**3, z2**4, z2**3*z3, z2**2*z3**2,\n",
       "        z2*z3**3, z3**4], dtype=object), 35)"
      ]
     },
     "execution_count": 5,
     "metadata": {},
     "output_type": "execute_result"
    }
   ],
   "source": [
    "patch.get_sections()"
   ]
  },
  {
   "cell_type": "code",
   "execution_count": 5,
   "metadata": {},
   "outputs": [
    {
     "data": {
      "text/latex": [
       "$\\displaystyle \\log{\\left(z_{1}^{4} \\overline{z_{1}}^{4} + z_{1}^{3} z_{2} \\overline{z_{1}}^{3} \\overline{z_{2}} + z_{1}^{3} z_{3} \\overline{z_{1}}^{3} \\overline{z_{3}} + z_{1}^{3} \\overline{z_{1}}^{3} + z_{1}^{2} z_{2}^{2} \\overline{z_{1}}^{2} \\overline{z_{2}}^{2} + z_{1}^{2} z_{2} z_{3} \\overline{z_{1}}^{2} \\overline{z_{2}} \\overline{z_{3}} + z_{1}^{2} z_{2} \\overline{z_{1}}^{2} \\overline{z_{2}} + z_{1}^{2} z_{3}^{2} \\overline{z_{1}}^{2} \\overline{z_{3}}^{2} + z_{1}^{2} z_{3} \\overline{z_{1}}^{2} \\overline{z_{3}} + z_{1}^{2} \\overline{z_{1}}^{2} + z_{1} z_{2}^{3} \\overline{z_{1}} \\overline{z_{2}}^{3} + z_{1} z_{2}^{2} z_{3} \\overline{z_{1}} \\overline{z_{2}}^{2} \\overline{z_{3}} + z_{1} z_{2}^{2} \\overline{z_{1}} \\overline{z_{2}}^{2} + z_{1} z_{2} z_{3}^{2} \\overline{z_{1}} \\overline{z_{2}} \\overline{z_{3}}^{2} + z_{1} z_{2} z_{3} \\overline{z_{1}} \\overline{z_{2}} \\overline{z_{3}} + z_{1} z_{2} \\overline{z_{1}} \\overline{z_{2}} + z_{1} z_{3}^{3} \\overline{z_{1}} \\overline{z_{3}}^{3} + z_{1} z_{3}^{2} \\overline{z_{1}} \\overline{z_{3}}^{2} + z_{1} z_{3} \\overline{z_{1}} \\overline{z_{3}} + z_{1} \\overline{z_{1}} + z_{2}^{4} \\overline{z_{2}}^{4} + z_{2}^{3} z_{3} \\overline{z_{2}}^{3} \\overline{z_{3}} + z_{2}^{3} \\overline{z_{2}}^{3} + z_{2}^{2} z_{3}^{2} \\overline{z_{2}}^{2} \\overline{z_{3}}^{2} + z_{2}^{2} z_{3} \\overline{z_{2}}^{2} \\overline{z_{3}} + z_{2}^{2} \\overline{z_{2}}^{2} + z_{2} z_{3}^{3} \\overline{z_{2}} \\overline{z_{3}}^{3} + z_{2} z_{3}^{2} \\overline{z_{2}} \\overline{z_{3}}^{2} + z_{2} z_{3} \\overline{z_{2}} \\overline{z_{3}} + z_{2} \\overline{z_{2}} + z_{3}^{4} \\overline{z_{3}}^{4} + z_{3}^{3} \\overline{z_{3}}^{3} + z_{3}^{2} \\overline{z_{3}}^{2} + z_{3} \\overline{z_{3}} + 1 \\right)}$"
      ],
      "text/plain": [
       "log(z1**4*conjugate(z1)**4 + z1**3*z2*conjugate(z1)**3*conjugate(z2) + z1**3*z3*conjugate(z1)**3*conjugate(z3) + z1**3*conjugate(z1)**3 + z1**2*z2**2*conjugate(z1)**2*conjugate(z2)**2 + z1**2*z2*z3*conjugate(z1)**2*conjugate(z2)*conjugate(z3) + z1**2*z2*conjugate(z1)**2*conjugate(z2) + z1**2*z3**2*conjugate(z1)**2*conjugate(z3)**2 + z1**2*z3*conjugate(z1)**2*conjugate(z3) + z1**2*conjugate(z1)**2 + z1*z2**3*conjugate(z1)*conjugate(z2)**3 + z1*z2**2*z3*conjugate(z1)*conjugate(z2)**2*conjugate(z3) + z1*z2**2*conjugate(z1)*conjugate(z2)**2 + z1*z2*z3**2*conjugate(z1)*conjugate(z2)*conjugate(z3)**2 + z1*z2*z3*conjugate(z1)*conjugate(z2)*conjugate(z3) + z1*z2*conjugate(z1)*conjugate(z2) + z1*z3**3*conjugate(z1)*conjugate(z3)**3 + z1*z3**2*conjugate(z1)*conjugate(z3)**2 + z1*z3*conjugate(z1)*conjugate(z3) + z1*conjugate(z1) + z2**4*conjugate(z2)**4 + z2**3*z3*conjugate(z2)**3*conjugate(z3) + z2**3*conjugate(z2)**3 + z2**2*z3**2*conjugate(z2)**2*conjugate(z3)**2 + z2**2*z3*conjugate(z2)**2*conjugate(z3) + z2**2*conjugate(z2)**2 + z2*z3**3*conjugate(z2)*conjugate(z3)**3 + z2*z3**2*conjugate(z2)*conjugate(z3)**2 + z2*z3*conjugate(z2)*conjugate(z3) + z2*conjugate(z2) + z3**4*conjugate(z3)**4 + z3**3*conjugate(z3)**3 + z3**2*conjugate(z3)**2 + z3*conjugate(z3) + 1)"
      ]
     },
     "execution_count": 5,
     "metadata": {},
     "output_type": "execute_result"
    }
   ],
   "source": [
    "patch.kahler_potential(H)"
   ]
  },
  {
   "cell_type": "code",
   "execution_count": 6,
   "metadata": {},
   "outputs": [
    {
     "data": {
      "text/latex": [
       "$\\displaystyle \\log{\\left(z_{0}^{4} \\overline{z_{0}}^{4} + z_{0}^{3} z_{1} \\overline{z_{0}}^{3} \\overline{z_{1}} + z_{0}^{3} z_{2} \\overline{z_{0}}^{3} \\overline{z_{2}} + z_{0}^{3} z_{3} \\overline{z_{0}}^{3} \\overline{z_{3}} + z_{0}^{2} z_{1}^{2} \\overline{z_{0}}^{2} \\overline{z_{1}}^{2} + z_{0}^{2} z_{1} z_{2} \\overline{z_{0}}^{2} \\overline{z_{1}} \\overline{z_{2}} + z_{0}^{2} z_{1} z_{3} \\overline{z_{0}}^{2} \\overline{z_{1}} \\overline{z_{3}} + z_{0}^{2} z_{2}^{2} \\overline{z_{0}}^{2} \\overline{z_{2}}^{2} + z_{0}^{2} z_{2} z_{3} \\overline{z_{0}}^{2} \\overline{z_{2}} \\overline{z_{3}} + z_{0}^{2} z_{3}^{2} \\overline{z_{0}}^{2} \\overline{z_{3}}^{2} + z_{0} z_{1}^{3} \\overline{z_{0}} \\overline{z_{1}}^{3} + z_{0} z_{1}^{2} z_{2} \\overline{z_{0}} \\overline{z_{1}}^{2} \\overline{z_{2}} + z_{0} z_{1}^{2} z_{3} \\overline{z_{0}} \\overline{z_{1}}^{2} \\overline{z_{3}} + z_{0} z_{1} z_{2}^{2} \\overline{z_{0}} \\overline{z_{1}} \\overline{z_{2}}^{2} + z_{0} z_{1} z_{2} z_{3} \\overline{z_{0}} \\overline{z_{1}} \\overline{z_{2}} \\overline{z_{3}} + z_{0} z_{1} z_{3}^{2} \\overline{z_{0}} \\overline{z_{1}} \\overline{z_{3}}^{2} + z_{0} z_{2}^{3} \\overline{z_{0}} \\overline{z_{2}}^{3} + z_{0} z_{2}^{2} z_{3} \\overline{z_{0}} \\overline{z_{2}}^{2} \\overline{z_{3}} + z_{0} z_{2} z_{3}^{2} \\overline{z_{0}} \\overline{z_{2}} \\overline{z_{3}}^{2} + z_{0} z_{3}^{3} \\overline{z_{0}} \\overline{z_{3}}^{3} + z_{1}^{4} \\overline{z_{1}}^{4} + z_{1}^{3} z_{2} \\overline{z_{1}}^{3} \\overline{z_{2}} + z_{1}^{3} z_{3} \\overline{z_{1}}^{3} \\overline{z_{3}} + z_{1}^{2} z_{2}^{2} \\overline{z_{1}}^{2} \\overline{z_{2}}^{2} + z_{1}^{2} z_{2} z_{3} \\overline{z_{1}}^{2} \\overline{z_{2}} \\overline{z_{3}} + z_{1}^{2} z_{3}^{2} \\overline{z_{1}}^{2} \\overline{z_{3}}^{2} + z_{1} z_{2}^{3} \\overline{z_{1}} \\overline{z_{2}}^{3} + z_{1} z_{2}^{2} z_{3} \\overline{z_{1}} \\overline{z_{2}}^{2} \\overline{z_{3}} + z_{1} z_{2} z_{3}^{2} \\overline{z_{1}} \\overline{z_{2}} \\overline{z_{3}}^{2} + z_{1} z_{3}^{3} \\overline{z_{1}} \\overline{z_{3}}^{3} + z_{2}^{4} \\overline{z_{2}}^{4} + z_{2}^{3} z_{3} \\overline{z_{2}}^{3} \\overline{z_{3}} + z_{2}^{2} z_{3}^{2} \\overline{z_{2}}^{2} \\overline{z_{3}}^{2} + z_{2} z_{3}^{3} \\overline{z_{2}} \\overline{z_{3}}^{3} + z_{3}^{4} \\overline{z_{3}}^{4} \\right)}$"
      ],
      "text/plain": [
       "log(z0**4*conjugate(z0)**4 + z0**3*z1*conjugate(z0)**3*conjugate(z1) + z0**3*z2*conjugate(z0)**3*conjugate(z2) + z0**3*z3*conjugate(z0)**3*conjugate(z3) + z0**2*z1**2*conjugate(z0)**2*conjugate(z1)**2 + z0**2*z1*z2*conjugate(z0)**2*conjugate(z1)*conjugate(z2) + z0**2*z1*z3*conjugate(z0)**2*conjugate(z1)*conjugate(z3) + z0**2*z2**2*conjugate(z0)**2*conjugate(z2)**2 + z0**2*z2*z3*conjugate(z0)**2*conjugate(z2)*conjugate(z3) + z0**2*z3**2*conjugate(z0)**2*conjugate(z3)**2 + z0*z1**3*conjugate(z0)*conjugate(z1)**3 + z0*z1**2*z2*conjugate(z0)*conjugate(z1)**2*conjugate(z2) + z0*z1**2*z3*conjugate(z0)*conjugate(z1)**2*conjugate(z3) + z0*z1*z2**2*conjugate(z0)*conjugate(z1)*conjugate(z2)**2 + z0*z1*z2*z3*conjugate(z0)*conjugate(z1)*conjugate(z2)*conjugate(z3) + z0*z1*z3**2*conjugate(z0)*conjugate(z1)*conjugate(z3)**2 + z0*z2**3*conjugate(z0)*conjugate(z2)**3 + z0*z2**2*z3*conjugate(z0)*conjugate(z2)**2*conjugate(z3) + z0*z2*z3**2*conjugate(z0)*conjugate(z2)*conjugate(z3)**2 + z0*z3**3*conjugate(z0)*conjugate(z3)**3 + z1**4*conjugate(z1)**4 + z1**3*z2*conjugate(z1)**3*conjugate(z2) + z1**3*z3*conjugate(z1)**3*conjugate(z3) + z1**2*z2**2*conjugate(z1)**2*conjugate(z2)**2 + z1**2*z2*z3*conjugate(z1)**2*conjugate(z2)*conjugate(z3) + z1**2*z3**2*conjugate(z1)**2*conjugate(z3)**2 + z1*z2**3*conjugate(z1)*conjugate(z2)**3 + z1*z2**2*z3*conjugate(z1)*conjugate(z2)**2*conjugate(z3) + z1*z2*z3**2*conjugate(z1)*conjugate(z2)*conjugate(z3)**2 + z1*z3**3*conjugate(z1)*conjugate(z3)**3 + z2**4*conjugate(z2)**4 + z2**3*z3*conjugate(z2)**3*conjugate(z3) + z2**2*z3**2*conjugate(z2)**2*conjugate(z3)**2 + z2*z3**3*conjugate(z2)*conjugate(z3)**3 + z3**4*conjugate(z3)**4)"
      ]
     },
     "execution_count": 6,
     "metadata": {},
     "output_type": "execute_result"
    }
   ],
   "source": [
    "HS.kahler_potential(H)"
   ]
  },
  {
   "cell_type": "code",
   "execution_count": 9,
   "metadata": {
    "scrolled": true
   },
   "outputs": [
    {
     "data": {
      "text/latex": [
       "$\\displaystyle \\left[\\begin{matrix}1\\\\- \\frac{z_{1}^{2}}{z_{2}^{2}}\\end{matrix}\\right]$"
      ],
      "text/plain": [
       "Matrix([\n",
       "[           1],\n",
       "[-z1**2/z2**2]])"
      ]
     },
     "execution_count": 9,
     "metadata": {},
     "output_type": "execute_result"
    }
   ],
   "source": [
    "HS.patches[0].patches[1].get_restriction()"
   ]
  },
  {
   "cell_type": "markdown",
   "metadata": {},
   "source": [
    "A symbolic expression is possible but too messy to show. So only numerical results are done here for demonstration"
   ]
  },
  {
   "cell_type": "code",
   "execution_count": 6,
   "metadata": {
    "scrolled": false
   },
   "outputs": [
    {
     "data": {
      "text/plain": [
       "[3.29190980174586 + 2.20104897489132e-16*I]"
      ]
     },
     "execution_count": 6,
     "metadata": {},
     "output_type": "execute_result"
    }
   ],
   "source": [
    "patch.eval(patch.get_FS_volume_form(H), patch.points[0])"
   ]
  },
  {
   "cell_type": "code",
   "execution_count": 13,
   "metadata": {},
   "outputs": [],
   "source": [
    "H = np.identity(patch.n_sections,dtype = int)\n",
    "H[0,0] = 2"
   ]
  },
  {
   "cell_type": "code",
   "execution_count": 17,
   "metadata": {},
   "outputs": [
    {
     "name": "stdout",
     "output_type": "stream",
     "text": [
      "5.28395275226717 + 7.67745575710904e-17*I\n",
      "11.4410771352703 + 1.56535772598337e-16*I\n",
      "9.97915060810477 - 4.36736525935988e-18*I\n",
      "7.58730327531563 + 3.05545260275775e-18*I\n",
      "10.7670648627349 - 1.3900316604268e-16*I\n",
      "8.40666944947547 - 6.14910813809926e-17*I\n"
     ]
    }
   ],
   "source": [
    "integral = 0\n",
    "for patch in HS.patches:\n",
    "    for subpatch in patch.patches:\n",
    "        sub_integral = subpatch.integrate(1/subpatch.get_FS_volume_form(H))\n",
    "        print(sub_integral)\n",
    "        integral += sub_integral"
   ]
  },
  {
   "cell_type": "code",
   "execution_count": 10,
   "metadata": {},
   "outputs": [
    {
     "data": {
      "text/latex": [
       "$\\displaystyle \\left[\\begin{matrix}\\frac{4 z_{1} \\overline{z_{1}} + z_{2} \\overline{z_{2}} + z_{3} \\overline{z_{3}} + 1}{z_{1}^{2} \\overline{z_{1}}^{2} + z_{1} z_{2} \\overline{z_{1}} \\overline{z_{2}} + z_{1} z_{3} \\overline{z_{1}} \\overline{z_{3}} + z_{1} \\overline{z_{1}} + z_{2}^{2} \\overline{z_{2}}^{2} + z_{2} z_{3} \\overline{z_{2}} \\overline{z_{3}} + z_{2} \\overline{z_{2}} + z_{3}^{2} \\overline{z_{3}}^{2} + z_{3} \\overline{z_{3}} + 1} + \\frac{\\left(- 2 z_{1} \\overline{z_{1}}^{2} - z_{2} \\overline{z_{1}} \\overline{z_{2}} - z_{3} \\overline{z_{1}} \\overline{z_{3}} - \\overline{z_{1}}\\right) \\left(2 z_{1}^{2} \\overline{z_{1}} + z_{1} z_{2} \\overline{z_{2}} + z_{1} z_{3} \\overline{z_{3}} + z_{1}\\right)}{\\left(z_{1}^{2} \\overline{z_{1}}^{2} + z_{1} z_{2} \\overline{z_{1}} \\overline{z_{2}} + z_{1} z_{3} \\overline{z_{1}} \\overline{z_{3}} + z_{1} \\overline{z_{1}} + z_{2}^{2} \\overline{z_{2}}^{2} + z_{2} z_{3} \\overline{z_{2}} \\overline{z_{3}} + z_{2} \\overline{z_{2}} + z_{3}^{2} \\overline{z_{3}}^{2} + z_{3} \\overline{z_{3}} + 1\\right)^{2}} & \\frac{z_{2} \\overline{z_{1}}}{z_{1}^{2} \\overline{z_{1}}^{2} + z_{1} z_{2} \\overline{z_{1}} \\overline{z_{2}} + z_{1} z_{3} \\overline{z_{1}} \\overline{z_{3}} + z_{1} \\overline{z_{1}} + z_{2}^{2} \\overline{z_{2}}^{2} + z_{2} z_{3} \\overline{z_{2}} \\overline{z_{3}} + z_{2} \\overline{z_{2}} + z_{3}^{2} \\overline{z_{3}}^{2} + z_{3} \\overline{z_{3}} + 1} + \\frac{\\left(- 2 z_{1} \\overline{z_{1}}^{2} - z_{2} \\overline{z_{1}} \\overline{z_{2}} - z_{3} \\overline{z_{1}} \\overline{z_{3}} - \\overline{z_{1}}\\right) \\left(z_{1} z_{2} \\overline{z_{1}} + 2 z_{2}^{2} \\overline{z_{2}} + z_{2} z_{3} \\overline{z_{3}} + z_{2}\\right)}{\\left(z_{1}^{2} \\overline{z_{1}}^{2} + z_{1} z_{2} \\overline{z_{1}} \\overline{z_{2}} + z_{1} z_{3} \\overline{z_{1}} \\overline{z_{3}} + z_{1} \\overline{z_{1}} + z_{2}^{2} \\overline{z_{2}}^{2} + z_{2} z_{3} \\overline{z_{2}} \\overline{z_{3}} + z_{2} \\overline{z_{2}} + z_{3}^{2} \\overline{z_{3}}^{2} + z_{3} \\overline{z_{3}} + 1\\right)^{2}} & \\frac{z_{3} \\overline{z_{1}}}{z_{1}^{2} \\overline{z_{1}}^{2} + z_{1} z_{2} \\overline{z_{1}} \\overline{z_{2}} + z_{1} z_{3} \\overline{z_{1}} \\overline{z_{3}} + z_{1} \\overline{z_{1}} + z_{2}^{2} \\overline{z_{2}}^{2} + z_{2} z_{3} \\overline{z_{2}} \\overline{z_{3}} + z_{2} \\overline{z_{2}} + z_{3}^{2} \\overline{z_{3}}^{2} + z_{3} \\overline{z_{3}} + 1} + \\frac{\\left(- 2 z_{1} \\overline{z_{1}}^{2} - z_{2} \\overline{z_{1}} \\overline{z_{2}} - z_{3} \\overline{z_{1}} \\overline{z_{3}} - \\overline{z_{1}}\\right) \\left(z_{1} z_{3} \\overline{z_{1}} + z_{2} z_{3} \\overline{z_{2}} + 2 z_{3}^{2} \\overline{z_{3}} + z_{3}\\right)}{\\left(z_{1}^{2} \\overline{z_{1}}^{2} + z_{1} z_{2} \\overline{z_{1}} \\overline{z_{2}} + z_{1} z_{3} \\overline{z_{1}} \\overline{z_{3}} + z_{1} \\overline{z_{1}} + z_{2}^{2} \\overline{z_{2}}^{2} + z_{2} z_{3} \\overline{z_{2}} \\overline{z_{3}} + z_{2} \\overline{z_{2}} + z_{3}^{2} \\overline{z_{3}}^{2} + z_{3} \\overline{z_{3}} + 1\\right)^{2}}\\\\\\frac{z_{1} \\overline{z_{2}}}{z_{1}^{2} \\overline{z_{1}}^{2} + z_{1} z_{2} \\overline{z_{1}} \\overline{z_{2}} + z_{1} z_{3} \\overline{z_{1}} \\overline{z_{3}} + z_{1} \\overline{z_{1}} + z_{2}^{2} \\overline{z_{2}}^{2} + z_{2} z_{3} \\overline{z_{2}} \\overline{z_{3}} + z_{2} \\overline{z_{2}} + z_{3}^{2} \\overline{z_{3}}^{2} + z_{3} \\overline{z_{3}} + 1} + \\frac{\\left(2 z_{1}^{2} \\overline{z_{1}} + z_{1} z_{2} \\overline{z_{2}} + z_{1} z_{3} \\overline{z_{3}} + z_{1}\\right) \\left(- z_{1} \\overline{z_{1}} \\overline{z_{2}} - 2 z_{2} \\overline{z_{2}}^{2} - z_{3} \\overline{z_{2}} \\overline{z_{3}} - \\overline{z_{2}}\\right)}{\\left(z_{1}^{2} \\overline{z_{1}}^{2} + z_{1} z_{2} \\overline{z_{1}} \\overline{z_{2}} + z_{1} z_{3} \\overline{z_{1}} \\overline{z_{3}} + z_{1} \\overline{z_{1}} + z_{2}^{2} \\overline{z_{2}}^{2} + z_{2} z_{3} \\overline{z_{2}} \\overline{z_{3}} + z_{2} \\overline{z_{2}} + z_{3}^{2} \\overline{z_{3}}^{2} + z_{3} \\overline{z_{3}} + 1\\right)^{2}} & \\frac{z_{1} \\overline{z_{1}} + 4 z_{2} \\overline{z_{2}} + z_{3} \\overline{z_{3}} + 1}{z_{1}^{2} \\overline{z_{1}}^{2} + z_{1} z_{2} \\overline{z_{1}} \\overline{z_{2}} + z_{1} z_{3} \\overline{z_{1}} \\overline{z_{3}} + z_{1} \\overline{z_{1}} + z_{2}^{2} \\overline{z_{2}}^{2} + z_{2} z_{3} \\overline{z_{2}} \\overline{z_{3}} + z_{2} \\overline{z_{2}} + z_{3}^{2} \\overline{z_{3}}^{2} + z_{3} \\overline{z_{3}} + 1} + \\frac{\\left(z_{1} z_{2} \\overline{z_{1}} + 2 z_{2}^{2} \\overline{z_{2}} + z_{2} z_{3} \\overline{z_{3}} + z_{2}\\right) \\left(- z_{1} \\overline{z_{1}} \\overline{z_{2}} - 2 z_{2} \\overline{z_{2}}^{2} - z_{3} \\overline{z_{2}} \\overline{z_{3}} - \\overline{z_{2}}\\right)}{\\left(z_{1}^{2} \\overline{z_{1}}^{2} + z_{1} z_{2} \\overline{z_{1}} \\overline{z_{2}} + z_{1} z_{3} \\overline{z_{1}} \\overline{z_{3}} + z_{1} \\overline{z_{1}} + z_{2}^{2} \\overline{z_{2}}^{2} + z_{2} z_{3} \\overline{z_{2}} \\overline{z_{3}} + z_{2} \\overline{z_{2}} + z_{3}^{2} \\overline{z_{3}}^{2} + z_{3} \\overline{z_{3}} + 1\\right)^{2}} & \\frac{z_{3} \\overline{z_{2}}}{z_{1}^{2} \\overline{z_{1}}^{2} + z_{1} z_{2} \\overline{z_{1}} \\overline{z_{2}} + z_{1} z_{3} \\overline{z_{1}} \\overline{z_{3}} + z_{1} \\overline{z_{1}} + z_{2}^{2} \\overline{z_{2}}^{2} + z_{2} z_{3} \\overline{z_{2}} \\overline{z_{3}} + z_{2} \\overline{z_{2}} + z_{3}^{2} \\overline{z_{3}}^{2} + z_{3} \\overline{z_{3}} + 1} + \\frac{\\left(z_{1} z_{3} \\overline{z_{1}} + z_{2} z_{3} \\overline{z_{2}} + 2 z_{3}^{2} \\overline{z_{3}} + z_{3}\\right) \\left(- z_{1} \\overline{z_{1}} \\overline{z_{2}} - 2 z_{2} \\overline{z_{2}}^{2} - z_{3} \\overline{z_{2}} \\overline{z_{3}} - \\overline{z_{2}}\\right)}{\\left(z_{1}^{2} \\overline{z_{1}}^{2} + z_{1} z_{2} \\overline{z_{1}} \\overline{z_{2}} + z_{1} z_{3} \\overline{z_{1}} \\overline{z_{3}} + z_{1} \\overline{z_{1}} + z_{2}^{2} \\overline{z_{2}}^{2} + z_{2} z_{3} \\overline{z_{2}} \\overline{z_{3}} + z_{2} \\overline{z_{2}} + z_{3}^{2} \\overline{z_{3}}^{2} + z_{3} \\overline{z_{3}} + 1\\right)^{2}}\\\\\\frac{z_{1} \\overline{z_{3}}}{z_{1}^{2} \\overline{z_{1}}^{2} + z_{1} z_{2} \\overline{z_{1}} \\overline{z_{2}} + z_{1} z_{3} \\overline{z_{1}} \\overline{z_{3}} + z_{1} \\overline{z_{1}} + z_{2}^{2} \\overline{z_{2}}^{2} + z_{2} z_{3} \\overline{z_{2}} \\overline{z_{3}} + z_{2} \\overline{z_{2}} + z_{3}^{2} \\overline{z_{3}}^{2} + z_{3} \\overline{z_{3}} + 1} + \\frac{\\left(2 z_{1}^{2} \\overline{z_{1}} + z_{1} z_{2} \\overline{z_{2}} + z_{1} z_{3} \\overline{z_{3}} + z_{1}\\right) \\left(- z_{1} \\overline{z_{1}} \\overline{z_{3}} - z_{2} \\overline{z_{2}} \\overline{z_{3}} - 2 z_{3} \\overline{z_{3}}^{2} - \\overline{z_{3}}\\right)}{\\left(z_{1}^{2} \\overline{z_{1}}^{2} + z_{1} z_{2} \\overline{z_{1}} \\overline{z_{2}} + z_{1} z_{3} \\overline{z_{1}} \\overline{z_{3}} + z_{1} \\overline{z_{1}} + z_{2}^{2} \\overline{z_{2}}^{2} + z_{2} z_{3} \\overline{z_{2}} \\overline{z_{3}} + z_{2} \\overline{z_{2}} + z_{3}^{2} \\overline{z_{3}}^{2} + z_{3} \\overline{z_{3}} + 1\\right)^{2}} & \\frac{z_{2} \\overline{z_{3}}}{z_{1}^{2} \\overline{z_{1}}^{2} + z_{1} z_{2} \\overline{z_{1}} \\overline{z_{2}} + z_{1} z_{3} \\overline{z_{1}} \\overline{z_{3}} + z_{1} \\overline{z_{1}} + z_{2}^{2} \\overline{z_{2}}^{2} + z_{2} z_{3} \\overline{z_{2}} \\overline{z_{3}} + z_{2} \\overline{z_{2}} + z_{3}^{2} \\overline{z_{3}}^{2} + z_{3} \\overline{z_{3}} + 1} + \\frac{\\left(z_{1} z_{2} \\overline{z_{1}} + 2 z_{2}^{2} \\overline{z_{2}} + z_{2} z_{3} \\overline{z_{3}} + z_{2}\\right) \\left(- z_{1} \\overline{z_{1}} \\overline{z_{3}} - z_{2} \\overline{z_{2}} \\overline{z_{3}} - 2 z_{3} \\overline{z_{3}}^{2} - \\overline{z_{3}}\\right)}{\\left(z_{1}^{2} \\overline{z_{1}}^{2} + z_{1} z_{2} \\overline{z_{1}} \\overline{z_{2}} + z_{1} z_{3} \\overline{z_{1}} \\overline{z_{3}} + z_{1} \\overline{z_{1}} + z_{2}^{2} \\overline{z_{2}}^{2} + z_{2} z_{3} \\overline{z_{2}} \\overline{z_{3}} + z_{2} \\overline{z_{2}} + z_{3}^{2} \\overline{z_{3}}^{2} + z_{3} \\overline{z_{3}} + 1\\right)^{2}} & \\frac{z_{1} \\overline{z_{1}} + z_{2} \\overline{z_{2}} + 4 z_{3} \\overline{z_{3}} + 1}{z_{1}^{2} \\overline{z_{1}}^{2} + z_{1} z_{2} \\overline{z_{1}} \\overline{z_{2}} + z_{1} z_{3} \\overline{z_{1}} \\overline{z_{3}} + z_{1} \\overline{z_{1}} + z_{2}^{2} \\overline{z_{2}}^{2} + z_{2} z_{3} \\overline{z_{2}} \\overline{z_{3}} + z_{2} \\overline{z_{2}} + z_{3}^{2} \\overline{z_{3}}^{2} + z_{3} \\overline{z_{3}} + 1} + \\frac{\\left(z_{1} z_{3} \\overline{z_{1}} + z_{2} z_{3} \\overline{z_{2}} + 2 z_{3}^{2} \\overline{z_{3}} + z_{3}\\right) \\left(- z_{1} \\overline{z_{1}} \\overline{z_{3}} - z_{2} \\overline{z_{2}} \\overline{z_{3}} - 2 z_{3} \\overline{z_{3}}^{2} - \\overline{z_{3}}\\right)}{\\left(z_{1}^{2} \\overline{z_{1}}^{2} + z_{1} z_{2} \\overline{z_{1}} \\overline{z_{2}} + z_{1} z_{3} \\overline{z_{1}} \\overline{z_{3}} + z_{1} \\overline{z_{1}} + z_{2}^{2} \\overline{z_{2}}^{2} + z_{2} z_{3} \\overline{z_{2}} \\overline{z_{3}} + z_{2} \\overline{z_{2}} + z_{3}^{2} \\overline{z_{3}}^{2} + z_{3} \\overline{z_{3}} + 1\\right)^{2}}\\end{matrix}\\right]$"
      ],
      "text/plain": [
       "Matrix([\n",
       "[(4*z1*conjugate(z1) + z2*conjugate(z2) + z3*conjugate(z3) + 1)/(z1**2*conjugate(z1)**2 + z1*z2*conjugate(z1)*conjugate(z2) + z1*z3*conjugate(z1)*conjugate(z3) + z1*conjugate(z1) + z2**2*conjugate(z2)**2 + z2*z3*conjugate(z2)*conjugate(z3) + z2*conjugate(z2) + z3**2*conjugate(z3)**2 + z3*conjugate(z3) + 1) + (-2*z1*conjugate(z1)**2 - z2*conjugate(z1)*conjugate(z2) - z3*conjugate(z1)*conjugate(z3) - conjugate(z1))*(2*z1**2*conjugate(z1) + z1*z2*conjugate(z2) + z1*z3*conjugate(z3) + z1)/(z1**2*conjugate(z1)**2 + z1*z2*conjugate(z1)*conjugate(z2) + z1*z3*conjugate(z1)*conjugate(z3) + z1*conjugate(z1) + z2**2*conjugate(z2)**2 + z2*z3*conjugate(z2)*conjugate(z3) + z2*conjugate(z2) + z3**2*conjugate(z3)**2 + z3*conjugate(z3) + 1)**2,                                               z2*conjugate(z1)/(z1**2*conjugate(z1)**2 + z1*z2*conjugate(z1)*conjugate(z2) + z1*z3*conjugate(z1)*conjugate(z3) + z1*conjugate(z1) + z2**2*conjugate(z2)**2 + z2*z3*conjugate(z2)*conjugate(z3) + z2*conjugate(z2) + z3**2*conjugate(z3)**2 + z3*conjugate(z3) + 1) + (-2*z1*conjugate(z1)**2 - z2*conjugate(z1)*conjugate(z2) - z3*conjugate(z1)*conjugate(z3) - conjugate(z1))*(z1*z2*conjugate(z1) + 2*z2**2*conjugate(z2) + z2*z3*conjugate(z3) + z2)/(z1**2*conjugate(z1)**2 + z1*z2*conjugate(z1)*conjugate(z2) + z1*z3*conjugate(z1)*conjugate(z3) + z1*conjugate(z1) + z2**2*conjugate(z2)**2 + z2*z3*conjugate(z2)*conjugate(z3) + z2*conjugate(z2) + z3**2*conjugate(z3)**2 + z3*conjugate(z3) + 1)**2,                                               z3*conjugate(z1)/(z1**2*conjugate(z1)**2 + z1*z2*conjugate(z1)*conjugate(z2) + z1*z3*conjugate(z1)*conjugate(z3) + z1*conjugate(z1) + z2**2*conjugate(z2)**2 + z2*z3*conjugate(z2)*conjugate(z3) + z2*conjugate(z2) + z3**2*conjugate(z3)**2 + z3*conjugate(z3) + 1) + (-2*z1*conjugate(z1)**2 - z2*conjugate(z1)*conjugate(z2) - z3*conjugate(z1)*conjugate(z3) - conjugate(z1))*(z1*z3*conjugate(z1) + z2*z3*conjugate(z2) + 2*z3**2*conjugate(z3) + z3)/(z1**2*conjugate(z1)**2 + z1*z2*conjugate(z1)*conjugate(z2) + z1*z3*conjugate(z1)*conjugate(z3) + z1*conjugate(z1) + z2**2*conjugate(z2)**2 + z2*z3*conjugate(z2)*conjugate(z3) + z2*conjugate(z2) + z3**2*conjugate(z3)**2 + z3*conjugate(z3) + 1)**2],\n",
       "[                                              z1*conjugate(z2)/(z1**2*conjugate(z1)**2 + z1*z2*conjugate(z1)*conjugate(z2) + z1*z3*conjugate(z1)*conjugate(z3) + z1*conjugate(z1) + z2**2*conjugate(z2)**2 + z2*z3*conjugate(z2)*conjugate(z3) + z2*conjugate(z2) + z3**2*conjugate(z3)**2 + z3*conjugate(z3) + 1) + (2*z1**2*conjugate(z1) + z1*z2*conjugate(z2) + z1*z3*conjugate(z3) + z1)*(-z1*conjugate(z1)*conjugate(z2) - 2*z2*conjugate(z2)**2 - z3*conjugate(z2)*conjugate(z3) - conjugate(z2))/(z1**2*conjugate(z1)**2 + z1*z2*conjugate(z1)*conjugate(z2) + z1*z3*conjugate(z1)*conjugate(z3) + z1*conjugate(z1) + z2**2*conjugate(z2)**2 + z2*z3*conjugate(z2)*conjugate(z3) + z2*conjugate(z2) + z3**2*conjugate(z3)**2 + z3*conjugate(z3) + 1)**2, (z1*conjugate(z1) + 4*z2*conjugate(z2) + z3*conjugate(z3) + 1)/(z1**2*conjugate(z1)**2 + z1*z2*conjugate(z1)*conjugate(z2) + z1*z3*conjugate(z1)*conjugate(z3) + z1*conjugate(z1) + z2**2*conjugate(z2)**2 + z2*z3*conjugate(z2)*conjugate(z3) + z2*conjugate(z2) + z3**2*conjugate(z3)**2 + z3*conjugate(z3) + 1) + (z1*z2*conjugate(z1) + 2*z2**2*conjugate(z2) + z2*z3*conjugate(z3) + z2)*(-z1*conjugate(z1)*conjugate(z2) - 2*z2*conjugate(z2)**2 - z3*conjugate(z2)*conjugate(z3) - conjugate(z2))/(z1**2*conjugate(z1)**2 + z1*z2*conjugate(z1)*conjugate(z2) + z1*z3*conjugate(z1)*conjugate(z3) + z1*conjugate(z1) + z2**2*conjugate(z2)**2 + z2*z3*conjugate(z2)*conjugate(z3) + z2*conjugate(z2) + z3**2*conjugate(z3)**2 + z3*conjugate(z3) + 1)**2,                                               z3*conjugate(z2)/(z1**2*conjugate(z1)**2 + z1*z2*conjugate(z1)*conjugate(z2) + z1*z3*conjugate(z1)*conjugate(z3) + z1*conjugate(z1) + z2**2*conjugate(z2)**2 + z2*z3*conjugate(z2)*conjugate(z3) + z2*conjugate(z2) + z3**2*conjugate(z3)**2 + z3*conjugate(z3) + 1) + (z1*z3*conjugate(z1) + z2*z3*conjugate(z2) + 2*z3**2*conjugate(z3) + z3)*(-z1*conjugate(z1)*conjugate(z2) - 2*z2*conjugate(z2)**2 - z3*conjugate(z2)*conjugate(z3) - conjugate(z2))/(z1**2*conjugate(z1)**2 + z1*z2*conjugate(z1)*conjugate(z2) + z1*z3*conjugate(z1)*conjugate(z3) + z1*conjugate(z1) + z2**2*conjugate(z2)**2 + z2*z3*conjugate(z2)*conjugate(z3) + z2*conjugate(z2) + z3**2*conjugate(z3)**2 + z3*conjugate(z3) + 1)**2],\n",
       "[                                              z1*conjugate(z3)/(z1**2*conjugate(z1)**2 + z1*z2*conjugate(z1)*conjugate(z2) + z1*z3*conjugate(z1)*conjugate(z3) + z1*conjugate(z1) + z2**2*conjugate(z2)**2 + z2*z3*conjugate(z2)*conjugate(z3) + z2*conjugate(z2) + z3**2*conjugate(z3)**2 + z3*conjugate(z3) + 1) + (2*z1**2*conjugate(z1) + z1*z2*conjugate(z2) + z1*z3*conjugate(z3) + z1)*(-z1*conjugate(z1)*conjugate(z3) - z2*conjugate(z2)*conjugate(z3) - 2*z3*conjugate(z3)**2 - conjugate(z3))/(z1**2*conjugate(z1)**2 + z1*z2*conjugate(z1)*conjugate(z2) + z1*z3*conjugate(z1)*conjugate(z3) + z1*conjugate(z1) + z2**2*conjugate(z2)**2 + z2*z3*conjugate(z2)*conjugate(z3) + z2*conjugate(z2) + z3**2*conjugate(z3)**2 + z3*conjugate(z3) + 1)**2,                                               z2*conjugate(z3)/(z1**2*conjugate(z1)**2 + z1*z2*conjugate(z1)*conjugate(z2) + z1*z3*conjugate(z1)*conjugate(z3) + z1*conjugate(z1) + z2**2*conjugate(z2)**2 + z2*z3*conjugate(z2)*conjugate(z3) + z2*conjugate(z2) + z3**2*conjugate(z3)**2 + z3*conjugate(z3) + 1) + (z1*z2*conjugate(z1) + 2*z2**2*conjugate(z2) + z2*z3*conjugate(z3) + z2)*(-z1*conjugate(z1)*conjugate(z3) - z2*conjugate(z2)*conjugate(z3) - 2*z3*conjugate(z3)**2 - conjugate(z3))/(z1**2*conjugate(z1)**2 + z1*z2*conjugate(z1)*conjugate(z2) + z1*z3*conjugate(z1)*conjugate(z3) + z1*conjugate(z1) + z2**2*conjugate(z2)**2 + z2*z3*conjugate(z2)*conjugate(z3) + z2*conjugate(z2) + z3**2*conjugate(z3)**2 + z3*conjugate(z3) + 1)**2, (z1*conjugate(z1) + z2*conjugate(z2) + 4*z3*conjugate(z3) + 1)/(z1**2*conjugate(z1)**2 + z1*z2*conjugate(z1)*conjugate(z2) + z1*z3*conjugate(z1)*conjugate(z3) + z1*conjugate(z1) + z2**2*conjugate(z2)**2 + z2*z3*conjugate(z2)*conjugate(z3) + z2*conjugate(z2) + z3**2*conjugate(z3)**2 + z3*conjugate(z3) + 1) + (z1*z3*conjugate(z1) + z2*z3*conjugate(z2) + 2*z3**2*conjugate(z3) + z3)*(-z1*conjugate(z1)*conjugate(z3) - z2*conjugate(z2)*conjugate(z3) - 2*z3*conjugate(z3)**2 - conjugate(z3))/(z1**2*conjugate(z1)**2 + z1*z2*conjugate(z1)*conjugate(z2) + z1*z3*conjugate(z1)*conjugate(z3) + z1*conjugate(z1) + z2**2*conjugate(z2)**2 + z2*z3*conjugate(z2)*conjugate(z3) + z2*conjugate(z2) + z3**2*conjugate(z3)**2 + z3*conjugate(z3) + 1)**2]])"
      ]
     },
     "execution_count": 10,
     "metadata": {},
     "output_type": "execute_result"
    }
   ],
   "source": [
    "k = 2\n",
    "sections, ns = patch.get_sections(k)\n",
    "H = np.identity(ns, dtype=int)\n",
    "patch.kahler_metric(H,k)"
   ]
  },
  {
   "cell_type": "code",
   "execution_count": null,
   "metadata": {},
   "outputs": [],
   "source": []
  },
  {
   "cell_type": "code",
   "execution_count": 18,
   "metadata": {},
   "outputs": [
    {
     "name": "stdout",
     "output_type": "stream",
     "text": [
      "2.67326090415841 + 1.57520850445765e-18*I\n"
     ]
    }
   ],
   "source": [
    "print(integral/20)"
   ]
  },
  {
   "cell_type": "markdown",
   "metadata": {},
   "source": [
    "Identity H: 4.26920229357033 + 1.26550694578833e-17*I"
   ]
  },
  {
   "cell_type": "code",
   "execution_count": null,
   "metadata": {},
   "outputs": [],
   "source": []
  }
 ],
 "metadata": {
  "kernelspec": {
   "display_name": "Python 3",
   "language": "python",
   "name": "python3"
  },
  "language_info": {
   "codemirror_mode": {
    "name": "ipython",
    "version": 3
   },
   "file_extension": ".py",
   "mimetype": "text/x-python",
   "name": "python",
   "nbconvert_exporter": "python",
   "pygments_lexer": "ipython3",
   "version": "3.7.4"
  }
 },
 "nbformat": 4,
 "nbformat_minor": 2
}
