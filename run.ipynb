{
 "cells": [
  {
   "cell_type": "code",
   "execution_count": 1,
   "metadata": {},
   "outputs": [],
   "source": [
    "from hypersurface import *\n",
    "import sympy as sp\n",
    "from pprint import pprint"
   ]
  },
  {
   "cell_type": "code",
   "execution_count": 2,
   "metadata": {},
   "outputs": [],
   "source": [
    "d = 4\n",
    "z0, z1, z2, z3 = sp.symbols('z0, z1, z2, z3')\n",
    "Z = [z0,z1,z2,z3]\n",
    "f = z0**4 + z1**4 + z2**4 + z3**4\n",
    "HS = Hypersurface(Z, f, d, 20)"
   ]
  },
  {
   "cell_type": "code",
   "execution_count": 3,
   "metadata": {},
   "outputs": [
    {
     "name": "stdout",
     "output_type": "stream",
     "text": [
      "Number of Patches: 4\n",
      "Points in patch 1 : 19\n",
      "Points in patch 2 : 14\n",
      "Points in patch 3 : 24\n",
      "Points in patch 4 : 23\n"
     ]
    }
   ],
   "source": [
    "HS.list_patches()"
   ]
  },
  {
   "cell_type": "code",
   "execution_count": 4,
   "metadata": {},
   "outputs": [
    {
     "name": "stdout",
     "output_type": "stream",
     "text": [
      "Number of Patches: 3\n",
      "Points in patch 1 : 4\n",
      "Points in patch 2 : 9\n",
      "Points in patch 3 : 6\n",
      "Number of Patches: 3\n",
      "Points in patch 1 : 4\n",
      "Points in patch 2 : 3\n",
      "Points in patch 3 : 7\n",
      "Number of Patches: 3\n",
      "Points in patch 1 : 6\n",
      "Points in patch 2 : 8\n",
      "Points in patch 3 : 10\n",
      "Number of Patches: 3\n",
      "Points in patch 1 : 4\n",
      "Points in patch 2 : 9\n",
      "Points in patch 3 : 10\n"
     ]
    }
   ],
   "source": [
    "HS.patches[0].list_patches()\n",
    "HS.patches[1].list_patches()\n",
    "HS.patches[2].list_patches()\n",
    "HS.patches[3].list_patches()"
   ]
  },
  {
   "cell_type": "code",
   "execution_count": 9,
   "metadata": {},
   "outputs": [
    {
     "name": "stdout",
     "output_type": "stream",
     "text": [
      "[[[1/(4*z1**3), 1/(4*z2**3), 1/(4*z3**3)],\n",
      "  [1/(4*z1**3), 1/(4*z2**3), 1/(4*z3**3)],\n",
      "  [1/(4*z1**3), 1/(4*z2**3), 1/(4*z3**3)]],\n",
      " [[1/(4*z0**3), 1/(4*z2**3), 1/(4*z3**3)],\n",
      "  [1/(4*z0**3), 1/(4*z2**3), 1/(4*z3**3)],\n",
      "  [1/(4*z0**3), 1/(4*z2**3), 1/(4*z3**3)]],\n",
      " [[1/(4*z0**3), 1/(4*z1**3), 1/(4*z3**3)],\n",
      "  [1/(4*z0**3), 1/(4*z1**3), 1/(4*z3**3)],\n",
      "  [1/(4*z0**3), 1/(4*z1**3), 1/(4*z3**3)]],\n",
      " [[1/(4*z0**3), 1/(4*z1**3), 1/(4*z2**3)],\n",
      "  [1/(4*z0**3), 1/(4*z1**3), 1/(4*z2**3)],\n",
      "  [1/(4*z0**3), 1/(4*z1**3), 1/(4*z2**3)]]]\n"
     ]
    }
   ],
   "source": [
    "pprint(HS.holo_volume_form)"
   ]
  },
  {
   "cell_type": "code",
   "execution_count": 10,
   "metadata": {},
   "outputs": [
    {
     "name": "stdout",
     "output_type": "stream",
     "text": [
      "[1/(4*z1**3), 1/(4*z2**3), 1/(4*z3**3)]\n"
     ]
    }
   ],
   "source": [
    "pprint(HS.patches[0].patches[1].holo_volume_form)"
   ]
  },
  {
   "cell_type": "code",
   "execution_count": 6,
   "metadata": {},
   "outputs": [
    {
     "data": {
      "text/latex": [
       "$\\displaystyle 0.52371319133955 - 0.0678492615191222 i$"
      ],
      "text/plain": [
       "0.52371319133955 - 0.0678492615191222*I"
      ]
     },
     "execution_count": 6,
     "metadata": {},
     "output_type": "execute_result"
    }
   ],
   "source": [
    "HS.integrate()"
   ]
  },
  {
   "cell_type": "code",
   "execution_count": 14,
   "metadata": {},
   "outputs": [
    {
     "name": "stdout",
     "output_type": "stream",
     "text": [
      "[[1,\n",
      "  -0.194865303957873 + 0.0944059039988618*I,\n",
      "  0.709844580018724 - 0.702301247313316*I,\n",
      "  -0.354406042969675 - 0.171383482332295*I],\n",
      " [1,\n",
      "  -0.62612307841388 + 0.544497727102361*I,\n",
      "  0.569935010966305 - 0.633161667757157*I,\n",
      "  -0.256647996007303 + 0.350502911892288*I],\n",
      " [1,\n",
      "  0.308761034118796 + 0.0613154440928442*I,\n",
      "  0.563694099554169 - 0.715715188577571*I,\n",
      "  -0.4866923462728 - 0.689766412022944*I],\n",
      " [1,\n",
      "  0.250784745359482 + 0.60751273393177*I,\n",
      "  0.724372287502193 + 0.65374080009579*I,\n",
      "  -0.40831770122077 + 0.412321550999064*I],\n",
      " [1,\n",
      "  0.52046953172831 - 0.284190661414445*I,\n",
      "  -0.676309928086906 + 0.716831089462119*I,\n",
      "  -0.248735608469097 - 0.219178758807107*I]]\n"
     ]
    }
   ],
   "source": [
    "pprint(HS.patches[0].patches[1].points)"
   ]
  },
  {
   "cell_type": "code",
   "execution_count": 15,
   "metadata": {
    "scrolled": true
   },
   "outputs": [
    {
     "name": "stdout",
     "output_type": "stream",
     "text": [
      "[[-0.00875729552067465 + 0.0396523622653935*I,\n",
      "  -2.77067047036164 - 2.8609250976012*I,\n",
      "  -0.0531421218540036 - 0.238180970502432*I],\n",
      " [1.24574252909675 + 1.9157881436787*I,\n",
      "  -2.00128159704468 - 1.45268574152056*I,\n",
      "  0.310737772421555 + 0.104803581709318*I],\n",
      " [0.103811171919318 + 0.069222817402771*I,\n",
      "  -2.74855812424461 - 1.2625355704423*I,\n",
      "  2.31755822593255 - 0.647913087399382*I],\n",
      " [-1.04760028509207 - 0.438363586425494*I,\n",
      "  -2.19460432398129 + 2.9987576857232*I,\n",
      "  0.560708137646499 + 0.544529939470593*I],\n",
      " [0.0595324237403506 - 0.831998022155369*I,\n",
      "  2.93287295638591 + 2.46113501927209*I,\n",
      "  0.0818326043740603 - 0.120608705869401*I]]\n"
     ]
    }
   ],
   "source": [
    "pprint(HS.patches[0].patches[1].eval_all(\"grad\"))"
   ]
  },
  {
   "cell_type": "markdown",
   "metadata": {},
   "source": [
    "(z0*z1).subs(z1, sp.conjugate(z0))"
   ]
  },
  {
   "cell_type": "code",
   "execution_count": 5,
   "metadata": {},
   "outputs": [],
   "source": [
    "patch = HS.patches[0].patches[0]"
   ]
  },
  {
   "cell_type": "code",
   "execution_count": 6,
   "metadata": {},
   "outputs": [
    {
     "data": {
      "text/latex": [
       "$\\displaystyle \\frac{1}{16 z_{1}^{3} \\overline{z_{1}}^{3}}$"
      ],
      "text/plain": [
       "1/(16*z1**3*conjugate(z1)**3)"
      ]
     },
     "execution_count": 6,
     "metadata": {},
     "output_type": "execute_result"
    }
   ],
   "source": [
    "patch.omega_omegabar[0]"
   ]
  },
  {
   "cell_type": "code",
   "execution_count": 7,
   "metadata": {},
   "outputs": [],
   "source": [
    "H = np.identity(patch.n_sections)"
   ]
  },
  {
   "cell_type": "code",
   "execution_count": 8,
   "metadata": {},
   "outputs": [
    {
     "data": {
      "text/latex": [
       "$\\displaystyle \\log{\\left(1.0 z_{0}^{4} \\overline{z_{0}}^{4} + 1.0 z_{0}^{3} z_{1} \\overline{z_{0}}^{3} \\overline{z_{1}} + 1.0 z_{0}^{3} z_{2} \\overline{z_{0}}^{3} \\overline{z_{2}} + 1.0 z_{0}^{3} z_{3} \\overline{z_{0}}^{3} \\overline{z_{3}} + 1.0 z_{0}^{2} z_{1}^{2} \\overline{z_{0}}^{2} \\overline{z_{1}}^{2} + 1.0 z_{0}^{2} z_{1} z_{2} \\overline{z_{0}}^{2} \\overline{z_{1}} \\overline{z_{2}} + 1.0 z_{0}^{2} z_{1} z_{3} \\overline{z_{0}}^{2} \\overline{z_{1}} \\overline{z_{3}} + 1.0 z_{0}^{2} z_{2}^{2} \\overline{z_{0}}^{2} \\overline{z_{2}}^{2} + 1.0 z_{0}^{2} z_{2} z_{3} \\overline{z_{0}}^{2} \\overline{z_{2}} \\overline{z_{3}} + 1.0 z_{0}^{2} z_{3}^{2} \\overline{z_{0}}^{2} \\overline{z_{3}}^{2} + 1.0 z_{0} z_{1}^{3} \\overline{z_{0}} \\overline{z_{1}}^{3} + 1.0 z_{0} z_{1}^{2} z_{2} \\overline{z_{0}} \\overline{z_{1}}^{2} \\overline{z_{2}} + 1.0 z_{0} z_{1}^{2} z_{3} \\overline{z_{0}} \\overline{z_{1}}^{2} \\overline{z_{3}} + 1.0 z_{0} z_{1} z_{2}^{2} \\overline{z_{0}} \\overline{z_{1}} \\overline{z_{2}}^{2} + 1.0 z_{0} z_{1} z_{2} z_{3} \\overline{z_{0}} \\overline{z_{1}} \\overline{z_{2}} \\overline{z_{3}} + 1.0 z_{0} z_{1} z_{3}^{2} \\overline{z_{0}} \\overline{z_{1}} \\overline{z_{3}}^{2} + 1.0 z_{0} z_{2}^{3} \\overline{z_{0}} \\overline{z_{2}}^{3} + 1.0 z_{0} z_{2}^{2} z_{3} \\overline{z_{0}} \\overline{z_{2}}^{2} \\overline{z_{3}} + 1.0 z_{0} z_{2} z_{3}^{2} \\overline{z_{0}} \\overline{z_{2}} \\overline{z_{3}}^{2} + 1.0 z_{0} z_{3}^{3} \\overline{z_{0}} \\overline{z_{3}}^{3} + 1.0 z_{1}^{4} \\overline{z_{1}}^{4} + 1.0 z_{1}^{3} z_{2} \\overline{z_{1}}^{3} \\overline{z_{2}} + 1.0 z_{1}^{3} z_{3} \\overline{z_{1}}^{3} \\overline{z_{3}} + 1.0 z_{1}^{2} z_{2}^{2} \\overline{z_{1}}^{2} \\overline{z_{2}}^{2} + 1.0 z_{1}^{2} z_{2} z_{3} \\overline{z_{1}}^{2} \\overline{z_{2}} \\overline{z_{3}} + 1.0 z_{1}^{2} z_{3}^{2} \\overline{z_{1}}^{2} \\overline{z_{3}}^{2} + 1.0 z_{1} z_{2}^{3} \\overline{z_{1}} \\overline{z_{2}}^{3} + 1.0 z_{1} z_{2}^{2} z_{3} \\overline{z_{1}} \\overline{z_{2}}^{2} \\overline{z_{3}} + 1.0 z_{1} z_{2} z_{3}^{2} \\overline{z_{1}} \\overline{z_{2}} \\overline{z_{3}}^{2} + 1.0 z_{1} z_{3}^{3} \\overline{z_{1}} \\overline{z_{3}}^{3} + 1.0 z_{2}^{4} \\overline{z_{2}}^{4} + 1.0 z_{2}^{3} z_{3} \\overline{z_{2}}^{3} \\overline{z_{3}} + 1.0 z_{2}^{2} z_{3}^{2} \\overline{z_{2}}^{2} \\overline{z_{3}}^{2} + 1.0 z_{2} z_{3}^{3} \\overline{z_{2}} \\overline{z_{3}}^{3} + 1.0 z_{3}^{4} \\overline{z_{3}}^{4} \\right)}$"
      ],
      "text/plain": [
       "log(1.0*z0**4*conjugate(z0)**4 + 1.0*z0**3*z1*conjugate(z0)**3*conjugate(z1) + 1.0*z0**3*z2*conjugate(z0)**3*conjugate(z2) + 1.0*z0**3*z3*conjugate(z0)**3*conjugate(z3) + 1.0*z0**2*z1**2*conjugate(z0)**2*conjugate(z1)**2 + 1.0*z0**2*z1*z2*conjugate(z0)**2*conjugate(z1)*conjugate(z2) + 1.0*z0**2*z1*z3*conjugate(z0)**2*conjugate(z1)*conjugate(z3) + 1.0*z0**2*z2**2*conjugate(z0)**2*conjugate(z2)**2 + 1.0*z0**2*z2*z3*conjugate(z0)**2*conjugate(z2)*conjugate(z3) + 1.0*z0**2*z3**2*conjugate(z0)**2*conjugate(z3)**2 + 1.0*z0*z1**3*conjugate(z0)*conjugate(z1)**3 + 1.0*z0*z1**2*z2*conjugate(z0)*conjugate(z1)**2*conjugate(z2) + 1.0*z0*z1**2*z3*conjugate(z0)*conjugate(z1)**2*conjugate(z3) + 1.0*z0*z1*z2**2*conjugate(z0)*conjugate(z1)*conjugate(z2)**2 + 1.0*z0*z1*z2*z3*conjugate(z0)*conjugate(z1)*conjugate(z2)*conjugate(z3) + 1.0*z0*z1*z3**2*conjugate(z0)*conjugate(z1)*conjugate(z3)**2 + 1.0*z0*z2**3*conjugate(z0)*conjugate(z2)**3 + 1.0*z0*z2**2*z3*conjugate(z0)*conjugate(z2)**2*conjugate(z3) + 1.0*z0*z2*z3**2*conjugate(z0)*conjugate(z2)*conjugate(z3)**2 + 1.0*z0*z3**3*conjugate(z0)*conjugate(z3)**3 + 1.0*z1**4*conjugate(z1)**4 + 1.0*z1**3*z2*conjugate(z1)**3*conjugate(z2) + 1.0*z1**3*z3*conjugate(z1)**3*conjugate(z3) + 1.0*z1**2*z2**2*conjugate(z1)**2*conjugate(z2)**2 + 1.0*z1**2*z2*z3*conjugate(z1)**2*conjugate(z2)*conjugate(z3) + 1.0*z1**2*z3**2*conjugate(z1)**2*conjugate(z3)**2 + 1.0*z1*z2**3*conjugate(z1)*conjugate(z2)**3 + 1.0*z1*z2**2*z3*conjugate(z1)*conjugate(z2)**2*conjugate(z3) + 1.0*z1*z2*z3**2*conjugate(z1)*conjugate(z2)*conjugate(z3)**2 + 1.0*z1*z3**3*conjugate(z1)*conjugate(z3)**3 + 1.0*z2**4*conjugate(z2)**4 + 1.0*z2**3*z3*conjugate(z2)**3*conjugate(z3) + 1.0*z2**2*z3**2*conjugate(z2)**2*conjugate(z3)**2 + 1.0*z2*z3**3*conjugate(z2)*conjugate(z3)**3 + 1.0*z3**4*conjugate(z3)**4)"
      ]
     },
     "execution_count": 8,
     "metadata": {},
     "output_type": "execute_result"
    }
   ],
   "source": [
    "patch.kahler_potential(H)"
   ]
  },
  {
   "cell_type": "code",
   "execution_count": 9,
   "metadata": {},
   "outputs": [
    {
     "data": {
      "text/plain": [
       "[[2.23912424319543 + 1.8483786892551e-18*I],\n",
       " [1.74626037166756 + 1.70200777326925e-19*I],\n",
       " [3.40898050739924],\n",
       " [2.47381476598912 + 7.42283045093406e-20*I]]"
      ]
     },
     "execution_count": 9,
     "metadata": {},
     "output_type": "execute_result"
    }
   ],
   "source": [
    "patch.eval_all(patch.kahler_potential(H))"
   ]
  },
  {
   "cell_type": "code",
   "execution_count": 11,
   "metadata": {},
   "outputs": [
    {
     "data": {
      "text/latex": [
       "$\\displaystyle 2 z_{0} \\overline{z_{0}}$"
      ],
      "text/plain": [
       "2*z0*conjugate(z0)"
      ]
     },
     "execution_count": 11,
     "metadata": {},
     "output_type": "execute_result"
    }
   ],
   "source": [
    "diff_conjugate(sp.conjugate(z0**2)*z0, z0)"
   ]
  },
  {
   "cell_type": "code",
   "execution_count": null,
   "metadata": {},
   "outputs": [],
   "source": []
  }
 ],
 "metadata": {
  "kernelspec": {
   "display_name": "Python 3",
   "language": "python",
   "name": "python3"
  },
  "language_info": {
   "codemirror_mode": {
    "name": "ipython",
    "version": 3
   },
   "file_extension": ".py",
   "mimetype": "text/x-python",
   "name": "python",
   "nbconvert_exporter": "python",
   "pygments_lexer": "ipython3",
   "version": "3.7.4"
  }
 },
 "nbformat": 4,
 "nbformat_minor": 2
}
