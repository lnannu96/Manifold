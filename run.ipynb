{
 "cells": [
  {
   "cell_type": "code",
   "execution_count": 22,
   "metadata": {},
   "outputs": [],
   "source": [
    "from hypersurface import *\n",
    "import sympy as sp\n",
    "from pprint import pprint"
   ]
  },
  {
   "cell_type": "code",
   "execution_count": 23,
   "metadata": {},
   "outputs": [],
   "source": [
    "d = 4\n",
    "Z = [sp.symbols('z_'+str(i+1)) for i in range(d)]\n",
    "f = sum([k**4 for k in Z])\n",
    "HS = Hypersurface(Z, f, d, 20)"
   ]
  },
  {
   "cell_type": "code",
   "execution_count": 24,
   "metadata": {},
   "outputs": [
    {
     "name": "stdout",
     "output_type": "stream",
     "text": [
      "Number of Patches: 4\n",
      "Points in patch 1 : 17\n",
      "Points in patch 2 : 21\n",
      "Points in patch 3 : 25\n",
      "Points in patch 4 : 17\n"
     ]
    }
   ],
   "source": [
    "HS.list_patches()"
   ]
  },
  {
   "cell_type": "code",
   "execution_count": 25,
   "metadata": {},
   "outputs": [
    {
     "name": "stdout",
     "output_type": "stream",
     "text": [
      "Number of Patches: 3\n",
      "Points in patch 1 : 7\n",
      "Points in patch 2 : 3\n",
      "Points in patch 3 : 7\n",
      "Number of Patches: 3\n",
      "Points in patch 1 : 11\n",
      "Points in patch 2 : 4\n",
      "Points in patch 3 : 6\n",
      "Number of Patches: 3\n",
      "Points in patch 1 : 7\n",
      "Points in patch 2 : 13\n",
      "Points in patch 3 : 5\n",
      "Number of Patches: 3\n",
      "Points in patch 1 : 6\n",
      "Points in patch 2 : 8\n",
      "Points in patch 3 : 3\n"
     ]
    }
   ],
   "source": [
    "HS.patches[0].list_patches()\n",
    "HS.patches[1].list_patches()\n",
    "HS.patches[2].list_patches()\n",
    "HS.patches[3].list_patches()"
   ]
  },
  {
   "cell_type": "code",
   "execution_count": 26,
   "metadata": {},
   "outputs": [
    {
     "name": "stdout",
     "output_type": "stream",
     "text": [
      "[[[1/(4*z_2**3), 1/(4*z_3**3), 1/(4*z_4**3)],\n",
      "  [1/(4*z_2**3), 1/(4*z_3**3), 1/(4*z_4**3)],\n",
      "  [1/(4*z_2**3), 1/(4*z_3**3), 1/(4*z_4**3)]],\n",
      " [[1/(4*z_1**3), 1/(4*z_3**3), 1/(4*z_4**3)],\n",
      "  [1/(4*z_1**3), 1/(4*z_3**3), 1/(4*z_4**3)],\n",
      "  [1/(4*z_1**3), 1/(4*z_3**3), 1/(4*z_4**3)]],\n",
      " [[1/(4*z_1**3), 1/(4*z_2**3), 1/(4*z_4**3)],\n",
      "  [1/(4*z_1**3), 1/(4*z_2**3), 1/(4*z_4**3)],\n",
      "  [1/(4*z_1**3), 1/(4*z_2**3), 1/(4*z_4**3)]],\n",
      " [[1/(4*z_1**3), 1/(4*z_2**3), 1/(4*z_3**3)],\n",
      "  [1/(4*z_1**3), 1/(4*z_2**3), 1/(4*z_3**3)],\n",
      "  [1/(4*z_1**3), 1/(4*z_2**3), 1/(4*z_3**3)]]]\n"
     ]
    }
   ],
   "source": [
    "pprint(HS.holo_volume_form)"
   ]
  },
  {
   "cell_type": "code",
   "execution_count": 27,
   "metadata": {},
   "outputs": [
    {
     "name": "stdout",
     "output_type": "stream",
     "text": [
      "[1/(4*z_2**3), 1/(4*z_3**3), 1/(4*z_4**3)]\n"
     ]
    }
   ],
   "source": [
    "pprint(HS.patches[0].patches[1].holo_volume_form)"
   ]
  },
  {
   "cell_type": "code",
   "execution_count": 28,
   "metadata": {},
   "outputs": [
    {
     "name": "stdout",
     "output_type": "stream",
     "text": [
      "0.52585611773306 + 0.156970099389283*I\n"
     ]
    }
   ],
   "source": [
    "pprint(HS.integrate(Z[0]+Z[1]))"
   ]
  },
  {
   "cell_type": "code",
   "execution_count": 29,
   "metadata": {},
   "outputs": [
    {
     "name": "stdout",
     "output_type": "stream",
     "text": [
      "[[1,\n",
      "  -0.689505816729128 - 0.108858360861338*I,\n",
      "  -0.626131297526239 - 0.66826229201791*I,\n",
      "  -0.607960625139052 + 0.579319825265583*I],\n",
      " [1,\n",
      "  -0.0327267120142329 + 0.243198169960221*I,\n",
      "  -0.556492190643956 + 0.749867161367244*I,\n",
      "  0.469071952945506 + 0.728051669344505*I],\n",
      " [1,\n",
      "  -0.24346427537559 + 0.260681358640211*I,\n",
      "  0.649078668832619 + 0.742350153576865*I,\n",
      "  -0.637642669205422 - 0.318672810410593*I]]\n"
     ]
    }
   ],
   "source": [
    "pprint(HS.patches[0].patches[1].points)"
   ]
  },
  {
   "cell_type": "code",
   "execution_count": 30,
   "metadata": {},
   "outputs": [
    {
     "name": "stdout",
     "output_type": "stream",
     "text": [
      "[[-1.21316574567969 - 0.615879096397309*I,\n",
      "  2.37349612369878 - 1.95011423770935*I,\n",
      "  1.54961444222119 + 1.79180587526678*I],\n",
      " [0.0230873878201617 - 0.0544104705594492*I,\n",
      "  3.06564585183159 + 1.10005487090936*I,\n",
      "  -2.5707942492848 + 0.378663336447206*I],\n",
      " [0.140809471296987 + 0.114564023907626*I,\n",
      "  -3.19852501750758 + 2.11666478785178*I,\n",
      "  -0.259982457643831 - 1.42537524751585*I]]\n"
     ]
    }
   ],
   "source": [
    "pprint(HS.patches[0].patches[1].eval_all(\"grad\"))"
   ]
  },
  {
   "cell_type": "code",
   "execution_count": null,
   "metadata": {},
   "outputs": [],
   "source": []
  }
 ],
 "metadata": {
  "kernelspec": {
   "display_name": "Python 3",
   "language": "python",
   "name": "python3"
  },
  "language_info": {
   "codemirror_mode": {
    "name": "ipython",
    "version": 3
   },
   "file_extension": ".py",
   "mimetype": "text/x-python",
   "name": "python",
   "nbconvert_exporter": "python",
   "pygments_lexer": "ipython3",
   "version": "3.7.4"
  }
 },
 "nbformat": 4,
 "nbformat_minor": 2
}
