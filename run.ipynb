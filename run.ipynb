{
 "cells": [
  {
   "cell_type": "code",
   "execution_count": 1,
   "metadata": {},
   "outputs": [],
   "source": [
    "from hypersurface import *\n",
    "import sympy as sp\n",
    "from pprint import pprint"
   ]
  },
  {
   "cell_type": "code",
   "execution_count": 16,
   "metadata": {},
   "outputs": [],
   "source": [
    "d = 4\n",
    "Z = [sp.symbols('z_'+str(i+1)) for i in range(d)]\n",
    "f = sum([k**4 for k in Z])\n",
    "HS = Hypersurface(Z, f, d, 20)"
   ]
  },
  {
   "cell_type": "code",
   "execution_count": 17,
   "metadata": {},
   "outputs": [
    {
     "name": "stdout",
     "output_type": "stream",
     "text": [
      "Number of Patches: 4\n",
      "Points in patch 1 : 13\n",
      "Points in patch 2 : 24\n",
      "Points in patch 3 : 23\n",
      "Points in patch 4 : 20\n"
     ]
    }
   ],
   "source": [
    "HS.list_patches()"
   ]
  },
  {
   "cell_type": "code",
   "execution_count": 18,
   "metadata": {},
   "outputs": [
    {
     "name": "stdout",
     "output_type": "stream",
     "text": [
      "Number of Patches: 3\n",
      "Points in patch 1 : 3\n",
      "Points in patch 2 : 5\n",
      "Points in patch 3 : 5\n",
      "Number of Patches: 3\n",
      "Points in patch 1 : 5\n",
      "Points in patch 2 : 8\n",
      "Points in patch 3 : 11\n",
      "Number of Patches: 3\n",
      "Points in patch 1 : 7\n",
      "Points in patch 2 : 7\n",
      "Points in patch 3 : 9\n",
      "Number of Patches: 3\n",
      "Points in patch 1 : 9\n",
      "Points in patch 2 : 3\n",
      "Points in patch 3 : 8\n"
     ]
    }
   ],
   "source": [
    "HS.patches[0].list_patches()\n",
    "HS.patches[1].list_patches()\n",
    "HS.patches[2].list_patches()\n",
    "HS.patches[3].list_patches()"
   ]
  },
  {
   "cell_type": "code",
   "execution_count": 6,
   "metadata": {},
   "outputs": [
    {
     "name": "stdout",
     "output_type": "stream",
     "text": [
      "[[[1/(4*z_2**3), 1/(4*z_3**3), 1/(4*z_4**3)],\n",
      "  [1/(4*z_2**3), 1/(4*z_3**3), 1/(4*z_4**3)],\n",
      "  [1/(4*z_2**3), 1/(4*z_3**3), 1/(4*z_4**3)]],\n",
      " [[1/(4*z_1**3), 1/(4*z_3**3), 1/(4*z_4**3)],\n",
      "  [1/(4*z_1**3), 1/(4*z_3**3), 1/(4*z_4**3)],\n",
      "  [1/(4*z_1**3), 1/(4*z_3**3), 1/(4*z_4**3)]],\n",
      " [[1/(4*z_1**3), 1/(4*z_2**3), 1/(4*z_4**3)],\n",
      "  [1/(4*z_1**3), 1/(4*z_2**3), 1/(4*z_4**3)],\n",
      "  [1/(4*z_1**3), 1/(4*z_2**3), 1/(4*z_4**3)]],\n",
      " [[1/(4*z_1**3), 1/(4*z_2**3), 1/(4*z_3**3)],\n",
      "  [1/(4*z_1**3), 1/(4*z_2**3), 1/(4*z_3**3)],\n",
      "  [1/(4*z_1**3), 1/(4*z_2**3), 1/(4*z_3**3)]]]\n"
     ]
    }
   ],
   "source": [
    "pprint(HS.holo_volume_form)"
   ]
  },
  {
   "cell_type": "code",
   "execution_count": 10,
   "metadata": {},
   "outputs": [
    {
     "name": "stdout",
     "output_type": "stream",
     "text": [
      "[1/(4*z_2**3), 1/(4*z_3**3), 1/(4*z_4**3)]\n"
     ]
    }
   ],
   "source": [
    "pprint(HS.patches[0].patches[1].holo_volume_form)"
   ]
  },
  {
   "cell_type": "code",
   "execution_count": 15,
   "metadata": {},
   "outputs": [
    {
     "name": "stdout",
     "output_type": "stream",
     "text": [
      "1\n"
     ]
    }
   ],
   "source": [
    "pprint(HS.integrate(1))"
   ]
  },
  {
   "cell_type": "code",
   "execution_count": 19,
   "metadata": {},
   "outputs": [
    {
     "name": "stdout",
     "output_type": "stream",
     "text": [
      "[[1,\n",
      "  0.0570015857395904 - 0.146277666832698*I,\n",
      "  0.697242028131891 - 0.713614030777238*I,\n",
      "  0.202093897871728 + 0.421395011607457*I],\n",
      " [1,\n",
      "  -0.44447348515956 + 0.461402113949274*I,\n",
      "  0.680896921450349 - 0.654735473003831*I,\n",
      "  0.424928954997313 + 0.264400503509832*I],\n",
      " [1,\n",
      "  0.195087447670296 + 0.437508348154984*I,\n",
      "  -0.715852026004665 - 0.697166311466007*I,\n",
      "  0.0133765183164804 + 0.187588266049512*I],\n",
      " [1,\n",
      "  0.730552600634354 + 0.379377421514214*I,\n",
      "  -0.637338058592315 + 0.656189204321231*I,\n",
      "  0.377890179195525 + 0.748759747254025*I],\n",
      " [1,\n",
      "  0.77098530353959 + 0.435366114435275*I,\n",
      "  -0.834068467046062 + 0.523654727889176*I,\n",
      "  -0.356006305951841 + 0.595095742535199*I]]\n"
     ]
    }
   ],
   "source": [
    "pprint(HS.patches[0].patches[1].points)"
   ]
  },
  {
   "cell_type": "code",
   "execution_count": 20,
   "metadata": {},
   "outputs": [
    {
     "name": "stdout",
     "output_type": "stream",
     "text": [
      "[[-0.0138952279140582 + 0.00681631311949652*I,\n",
      "  -2.90495713790065 - 2.70943363139497*I,\n",
      "  -0.397623239370325 - 0.092787684207757*I],\n",
      " [0.784262891892258 + 0.700921721175853*I,\n",
      "  -2.23991936985422 - 2.51990218703126*I,\n",
      "  -0.0495607591600036 + 0.498962060834916*I],\n",
      " [-0.41840916177464 - 0.135165960601772*I,\n",
      "  2.70786340737683 - 2.93170007925502*I,\n",
      "  -0.00563895912311345 - 0.0260016574541468*I],\n",
      " [0.297847518017073 + 2.21130612923503*I,\n",
      "  2.25758655660897 + 2.06834808701364*I,\n",
      "  -2.3264770938844 - 0.396058554386517*I],\n",
      " [0.0795267562113964 + 2.77539169146915*I,\n",
      "  0.423615415402735 + 3.79711751566982*I,\n",
      "  1.33242670730539 + 0.0620864027293802*I]]\n"
     ]
    }
   ],
   "source": [
    "pprint(HS.patches[0].patches[1].eval_all(\"grad\"))"
   ]
  },
  {
   "cell_type": "code",
   "execution_count": null,
   "metadata": {},
   "outputs": [],
   "source": []
  }
 ],
 "metadata": {
  "kernelspec": {
   "display_name": "Python 3",
   "language": "python",
   "name": "python3"
  },
  "language_info": {
   "codemirror_mode": {
    "name": "ipython",
    "version": 3
   },
   "file_extension": ".py",
   "mimetype": "text/x-python",
   "name": "python",
   "nbconvert_exporter": "python",
   "pygments_lexer": "ipython3",
   "version": "3.7.4"
  }
 },
 "nbformat": 4,
 "nbformat_minor": 2
}
