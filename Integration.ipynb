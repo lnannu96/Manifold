{
 "cells": [
  {
   "cell_type": "code",
   "execution_count": 1,
   "metadata": {},
   "outputs": [],
   "source": [
    "from hypersurface import *\n",
    "import sympy as sp\n",
    "from pprint import pprint"
   ]
  },
  {
   "cell_type": "code",
   "execution_count": 2,
   "metadata": {},
   "outputs": [],
   "source": [
    "z0, z1, z2, z3 = sp.symbols('z0, z1, z2, z3')\n",
    "Z = [z0,z1,z2,z3]\n",
    "f = z0**4 + z1**4 + z2**4 + z3**4\n",
    "HS = Hypersurface(Z, f, 1000)"
   ]
  },
  {
   "cell_type": "code",
   "execution_count": 3,
   "metadata": {},
   "outputs": [],
   "source": [
    "k = 1\n",
    "sections, ns = HS.get_sections(k)\n",
    "H = np.identity(ns, dtype=int)"
   ]
  },
  {
   "cell_type": "code",
   "execution_count": 4,
   "metadata": {},
   "outputs": [
    {
     "name": "stdout",
     "output_type": "stream",
     "text": [
      "(0.1376223882422788-1.0849531736467712e-19j)\n"
     ]
    }
   ],
   "source": [
    "integral = 0\n",
    "for patch in HS.patches:\n",
    "    for subpatch in patch.patches:\n",
    "        sub_integral = subpatch.integrate(subpatch.get_FS_volume_form(H, k))\n",
    "        #print(sub_integral)\n",
    "        integral += sub_integral\n",
    "print(integral/HS.n_points)"
   ]
  },
  {
   "cell_type": "code",
   "execution_count": 5,
   "metadata": {},
   "outputs": [],
   "source": [
    "H_rand = np.random.rand(ns, ns)"
   ]
  },
  {
   "cell_type": "code",
   "execution_count": 6,
   "metadata": {},
   "outputs": [
    {
     "name": "stdout",
     "output_type": "stream",
     "text": [
      "(-20.15649952558691+6.273518845906145j)\n"
     ]
    }
   ],
   "source": [
    "integral = 0\n",
    "for patch in HS.patches:\n",
    "    for subpatch in patch.patches:\n",
    "        sub_integral = subpatch.integrate(subpatch.get_FS_volume_form(H_rand, k))\n",
    "        #print(sub_integral)\n",
    "        integral += sub_integral\n",
    "print(integral/HS.n_points)"
   ]
  },
  {
   "cell_type": "code",
   "execution_count": 7,
   "metadata": {},
   "outputs": [],
   "source": [
    "H_rand2 = np.random.rand(ns, ns)"
   ]
  },
  {
   "cell_type": "code",
   "execution_count": 8,
   "metadata": {
    "scrolled": true
   },
   "outputs": [
    {
     "name": "stdout",
     "output_type": "stream",
     "text": [
      "(-14.894411607100553-21.76952916895077j)\n"
     ]
    }
   ],
   "source": [
    "integral = 0\n",
    "for patch in HS.patches:\n",
    "    for subpatch in patch.patches:\n",
    "        sub_integral = subpatch.integrate(subpatch.get_FS_volume_form(H_rand2, k))\n",
    "        #print(sub_integral)\n",
    "        integral += sub_integral\n",
    "print(integral/HS.n_points)"
   ]
  },
  {
   "cell_type": "code",
   "execution_count": 54,
   "metadata": {},
   "outputs": [
    {
     "name": "stdout",
     "output_type": "stream",
     "text": [
      "(10.578959886097373+3.976002891548972j)\n"
     ]
    }
   ],
   "source": [
    "integral = 0\n",
    "for patch in HS.patches:\n",
    "    for subpatch in patch.patches:\n",
    "        sub_integral = subpatch.integrate(subpatch.kahler_metric(H_rand, k)/subpatch.get_FS_volume_form(H, k))\n",
    "        #print(sub_integral)\n",
    "        integral += sub_integral\n",
    "print(integral/HS.n_points)"
   ]
  },
  {
   "cell_type": "code",
   "execution_count": 55,
   "metadata": {},
   "outputs": [
    {
     "name": "stdout",
     "output_type": "stream",
     "text": [
      "(3.859277703286205-11.865942774532023j)\n"
     ]
    }
   ],
   "source": [
    "integral = 0\n",
    "for patch in HS.patches:\n",
    "    for subpatch in patch.patches:\n",
    "        sub_integral = subpatch.integrate(subpatch.kahler_metric(H_rand2, k)/subpatch.get_FS_volume_form(H, k))\n",
    "        #print(sub_integral)\n",
    "        integral += sub_integral\n",
    "print(integral/HS.n_points)"
   ]
  },
  {
   "cell_type": "code",
   "execution_count": null,
   "metadata": {},
   "outputs": [],
   "source": []
  }
 ],
 "metadata": {
  "kernelspec": {
   "display_name": "Python 3",
   "language": "python",
   "name": "python3"
  },
  "language_info": {
   "codemirror_mode": {
    "name": "ipython",
    "version": 3
   },
   "file_extension": ".py",
   "mimetype": "text/x-python",
   "name": "python",
   "nbconvert_exporter": "python",
   "pygments_lexer": "ipython3",
   "version": "3.7.4"
  }
 },
 "nbformat": 4,
 "nbformat_minor": 2
}
