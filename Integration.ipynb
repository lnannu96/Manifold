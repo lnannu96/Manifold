{
 "cells": [
  {
   "cell_type": "code",
   "execution_count": 1,
   "metadata": {},
   "outputs": [],
   "source": [
    "from hypersurface import *\n",
    "import sympy as sp\n",
    "from pprint import pprint"
   ]
  },
  {
   "cell_type": "code",
   "execution_count": 18,
   "metadata": {},
   "outputs": [],
   "source": [
    "z0, z1, z2, z3 = sp.symbols('z0, z1, z2, z3')\n",
    "Z = [z0,z1,z2]\n",
    "f = z0**3 + z1**3 + z2**3\n",
    "HS = Hypersurface(Z, f, 100000)"
   ]
  },
  {
   "cell_type": "code",
   "execution_count": 19,
   "metadata": {},
   "outputs": [],
   "source": [
    "k = 1\n",
    "sections, ns = HS.get_sections(k)\n",
    "H = np.identity(ns, dtype=int)"
   ]
  },
  {
   "cell_type": "code",
   "execution_count": 20,
   "metadata": {},
   "outputs": [
    {
     "name": "stdout",
     "output_type": "stream",
     "text": [
      "(1.086905212306239+1.689021877459768e-20j)\n",
      "[[0.59544604 0.02514675 0.26656481]\n",
      " [0.02514675 0.5180165  0.27112507]\n",
      " [0.26656481 0.27112507 0.38742014]]\n"
     ]
    }
   ],
   "source": [
    "H_rand_pd = np.zeros((ns,ns))\n",
    "while not np.all(np.linalg.eigvals(H_rand_pd) > 0):\n",
    "    H_rand = np.random.rand(ns, ns)\n",
    "    H_rand_pd = H_rand*H_rand.transpose()\n",
    "integral = 0\n",
    "for patch in HS.patches:\n",
    "    for subpatch in patch.patches:\n",
    "        sub_integral = subpatch.integrate(subpatch.get_FS_volume_form(H_rand_pd, k)/subpatch.get_FS_volume_form(H, k))\n",
    "        #print(sub_integral)\n",
    "        integral += sub_integral\n",
    "print(integral/HS.n_points)\n",
    "print(H_rand_pd)"
   ]
  },
  {
   "cell_type": "code",
   "execution_count": 21,
   "metadata": {},
   "outputs": [
    {
     "name": "stdout",
     "output_type": "stream",
     "text": [
      "(1.0254070716905679-4.822547766966896e-20j)\n",
      "[[0.20392258 0.01170788 0.06168397]\n",
      " [0.01170788 0.15667063 0.04707041]\n",
      " [0.06168397 0.04707041 0.10693961]]\n"
     ]
    }
   ],
   "source": [
    "H_rand_pd = np.zeros((ns,ns))\n",
    "while not np.all(np.linalg.eigvals(H_rand_pd) > 0):\n",
    "    H_rand = np.random.rand(ns, ns)\n",
    "    H_rand_pd = H_rand*H_rand.transpose()\n",
    "integral = 0\n",
    "for patch in HS.patches:\n",
    "    for subpatch in patch.patches:\n",
    "        sub_integral = subpatch.integrate(subpatch.get_FS_volume_form(H_rand_pd, k)/subpatch.get_FS_volume_form(H, k))\n",
    "        #print(sub_integral)\n",
    "        integral += sub_integral\n",
    "print(integral/HS.n_points)\n",
    "print(H_rand_pd)"
   ]
  },
  {
   "cell_type": "code",
   "execution_count": 22,
   "metadata": {},
   "outputs": [
    {
     "name": "stdout",
     "output_type": "stream",
     "text": [
      "(0.988820662699416-6.591922221735839e-20j)\n",
      "[[0.84951288 0.42377475 0.01138165]\n",
      " [0.42377475 0.45726232 0.04125805]\n",
      " [0.01138165 0.04125805 0.06917177]]\n"
     ]
    }
   ],
   "source": [
    "H_rand_pd = np.zeros((ns,ns))\n",
    "while not np.all(np.linalg.eigvals(H_rand_pd) > 0):\n",
    "    H_rand = np.random.rand(ns, ns)\n",
    "    H_rand_pd = H_rand*H_rand.transpose()\n",
    "integral = 0\n",
    "for patch in HS.patches:\n",
    "    for subpatch in patch.patches:\n",
    "        sub_integral = subpatch.integrate(subpatch.get_FS_volume_form(H_rand_pd, k)/subpatch.get_FS_volume_form(H, k))\n",
    "        #print(sub_integral)\n",
    "        integral += sub_integral\n",
    "print(integral/HS.n_points)\n",
    "print(H_rand_pd)"
   ]
  },
  {
   "cell_type": "code",
   "execution_count": 25,
   "metadata": {},
   "outputs": [
    {
     "name": "stdout",
     "output_type": "stream",
     "text": [
      "(1.0170527612589928-3.3590970655925935e-20j)\n",
      "[[0.37003881 0.22566036 0.11557159]\n",
      " [0.22566036 0.70946666 0.16280907]\n",
      " [0.11557159 0.16280907 0.64176806]]\n"
     ]
    }
   ],
   "source": [
    "H_rand_pd = np.zeros((ns,ns))\n",
    "while not np.all(np.linalg.eigvals(H_rand_pd) > 0):\n",
    "    H_rand = np.random.rand(ns, ns)\n",
    "    H_rand_pd = H_rand*H_rand.transpose()\n",
    "integral = 0\n",
    "for patch in HS.patches:\n",
    "    for subpatch in patch.patches:\n",
    "        sub_integral = subpatch.integrate(subpatch.get_FS_volume_form(H_rand_pd, k)/subpatch.get_FS_volume_form(H, k))\n",
    "        #print(sub_integral)\n",
    "        integral += sub_integral\n",
    "print(integral/HS.n_points)\n",
    "print(H_rand_pd)"
   ]
  },
  {
   "cell_type": "code",
   "execution_count": 27,
   "metadata": {},
   "outputs": [],
   "source": [
    "z0, z1, z2, z3 = sp.symbols('z0, z1, z2, z3')\n",
    "Z = [z0,z1,z2,z3]\n",
    "f = z0**4 + z1**4 + z2**4 + z3**4\n",
    "HS = Hypersurface(Z, f, 1000)"
   ]
  },
  {
   "cell_type": "code",
   "execution_count": 29,
   "metadata": {},
   "outputs": [],
   "source": [
    "k = 1\n",
    "sections, ns = HS.get_sections(k)\n",
    "H = np.identity(ns, dtype=int)"
   ]
  },
  {
   "cell_type": "code",
   "execution_count": 30,
   "metadata": {},
   "outputs": [
    {
     "name": "stdout",
     "output_type": "stream",
     "text": [
      "(0.9923140229658463+2.038970196072439e-18j)\n",
      "[[0.43025112 0.28831487 0.00099719 0.05764704]\n",
      " [0.28831487 0.97910786 0.47782184 0.46404444]\n",
      " [0.00099719 0.47782184 0.46867541 0.03041028]\n",
      " [0.05764704 0.46404444 0.03041028 0.80998043]]\n"
     ]
    }
   ],
   "source": [
    "H_rand_pd = np.zeros((ns,ns))\n",
    "while not np.all(np.linalg.eigvals(H_rand_pd) > 0):\n",
    "    H_rand = np.random.rand(ns, ns)\n",
    "    H_rand_pd = H_rand*H_rand.transpose()\n",
    "integral = 0\n",
    "for patch in HS.patches:\n",
    "    for subpatch in patch.patches:\n",
    "        sub_integral = subpatch.integrate(subpatch.get_FS_volume_form(H_rand_pd, k)/subpatch.get_FS_volume_form(H, k))\n",
    "        #print(sub_integral)\n",
    "        integral += sub_integral\n",
    "print(integral/HS.n_points)\n",
    "print(H_rand_pd)"
   ]
  },
  {
   "cell_type": "code",
   "execution_count": 31,
   "metadata": {},
   "outputs": [
    {
     "name": "stdout",
     "output_type": "stream",
     "text": [
      "(0.9701652886326646+2.9124204221432305e-18j)\n",
      "[[0.07482128 0.06086188 0.18905865 0.06174087]\n",
      " [0.06086188 0.97180802 0.43852295 0.23956995]\n",
      " [0.18905865 0.43852295 0.87596711 0.13240882]\n",
      " [0.06174087 0.23956995 0.13240882 0.48924656]]\n"
     ]
    }
   ],
   "source": [
    "H_rand_pd = np.zeros((ns,ns))\n",
    "while not np.all(np.linalg.eigvals(H_rand_pd) > 0):\n",
    "    H_rand = np.random.rand(ns, ns)\n",
    "    H_rand_pd = H_rand*H_rand.transpose()\n",
    "integral = 0\n",
    "for patch in HS.patches:\n",
    "    for subpatch in patch.patches:\n",
    "        sub_integral = subpatch.integrate(subpatch.get_FS_volume_form(H_rand_pd, k)/subpatch.get_FS_volume_form(H, k))\n",
    "        #print(sub_integral)\n",
    "        integral += sub_integral\n",
    "print(integral/HS.n_points)\n",
    "print(H_rand_pd)"
   ]
  },
  {
   "cell_type": "code",
   "execution_count": 32,
   "metadata": {},
   "outputs": [
    {
     "name": "stdout",
     "output_type": "stream",
     "text": [
      "(0.9979734931607865+5.118223304268211e-18j)\n",
      "[[0.17780888 0.04841297 0.00360587 0.14197116]\n",
      " [0.04841297 0.49237804 0.00623981 0.20315417]\n",
      " [0.00360587 0.00623981 0.15258133 0.06668826]\n",
      " [0.14197116 0.20315417 0.06668826 0.31902368]]\n"
     ]
    }
   ],
   "source": [
    "H_rand_pd = np.zeros((ns,ns))\n",
    "while not np.all(np.linalg.eigvals(H_rand_pd) > 0):\n",
    "    H_rand = np.random.rand(ns, ns)\n",
    "    H_rand_pd = H_rand*H_rand.transpose()\n",
    "integral = 0\n",
    "for patch in HS.patches:\n",
    "    for subpatch in patch.patches:\n",
    "        sub_integral = subpatch.integrate(subpatch.get_FS_volume_form(H_rand_pd, k)/subpatch.get_FS_volume_form(H, k))\n",
    "        #print(sub_integral)\n",
    "        integral += sub_integral\n",
    "print(integral/HS.n_points)\n",
    "print(H_rand_pd)"
   ]
  },
  {
   "cell_type": "code",
   "execution_count": 33,
   "metadata": {},
   "outputs": [
    {
     "name": "stdout",
     "output_type": "stream",
     "text": [
      "(1.0165898213125935+1.0936832034449472e-18j)\n",
      "[[0.84382523 0.00456341 0.32261681 0.00565267]\n",
      " [0.00456341 0.40091798 0.15151979 0.13646535]\n",
      " [0.32261681 0.15151979 0.55220088 0.19863786]\n",
      " [0.00565267 0.13646535 0.19863786 0.44227972]]\n"
     ]
    }
   ],
   "source": [
    "H_rand_pd = np.zeros((ns,ns))\n",
    "while not np.all(np.linalg.eigvals(H_rand_pd) > 0):\n",
    "    H_rand = np.random.rand(ns, ns)\n",
    "    H_rand_pd = H_rand*H_rand.transpose()\n",
    "integral = 0\n",
    "for patch in HS.patches:\n",
    "    for subpatch in patch.patches:\n",
    "        sub_integral = subpatch.integrate(subpatch.get_FS_volume_form(H_rand_pd, k)/subpatch.get_FS_volume_form(H, k))\n",
    "        #print(sub_integral)\n",
    "        integral += sub_integral\n",
    "print(integral/HS.n_points)\n",
    "print(H_rand_pd)"
   ]
  },
  {
   "cell_type": "code",
   "execution_count": null,
   "metadata": {},
   "outputs": [],
   "source": []
  }
 ],
 "metadata": {
  "kernelspec": {
   "display_name": "Python 3",
   "language": "python",
   "name": "python3"
  },
  "language_info": {
   "codemirror_mode": {
    "name": "ipython",
    "version": 3
   },
   "file_extension": ".py",
   "mimetype": "text/x-python",
   "name": "python",
   "nbconvert_exporter": "python",
   "pygments_lexer": "ipython3",
   "version": "3.7.4"
  }
 },
 "nbformat": 4,
 "nbformat_minor": 2
}
