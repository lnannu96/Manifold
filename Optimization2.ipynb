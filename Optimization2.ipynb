{
 "cells": [
  {
   "cell_type": "code",
   "execution_count": 2,
   "metadata": {},
   "outputs": [],
   "source": [
    "from hypersurface import *\n",
    "import sympy as sp\n",
    "from pprint import pprint\n",
    "from scipy.optimize import minimize\n",
    "from sympy.utilities.iterables import flatten\n",
    "import math\n",
    "import matplotlib.pyplot as plt\n",
    "import itertools\n",
    "from mpl_toolkits.mplot3d import Axes3D"
   ]
  },
  {
   "cell_type": "code",
   "execution_count": 3,
   "metadata": {},
   "outputs": [],
   "source": [
    "z0, z1, z2, z3, z4= sp.symbols('z0, z1, z2, z3, z4')\n",
    "Z = [z0,z1,z2,z3,z4]\n",
    "f = z0**5 + z1**5 + z2**5 + z3**5 + z4**5 + 0.5*z0*z1*z2*z3*z4\n",
    "HS = Hypersurface(Z, f, 1000)"
   ]
  },
  {
   "cell_type": "code",
   "execution_count": 4,
   "metadata": {},
   "outputs": [],
   "source": [
    "k = 3\n",
    "HS.set_k(k)"
   ]
  },
  {
   "cell_type": "markdown",
   "metadata": {},
   "source": [
    "Normalization factor of eta"
   ]
  },
  {
   "cell_type": "code",
   "execution_count": 5,
   "metadata": {},
   "outputs": [],
   "source": [
    "# holomorphic=True by default\n",
    "factor = (HS.integrate(lambda patch, point: patch.omega_omegabar(point), numerical=True) / \\\n",
    "          HS.integrate(lambda patch, point: patch.num_FS_volume_form('identity', point), numerical=True))"
   ]
  },
  {
   "cell_type": "code",
   "execution_count": 6,
   "metadata": {
    "scrolled": true
   },
   "outputs": [],
   "source": [
    "def get_h_matrix(HS, k):\n",
    "    # Get the power of the coordinates\n",
    "    sec, ns = HS.get_sections(k)\n",
    "    h_diag = []\n",
    "    for expr in sec:\n",
    "        power = []\n",
    "        for i in range(len(Z)):\n",
    "            power.append(expr.diff(Z[i])*Z[i]/expr)\n",
    "        h_diag.append(power)\n",
    "\n",
    "    h_matrix = []\n",
    "    h_params = np.zeros((ns, ns))\n",
    "    # make a pair for each matrix element\n",
    "    for i in range(len(h_diag)):\n",
    "        h_matrix_row = []\n",
    "        pz = h_diag[i]\n",
    "        for j in range(len(h_diag)):\n",
    "            pzbar = h_diag[j]\n",
    "            for l in range(len(Z)-1):\n",
    "                if (pz[l]-pzbar[l]-pz[l+1]+pzbar[l+1]) % 5 != 0:\n",
    "                    h_matrix_row.append([])\n",
    "                    break\n",
    "            else:\n",
    "                h_matrix_row.append([pz,pzbar])\n",
    "                h_params[i][j] = -1\n",
    "                #if (pz!=pzbar):\n",
    "                    #print( \"non-diagonal\", pz, pzbar )\n",
    "        h_matrix.append(h_matrix_row)                  \n",
    "    #print( h_matrix[2][2] )\n",
    "    \n",
    "    param = 1\n",
    "    #h_params  = [0 for p in h_matrix]\n",
    "    # w and v are the indices of the element in 1-D array h_matrix\n",
    "    w, v = 0, 0\n",
    "    for i in range(ns):\n",
    "        for j in range(ns):\n",
    "            if h_params[i][j] > -1:\n",
    "                continue\n",
    "            for m in range(i, ns):\n",
    "                for n in range(ns):\n",
    "                    if h_params[m][n] > -1:\n",
    "                        continue\n",
    "                    if sorted(h_matrix[m][n][0]) == sorted(h_matrix[i][j][0]):\n",
    "                        for perm in itertools.permutations(range(5)):\n",
    "                            if h_matrix[i][j] == [[h_matrix[m][n][0][p] for p in perm],[h_matrix[m][n][1][p] for p in perm]]:\n",
    "                                h_params[m][n] = param\n",
    "                                h_params[n][m] = param\n",
    "                                break\n",
    "            param += 1\n",
    "            \n",
    "    return h_params"
   ]
  },
  {
   "cell_type": "code",
   "execution_count": 7,
   "metadata": {},
   "outputs": [],
   "source": [
    "h_sym = get_h_matrix(HS, k)"
   ]
  },
  {
   "cell_type": "markdown",
   "metadata": {},
   "source": [
    "Reconstruct h matrix from the parameters"
   ]
  },
  {
   "cell_type": "code",
   "execution_count": 8,
   "metadata": {},
   "outputs": [],
   "source": [
    "def param_to_matrix(param):\n",
    "    h_matrix = h_sym.copy()\n",
    "    for i in range(len(param)):\n",
    "        for m in range(len(h_sym)):\n",
    "            for n in range(len(h_sym)):\n",
    "                if h_sym[m][n] == i+2:\n",
    "                    h_matrix[m][n] = param[i]\n",
    "    return h_matrix"
   ]
  },
  {
   "cell_type": "code",
   "execution_count": 9,
   "metadata": {},
   "outputs": [],
   "source": [
    "def integration(param): \n",
    "    h = param_to_matrix(param)\n",
    "    #h = np.matmul(g, np.conj(g.transpose()))\n",
    "    integration = HS.patches[0].integrate(lambda patch, point, h_matrix=h: \n",
    "                                np.absolute(patch.num_eta(h_matrix, point)*factor - 1).real, \n",
    "                                holomorphic=False, numerical=True)\n",
    "    integration = integration.real\n",
    "    print(integration)\n",
    "    print(param)\n",
    "    try:\n",
    "        np.linalg.cholesky(h)\n",
    "    except:\n",
    "        print(\"Not positive definite\")\n",
    "    return integration"
   ]
  },
  {
   "cell_type": "markdown",
   "metadata": {},
   "source": [
    "Set an initial condition"
   ]
  },
  {
   "cell_type": "code",
   "execution_count": 10,
   "metadata": {},
   "outputs": [],
   "source": [
    "g0 = k * np.ones(np.amax(h_sym.astype(int)) - 1)"
   ]
  },
  {
   "cell_type": "code",
   "execution_count": 11,
   "metadata": {
    "scrolled": true
   },
   "outputs": [
    {
     "name": "stdout",
     "output_type": "stream",
     "text": [
      "0.4542823859863553\n",
      "[3. 3.]\n",
      "0.4542823856674049\n",
      "[3.00000001 3.        ]\n",
      "0.454282386862373\n",
      "[3.         3.00000001]\n",
      "0.3729240169968796\n",
      "[3.34212054 2.06034393]\n",
      "0.3729240169454635\n",
      "[3.34212055 2.06034393]\n",
      "0.3729240177246876\n",
      "[3.34212054 2.06034394]\n",
      "0.9085648733733983\n",
      "[ 3.09754205 -3.11416694]\n",
      "Not positive definite\n",
      "0.9085648691888373\n",
      "[ 3.09754206 -3.11416694]\n",
      "Not positive definite\n",
      "0.9085648693331825\n",
      "[ 3.09754205 -3.11416693]\n",
      "Not positive definite\n",
      "0.28369116263863153\n",
      "[3.2750495  0.64133177]\n",
      "0.28369116282878354\n",
      "[3.27504951 0.64133177]\n",
      "0.28369116308777087\n",
      "[3.2750495  0.64133178]\n",
      "1.2673389608902519\n",
      "[ 2.1460727  -2.67017338]\n",
      "Not positive definite\n",
      "1.2673389509234059\n",
      "[ 2.14607271 -2.67017338]\n",
      "Not positive definite\n",
      "1.2673389527628867\n",
      "[ 2.1460727  -2.67017337]\n",
      "Not positive definite\n",
      "0.2643266162024936\n",
      "[ 3.05526041 -0.00335172]\n",
      "Not positive definite\n",
      "0.26432661630749427\n",
      "[ 3.05526042 -0.00335172]\n",
      "Not positive definite\n",
      "0.26432661605327745\n",
      "[ 3.05526041 -0.00335171]\n",
      "Not positive definite\n",
      "0.2624744771604132\n",
      "[2.97864058 0.1297522 ]\n",
      "0.26247447733313684\n",
      "[2.97864059 0.1297522 ]\n",
      "0.26247447718423667\n",
      "[2.97864058 0.12975221]\n",
      "0.2555061233523487\n",
      "[2.51184184 0.37059907]\n",
      "0.2555061236149411\n",
      "[2.51184185 0.37059907]\n",
      "0.2555061235969629\n",
      "[2.51184184 0.37059908]\n",
      "0.45442701260172536\n",
      "[-7.41475175  4.6993789 ]\n",
      "Not positive definite\n",
      "0.4544270130686474\n",
      "[-7.41475174  4.6993789 ]\n",
      "Not positive definite\n",
      "0.454427013324817\n",
      "[-7.41475175  4.69937891]\n",
      "Not positive definite\n",
      "0.2443789344922695\n",
      "[1.7222486  0.71492416]\n",
      "0.2443789348917912\n",
      "[1.72224861 0.71492416]\n",
      "0.24437893512199285\n",
      "[1.7222486  0.71492417]\n",
      "0.4551850135891369\n",
      "[-5.83305879  3.65739553]\n",
      "Not positive definite\n",
      "0.45518501410870005\n",
      "[-5.83305878  3.65739553]\n",
      "Not positive definite\n",
      "0.4551850143394056\n",
      "[-5.83305879  3.65739554]\n",
      "Not positive definite\n",
      "0.23772826741170913\n",
      "[1.26998277 0.8910625 ]\n",
      "0.23772826789187787\n",
      "[1.26998278 0.8910625 ]\n",
      "0.23772826829834756\n",
      "[1.26998277 0.89106251]\n",
      "0.4634237904507205\n",
      "[-4.84155183  3.04691149]\n",
      "Not positive definite\n",
      "0.4634237910528126\n",
      "[-4.84155182  3.04691149]\n",
      "Not positive definite\n",
      "0.46342379123448313\n",
      "[-4.84155183  3.0469115 ]\n",
      "Not positive definite\n",
      "0.2329971274117552\n",
      "[0.96476897 0.99872693]\n",
      "0.23299712791682048\n",
      "[0.96476898 0.99872693]\n",
      "0.23299712856025548\n",
      "[0.96476897 0.99872694]\n",
      "0.26303470716908656\n",
      "[0.1932118  1.18855742]\n",
      "0.26303470548541996\n",
      "[0.19321181 1.18855742]\n",
      "0.26303470839975074\n",
      "[0.1932118  1.18855743]\n",
      "0.22939328520459645\n",
      "[0.72934743 1.056649  ]\n",
      "0.22939328558717395\n",
      "[0.72934744 1.056649  ]\n",
      "0.22939328659132807\n",
      "[0.72934743 1.05664901]\n",
      "0.22104157802730004\n",
      "[0.54300638 1.00174488]\n",
      "0.22104157788750098\n",
      "[0.54300639 1.00174488]\n",
      "0.22104157864208376\n",
      "[0.54300638 1.00174489]\n",
      "0.2182839083885671\n",
      "[0.76003564 0.84490159]\n",
      "0.2182839084401431\n",
      "[0.76003565 0.84490159]\n",
      "0.21828390822881671\n",
      "[0.76003564 0.8449016 ]\n",
      "0.2176553529597833\n",
      "[0.70845372 0.87895791]\n",
      "0.21765535303028727\n",
      "[0.70845373 0.87895791]\n",
      "0.21765535294453323\n",
      "[0.70845372 0.87895792]\n",
      "0.21767034413897762\n",
      "[0.59534625 0.92253558]\n",
      "0.21767034402326566\n",
      "[0.59534626 0.92253558]\n",
      "0.21767034413842076\n",
      "[0.59534625 0.92253559]\n",
      "0.21739353646412365\n",
      "[0.6501367 0.9014261]\n",
      "0.21739353646569737\n",
      "[0.65013671 0.9014261 ]\n",
      "0.21739353643257914\n",
      "[0.6501367  0.90142611]\n",
      "0.21738888703185597\n",
      "[0.63641518 0.9103436 ]\n",
      "0.21738888703453654\n",
      "[0.63641519 0.9103436 ]\n",
      "0.2173888870573351\n",
      "[0.63641518 0.91034361]\n",
      "0.21738428033933369\n",
      "[0.64086039 0.90691785]\n",
      "0.21738428033697313\n",
      "[0.6408604  0.90691785]\n",
      "0.2173842803235087\n",
      "[0.64086039 0.90691786]\n",
      "0.21738450279634364\n",
      "[0.63945841 0.90814743]\n",
      "0.217384502797984\n",
      "[0.63945842 0.90814743]\n",
      "0.21738450281271876\n",
      "[0.63945841 0.90814744]\n",
      "0.21738399340046746\n",
      "[0.64027725 0.90742928]\n",
      "0.21738399339458986\n",
      "[0.64027726 0.90742928]\n",
      "0.21738399339956335\n",
      "[0.64027725 0.90742929]\n"
     ]
    }
   ],
   "source": [
    "#res = minimize(integration, g0, method='L-BFGS-B', options={'iprint':1, 'ftol': 1e-04, 'eps': 1e-02, 'maxiter':20})\n",
    "res = minimize(integration, g0, method='L-BFGS-B', options={'ftol': 1e-06, 'maxiter':200})"
   ]
  },
  {
   "cell_type": "code",
   "execution_count": 12,
   "metadata": {},
   "outputs": [],
   "source": [
    "h_minimal = param_to_matrix(res.x)"
   ]
  },
  {
   "cell_type": "code",
   "execution_count": 13,
   "metadata": {
    "scrolled": true
   },
   "outputs": [
    {
     "name": "stdout",
     "output_type": "stream",
     "text": [
      "[[1.         0.         0.         ... 0.         0.         0.        ]\n",
      " [0.         0.64027725 0.         ... 0.         0.         0.        ]\n",
      " [0.         0.         0.64027725 ... 0.         0.         0.        ]\n",
      " ...\n",
      " [0.         0.         0.         ... 0.64027725 0.         0.        ]\n",
      " [0.         0.         0.         ... 0.         0.64027725 0.        ]\n",
      " [0.         0.         0.         ... 0.         0.         1.        ]]\n"
     ]
    }
   ],
   "source": [
    "print(h_minimal)"
   ]
  },
  {
   "cell_type": "code",
   "execution_count": 14,
   "metadata": {},
   "outputs": [
    {
     "data": {
      "image/png": "[encoded data removed]",
      "text/plain": [
       "<Figure size 432x288 with 1 Axes>"
      ]
     },
     "metadata": {
      "needs_background": "light"
     },
     "output_type": "display_data"
    }
   ],
   "source": [
    "#param = [0.5, 0.5, 0.5, 0.5]\n",
    "#h_minimal = param_to_matrix(param)\n",
    "patch = HS.patches[0].patches[0]\n",
    "theta, phi = np.linspace(0.001,np.pi+0.001, 40), np.linspace(0.001, 2*np.pi+0.001, 40)\n",
    "R = []\n",
    "for j in phi:\n",
    "    theta_list = []\n",
    "    for i in theta:\n",
    "        t = complex(math.sin(i)*math.sin(j), math.cos(i))/(sin(i)*cos(j)) \n",
    "        if np.absolute(t) <= 1:\n",
    "            eta = patch.num_eta(h_minimal, [1, -1, complex(t), 0, -complex(t)])*factor\n",
    "        else:\n",
    "            eta = patch.num_eta(h_minimal, [1, -1, complex(1/t), 0, -complex(1/t)])*factor\n",
    "        theta_list.append(float(eta))\n",
    "    R.append(theta_list)\n",
    "R = np.asarray(R)\n",
    "THETA, PHI = np.meshgrid(theta, phi)\n",
    "X = R * np.sin(THETA) * np.cos(PHI)\n",
    "Y = R * np.sin(THETA) * np.sin(PHI)\n",
    "ZZ = R * np.cos(THETA)\n",
    "fig = plt.figure()\n",
    "ax = fig.add_subplot(1,1,1, projection='3d')\n",
    "plot = ax.plot_surface(\n",
    "    X, Y, ZZ, rstride=1, cstride=1, cmap=plt.cm.YlGnBu_r,\n",
    "    linewidth=0, antialiased=False)"
   ]
  },
  {
   "cell_type": "markdown",
   "metadata": {},
   "source": [
    "Standard deviation of eta:"
   ]
  },
  {
   "cell_type": "code",
   "execution_count": 15,
   "metadata": {},
   "outputs": [
    {
     "name": "stdout",
     "output_type": "stream",
     "text": [
      "0.3236233235281381\n"
     ]
    }
   ],
   "source": [
    "sum_eta = 0\n",
    "for patch in HS.patches:\n",
    "    for subpatch in patch.patches:\n",
    "        for point in subpatch.points:\n",
    "            #print(subpatch.num_eta(h_minimal, point)*factor - 1)\n",
    "            sum_eta += (subpatch.num_eta(h_minimal, point)*factor - 1)**2\n",
    "print(math.sqrt(sum_eta/(HS.n_points - 1)))"
   ]
  },
  {
   "cell_type": "code",
   "execution_count": null,
   "metadata": {},
   "outputs": [],
   "source": []
  }
 ],
 "metadata": {
  "kernelspec": {
   "display_name": "Python 3",
   "language": "python",
   "name": "python3"
  }
 },
 "nbformat": 4,
 "nbformat_minor": 2
}
